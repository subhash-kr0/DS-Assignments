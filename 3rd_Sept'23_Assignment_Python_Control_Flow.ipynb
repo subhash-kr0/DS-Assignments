{
 "cells": [
  {
   "cell_type": "markdown",
   "metadata": {},
   "source": [
    "Basic If-Else Statements:"
   ]
  },
  {
   "cell_type": "markdown",
   "metadata": {},
   "source": [
    "1. Write a Python program to check if a given number is positive or negative."
   ]
  },
  {
   "cell_type": "code",
   "execution_count": null,
   "metadata": {},
   "outputs": [],
   "source": [
    "# Function to check if a number is positive, negative, or zero\n",
    "def check_number(num):\n",
    "    # Check if the number is greater than zero\n",
    "    if num > 0:\n",
    "        print(\"The number is positive.\")\n",
    "    # Check if the number is less than zero\n",
    "    elif num < 0:\n",
    "        print(\"The number is negative.\")\n",
    "    # If the number is neither positive nor negative, it must be zero\n",
    "    else:\n",
    "        print(\"The number is zero.\")\n",
    "\n",
    "# Input from the user\n",
    "number = float(input(\"Enter a number: \"))\n",
    "\n",
    "# Call the function to check the number\n",
    "check_number(number)"
   ]
  },
  {
   "cell_type": "markdown",
   "metadata": {},
   "source": [
    "2. Create a program that determines if a person is eligible to vote based on their age."
   ]
  },
  {
   "cell_type": "code",
   "execution_count": null,
   "metadata": {},
   "outputs": [],
   "source": [
    "# Function to check if a person is eligible to vote\n",
    "def check_voting_eligibility(age):\n",
    "    # Check if the age meets the eligibility criteria\n",
    "    if age >= 18:\n",
    "        print(\"You are eligible to vote!\")\n",
    "    else:\n",
    "        years_left = 18 - age\n",
    "        print(f\"Sorry, you are not eligible to vote. You need {years_left} more year(s).\")\n",
    "\n",
    "# Input from the user\n",
    "user_age = int(input(\"Enter your age: \"))\n",
    "\n",
    "# Call the function to check voting eligibility\n",
    "check_voting_eligibility(user_age)\n"
   ]
  },
  {
   "cell_type": "markdown",
   "metadata": {},
   "source": [
    "3. Develop a program to find the maximum of two numbers using if-else statements."
   ]
  },
  {
   "cell_type": "code",
   "execution_count": null,
   "metadata": {},
   "outputs": [],
   "source": [
    "# Function to find the maximum of two numbers\n",
    "def find_maximum(num1, num2):\n",
    "    # Check if num1 is greater than num2\n",
    "    if num1 > num2:\n",
    "        max_num = num1\n",
    "    else:\n",
    "        max_num = num2\n",
    "\n",
    "    return max_num\n",
    "\n",
    "# Input from the user\n",
    "number1 = float(input(\"Enter the first number: \"))\n",
    "number2 = float(input(\"Enter the second number: \"))\n",
    "\n",
    "# Call the function to find the maximum\n",
    "result = find_maximum(number1, number2)\n",
    "\n",
    "print(f\"The maximum number is: {result}\")"
   ]
  },
  {
   "cell_type": "markdown",
   "metadata": {},
   "source": [
    "4. Write a Python script to classify a given year as a leap year or not."
   ]
  },
  {
   "cell_type": "code",
   "execution_count": null,
   "metadata": {},
   "outputs": [],
   "source": [
    "# Function to check if a year is a leap year\n",
    "def is_leap_year(year):\n",
    "    # Leap year conditions:\n",
    "    # 1. If a year is divisible by 4 but not divisible by 100\n",
    "    #    Or\n",
    "    # 2. If a year is divisible by 400\n",
    "\n",
    "    if (year % 4 == 0 and year % 100 != 0) or (year % 400 == 0):\n",
    "        return True\n",
    "    else:\n",
    "        return False\n",
    "\n",
    "# Input from the user\n",
    "input_year = int(input(\"Enter a year: \"))\n",
    "\n",
    "# Call the function to check if it's a leap year\n",
    "if is_leap_year(input_year):\n",
    "    print(f\"{input_year} is a leap year!\")\n",
    "else:\n",
    "    print(f\"{input_year} is not a leap year.\")"
   ]
  },
  {
   "cell_type": "markdown",
   "metadata": {},
   "source": [
    "5. Create a program that checks whether a character is a vowel or a consonant."
   ]
  },
  {
   "cell_type": "code",
   "execution_count": null,
   "metadata": {},
   "outputs": [],
   "source": [
    "# Function to check if a character is a vowel or a consonant\n",
    "def check_vowel_or_consonant(char):\n",
    "    # Convert the character to lowercase to handle both cases\n",
    "    char = char.lower()\n",
    "\n",
    "    # Check if the character is a vowel or a consonant\n",
    "    if char in ('a', 'e', 'i', 'o', 'u'):\n",
    "        print(f\"The character '{char}' is a vowel.\")\n",
    "    elif char.isalpha():\n",
    "        print(f\"The character '{char}' is a consonant.\")\n",
    "    else:\n",
    "        print(f\"The character '{char}' is not a valid alphabet.\")\n",
    "\n",
    "# Input from the user\n",
    "user_char = input(\"Enter a character: \")\n",
    "\n",
    "# Check if it's a vowel or a consonant\n",
    "if len(user_char) == 1:\n",
    "    check_vowel_or_consonant(user_char)\n",
    "else:\n",
    "    print(\"Please enter a single character.\")"
   ]
  },
  {
   "cell_type": "markdown",
   "metadata": {},
   "source": [
    "6. Implement a program to determine whether a given number is even or odd."
   ]
  },
  {
   "cell_type": "code",
   "execution_count": null,
   "metadata": {},
   "outputs": [],
   "source": [
    "# Function to check if a number is even or odd\n",
    "def check_even_odd(number):\n",
    "    if number % 2 == 0:\n",
    "        print(f\"{number} is an even number.\")\n",
    "    else:\n",
    "        print(f\"{number} is an odd number.\")\n",
    "\n",
    "# Input from the user\n",
    "user_number = int(input(\"Enter a number: \"))\n",
    "\n",
    "# Call the function to check if it's even or odd\n",
    "check_even_odd(user_number)"
   ]
  },
  {
   "cell_type": "markdown",
   "metadata": {},
   "source": [
    "7. Write a Python function to calculate the absolute value of a number without using the `abs()` function."
   ]
  },
  {
   "cell_type": "code",
   "execution_count": null,
   "metadata": {},
   "outputs": [],
   "source": [
    "# Function to calculate absolute value without using abs()\n",
    "def absolute_value(num):\n",
    "    if num < 0:\n",
    "        return -num\n",
    "    else:\n",
    "        return num\n",
    "\n",
    "# Input from the user\n",
    "user_number = float(input(\"Enter a number: \"))\n",
    "\n",
    "# Calculate absolute value using the function\n",
    "result = absolute_value(user_number)\n",
    "print(f\"The absolute value of {user_number} is {result}\")"
   ]
  },
  {
   "cell_type": "markdown",
   "metadata": {},
   "source": [
    "8. Develop a program that determines the largest of three given numbers using if-else statements."
   ]
  },
  {
   "cell_type": "code",
   "execution_count": null,
   "metadata": {},
   "outputs": [],
   "source": [
    "# Function to find the largest of three numbers\n",
    "def find_largest(num1, num2, num3):\n",
    "    if num1 >= num2 and num1 >= num3:\n",
    "        largest = num1\n",
    "    elif num2 >= num1 and num2 >= num3:\n",
    "        largest = num2\n",
    "    else:\n",
    "        largest = num3\n",
    "\n",
    "    return largest\n",
    "\n",
    "# Input from the user\n",
    "number1 = float(input(\"Enter the first number: \"))\n",
    "number2 = float(input(\"Enter the second number: \"))\n",
    "number3 = float(input(\"Enter the third number: \"))\n",
    "\n",
    "# Call the function to find the largest number\n",
    "result = find_largest(number1, number2, number3)\n",
    "\n",
    "print(f\"The largest number is: {result}\")"
   ]
  },
  {
   "cell_type": "markdown",
   "metadata": {},
   "source": [
    "9. Create a program that checks if a given string is a palindrome.\n"
   ]
  },
  {
   "cell_type": "code",
   "execution_count": null,
   "metadata": {},
   "outputs": [],
   "source": [
    "# Function to check if a string is a palindrome\n",
    "def is_palindrome(s):\n",
    "    # Remove spaces and convert the string to lowercase\n",
    "    s = s.replace(\" \", \"\").lower()\n",
    "    \n",
    "    # Compare the string with its reverse\n",
    "    return s == s[::-1]\n",
    "\n",
    "# Input from the user\n",
    "user_string = input(\"Enter a string: \")\n",
    "\n",
    "# Check if it's a palindrome\n",
    "if is_palindrome(user_string):\n",
    "    print(f\"'{user_string}' is a palindrome!\")\n",
    "else:\n",
    "    print(f\"'{user_string}' is not a palindrome.\")"
   ]
  },
  {
   "cell_type": "markdown",
   "metadata": {},
   "source": [
    "10. Write a Python program to calculate the grade based on a student's score.\n"
   ]
  },
  {
   "cell_type": "code",
   "execution_count": null,
   "metadata": {},
   "outputs": [],
   "source": [
    "# Function to calculate grade based on score\n",
    "def calculate_grade(score):\n",
    "    if score >= 90:\n",
    "        grade = 'A'\n",
    "    elif score >= 80:\n",
    "        grade = 'B'\n",
    "    elif score >= 70:\n",
    "        grade = 'C'\n",
    "    elif score >= 60:\n",
    "        grade = 'D'\n",
    "    else:\n",
    "        grade = 'F'\n",
    "    return grade\n",
    "\n",
    "# Input from the user\n",
    "student_score = float(input(\"Enter the student's score: \"))\n",
    "\n",
    "# Calculate grade using the function\n",
    "student_grade = calculate_grade(student_score)\n",
    "\n",
    "# Display the calculated grade\n",
    "print(f\"The student's grade is: {student_grade}\")"
   ]
  },
  {
   "cell_type": "markdown",
   "metadata": {},
   "source": [
    "Nested If-Else Statements:"
   ]
  },
  {
   "cell_type": "markdown",
   "metadata": {},
   "source": [
    "11. Write a program to find the largest among three numbers using nested if-else statements."
   ]
  },
  {
   "cell_type": "code",
   "execution_count": null,
   "metadata": {},
   "outputs": [],
   "source": [
    "# Function to find the largest of three numbers using nested if-else\n",
    "def find_largest(num1, num2, num3):\n",
    "    if num1 >= num2:\n",
    "        if num1 >= num3:\n",
    "            largest = num1\n",
    "        else:\n",
    "            largest = num3\n",
    "    else:\n",
    "        if num2 >= num3:\n",
    "            largest = num2\n",
    "        else:\n",
    "            largest = num3\n",
    "    \n",
    "    return largest\n",
    "\n",
    "# Input from the user\n",
    "number1 = float(input(\"Enter the first number: \"))\n",
    "number2 = float(input(\"Enter the second number: \"))\n",
    "number3 = float(input(\"Enter the third number: \"))\n",
    "\n",
    "# Call the function to find the largest number\n",
    "result = find_largest(number1, number2, number3)\n",
    "\n",
    "print(f\"The largest number is: {result}\")"
   ]
  },
  {
   "cell_type": "markdown",
   "metadata": {},
   "source": [
    "12. Implement a program to determine if a triangle is equilateral, isosceles, or scalene."
   ]
  },
  {
   "cell_type": "code",
   "execution_count": null,
   "metadata": {},
   "outputs": [],
   "source": [
    "# Function to determine the type of triangle\n",
    "def triangle_type(a, b, c):\n",
    "    if a == b == c:\n",
    "        return \"Equilateral Triangle\"\n",
    "    elif a == b or b == c or a == c:\n",
    "        return \"Isosceles Triangle\"\n",
    "    else:\n",
    "        return \"Scalene Triangle\"\n",
    "\n",
    "# Input from the user\n",
    "side1 = float(input(\"Enter the length of side 1: \"))\n",
    "side2 = float(input(\"Enter the length of side 2: \"))\n",
    "side3 = float(input(\"Enter the length of side 3: \"))\n",
    "\n",
    "# Call the function to determine the type of triangle\n",
    "result = triangle_type(side1, side2, side3)\n",
    "\n",
    "print(f\"The triangle is a: {result}\")"
   ]
  },
  {
   "cell_type": "markdown",
   "metadata": {},
   "source": [
    "13. Develop a program that checks if a year is a leap year and also if it is a century year."
   ]
  },
  {
   "cell_type": "code",
   "execution_count": null,
   "metadata": {},
   "outputs": [],
   "source": [
    "# Function to check if a year is a leap year\n",
    "def is_leap_year(year):\n",
    "    leap = False\n",
    "    \n",
    "    # Check if it's a leap year\n",
    "    if (year % 4 == 0 and year % 100 != 0) or (year % 400 == 0):\n",
    "        leap = True\n",
    "    \n",
    "    return leap\n",
    "\n",
    "# Function to check if a year is a century year\n",
    "def is_century_year(year):\n",
    "    century = False\n",
    "    \n",
    "    # Check if it's a century year\n",
    "    if year % 100 == 0:\n",
    "        century = True\n",
    "    \n",
    "    return century\n",
    "\n",
    "# Input from the user\n",
    "input_year = int(input(\"Enter a year: \"))\n",
    "\n",
    "# Check if it's a leap year and/or a century year\n",
    "if is_leap_year(input_year):\n",
    "    print(f\"{input_year} is a leap year!\")\n",
    "else:\n",
    "    print(f\"{input_year} is not a leap year.\")\n",
    "\n",
    "if is_century_year(input_year):\n",
    "    print(f\"{input_year} is a century year.\")\n",
    "else:\n",
    "    print(f\"{input_year} is not a century year.\")"
   ]
  },
  {
   "cell_type": "markdown",
   "metadata": {},
   "source": [
    "14. Write a Python script to determine if a number is positive, negative, or zero."
   ]
  },
  {
   "cell_type": "code",
   "execution_count": null,
   "metadata": {},
   "outputs": [],
   "source": [
    "# Function to check if a number is positive, negative, or zero\n",
    "def check_number(num):\n",
    "    # Check if the number is greater than zero\n",
    "    if num > 0:\n",
    "        print(\"The number is positive.\")\n",
    "    # Check if the number is less than zero\n",
    "    elif num < 0:\n",
    "        print(\"The number is negative.\")\n",
    "    # If the number is neither positive nor negative, it must be zero\n",
    "    else:\n",
    "        print(\"The number is zero.\")\n",
    "\n",
    "# Input from the user\n",
    "number = float(input(\"Enter a number: \"))\n",
    "\n",
    "# Call the function to check the number\n",
    "check_number(number)"
   ]
  },
  {
   "cell_type": "markdown",
   "metadata": {},
   "source": [
    "15. Create a program to check if a person is a teenager (between 13 and 19 years old)."
   ]
  },
  {
   "cell_type": "code",
   "execution_count": null,
   "metadata": {},
   "outputs": [],
   "source": [
    "# Function to check if a person is a teenager\n",
    "def is_teenager(age):\n",
    "    if age >= 13 and age <= 19:\n",
    "        return True\n",
    "    else:\n",
    "        return False\n",
    "\n",
    "# Input from the user\n",
    "user_age = int(input(\"Enter your age: \"))\n",
    "\n",
    "# Check if the person is a teenager\n",
    "if is_teenager(user_age):\n",
    "    print(\"You are a teenager!\")\n",
    "else:\n",
    "    print(\"You are not a teenager.\")"
   ]
  },
  {
   "cell_type": "markdown",
   "metadata": {},
   "source": [
    "16. Develop a program that determines the type of angle based on its measure (acute, obtuse, or right)."
   ]
  },
  {
   "cell_type": "code",
   "execution_count": null,
   "metadata": {},
   "outputs": [],
   "source": [
    "# Function to determine the type of angle\n",
    "def angle_type(measure):\n",
    "    if measure < 90:\n",
    "        return \"Acute Angle\"\n",
    "    elif measure == 90:\n",
    "        return \"Right Angle\"\n",
    "    else:\n",
    "        return \"Obtuse Angle\"\n",
    "\n",
    "# Input from the user\n",
    "angle_measure = float(input(\"Enter the measure of the angle in degrees: \"))\n",
    "\n",
    "# Check the type of angle\n",
    "result = angle_type(angle_measure)\n",
    "\n",
    "print(f\"The angle is a: {result}\")"
   ]
  },
  {
   "cell_type": "markdown",
   "metadata": {},
   "source": [
    "17. Write a Python program to calculate the roots of a quadratic equation."
   ]
  },
  {
   "cell_type": "code",
   "execution_count": null,
   "metadata": {},
   "outputs": [],
   "source": [
    "import cmath  # Using cmath for handling complex numbers\n",
    "\n",
    "# Function to calculate roots of the quadratic equation\n",
    "def calculate_roots(a, b, c):\n",
    "    # Calculate the discriminant\n",
    "    discriminant = (b**2) - (4 * a * c)\n",
    "\n",
    "    # Calculate roots based on the discriminant\n",
    "    root1 = (-b + cmath.sqrt(discriminant)) / (2 * a)\n",
    "    root2 = (-b - cmath.sqrt(discriminant)) / (2 * a)\n",
    "\n",
    "    return root1, root2\n",
    "\n",
    "# Input coefficients from the user\n",
    "a = float(input(\"Enter coefficient a: \"))\n",
    "b = float(input(\"Enter coefficient b: \"))\n",
    "c = float(input(\"Enter coefficient c: \"))\n",
    "\n",
    "# Calculate roots using the function\n",
    "root1, root2 = calculate_roots(a, b, c)\n",
    "\n",
    "# Display the roots\n",
    "print(f\"The roots of the quadratic equation are: {root1} and {root2}\")\n"
   ]
  },
  {
   "cell_type": "markdown",
   "metadata": {},
   "source": [
    "18. Implement a program to determine the day of the week based on a user-provided number (1 for Monday, 2\n",
    "for Tuesday, etc.)."
   ]
  },
  {
   "cell_type": "code",
   "execution_count": null,
   "metadata": {},
   "outputs": [],
   "source": [
    "# Function to determine the day of the week\n",
    "def get_day_of_week(number):\n",
    "    days = [\"Monday\", \"Tuesday\", \"Wednesday\", \"Thursday\", \"Friday\", \"Saturday\", \"Sunday\"]\n",
    "    \n",
    "    if number >= 1 and number <= 7:\n",
    "        return days[number - 1]\n",
    "    else:\n",
    "        return \"Invalid input. Please enter a number between 1 and 7.\"\n",
    "\n",
    "# Input from the user\n",
    "user_number = int(input(\"Enter a number (1 for Monday, 2 for Tuesday, etc.): \"))\n",
    "\n",
    "# Get the day of the week using the function\n",
    "result = get_day_of_week(user_number)\n",
    "\n",
    "print(f\"The day of the week is: {result}\")"
   ]
  },
  {
   "cell_type": "markdown",
   "metadata": {},
   "source": [
    "19. Create a program that determines if a year is a leap year and also if it is evenly divisible by 400."
   ]
  },
  {
   "cell_type": "code",
   "execution_count": null,
   "metadata": {},
   "outputs": [],
   "source": [
    "# Function to check if a year is a leap year and divisible by 400\n",
    "def is_leap_year_and_divisible_400(year):\n",
    "    if (year % 4 == 0 and year % 100 != 0) or (year % 400 == 0):\n",
    "        return True\n",
    "    else:\n",
    "        return False\n",
    "\n",
    "# Input from the user\n",
    "input_year = int(input(\"Enter a year: \"))\n",
    "\n",
    "# Check if it's a leap year and divisible by 400\n",
    "if is_leap_year_and_divisible_400(input_year):\n",
    "    print(f\"{input_year} is a leap year and divisible by 400!\")\n",
    "else:\n",
    "    print(f\"{input_year} is not a leap year or not divisible by 400.\")"
   ]
  },
  {
   "cell_type": "markdown",
   "metadata": {},
   "source": [
    "20. Develop a program that checks if a given number is prime or not using nested if-else statements."
   ]
  },
  {
   "cell_type": "code",
   "execution_count": null,
   "metadata": {},
   "outputs": [],
   "source": [
    "# Function to check if a number is prime\n",
    "def is_prime(number):\n",
    "    # Prime numbers are greater than 1\n",
    "    if number > 1:\n",
    "        # Check for factors\n",
    "        for i in range(2, int(number ** 0.5) + 1):\n",
    "            if number % i == 0:\n",
    "                return False  # Found a factor, not a prime number\n",
    "\n",
    "        return True  # No factors found, it's a prime number\n",
    "    else:\n",
    "        return False  # Numbers less than or equal to 1 are not prime\n",
    "\n",
    "# Input from the user\n",
    "user_number = int(input(\"Enter a number: \"))\n",
    "\n",
    "# Check if it's a prime number\n",
    "if is_prime(user_number):\n",
    "    print(f\"{user_number} is a prime number!\")\n",
    "else:\n",
    "    print(f\"{user_number} is not a prime number.\")"
   ]
  },
  {
   "cell_type": "markdown",
   "metadata": {},
   "source": [
    "Elif Statements:"
   ]
  },
  {
   "cell_type": "markdown",
   "metadata": {},
   "source": [
    "21. Write a Python program to assign grades based on different ranges of scores using elif statements."
   ]
  },
  {
   "cell_type": "code",
   "execution_count": null,
   "metadata": {},
   "outputs": [],
   "source": [
    "# Function to calculate grade based on score\n",
    "def calculate_grade(score):\n",
    "    if score >= 90:\n",
    "        grade = 'A'\n",
    "    elif score >= 80:\n",
    "        grade = 'B'\n",
    "    elif score >= 70:\n",
    "        grade = 'C'\n",
    "    elif score >= 60:\n",
    "        grade = 'D'\n",
    "    else:\n",
    "        grade = 'F'\n",
    "    return grade\n",
    "\n",
    "# Input from the user\n",
    "student_score = float(input(\"Enter the student's score: \"))\n",
    "\n",
    "# Calculate grade using the function\n",
    "student_grade = calculate_grade(student_score)\n",
    "\n",
    "# Display the calculated grade\n",
    "print(f\"The student's grade is: {student_grade}\")"
   ]
  },
  {
   "cell_type": "markdown",
   "metadata": {},
   "source": [
    "22. Implement a program to determine the type of a triangle based on its angles."
   ]
  },
  {
   "cell_type": "code",
   "execution_count": null,
   "metadata": {},
   "outputs": [],
   "source": [
    "# Function to determine the type of angle\n",
    "def angle_type(measure):\n",
    "    if measure < 90:\n",
    "        return \"Acute Angle\"\n",
    "    elif measure == 90:\n",
    "        return \"Right Angle\"\n",
    "    else:\n",
    "        return \"Obtuse Angle\"\n",
    "\n",
    "# Input from the user\n",
    "angle_measure = float(input(\"Enter the measure of the angle in degrees: \"))\n",
    "\n",
    "# Check the type of angle\n",
    "result = angle_type(angle_measure)\n",
    "\n",
    "print(f\"The angle is a: {result}\")"
   ]
  },
  {
   "cell_type": "markdown",
   "metadata": {},
   "source": [
    "23. Develop a program to categorize a given person's BMI into underweight, normal, overweight, or obese using\n",
    "elif statements."
   ]
  },
  {
   "cell_type": "code",
   "execution_count": null,
   "metadata": {},
   "outputs": [],
   "source": [
    "# Function to categorize BMI\n",
    "def categorize_bmi(bmi):\n",
    "    if bmi < 18.5:\n",
    "        category = \"Underweight\"\n",
    "    elif bmi < 25:\n",
    "        category = \"Normal\"\n",
    "    elif bmi < 30:\n",
    "        category = \"Overweight\"\n",
    "    else:\n",
    "        category = \"Obese\"\n",
    "    return category\n",
    "\n",
    "# Input from the user (height in meters and weight in kilograms)\n",
    "height = float(input(\"Enter your height in meters: \"))\n",
    "weight = float(input(\"Enter your weight in kilograms: \"))\n",
    "\n",
    "# Calculate BMI\n",
    "bmi = weight / (height ** 2)\n",
    "\n",
    "# Categorize BMI using the function\n",
    "result = categorize_bmi(bmi)\n",
    "\n",
    "print(f\"Your BMI is {bmi:.2f}, which categorizes you as {result}.\")"
   ]
  },
  {
   "cell_type": "markdown",
   "metadata": {},
   "source": [
    "24. Create a program that determines whether a given number is positive, negative, or zero using elif\n",
    "statements."
   ]
  },
  {
   "cell_type": "code",
   "execution_count": null,
   "metadata": {},
   "outputs": [],
   "source": [
    "# Function to check if a number is positive, negative, or zero\n",
    "def check_number(num):\n",
    "    # Check if the number is greater than zero\n",
    "    if num > 0:\n",
    "        print(\"The number is positive.\")\n",
    "    # Check if the number is less than zero\n",
    "    elif num < 0:\n",
    "        print(\"The number is negative.\")\n",
    "    # If the number is neither positive nor negative, it must be zero\n",
    "    else:\n",
    "        print(\"The number is zero.\")\n",
    "\n",
    "# Input from the user\n",
    "number = float(input(\"Enter a number: \"))\n",
    "\n",
    "# Call the function to check the number\n",
    "check_number(number)"
   ]
  },
  {
   "cell_type": "markdown",
   "metadata": {},
   "source": [
    "25. Write a Python script to determine the type of a character (uppercase, lowercase, or special) using elif\n",
    "statements."
   ]
  },
  {
   "cell_type": "code",
   "execution_count": null,
   "metadata": {},
   "outputs": [],
   "source": [
    "# Function to determine the type of character\n",
    "def char_type(character):\n",
    "    if character.islower():\n",
    "        return \"Lowercase\"\n",
    "    elif character.isupper():\n",
    "        return \"Uppercase\"\n",
    "    else:\n",
    "        return \"Special Character\"\n",
    "\n",
    "# Input from the user\n",
    "user_char = input(\"Enter a character: \")\n",
    "\n",
    "# Check the type of character using the function\n",
    "result = char_type(user_char)\n",
    "\n",
    "print(f\"The character '{user_char}' is a: {result}\")"
   ]
  },
  {
   "cell_type": "markdown",
   "metadata": {},
   "source": [
    "26. Implement a program to calculate the discounted price based on different purchase amounts using elif\n",
    "statements."
   ]
  },
  {
   "cell_type": "code",
   "execution_count": null,
   "metadata": {},
   "outputs": [],
   "source": [
    "# Function to calculate discounted price\n",
    "def calculate_discount(price):\n",
    "    if price >= 1000:\n",
    "        discount = 0.15  # 15% discount for purchase over $1000\n",
    "    elif price >= 500:\n",
    "        discount = 0.1   # 10% discount for purchase between $500 and $999\n",
    "    elif price >= 200:\n",
    "        discount = 0.05  # 5% discount for purchase between $200 and $499\n",
    "    else:\n",
    "        discount = 0      # No discount for purchase less than $200\n",
    "\n",
    "    discounted_price = price - (price * discount)\n",
    "    return discounted_price\n",
    "\n",
    "# Input from the user\n",
    "purchase_amount = float(input(\"Enter the purchase amount: $\"))\n",
    "\n",
    "# Calculate discounted price using the function\n",
    "final_price = calculate_discount(purchase_amount)\n",
    "\n",
    "print(f\"The discounted price is: ${final_price:.2f}\")"
   ]
  },
  {
   "cell_type": "markdown",
   "metadata": {},
   "source": [
    "27. Develop a program to calculate the electricity bill based on different consumption slabs using elif\n",
    "statements."
   ]
  },
  {
   "cell_type": "code",
   "execution_count": null,
   "metadata": {},
   "outputs": [],
   "source": [
    "# Function to calculate electricity bill based on consumption slabs\n",
    "def calculate_electricity_bill(units):\n",
    "    if units <= 50:\n",
    "        bill = units * 0.50  # $0.50 per unit for the first 50 units\n",
    "    elif units <= 150:\n",
    "        bill = 25 + ((units - 50) * 0.75)  # $0.75 per unit for the next 100 units\n",
    "    elif units <= 250:\n",
    "        bill = 100 + ((units - 150) * 1.20)  # $1.20 per unit for the next 100 units\n",
    "    else:\n",
    "        bill = 220 + ((units - 250) * 1.50)  # $1.50 per unit for additional units above 250\n",
    "    \n",
    "    return bill\n",
    "\n",
    "# Input from the user\n",
    "consumed_units = float(input(\"Enter the consumption in units: \"))\n",
    "\n",
    "# Calculate electricity bill using the function\n",
    "total_bill = calculate_electricity_bill(consumed_units)\n",
    "\n",
    "print(f\"The electricity bill is: ${total_bill:.2f}\")"
   ]
  },
  {
   "cell_type": "markdown",
   "metadata": {},
   "source": [
    "28. Create a program to determine the type of quadrilateral based on its angles and sides using elif\n",
    "statements."
   ]
  },
  {
   "cell_type": "code",
   "execution_count": null,
   "metadata": {},
   "outputs": [],
   "source": [
    "# Function to determine the type of quadrilateral\n",
    "def quadrilateral_type(sides, angles):\n",
    "    if sides[0] == sides[1] == sides[2] == sides[3]:\n",
    "        if angles[0] == angles[1] == angles[2] == angles[3] == 90:\n",
    "            return \"Square\"  # All sides equal and all angles are 90 degrees\n",
    "        else:\n",
    "            return \"Rhombus\"  # All sides equal but angles may not be 90 degrees\n",
    "    elif sides[0] == sides[2] and sides[1] == sides[3]:\n",
    "        if angles[0] == angles[2] and angles[1] == angles[3] == 90:\n",
    "            return \"Rectangle\"  # Opposite sides equal and all angles are 90 degrees\n",
    "        else:\n",
    "            return \"Parallelogram\"  # Opposite sides equal but angles may not be 90 degrees\n",
    "    else:\n",
    "        return \"Quadrilateral\"  # No specific type identified\n",
    "\n",
    "# Input from the user\n",
    "side_lengths = [float(input(f\"Enter length of side {i+1}: \")) for i in range(4)]\n",
    "angle_degrees = [float(input(f\"Enter angle {i+1} in degrees: \")) for i in range(4)]\n",
    "\n",
    "# Check the type of quadrilateral using the function\n",
    "result = quadrilateral_type(side_lengths, angle_degrees)\n",
    "\n",
    "print(f\"The quadrilateral is a: {result}\")"
   ]
  },
  {
   "cell_type": "markdown",
   "metadata": {},
   "source": [
    "29. Write a Python script to determine the season based on a user-provided month using elif statements."
   ]
  },
  {
   "cell_type": "code",
   "execution_count": null,
   "metadata": {},
   "outputs": [],
   "source": [
    "# Function to determine the season\n",
    "def get_season(month):\n",
    "    if month in (3, 4, 5):\n",
    "        season = \"Spring\"\n",
    "    elif month in (6, 7, 8):\n",
    "        season = \"Summer\"\n",
    "    elif month in (9, 10, 11):\n",
    "        season = \"Autumn\"\n",
    "    else:\n",
    "        season = \"Winter\"\n",
    "    return season\n",
    "\n",
    "# Input from the user\n",
    "user_month = int(input(\"Enter the month (1-12): \"))\n",
    "\n",
    "# Check the season using the function\n",
    "result = get_season(user_month)\n",
    "\n",
    "print(f\"The season for month {user_month} is: {result}\")"
   ]
  },
  {
   "cell_type": "markdown",
   "metadata": {},
   "source": [
    "30. Implement a program to determine the type of a year (leap or common) and month (30 or 31 days) using\n",
    "elif statements."
   ]
  },
  {
   "cell_type": "code",
   "execution_count": null,
   "metadata": {},
   "outputs": [],
   "source": [
    "# Function to determine if a year is leap or common\n",
    "def get_year_type(year):\n",
    "    if (year % 4 == 0 and year % 100 != 0) or (year % 400 == 0):\n",
    "        return \"Leap Year\"\n",
    "    else:\n",
    "        return \"Common Year\"\n",
    "\n",
    "# Function to determine the number of days in a month\n",
    "def get_month_days(month):\n",
    "    if month in (1, 3, 5, 7, 8, 10, 12):\n",
    "        return 31\n",
    "    elif month in (4, 6, 9, 11):\n",
    "        return 30\n",
    "    elif month == 2:\n",
    "        return \"28 or 29\"  # February can have 28 or 29 days in leap years\n",
    "    else:\n",
    "        return \"Invalid Month\"\n",
    "\n",
    "# Input from the user\n",
    "user_year = int(input(\"Enter the year: \"))\n",
    "user_month = int(input(\"Enter the month (1-12): \"))\n",
    "\n",
    "# Check the year type using the function\n",
    "year_type = get_year_type(user_year)\n",
    "print(f\"The year {user_year} is a: {year_type}\")\n",
    "\n",
    "# Check the number of days in the month using the function\n",
    "month_days = get_month_days(user_month)\n",
    "if isinstance(month_days, int):\n",
    "    print(f\"The month {user_month} has {month_days} days.\")\n",
    "else:\n",
    "    print(f\"The month {user_month} has either {month_days} days in a leap year.\")"
   ]
  },
  {
   "cell_type": "markdown",
   "metadata": {},
   "source": [
    "Basic Level:"
   ]
  },
  {
   "cell_type": "markdown",
   "metadata": {},
   "source": [
    "1. Write a Python program that checks if a given number is positive, negative, or zero."
   ]
  },
  {
   "cell_type": "code",
   "execution_count": null,
   "metadata": {},
   "outputs": [],
   "source": [
    "# Function to check if a number is positive, negative, or zero\n",
    "def check_number(num):\n",
    "    # Check if the number is greater than zero\n",
    "    if num > 0:\n",
    "        print(\"The number is positive.\")\n",
    "    # Check if the number is less than zero\n",
    "    elif num < 0:\n",
    "        print(\"The number is negative.\")\n",
    "    # If the number is neither positive nor negative, it must be zero\n",
    "    else:\n",
    "        print(\"The number is zero.\")\n",
    "\n",
    "# Input from the user\n",
    "number = float(input(\"Enter a number: \"))\n",
    "\n",
    "# Call the function to check the number\n",
    "check_number(number)"
   ]
  },
  {
   "cell_type": "markdown",
   "metadata": {},
   "source": [
    "2. Create a program to determine if a person is eligible to vote based on their age."
   ]
  },
  {
   "cell_type": "code",
   "execution_count": null,
   "metadata": {},
   "outputs": [],
   "source": [
    "# Function to check if a person is eligible to vote\n",
    "def check_voting_eligibility(age):\n",
    "    # Check if the age meets the eligibility criteria\n",
    "    if age >= 18:\n",
    "        print(\"You are eligible to vote!\")\n",
    "    else:\n",
    "        years_left = 18 - age\n",
    "        print(f\"Sorry, you are not eligible to vote. You need {years_left} more year(s).\")\n",
    "\n",
    "# Input from the user\n",
    "user_age = int(input(\"Enter your age: \"))\n",
    "\n",
    "# Call the function to check voting eligibility\n",
    "check_voting_eligibility(user_age)"
   ]
  },
  {
   "cell_type": "markdown",
   "metadata": {},
   "source": [
    "3. Write a program to find the maximum of two given numbers using conditional statements."
   ]
  },
  {
   "cell_type": "code",
   "execution_count": null,
   "metadata": {},
   "outputs": [],
   "source": [
    "# Function to find the maximum of two numbers\n",
    "def find_maximum(num1, num2):\n",
    "    # Check if num1 is greater than num2\n",
    "    if num1 > num2:\n",
    "        max_num = num1\n",
    "    else:\n",
    "        max_num = num2\n",
    "\n",
    "    return max_num\n",
    "\n",
    "# Input from the user\n",
    "number1 = float(input(\"Enter the first number: \"))\n",
    "number2 = float(input(\"Enter the second number: \"))\n",
    "\n",
    "# Call the function to find the maximum\n",
    "result = find_maximum(number1, number2)\n",
    "\n",
    "print(f\"The maximum number is: {result}\")"
   ]
  },
  {
   "cell_type": "markdown",
   "metadata": {},
   "source": [
    "4. Develop a program that calculates the grade of a student based on their exam score."
   ]
  },
  {
   "cell_type": "code",
   "execution_count": null,
   "metadata": {},
   "outputs": [],
   "source": [
    "# Function to calculate grade based on score\n",
    "def calculate_grade(score):\n",
    "    if score >= 90:\n",
    "        grade = 'A'\n",
    "    elif score >= 80:\n",
    "        grade = 'B'\n",
    "    elif score >= 70:\n",
    "        grade = 'C'\n",
    "    elif score >= 60:\n",
    "        grade = 'D'\n",
    "    else:\n",
    "        grade = 'F'\n",
    "    return grade\n",
    "\n",
    "# Input from the user\n",
    "student_score = float(input(\"Enter the student's score: \"))\n",
    "\n",
    "# Calculate grade using the function\n",
    "student_grade = calculate_grade(student_score)\n",
    "\n",
    "# Display the calculated grade\n",
    "print(f\"The student's grade is: {student_grade}\")"
   ]
  },
  {
   "cell_type": "markdown",
   "metadata": {},
   "source": [
    "5. Create a program that checks if a year is a leap year or not."
   ]
  },
  {
   "cell_type": "code",
   "execution_count": null,
   "metadata": {},
   "outputs": [],
   "source": [
    "# Function to check if a year is a leap year\n",
    "def is_leap_year(year):\n",
    "    # Leap year conditions:\n",
    "    # 1. If a year is divisible by 4 but not divisible by 100\n",
    "    #    Or\n",
    "    # 2. If a year is divisible by 400\n",
    "\n",
    "    if (year % 4 == 0 and year % 100 != 0) or (year % 400 == 0):\n",
    "        return True\n",
    "    else:\n",
    "        return False\n",
    "\n",
    "# Input from the user\n",
    "input_year = int(input(\"Enter a year: \"))\n",
    "\n",
    "# Call the function to check if it's a leap year\n",
    "if is_leap_year(input_year):\n",
    "    print(f\"{input_year} is a leap year!\")\n",
    "else:\n",
    "    print(f\"{input_year} is not a leap year.\")"
   ]
  },
  {
   "cell_type": "markdown",
   "metadata": {},
   "source": [
    "6. Write a program to classify a triangle based on its sides' lengths."
   ]
  },
  {
   "cell_type": "code",
   "execution_count": null,
   "metadata": {},
   "outputs": [],
   "source": [
    "# Function to classify a triangle based on side lengths\n",
    "def classify_triangle(side1, side2, side3):\n",
    "    if side1 == side2 == side3:\n",
    "        return \"Equilateral Triangle\"  # All sides are equal\n",
    "    elif side1 == side2 or side2 == side3 or side1 == side3:\n",
    "        return \"Isosceles Triangle\"  # Two sides are equal\n",
    "    else:\n",
    "        return \"Scalene Triangle\"  # No sides are equal\n",
    "\n",
    "# Input from the user\n",
    "side_length1 = float(input(\"Enter the length of side 1: \"))\n",
    "side_length2 = float(input(\"Enter the length of side 2: \"))\n",
    "side_length3 = float(input(\"Enter the length of side 3: \"))\n",
    "\n",
    "# Check the type of triangle using the function\n",
    "triangle_type = classify_triangle(side_length1, side_length2, side_length3)\n",
    "print(f\"The triangle is a: {triangle_type}\")"
   ]
  },
  {
   "cell_type": "markdown",
   "metadata": {},
   "source": [
    "7. Build a program that determines the largest of three given numbers."
   ]
  },
  {
   "cell_type": "code",
   "execution_count": null,
   "metadata": {},
   "outputs": [],
   "source": [
    "# Function to find the largest of three numbers\n",
    "def find_largest(num1, num2, num3):\n",
    "    if num1 >= num2 and num1 >= num3:\n",
    "        largest = num1\n",
    "    elif num2 >= num1 and num2 >= num3:\n",
    "        largest = num2\n",
    "    else:\n",
    "        largest = num3\n",
    "\n",
    "    return largest\n",
    "\n",
    "# Input from the user\n",
    "number1 = float(input(\"Enter the first number: \"))\n",
    "number2 = float(input(\"Enter the second number: \"))\n",
    "number3 = float(input(\"Enter the third number: \"))\n",
    "\n",
    "# Call the function to find the largest number\n",
    "result = find_largest(number1, number2, number3)\n",
    "\n",
    "print(f\"The largest number is: {result}\")"
   ]
  },
  {
   "cell_type": "markdown",
   "metadata": {},
   "source": [
    "8. Develop a program that checks whether a character is a vowel or a consonant."
   ]
  },
  {
   "cell_type": "code",
   "execution_count": null,
   "metadata": {},
   "outputs": [],
   "source": [
    "# Function to check if a character is a vowel or a consonant\n",
    "def check_vowel_or_consonant(char):\n",
    "    # Convert the character to lowercase to handle both cases\n",
    "    char = char.lower()\n",
    "\n",
    "    # Check if the character is a vowel or a consonant\n",
    "    if char in ('a', 'e', 'i', 'o', 'u'):\n",
    "        print(f\"The character '{char}' is a vowel.\")\n",
    "    elif char.isalpha():\n",
    "        print(f\"The character '{char}' is a consonant.\")\n",
    "    else:\n",
    "        print(f\"The character '{char}' is not a valid alphabet.\")\n",
    "\n",
    "# Input from the user\n",
    "user_char = input(\"Enter a character: \")\n",
    "\n",
    "# Check if it's a vowel or a consonant\n",
    "if len(user_char) == 1:\n",
    "    check_vowel_or_consonant(user_char)\n",
    "else:\n",
    "    print(\"Please enter a single character.\")"
   ]
  },
  {
   "cell_type": "markdown",
   "metadata": {},
   "source": [
    "9. Create a program to calculate the total cost of a shopping cart based on discounts."
   ]
  },
  {
   "cell_type": "code",
   "execution_count": null,
   "metadata": {},
   "outputs": [],
   "source": [
    "# Function to calculate the total cost with discounts\n",
    "def calculate_total_cost(cart_items):\n",
    "    total_cost = sum(cart_items)\n",
    "    discount = 0\n",
    "\n",
    "    # Apply discount based on the total cost\n",
    "    if total_cost >= 100:\n",
    "        discount = 0.1 * total_cost  # 10% discount for total cost >= $100\n",
    "    elif total_cost >= 50:\n",
    "        discount = 0.05 * total_cost  # 5% discount for total cost >= $50\n",
    "\n",
    "    final_cost = total_cost - discount\n",
    "    return final_cost\n",
    "\n",
    "# Input from the user: list of prices for items in the cart\n",
    "cart_prices = []\n",
    "\n",
    "num_items = int(input(\"Enter the number of items in the cart: \"))\n",
    "for i in range(num_items):\n",
    "    price = float(input(f\"Enter the price of item {i+1}: $\"))\n",
    "    cart_prices.append(price)\n",
    "\n",
    "# Calculate total cost with discounts using the function\n",
    "total = calculate_total_cost(cart_prices)\n",
    "\n",
    "print(f\"The total cost after discounts is: ${total:.2f}\")"
   ]
  },
  {
   "cell_type": "markdown",
   "metadata": {},
   "source": [
    "10. Write a program that checks if a given number is even or odd."
   ]
  },
  {
   "cell_type": "code",
   "execution_count": null,
   "metadata": {},
   "outputs": [],
   "source": [
    "# Function to check if a number is even or odd\n",
    "def check_even_odd(number):\n",
    "    if number % 2 == 0:\n",
    "        print(f\"{number} is an even number.\")\n",
    "    else:\n",
    "        print(f\"{number} is an odd number.\")\n",
    "\n",
    "# Input from the user\n",
    "user_number = int(input(\"Enter a number: \"))\n",
    "\n",
    "# Call the function to check if it's even or odd\n",
    "check_even_odd(user_number)"
   ]
  },
  {
   "cell_type": "markdown",
   "metadata": {},
   "source": [
    "Intermediate Level:"
   ]
  },
  {
   "cell_type": "markdown",
   "metadata": {},
   "source": [
    "11. Write a program that calculates the roots of a quadratic equation ."
   ]
  },
  {
   "cell_type": "code",
   "execution_count": null,
   "metadata": {},
   "outputs": [],
   "source": [
    "import cmath\n",
    "\n",
    "# Function to calculate roots of the quadratic equation\n",
    "def calculate_roots(a, b, c):\n",
    "    # Calculate the discriminant\n",
    "    discriminant = (b ** 2) - (4 * a * c)\n",
    "\n",
    "    # Calculate roots based on the discriminant\n",
    "    root1 = (-b + cmath.sqrt(discriminant)) / (2 * a)\n",
    "    root2 = (-b - cmath.sqrt(discriminant)) / (2 * a)\n",
    "\n",
    "    return root1, root2\n",
    "\n",
    "# Input coefficients from the user\n",
    "a = float(input(\"Enter coefficient a: \"))\n",
    "b = float(input(\"Enter coefficient b: \"))\n",
    "c = float(input(\"Enter coefficient c: \"))\n",
    "\n",
    "# Call the function to calculate roots\n",
    "root1, root2 = calculate_roots(a, b, c)\n",
    "\n",
    "print(f\"The roots of the quadratic equation are: {root1} and {root2}\")"
   ]
  },
  {
   "cell_type": "markdown",
   "metadata": {},
   "source": [
    "12. Create a program that determines the day of the week based on the day number (1-7)."
   ]
  },
  {
   "cell_type": "code",
   "execution_count": null,
   "metadata": {},
   "outputs": [],
   "source": [
    "# Function to determine the day of the week\n",
    "def get_day_of_week(day_number):\n",
    "    days = [\"Monday\", \"Tuesday\", \"Wednesday\", \"Thursday\", \"Friday\", \"Saturday\", \"Sunday\"]\n",
    "\n",
    "    if day_number >= 1 and day_number <= 7:\n",
    "        return days[day_number - 1]\n",
    "    else:\n",
    "        return \"Invalid day number. Please enter a number between 1 and 7.\"\n",
    "\n",
    "# Input from the user\n",
    "day_number = int(input(\"Enter a number (1-7) for the day: \"))\n",
    "\n",
    "# Check the day of the week using the function\n",
    "result = get_day_of_week(day_number)\n",
    "\n",
    "print(f\"The day of the week is: {result}\")"
   ]
  },
  {
   "cell_type": "markdown",
   "metadata": {},
   "source": [
    "13. Develop a program that calculates the factorial of a given number using recursion."
   ]
  },
  {
   "cell_type": "code",
   "execution_count": null,
   "metadata": {},
   "outputs": [],
   "source": [
    "# Function to calculate factorial using recursion\n",
    "def factorial(n):\n",
    "    if n == 0 or n == 1:\n",
    "        return 1\n",
    "    else:\n",
    "        return n * factorial(n - 1)\n",
    "\n",
    "# Input from the user\n",
    "number = int(input(\"Enter a number to calculate its factorial: \"))\n",
    "\n",
    "# Check and print the factorial using the function\n",
    "result = factorial(number)\n",
    "print(f\"The factorial of {number} is: {result}\")"
   ]
  },
  {
   "cell_type": "markdown",
   "metadata": {},
   "source": [
    "14. Write a program to find the largest among three numbers without using the `max()` function."
   ]
  },
  {
   "cell_type": "code",
   "execution_count": null,
   "metadata": {},
   "outputs": [],
   "source": [
    "# Function to find the largest number among three\n",
    "def find_largest(a, b, c):\n",
    "    if a >= b and a >= c:\n",
    "        return a\n",
    "    elif b >= a and b >= c:\n",
    "        return b\n",
    "    else:\n",
    "        return c\n",
    "\n",
    "# Input from the user\n",
    "num1 = float(input(\"Enter first number: \"))\n",
    "num2 = float(input(\"Enter second number: \"))\n",
    "num3 = float(input(\"Enter third number: \"))\n",
    "\n",
    "# Find the largest number using the function\n",
    "largest = find_largest(num1, num2, num3)\n",
    "print(f\"The largest number is: {largest}\")"
   ]
  },
  {
   "cell_type": "markdown",
   "metadata": {},
   "source": [
    "15. Create a program that simulates a basic ATM transaction menu."
   ]
  },
  {
   "cell_type": "code",
   "execution_count": null,
   "metadata": {},
   "outputs": [],
   "source": [
    "# Function to display the ATM menu and perform transactions\n",
    "def atm_menu():\n",
    "    balance = 1000  # Initial account balance\n",
    "    while True:\n",
    "        print(\"\\n**** ATM Menu ****\")\n",
    "        print(\"1. Check Balance\")\n",
    "        print(\"2. Deposit\")\n",
    "        print(\"3. Withdraw\")\n",
    "        print(\"4. Exit\")\n",
    "        \n",
    "        choice = int(input(\"Enter your choice (1-4): \"))\n",
    "        \n",
    "        if choice == 1:\n",
    "            print(f\"Your balance is: ${balance}\")\n",
    "        elif choice == 2:\n",
    "            deposit_amount = float(input(\"Enter deposit amount: $\"))\n",
    "            balance += deposit_amount\n",
    "            print(f\"Deposit of ${deposit_amount} successful. Your new balance is: ${balance}\")\n",
    "        elif choice == 3:\n",
    "            withdraw_amount = float(input(\"Enter withdrawal amount: $\"))\n",
    "            if withdraw_amount <= balance:\n",
    "                balance -= withdraw_amount\n",
    "                print(f\"Withdrawal of ${withdraw_amount} successful. Your new balance is: ${balance}\")\n",
    "            else:\n",
    "                print(\"Insufficient funds!\")\n",
    "        elif choice == 4:\n",
    "            print(\"Thank you for using the ATM. Goodbye!\")\n",
    "            break\n",
    "        else:\n",
    "            print(\"Invalid choice. Please enter a number between 1 and 4.\")\n",
    "\n",
    "# Call the ATM menu function to start the program\n",
    "atm_menu()"
   ]
  },
  {
   "cell_type": "markdown",
   "metadata": {},
   "source": [
    "16. Build a program that checks if a given string is a palindrome or not."
   ]
  },
  {
   "cell_type": "code",
   "execution_count": null,
   "metadata": {},
   "outputs": [],
   "source": [
    "# Function to check if a string is a palindrome\n",
    "def is_palindrome(input_string):\n",
    "    # Remove spaces and convert to lowercase for case insensitivity\n",
    "    processed_string = input_string.replace(\" \", \"\").lower()\n",
    "    \n",
    "    # Compare the string with its reverse\n",
    "    if processed_string == processed_string[::-1]:\n",
    "        return True\n",
    "    else:\n",
    "        return False\n",
    "\n",
    "# Input from the user\n",
    "user_string = input(\"Enter a string: \")\n",
    "\n",
    "# Check if the string is a palindrome using the function\n",
    "if is_palindrome(user_string):\n",
    "    print(f\"'{user_string}' is a palindrome!\")\n",
    "else:\n",
    "    print(f\"'{user_string}' is not a palindrome.\")"
   ]
  },
  {
   "cell_type": "markdown",
   "metadata": {},
   "source": [
    "17. Write a program that calculates the average of a list of numbers, excluding the smallest and largest values."
   ]
  },
  {
   "cell_type": "code",
   "execution_count": null,
   "metadata": {},
   "outputs": [],
   "source": [
    "# Function to calculate average excluding smallest and largest values\n",
    "def average_excluding_extremes(numbers):\n",
    "    if len(numbers) <= 2:\n",
    "        return \"List should have at least 3 numbers.\"\n",
    "\n",
    "    numbers.sort()\n",
    "    trimmed_list = numbers[1:-1]  # Remove the smallest and largest values\n",
    "    avg = sum(trimmed_list) / len(trimmed_list)\n",
    "    return avg\n",
    "\n",
    "# Input from the user: list of numbers separated by spaces\n",
    "num_list = input(\"Enter a list of numbers separated by spaces: \").split()\n",
    "num_list = [float(num) for num in num_list]  # Convert input strings to floats\n",
    "\n",
    "# Calculate average excluding smallest and largest values using the function\n",
    "result = average_excluding_extremes(num_list)\n",
    "\n",
    "if isinstance(result, str):\n",
    "    print(result)\n",
    "else:\n",
    "    print(f\"The average excluding smallest and largest values is: {result}\")"
   ]
  },
  {
   "cell_type": "markdown",
   "metadata": {},
   "source": [
    "18. Develop a program that converts a given temperature from Celsius to Fahrenheit."
   ]
  },
  {
   "cell_type": "code",
   "execution_count": null,
   "metadata": {},
   "outputs": [],
   "source": [
    "# Function to convert Celsius to Fahrenheit\n",
    "def celsius_to_fahrenheit(celsius):\n",
    "    fahrenheit = (celsius * 9/5) + 32\n",
    "    return fahrenheit\n",
    "\n",
    "# Input from the user\n",
    "celsius_temp = float(input(\"Enter the temperature in Celsius: \"))\n",
    "\n",
    "# Convert Celsius to Fahrenheit using the function\n",
    "fahrenheit_temp = celsius_to_fahrenheit(celsius_temp)\n",
    "\n",
    "print(f\"{celsius_temp}°C is equal to {fahrenheit_temp}°F\")"
   ]
  },
  {
   "cell_type": "markdown",
   "metadata": {},
   "source": [
    "19. Create a program that simulates a basic calculator for addition, subtraction, multiplication, and division."
   ]
  },
  {
   "cell_type": "code",
   "execution_count": null,
   "metadata": {},
   "outputs": [],
   "source": [
    "# Function for addition\n",
    "def add(x, y):\n",
    "    return x + y\n",
    "\n",
    "# Function for subtraction\n",
    "def subtract(x, y):\n",
    "    return x - y\n",
    "\n",
    "# Function for multiplication\n",
    "def multiply(x, y):\n",
    "    return x * y\n",
    "\n",
    "# Function for division\n",
    "def divide(x, y):\n",
    "    if y == 0:\n",
    "        return \"Cannot divide by zero!\"\n",
    "    else:\n",
    "        return x / y\n",
    "\n",
    "# Calculator menu display\n",
    "print(\"**** Calculator Menu ****\")\n",
    "print(\"1. Addition\")\n",
    "print(\"2. Subtraction\")\n",
    "print(\"3. Multiplication\")\n",
    "print(\"4. Division\")\n",
    "\n",
    "# Input from the user for operation selection\n",
    "choice = int(input(\"Enter choice (1-4): \"))\n",
    "\n",
    "# Perform calculations based on the chosen operation\n",
    "if choice in (1, 2, 3, 4):\n",
    "    num1 = float(input(\"Enter first number: \"))\n",
    "    num2 = float(input(\"Enter second number: \"))\n",
    "\n",
    "    if choice == 1:\n",
    "        print(f\"{num1} + {num2} = {add(num1, num2)}\")\n",
    "    elif choice == 2:\n",
    "        print(f\"{num1} - {num2} = {subtract(num1, num2)}\")\n",
    "    elif choice == 3:\n",
    "        print(f\"{num1} * {num2} = {multiply(num1, num2)}\")\n",
    "    elif choice == 4:\n",
    "        print(f\"{num1} / {num2} = {divide(num1, num2)}\")\n",
    "else:\n",
    "    print(\"Invalid input! Please enter a number between 1 and 4 for the operation.\")"
   ]
  },
  {
   "cell_type": "markdown",
   "metadata": {},
   "source": [
    "20. Write a program that determines the roots of a cubic equation using the Cardano formula."
   ]
  },
  {
   "cell_type": "code",
   "execution_count": null,
   "metadata": {},
   "outputs": [],
   "source": [
    "import math\n",
    "\n",
    "# Function to find the roots of a cubic equation using Cardano's formula\n",
    "def cubic_roots(a, b, c, d):\n",
    "    p = (3 * a * c - b ** 2) / (3 * a ** 2)\n",
    "    q = (2 * b ** 3 - 9 * a * b * c + 27 * a ** 2 * d) / (27 * a ** 3)\n",
    "\n",
    "    discriminant = q ** 2 / 4 + p ** 3 / 27\n",
    "\n",
    "    if discriminant > 0:\n",
    "        u = (-q / 2 + math.sqrt(discriminant)) ** (1 / 3)\n",
    "        v = (-q / 2 - math.sqrt(discriminant)) ** (1 / 3)\n",
    "        root1 = u + v - b / (3 * a)\n",
    "        return root1\n",
    "    elif discriminant == 0:\n",
    "        if q == 0:\n",
    "            root1 = -b / (3 * a)\n",
    "            return root1\n",
    "        else:\n",
    "            u = (-q / 2) ** (1 / 3)\n",
    "            root1 = 2 * u - b / (3 * a)\n",
    "            root2 = -u - b / (3 * a)\n",
    "            return root1, root2\n",
    "    else:\n",
    "        u = math.pow((-q / 2 + 1j * math.sqrt(-discriminant)), (1 / 3))\n",
    "        v = math.pow((-q / 2 - 1j * math.sqrt(-discriminant)), (1 / 3))\n",
    "        root1 = u + v - b / (3 * a)\n",
    "        return root1\n",
    "\n",
    "# Input coefficients for the cubic equation\n",
    "a = float(input(\"Enter coefficient a: \"))\n",
    "b = float(input(\"Enter coefficient b: \"))\n",
    "c = float(input(\"Enter coefficient c: \"))\n",
    "d = float(input(\"Enter coefficient d: \"))\n",
    "\n",
    "# Calculate roots of the cubic equation using the function\n",
    "roots = cubic_roots(a, b, c, d)\n",
    "\n",
    "if isinstance(roots, tuple):\n",
    "    print(f\"The roots of the cubic equation are: {roots[0]} and {roots[1]}\")\n",
    "else:\n",
    "    print(f\"The root of the cubic equation is: {roots}\")"
   ]
  },
  {
   "cell_type": "markdown",
   "metadata": {},
   "source": [
    "Advanced Level:"
   ]
  },
  {
   "cell_type": "markdown",
   "metadata": {},
   "source": [
    "21. Create a program that calculates the income tax based on the user's income and tax brackets."
   ]
  },
  {
   "cell_type": "code",
   "execution_count": null,
   "metadata": {},
   "outputs": [],
   "source": [
    "# Function to calculate income tax based on tax brackets\n",
    "def calculate_income_tax(income):\n",
    "    tax_brackets = [(9875, 0.1), (40125, 0.12), (85525, 0.22), (163300, 0.24), (207350, 0.32), (518400, 0.35), (income, 0.37)]\n",
    "    \n",
    "    tax = 0\n",
    "    prev_bracket = 0\n",
    "\n",
    "    for bracket, rate in tax_brackets:\n",
    "        if income > bracket:\n",
    "            tax += (bracket - prev_bracket) * rate\n",
    "        else:\n",
    "            tax += (income - prev_bracket) * rate\n",
    "            break\n",
    "        prev_bracket = bracket\n",
    "    \n",
    "    return tax\n",
    "\n",
    "# Input from the user: income amount\n",
    "income_amount = float(input(\"Enter your income amount: \"))\n",
    "\n",
    "# Calculate income tax using the function\n",
    "income_tax = calculate_income_tax(income_amount)\n",
    "print(f\"The income tax for an income of ${income_amount} is: ${income_tax:.2f}\")"
   ]
  },
  {
   "cell_type": "markdown",
   "metadata": {},
   "source": [
    "22. Write a program that simulates a rock-paper-scissors game against the computer."
   ]
  },
  {
   "cell_type": "code",
   "execution_count": null,
   "metadata": {},
   "outputs": [],
   "source": [
    "import random\n",
    "\n",
    "# Function to determine the winner\n",
    "def determine_winner(player_choice, computer_choice):\n",
    "    if player_choice == computer_choice:\n",
    "        return \"It's a tie!\"\n",
    "    elif (player_choice == 'rock' and computer_choice == 'scissors') or \\\n",
    "         (player_choice == 'paper' and computer_choice == 'rock') or \\\n",
    "         (player_choice == 'scissors' and computer_choice == 'paper'):\n",
    "        return \"You win!\"\n",
    "    else:\n",
    "        return \"Computer wins!\"\n",
    "\n",
    "# Choices for the game\n",
    "choices = ['rock', 'paper', 'scissors']\n",
    "\n",
    "# Player input\n",
    "player = input(\"Enter your choice (rock, paper, scissors): \").lower()\n",
    "\n",
    "# Computer's choice\n",
    "computer = random.choice(choices)\n",
    "\n",
    "# Display choices\n",
    "print(f\"Your choice: {player}\")\n",
    "print(f\"Computer's choice: {computer}\")\n",
    "\n",
    "# Determine the winner and display the result\n",
    "result = determine_winner(player, computer)\n",
    "print(result)"
   ]
  },
  {
   "cell_type": "markdown",
   "metadata": {},
   "source": [
    "23. Develop a program that generates a random password based on user preferences (length, complexity)."
   ]
  },
  {
   "cell_type": "code",
   "execution_count": null,
   "metadata": {},
   "outputs": [],
   "source": [
    "import random\n",
    "import string\n",
    "\n",
    "# Function to generate a random password\n",
    "def generate_password(length, complexity):\n",
    "    password = ''\n",
    "\n",
    "    if complexity == 'low':\n",
    "        characters = string.ascii_letters + string.digits\n",
    "    elif complexity == 'medium':\n",
    "        characters = string.ascii_letters + string.digits + string.punctuation\n",
    "    else:\n",
    "        characters = string.ascii_letters + string.digits + string.punctuation + string.ascii_uppercase\n",
    "\n",
    "    password = ''.join(random.choice(characters) for _ in range(length))\n",
    "    return password\n",
    "\n",
    "# Input from the user: password length and complexity\n",
    "length = int(input(\"Enter the length of the password: \"))\n",
    "complexity = input(\"Enter the complexity level (low, medium, high): \").lower()\n",
    "\n",
    "# Generate a password using the function\n",
    "password = generate_password(length, complexity)\n",
    "\n",
    "print(f\"Generated password: {password}\")"
   ]
  },
  {
   "cell_type": "markdown",
   "metadata": {},
   "source": [
    "24. Create a program that implements a simple text-based adventure game with branching scenarios."
   ]
  },
  {
   "cell_type": "code",
   "execution_count": null,
   "metadata": {},
   "outputs": [],
   "source": [
    "def start_game():\n",
    "    print(\"Welcome to the Adventure Game!\")\n",
    "    print(\"You find yourself at a crossroad.\")\n",
    "\n",
    "    while True:\n",
    "        print(\"\\nWhat do you want to do?\")\n",
    "        print(\"1. Go left\")\n",
    "        print(\"2. Go right\")\n",
    "        print(\"3. Go straight\")\n",
    "\n",
    "        choice = input(\"Enter your choice (1-3): \")\n",
    "\n",
    "        if choice == '1':\n",
    "            left_path()\n",
    "            break\n",
    "        elif choice == '2':\n",
    "            right_path()\n",
    "            break\n",
    "        elif choice == '3':\n",
    "            straight_path()\n",
    "            break\n",
    "        else:\n",
    "            print(\"Invalid choice. Please enter a number between 1 and 3.\")\n",
    "\n",
    "def left_path():\n",
    "    print(\"\\nYou chose to go left.\")\n",
    "    print(\"You encounter a dark cave.\")\n",
    "    print(\"What will you do?\")\n",
    "    print(\"1. Enter the cave\")\n",
    "    print(\"2. Go back to the crossroad\")\n",
    "\n",
    "    choice = input(\"Enter your choice (1-2): \")\n",
    "\n",
    "    if choice == '1':\n",
    "        enter_cave()\n",
    "    elif choice == '2':\n",
    "        start_game()\n",
    "    else:\n",
    "        print(\"Invalid choice. Returning to the crossroad.\")\n",
    "        start_game()\n",
    "\n",
    "def right_path():\n",
    "    print(\"\\nYou chose to go right.\")\n",
    "    print(\"You find a treasure chest!\")\n",
    "    print(\"Congratulations, you found a valuable item.\")\n",
    "    start_game()\n",
    "\n",
    "def straight_path():\n",
    "    print(\"\\nYou chose to go straight.\")\n",
    "    print(\"You encounter a locked gate.\")\n",
    "    print(\"What will you do?\")\n",
    "    print(\"1. Try to pick the lock\")\n",
    "    print(\"2. Go back to the crossroad\")\n",
    "\n",
    "    choice = input(\"Enter your choice (1-2): \")\n",
    "\n",
    "    if choice == '1':\n",
    "        pick_lock()\n",
    "    elif choice == '2':\n",
    "        start_game()\n",
    "    else:\n",
    "        print(\"Invalid choice. Returning to the crossroad.\")\n",
    "        start_game()\n",
    "\n",
    "def enter_cave():\n",
    "    print(\"\\nYou enter the dark cave.\")\n",
    "    print(\"It's too dark to see anything.\")\n",
    "    print(\"You get lost in the cave.\")\n",
    "    print(\"Game Over!\")\n",
    "\n",
    "def pick_lock():\n",
    "    print(\"\\nYou try to pick the lock.\")\n",
    "    print(\"You successfully pick the lock.\")\n",
    "    print(\"You found a secret passage!\")\n",
    "    print(\"Congratulations, you escaped!\")\n",
    "    start_game()\n",
    "\n",
    "# Start the game\n",
    "start_game()"
   ]
  },
  {
   "cell_type": "markdown",
   "metadata": {},
   "source": [
    "25. Build a program that solves a linear equation for x, considering different cases."
   ]
  },
  {
   "cell_type": "code",
   "execution_count": null,
   "metadata": {},
   "outputs": [],
   "source": [
    "# Function to solve a linear equation ax + b = 0 for x\n",
    "def solve_linear_eq(a, b):\n",
    "    if a == 0:\n",
    "        if b == 0:\n",
    "            return \"Infinite solutions (Any value of x)\"\n",
    "        else:\n",
    "            return \"No solution (Contradiction)\"\n",
    "    else:\n",
    "        x = -b / a\n",
    "        return x\n",
    "\n",
    "# Input coefficients from the user\n",
    "a_coefficient = float(input(\"Enter coefficient 'a': \"))\n",
    "b_coefficient = float(input(\"Enter coefficient 'b': \"))\n",
    "\n",
    "# Solve the linear equation using the function\n",
    "solution = solve_linear_eq(a_coefficient, b_coefficient)\n",
    "\n",
    "print(f\"The solution for the linear equation {a_coefficient}x + {b_coefficient} = 0 is x = {solution}\")"
   ]
  },
  {
   "cell_type": "markdown",
   "metadata": {},
   "source": [
    "26. Write a program that simulates a basic quiz game with multiple-choice questions and scoring."
   ]
  },
  {
   "cell_type": "code",
   "execution_count": null,
   "metadata": {},
   "outputs": [],
   "source": [
    "# Define the quiz questions and answers\n",
    "questions = [\n",
    "    {\n",
    "        \"question\": \"What is the capital of France?\",\n",
    "        \"options\": [\"Paris\", \"Berlin\", \"London\", \"Rome\"],\n",
    "        \"answer\": \"Paris\"\n",
    "    },\n",
    "    {\n",
    "        \"question\": \"Which planet is known as the Red Planet?\",\n",
    "        \"options\": [\"Jupiter\", \"Mars\", \"Venus\", \"Mercury\"],\n",
    "        \"answer\": \"Mars\"\n",
    "    },\n",
    "    {\n",
    "        \"question\": \"Who painted the Mona Lisa?\",\n",
    "        \"options\": [\"Vincent van Gogh\", \"Leonardo da Vinci\", \"Pablo Picasso\", \"Claude Monet\"],\n",
    "        \"answer\": \"Leonardo da Vinci\"\n",
    "    }\n",
    "]\n",
    "\n",
    "# Function to administer the quiz\n",
    "def administer_quiz(questions):\n",
    "    score = 0\n",
    "\n",
    "    for i, q in enumerate(questions, 1):\n",
    "        print(f\"Question {i}: {q['question']}\")\n",
    "        for idx, opt in enumerate(q['options'], 1):\n",
    "            print(f\"{idx}. {opt}\")\n",
    "        \n",
    "        user_answer = input(\"Enter your answer (1-4): \")\n",
    "\n",
    "        if user_answer.isdigit() and 1 <= int(user_answer) <= 4:\n",
    "            user_choice = q['options'][int(user_answer) - 1]\n",
    "            if user_choice == q['answer']:\n",
    "                score += 1\n",
    "                print(\"Correct!\")\n",
    "            else:\n",
    "                print(f\"Wrong! The correct answer is: {q['answer']}\")\n",
    "        else:\n",
    "            print(\"Invalid input. Skipping this question.\")\n",
    "\n",
    "    return score\n",
    "\n",
    "# Administer the quiz and display the score\n",
    "print(\"Welcome to the Quiz!\")\n",
    "total_score = administer_quiz(questions)\n",
    "print(f\"\\nYour total score is: {total_score} out of {len(questions)}\")"
   ]
  },
  {
   "cell_type": "markdown",
   "metadata": {},
   "source": [
    "27. Develop a program that determines whether a given year is a prime number or not."
   ]
  },
  {
   "cell_type": "code",
   "execution_count": null,
   "metadata": {},
   "outputs": [],
   "source": [
    "# Function to check if a number is prime\n",
    "def is_prime(year):\n",
    "    if year < 2:\n",
    "        return False\n",
    "    for i in range(2, int(year ** 0.5) + 1):\n",
    "        if year % i == 0:\n",
    "            return False\n",
    "    return True\n",
    "\n",
    "# Input from the user\n",
    "year = int(input(\"Enter a year to check if it's prime: \"))\n",
    "\n",
    "# Check if the year is prime using the function\n",
    "if is_prime(year):\n",
    "    print(f\"{year} is a prime number.\")\n",
    "else:\n",
    "    print(f\"{year} is not a prime number.\")"
   ]
  },
  {
   "cell_type": "markdown",
   "metadata": {},
   "source": [
    "28. Create a program that sorts three numbers in ascending order using conditional statements."
   ]
  },
  {
   "cell_type": "code",
   "execution_count": null,
   "metadata": {},
   "outputs": [],
   "source": [
    "# Function to sort three numbers in ascending order\n",
    "def sort_numbers(a, b, c):\n",
    "    if a <= b <= c:\n",
    "        return a, b, c\n",
    "    elif a <= c <= b:\n",
    "        return a, c, b\n",
    "    elif b <= a <= c:\n",
    "        return b, a, c\n",
    "    elif b <= c <= a:\n",
    "        return b, c, a\n",
    "    elif c <= a <= b:\n",
    "        return c, a, b\n",
    "    else:\n",
    "        return c, b, a\n",
    "\n",
    "# Input from the user\n",
    "num1 = float(input(\"Enter first number: \"))\n",
    "num2 = float(input(\"Enter second number: \"))\n",
    "num3 = float(input(\"Enter third number: \"))\n",
    "\n",
    "# Sort the numbers using the function\n",
    "sorted_nums = sort_numbers(num1, num2, num3)\n",
    "print(\"Numbers in ascending order:\", sorted_nums)"
   ]
  },
  {
   "cell_type": "markdown",
   "metadata": {},
   "source": [
    "29. Build a program that determines the roots of a quartic equation using numerical methods."
   ]
  },
  {
   "cell_type": "code",
   "execution_count": null,
   "metadata": {},
   "outputs": [],
   "source": [
    "import numpy as np\n",
    "\n",
    "# Coefficients of the quartic equation: ax^4 + bx^3 + cx^2 + dx + e = 0\n",
    "coefficients = [1, -10, 35, -50, 24]  # Adjust coefficients accordingly\n",
    "\n",
    "# Calculate the roots of the quartic equation\n",
    "roots = np.roots(coefficients)\n",
    "\n",
    "print(\"Roots of the quartic equation:\")\n",
    "for i, root in enumerate(roots, 1):\n",
    "    print(f\"Root {i}: {root}\")"
   ]
  },
  {
   "cell_type": "markdown",
   "metadata": {},
   "source": [
    "30. Write a program that calculates the BMI (Body Mass Index) and provides health recommendations based\n",
    "on the user's input."
   ]
  },
  {
   "cell_type": "code",
   "execution_count": null,
   "metadata": {},
   "outputs": [],
   "source": [
    "# Function to calculate BMI\n",
    "def calculate_bmi(weight, height):\n",
    "    return weight / (height ** 2)\n",
    "\n",
    "# Function to provide health recommendations based on BMI\n",
    "def health_recommendations(bmi):\n",
    "    if bmi < 18.5:\n",
    "        return \"Underweight: You might consider gaining some weight.\"\n",
    "    elif 18.5 <= bmi < 25:\n",
    "        return \"Normal weight: Keep up the good work!\"\n",
    "    elif 25 <= bmi < 30:\n",
    "        return \"Overweight: It might be beneficial to lose some weight.\"\n",
    "    else:\n",
    "        return \"Obese: Consider consulting a healthcare professional.\"\n",
    "\n",
    "# Input from the user: weight in kilograms and height in meters\n",
    "weight = float(input(\"Enter your weight in kilograms: \"))\n",
    "height = float(input(\"Enter your height in meters: \"))\n",
    "\n",
    "# Calculate BMI using the function\n",
    "bmi = calculate_bmi(weight, height)\n",
    "\n",
    "# Provide health recommendations based on BMI\n",
    "recommendations = health_recommendations(bmi)\n",
    "\n",
    "# Display BMI and health recommendations\n",
    "print(f\"Your BMI is: {bmi:.2f}\")\n",
    "print(\"Health Recommendations:\", recommendations)"
   ]
  },
  {
   "cell_type": "markdown",
   "metadata": {},
   "source": [
    "Challenge Level:"
   ]
  },
  {
   "cell_type": "markdown",
   "metadata": {},
   "source": [
    "31. Create a program that validates a password based on complexity rules (length, characters, etc.)."
   ]
  },
  {
   "cell_type": "code",
   "execution_count": null,
   "metadata": {},
   "outputs": [],
   "source": [
    "import re\n",
    "\n",
    "def validate_password(password):\n",
    "    if len(password) < 8:\n",
    "        raise ValueError(\"Password must be at least 8 characters long\")\n",
    "\n",
    "    if not re.search(r\"[a-z]\", password):\n",
    "        raise ValueError(\"Password must contain at least one lowercase letter\")\n",
    "\n",
    "    if not re.search(r\"[A-Z]\", password):\n",
    "        raise ValueError(\"Password must contain at least one uppercase letter\")\n",
    "\n",
    "    if not re.search(r\"[0-9]\", password):\n",
    "        raise ValueError(\"Password must contain at least one digit\")\n",
    "\n",
    "    if not re.search(r\"[^\\w\\s]\", password):\n",
    "        raise ValueError(\"Password must contain at least one special character\")\n",
    "\n",
    "    return True\n",
    "\n",
    "password = input(\"Enter a password: \")\n",
    "\n",
    "try:\n",
    "    validate_password(password)\n",
    "    print(\"Password is valid\")\n",
    "except ValueError as e:\n",
    "    print(e)"
   ]
  },
  {
   "cell_type": "markdown",
   "metadata": {},
   "source": [
    "32. Develop a program that performs matrix addition and subtraction based on user input."
   ]
  },
  {
   "cell_type": "code",
   "execution_count": null,
   "metadata": {},
   "outputs": [],
   "source": [
    "import numpy as np\n",
    "\n",
    "def matrix_addition(matrix1, matrix2):\n",
    "    if matrix1.shape != matrix2.shape:\n",
    "        raise ValueError(\"Matrices must be of the same shape\")\n",
    "\n",
    "    result = np.zeros(matrix1.shape)\n",
    "    for i in range(matrix1.shape[0]):\n",
    "        for j in range(matrix1.shape[1]):\n",
    "            result[i, j] = matrix1[i, j] + matrix2[i, j]\n",
    "\n",
    "    return result\n",
    "\n",
    "def matrix_subtraction(matrix1, matrix2):\n",
    "    if matrix1.shape != matrix2.shape:\n",
    "        raise ValueError(\"Matrices must be of the same shape\")\n",
    "\n",
    "    result = np.zeros(matrix1.shape)\n",
    "    for i in range(matrix1.shape[0]):\n",
    "        for j in range(matrix1.shape[1]):\n",
    "            result[i, j] = matrix1[i, j] - matrix2[i, j]\n",
    "\n",
    "    return result\n",
    "\n",
    "# Example usage\n",
    "matrix1 = np.array([[1, 2, 3], [4, 5, 6]])\n",
    "matrix2 = np.array([[7, 8, 9], [10, 11, 12]])\n",
    "\n",
    "sum_matrix = matrix_addition(matrix1, matrix2)\n",
    "difference_matrix = matrix_subtraction(matrix1, matrix2)\n",
    "\n",
    "print(\"Matrix 1:\")\n",
    "print(matrix1)\n",
    "\n",
    "print(\"Matrix 2:\")\n",
    "print(matrix2)\n",
    "\n",
    "print(\"Sum of matrices:\")\n",
    "print(sum_matrix)\n",
    "\n",
    "print(\"Difference of matrices:\")\n",
    "print(difference_matrix)"
   ]
  },
  {
   "cell_type": "markdown",
   "metadata": {},
   "source": [
    "33. Write a program that calculates the greatest common divisor (GCD) of two numbers using the Euclidean\n",
    "algorithm."
   ]
  },
  {
   "cell_type": "code",
   "execution_count": null,
   "metadata": {},
   "outputs": [],
   "source": [
    "def gcd(a, b):\n",
    "    while b:\n",
    "        a, b = b, a % b\n",
    "    return a\n",
    "\n",
    "# Example numbers to find their GCD\n",
    "number1 = 54\n",
    "number2 = 24\n",
    "\n",
    "# Calculate the GCD using the Euclidean algorithm\n",
    "result = gcd(number1, number2)\n",
    "\n",
    "print(f\"The GCD of {number1} and {number2} is:\", result)"
   ]
  },
  {
   "cell_type": "markdown",
   "metadata": {},
   "source": [
    "34. Build a program that performs matrix multiplication using nested loops and conditional statements."
   ]
  },
  {
   "cell_type": "code",
   "execution_count": null,
   "metadata": {},
   "outputs": [],
   "source": [
    "def matrix_multiply(matrix1, matrix2):\n",
    "    rows1 = len(matrix1)\n",
    "    cols1 = len(matrix1[0])\n",
    "    rows2 = len(matrix2)\n",
    "    cols2 = len(matrix2[0])\n",
    "\n",
    "    if cols1 != rows2:\n",
    "        return \"Matrices cannot be multiplied\"\n",
    "\n",
    "    result = [[0 for _ in range(cols2)] for _ in range(rows1)]\n",
    "\n",
    "    for i in range(rows1):\n",
    "        for j in range(cols2):\n",
    "            for k in range(cols1):\n",
    "                result[i][j] += matrix1[i][k] * matrix2[k][j]\n",
    "\n",
    "    return result\n",
    "\n",
    "# Example matrices to multiply\n",
    "matrix_a = [\n",
    "    [1, 2, 3],\n",
    "    [4, 5, 6]\n",
    "]\n",
    "\n",
    "matrix_b = [\n",
    "    [7, 8],\n",
    "    [9, 10],\n",
    "    [11, 12]\n",
    "]\n",
    "\n",
    "# Perform matrix multiplication\n",
    "result_matrix = matrix_multiply(matrix_a, matrix_b)\n",
    "\n",
    "# Display the result\n",
    "if isinstance(result_matrix, str):\n",
    "    print(result_matrix)\n",
    "else:\n",
    "    print(\"Result of matrix multiplication:\")\n",
    "    for row in result_matrix:\n",
    "        print(row)"
   ]
  },
  {
   "cell_type": "markdown",
   "metadata": {},
   "source": [
    "35. Create a program that simulates a basic text-based tic-tac-toe game against the computer."
   ]
  },
  {
   "cell_type": "code",
   "execution_count": null,
   "metadata": {},
   "outputs": [],
   "source": [
    "import random\n",
    "\n",
    "def print_board(board):\n",
    "    for row in board:\n",
    "        print(\" | \".join(row))\n",
    "        print(\"---------\")\n",
    "\n",
    "def check_winner(board, player):\n",
    "    for row in board:\n",
    "        if all(cell == player for cell in row):\n",
    "            return True\n",
    "\n",
    "    for col in range(3):\n",
    "        if all(board[row][col] == player for row in range(3)):\n",
    "            return True\n",
    "\n",
    "    if all(board[i][i] == player for i in range(3)) or all(board[i][2 - i] == player for i in range(3)):\n",
    "        return True\n",
    "\n",
    "    return False\n",
    "\n",
    "def player_move(board):\n",
    "    while True:\n",
    "        try:\n",
    "            row = int(input(\"Enter row number (0-2): \"))\n",
    "            col = int(input(\"Enter column number (0-2): \"))\n",
    "            if board[row][col] == \" \":\n",
    "                board[row][col] = \"X\"\n",
    "                break\n",
    "            else:\n",
    "                print(\"That position is already taken. Try again.\")\n",
    "        except ValueError:\n",
    "            print(\"Please enter a valid number.\")\n",
    "\n",
    "def computer_move(board):\n",
    "    while True:\n",
    "        row = random.randint(0, 2)\n",
    "        col = random.randint(0, 2)\n",
    "        if board[row][col] == \" \":\n",
    "            board[row][col] = \"O\"\n",
    "            break\n",
    "\n",
    "def play_game():\n",
    "    board = [[\" \" for _ in range(3)] for _ in range(3)]\n",
    "    print(\"Welcome to Tic-Tac-Toe against the computer!\")\n",
    "    print_board(board)\n",
    "\n",
    "    for turn in range(9):\n",
    "        if turn % 2 == 0:\n",
    "            player_move(board)\n",
    "        else:\n",
    "            computer_move(board)\n",
    "        print_board(board)\n",
    "\n",
    "        if turn >= 4:\n",
    "            if check_winner(board, \"X\"):\n",
    "                print(\"Congratulations! You win!\")\n",
    "                return\n",
    "            elif check_winner(board, \"O\"):\n",
    "                print(\"The computer wins! Better luck next time.\")\n",
    "                return\n",
    "\n",
    "    print(\"It's a tie!\")\n",
    "\n",
    "# Start the game\n",
    "play_game()"
   ]
  },
  {
   "cell_type": "markdown",
   "metadata": {},
   "source": [
    "36. Write a program that generates Fibonacci numbers up to a specified term using iterative methods."
   ]
  },
  {
   "cell_type": "code",
   "execution_count": null,
   "metadata": {},
   "outputs": [],
   "source": [
    "def fibonacci(n):\n",
    "    if n <= 0:\n",
    "        raise ValueError(\"n must be a positive integer\")\n",
    "\n",
    "    previous = 0\n",
    "    current = 1\n",
    "\n",
    "    for i in range(2, n + 1):\n",
    "        next = previous + current\n",
    "        previous = current\n",
    "        current = next\n",
    "        yield current\n",
    "\n",
    "n = int(input(\"Enter the number of terms: \"))\n",
    "\n",
    "for num in fibonacci(n):\n",
    "    print(num)"
   ]
  },
  {
   "cell_type": "markdown",
   "metadata": {},
   "source": [
    "37. Develop a program that calculates the nth term of the Fibonacci sequence using memoization."
   ]
  },
  {
   "cell_type": "code",
   "execution_count": null,
   "metadata": {},
   "outputs": [],
   "source": [
    "def fibonacci(n, memo):\n",
    "    if n in memo:\n",
    "        return memo[n]\n",
    "\n",
    "    if n <= 1:\n",
    "        return n\n",
    "\n",
    "    result = fibonacci(n - 1, memo) + fibonacci(n - 2, memo)\n",
    "    memo[n] = result\n",
    "    return result\n",
    "\n",
    "n = int(input(\"Enter the nth term you want to calculate: \"))\n",
    "\n",
    "memo = {0: 0, 1: 1}\n",
    "nth_fibonacci_term = fibonacci(n, memo)\n",
    "print(f\"The {n}th term of the Fibonacci sequence is {nth_fibonacci_term}\")"
   ]
  },
  {
   "cell_type": "markdown",
   "metadata": {},
   "source": [
    "38. Create a program that generates a calendar for a given month and year using conditional statements."
   ]
  },
  {
   "cell_type": "code",
   "execution_count": null,
   "metadata": {},
   "outputs": [],
   "source": [
    "def is_leap_year(year):\n",
    "    if year % 4 == 0 and year % 100 != 0 or year % 400 == 0:\n",
    "        return True\n",
    "    else:\n",
    "        return False\n",
    "\n",
    "def get_number_of_days_in_month(month, year):\n",
    "    if month == 2:\n",
    "        if is_leap_year(year):\n",
    "            return 29\n",
    "        else:\n",
    "            return 28\n",
    "    elif month in (4, 6, 9, 11):\n",
    "        return 30\n",
    "    else:\n",
    "        return 31\n",
    "\n",
    "def get_first_day_of_month(month, year):\n",
    "    day_of_week = 0  # Monday is 0, Sunday is 6\n",
    "    for y in range(1, year):\n",
    "        day_of_week += 365\n",
    "        if is_leap_year(y):\n",
    "            day_of_week += 1\n",
    "\n",
    "    for m in range(1, month):\n",
    "        day_of_week += get_number_of_days_in_month(m, year)\n",
    "\n",
    "    return day_of_week % 7  # 0 is Monday, 6 is Sunday\n",
    "\n",
    "def print_calendar(month, year):\n",
    "    number_of_days_in_month = get_number_of_days_in_month(month, year)\n",
    "    first_day_of_month = get_first_day_of_month(month, year)\n",
    "\n",
    "    print(f\"Calendar for {month} {year}\")\n",
    "    print(\"Sun Mon Tue Wed Thu Fri Sat\")\n",
    "\n",
    "    for week in range(0, 6):\n",
    "        for day in range(0, 7):\n",
    "            if week == 0 and day < first_day_of_month:\n",
    "                print(\" \", end=' ')\n",
    "            elif day >= number_of_days_in_month:\n",
    "                print(\" \", end=' ')\n",
    "            else:\n",
    "                print(day + 1, end=' ')\n",
    "        print()\n",
    "\n",
    "month = int(input(\"Enter the month (1-12): \"))\n",
    "year = int(input(\"Enter the year: \"))\n",
    "\n",
    "print_calendar(month, year)"
   ]
  },
  {
   "cell_type": "markdown",
   "metadata": {},
   "source": [
    "39. Build a program that simulates a basic text-based blackjack game against the computer."
   ]
  },
  {
   "cell_type": "code",
   "execution_count": null,
   "metadata": {},
   "outputs": [],
   "source": [
    "import random\n",
    "\n",
    "def deal_card():\n",
    "    cards = [2, 3, 4, 5, 6, 7, 8, 9, 10, 'J', 'Q', 'K', 'A']\n",
    "    return random.choice(cards)\n",
    "\n",
    "def get_card_value(card):\n",
    "    if card == 'A':\n",
    "        return 11\n",
    "    elif card in ['J', 'Q', 'K']:\n",
    "        return 10\n",
    "    else:\n",
    "        return card\n",
    "\n",
    "def display_hand(hand):\n",
    "    for card in hand:\n",
    "        print(card, end=' ')\n",
    "    print()\n",
    "\n",
    "def check_for_blackjack(hand):\n",
    "    if sum(get_card_value(card) for card in hand) == 21:\n",
    "        return True\n",
    "    else:\n",
    "        return False\n",
    "\n",
    "def hit(hand):\n",
    "    new_card = deal_card()\n",
    "    hand.append(new_card)\n",
    "    hand_value = sum(get_card_value(card) for card in hand)\n",
    "    print(f\"You drew a {new_card}. Your hand is now:\")\n",
    "    display_hand(hand)\n",
    "\n",
    "    if hand_value > 21:\n",
    "        print(\"You busted!\")\n",
    "        return True\n",
    "    else:\n",
    "        return False\n",
    "\n",
    "def stand():\n",
    "    print(\"You stood.\")\n",
    "    return False\n",
    "\n",
    "def dealer_play(dealer_hand):\n",
    "    dealer_hand_value = sum(get_card_value(card) for card in dealer_hand)\n",
    "    while dealer_hand_value < 17:\n",
    "        new_card = deal_card()\n",
    "        dealer_hand.append(new_card)\n",
    "        dealer_hand_value = sum(get_card_value(card) for card in dealer_hand)\n",
    "        print(f\"The dealer drew a {new_card}. Their hand is now:\")\n",
    "        display_hand(dealer_hand)\n",
    "\n",
    "def play_game():\n",
    "    player_hand = []\n",
    "    dealer_hand = []\n",
    "\n",
    "    # Deal two cards to the player\n",
    "    for _ in range(2):\n",
    "        player_hand.append(deal_card())\n",
    "\n",
    "    # Deal two cards to the dealer, one face up and one face down\n",
    "    dealer_hand.append(deal_card())\n",
    "    dealer_hand.append(deal_card())\n",
    "\n",
    "    print(\"Your hand is:\")\n",
    "    display_hand(player_hand)\n",
    "\n",
    "    print(\"The dealer's hand is:\")\n",
    "    display_hand(dealer_hand[0:])  # Show only the first card\n",
    "\n",
    "    # Check for blackjack\n",
    "    if check_for_blackjack(player_hand):\n",
    "        print(\"You got blackjack! You win!\")\n",
    "        return\n",
    "\n",
    "    # Player's turn\n",
    "    player_bust = False\n",
    "    while not player_bust:\n",
    "        action = input(\"Hit or stand? (h/s) \")\n",
    "        if action == 'h':\n",
    "            player_bust = hit(player_hand)\n",
    "        elif action == 's':\n",
    "            player_bust = stand()\n",
    "        else:\n",
    "            print(\"Invalid input. Please enter 'h' or 's'.\")\n",
    "\n",
    "    # Dealer's turn\n",
    "    dealer_bust = False\n",
    "    if not player_bust:\n",
    "        dealer_bust = dealer_play(dealer_hand)\n",
    "\n",
    "    # Determine the winner\n",
    "    player_hand_value = sum(get_card_value(card) for card in player_hand)\n",
    "    dealer_hand_value = sum(get_card_value(card) for card in dealer_hand)\n",
    "\n",
    "    if player_bust or dealer_hand_value > player_hand_value and not dealer_bust:\n",
    "        print(\"You lost.\")\n",
    "    elif dealer_bust or player_hand_value > dealer_hand_value:\n",
    "        print(\"You won!\")\n",
    "    else:\n",
    "        print(\"It's a tie.\")\n",
    "\n",
    "while True:\n",
    "    play_game()\n",
    "    play_again = input(\"Play again? (y/n) \")\n",
    "    if play_again != 'y':\n",
    "        break"
   ]
  },
  {
   "cell_type": "markdown",
   "metadata": {},
   "source": [
    "40. Write a program that generates the prime factors of a given number using trial division."
   ]
  },
  {
   "cell_type": "code",
   "execution_count": null,
   "metadata": {},
   "outputs": [],
   "source": [
    "def prime_factors(n):\n",
    "    if n <= 1:\n",
    "        return []\n",
    "\n",
    "    prime_factors = []\n",
    "    divisor = 2\n",
    "\n",
    "    while divisor <= n:\n",
    "        if n % divisor == 0:\n",
    "            prime_factors.append(divisor)\n",
    "            n //= divisor\n",
    "        else:\n",
    "            divisor += 1\n",
    "\n",
    "    return prime_factors\n",
    "\n",
    "number = int(input(\"Enter a number: \"))\n",
    "prime_factors_list = prime_factors(number)\n",
    "\n",
    "if prime_factors_list:\n",
    "    print(f\"The prime factors of {number} are: {prime_factors_list}\")\n",
    "else:\n",
    "    print(f\"{number} is a prime number\")"
   ]
  }
 ],
 "metadata": {
  "language_info": {
   "name": "python"
  }
 },
 "nbformat": 4,
 "nbformat_minor": 2
}
