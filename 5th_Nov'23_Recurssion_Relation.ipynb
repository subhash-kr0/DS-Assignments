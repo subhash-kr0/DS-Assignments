{
 "cells": [
  {
   "cell_type": "code",
   "execution_count": null,
   "metadata": {},
   "outputs": [],
   "source": []
  },
  {
   "cell_type": "markdown",
   "metadata": {},
   "source": [
    "Q1. Find the value of T(2) for the recurrence relation T(n) = 3T(n-1) + 12n, given that T(0)=5. "
   ]
  },
  {
   "cell_type": "markdown",
   "metadata": {},
   "source": [
    "Sol:-\n",
    "\n",
    "Given recurrene relation\n",
    "T(n) = 3T(n-1) + 12n\n",
    "and also given T)(0) = 5\n",
    "\n",
    "For T(1)\n",
    "T(1) = 3T(0) + 12*1 = 3*5 + 12 = 27\n",
    "\n",
    "Now For T(2)\n",
    "T(2) = 3T(1) + 12*2 = 3*27 + 24 = 105\n",
    "\n",
    " So T(2) = 105 , Ans "
   ]
  },
  {
   "cell_type": "markdown",
   "metadata": {},
   "source": [
    "2. Given a recurrence relation, solve it using the substitution method:\n",
    "\n",
    "a. T(n) = T(n-1) + c\n",
    "\n",
    "b. T(n) = 2T(n/2) + n\n",
    "\n",
    "c. T(n) = 2T(n/2) + c\n",
    "\n",
    "d. T(n) = T(n/2) + c"
   ]
  },
  {
   "cell_type": "markdown",
   "metadata": {},
   "source": [
    "Sol:- (a) T(n) = T(n-1) + c\n",
    "\n",
    "   T(n) = T(n-2) + 2c  ------2nd time\n",
    "\n",
    "   T(n) = T(n-3) + 3c  ------3rd time\n",
    "\n",
    "   lets assume it continue k-times, n-k = 1\n",
    "\n",
    "  T(n) = T(n-k) + kc\n",
    "\n",
    "  => T(n) = T(n - (n-1)) + (n-1)c\n",
    "\n",
    "  => T(n) = O(n) , Linear time complexity"
   ]
  }
 ],
 "metadata": {
  "language_info": {
   "name": "python"
  }
 },
 "nbformat": 4,
 "nbformat_minor": 2
}
