{
 "cells": [
  {
   "cell_type": "markdown",
   "metadata": {},
   "source": [
    "Q.1 Can you explain the logic and working of the Tower of Hanoi algorithm by writing a Java program?\n",
    "How does the recursion work, and how are the movements of disks between rods accomplished?"
   ]
  },
  {
   "cell_type": "markdown",
   "metadata": {},
   "source": [
    "Sol :-\n",
    "\n",
    "The logic of the algorithm is as follows:\n",
    "\n",
    "1. Move the top n-1 disks from the source rod (A) to an auxiliary rod (B), using the destination rod © as a temporary rod.\n",
    "2. Move the remaining disk from the source rod (A) to the destination rod ©.\n",
    "3. Move the n-1 disks that we left on the auxiliary rod (B) to the destination rod © using the source rod (A) as a temporary rod.\n",
    "\n",
    "The base case of the recursion is when there is only one disk left to move. In that case, we simply move it without needing to use the auxiliary rod.\n",
    "\n",
    "The recursion works by breaking down the problem into smaller subproblems. Each recursive call to towerOfHanoi handles the task of moving a smaller tower of n-1 disks. By stacking these calls together, we effectively move the entire tower from the source rod to the destination rod. The use of an auxiliary rod is crucial to this process, as it provides a place to store the disks temporarily while they are being moved.\n",
    "\n",
    "The movements of disks between rods are accomplished by the recursive calls to towerOfHanoi, and the actual movements are printed out by the System.out.println statements in the code. The order of these calls and print statements ensures that the disks are moved in the correct order to solve the problem"
   ]
  },
  {
   "cell_type": "code",
   "execution_count": null,
   "metadata": {},
   "outputs": [],
   "source": [
    "def tower_of_hanoi(n, source, auxiliary, destination):\n",
    "    if n == 1:\n",
    "        print(\"Move disk 1 from\", source, \"to\", destination)\n",
    "        return\n",
    "    tower_of_hanoi(n - 1, source, destination, auxiliary)\n",
    "    print(\"Move disk\", n, \"from\", source, \"to\", destination)\n",
    "    tower_of_hanoi(n - 1, auxiliary, source, destination)\n",
    "\n",
    "if __name__ == \"__main__\":\n",
    "    n = 3\n",
    "    tower_of_hanoi(n, 'A', 'B', 'C')"
   ]
  },
  {
   "cell_type": "markdown",
   "metadata": {},
   "source": [
    "Q.2 Given two strings word1 and word2, return the minimum number of operations required to convert word1\n",
    "to word2."
   ]
  },
  {
   "cell_type": "code",
   "execution_count": null,
   "metadata": {},
   "outputs": [],
   "source": [
    "def min_distance(word1, word2):\n",
    "    len_word1, len_word2 = len(word1), len(word2)\n",
    "    dp = [[0] * (len_word2 + 1) for _ in range(len_word1 + 1)]\n",
    "\n",
    "    for i in range(len_word1 + 1):\n",
    "        dp[i][0] = i\n",
    "\n",
    "    for j in range(len_word2 + 1):\n",
    "        dp[0][j] = j\n",
    "\n",
    "    for i in range(1, len_word1 + 1):\n",
    "        for j in range(1, len_word2 + 1):\n",
    "            if word1[i - 1] == word2[j - 1]:\n",
    "                dp[i][j] = dp[i - 1][j - 1]\n",
    "            else:\n",
    "                dp[i][j] = 1 + min(dp[i - 1][j - 1], dp[i - 1][j], dp[i][j - 1])\n",
    "\n",
    "    return dp[len_word1][len_word2]\n",
    "\n",
    "word1_1, word2_1 = \"horse\", \"ros\"\n",
    "word1_2, word2_2 = \"intention\", \"execution\"\n",
    "\n",
    "print(min_distance(word1_1, word2_1))  \n",
    "print(min_distance(word1_2, word2_2))  "
   ]
  },
  {
   "cell_type": "markdown",
   "metadata": {},
   "source": [
    "Q. 3 Print the max value of the array [ 13, 1, -3, 22, 5]."
   ]
  },
  {
   "cell_type": "code",
   "execution_count": null,
   "metadata": {},
   "outputs": [],
   "source": [
    "def max_value_recursive(arr, n):\n",
    "    if n == 1:\n",
    "        return arr[0]\n",
    "    else:\n",
    "        return max(arr[n - 1], max_value_recursive(arr, n - 1))\n",
    "\n",
    "array = [13, 1, -3, 22, 5]\n",
    "array_length = len(array)\n",
    "\n",
    "max_value = max_value_recursive(array, array_length)\n",
    "print(\"The maximum value in the array is:\", max_value)"
   ]
  },
  {
   "cell_type": "markdown",
   "metadata": {},
   "source": [
    "Q.4 Find the sum of the values of the array [92, 23, 15, -20, 10]."
   ]
  },
  {
   "cell_type": "code",
   "execution_count": null,
   "metadata": {},
   "outputs": [],
   "source": [
    "def sum_values_recursive(arr, n):\n",
    "    if n == 0:\n",
    "        return 0\n",
    "    else:\n",
    "        return arr[n - 1] + sum_values_recursive(arr, n - 1)\n",
    "\n",
    "array = [92, 23, 15, -20, 10]\n",
    "array_length = len(array)\n",
    "\n",
    "sum_values = sum_values_recursive(array, array_length)\n",
    "print(\"The sum of the values in the array is:\", sum_values)"
   ]
  },
  {
   "cell_type": "markdown",
   "metadata": {},
   "source": [
    "Q.5 Given a number n. Print if it is an armstrong number or not.An armstrong number is a number if the sum\n",
    "of every digit in that number raised to the power of total digits in that number is equal to the number."
   ]
  },
  {
   "cell_type": "code",
   "execution_count": null,
   "metadata": {},
   "outputs": [],
   "source": [
    "def is_armstrong_number(n):\n",
    "    num_str = str(n)\n",
    "    num_digits = len(num_str)\n",
    "    \n",
    "    sum_digits = sum(int(digit) ** num_digits for digit in num_str)\n",
    "    \n",
    "    if sum_digits == n:\n",
    "        return \"Yes\"\n",
    "    else:\n",
    "        return \"No\"\n",
    "\n",
    "input1 = 153\n",
    "input2 = 134\n",
    "\n",
    "output1 = is_armstrong_number(input1)\n",
    "output2 = is_armstrong_number(input2)\n",
    "\n",
    "print(f\"Input1 ({input1}): {output1}\")\n",
    "print(f\"Input2 ({input2}): {output2}\")"
   ]
  }
 ],
 "metadata": {
  "kernelspec": {
   "display_name": "Python 3",
   "language": "python",
   "name": "python3"
  },
  "language_info": {
   "codemirror_mode": {
    "name": "ipython",
    "version": 3
   },
   "file_extension": ".py",
   "mimetype": "text/x-python",
   "name": "python",
   "nbconvert_exporter": "python",
   "pygments_lexer": "ipython3",
   "version": "3.11.4"
  }
 },
 "nbformat": 4,
 "nbformat_minor": 2
}
