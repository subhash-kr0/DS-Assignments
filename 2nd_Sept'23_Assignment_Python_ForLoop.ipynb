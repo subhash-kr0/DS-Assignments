{
 "cells": [
  {
   "cell_type": "markdown",
   "metadata": {},
   "source": [
    "Basic Level:"
   ]
  },
  {
   "cell_type": "markdown",
   "metadata": {},
   "source": [
    "1. Write a Python program to print the numbers from 1 to 10 using a `for` loop."
   ]
  },
  {
   "cell_type": "code",
   "execution_count": null,
   "metadata": {},
   "outputs": [],
   "source": [
    "for i in range(1,11):\n",
    "    print(i)"
   ]
  },
  {
   "cell_type": "markdown",
   "metadata": {},
   "source": [
    "2. Create a program that calculates the sum of all numbers in a list using a `for` loop."
   ]
  },
  {
   "cell_type": "code",
   "execution_count": null,
   "metadata": {},
   "outputs": [],
   "source": [
    "list = [1,2,3,4,5,7,8]\n",
    "sum =0  # initialize sum with zero\n",
    "for i in list:\n",
    "    sum += i     # adding values of list in sum\n",
    "\n",
    "print(sum)      # printing sum"
   ]
  },
  {
   "cell_type": "markdown",
   "metadata": {},
   "source": [
    "3. Write a program to print the characters of a string in reverse order using a `for` loop."
   ]
  },
  {
   "cell_type": "code",
   "execution_count": null,
   "metadata": {},
   "outputs": [],
   "source": [
    "# Function to print characters of a string in reverse order using a for loop\n",
    "def print_reverse(string):\n",
    "    print(\"String in reverse order:\")\n",
    "    for i in range(len(string) - 1, -1, -1):\n",
    "        print(string[i])\n",
    "\n",
    "# Given string\n",
    "given_string = \"Hello, World!\"\n",
    "\n",
    "# Print characters in reverse order using a for loop\n",
    "print_reverse(given_string)"
   ]
  },
  {
   "cell_type": "markdown",
   "metadata": {},
   "source": [
    "4. Develop a program that finds the factorial of a given number using a `for` loop."
   ]
  },
  {
   "cell_type": "code",
   "execution_count": null,
   "metadata": {},
   "outputs": [],
   "source": [
    "def factorial(n):\n",
    "    if n < 0:\n",
    "        return \"Factorial is not defined for negative numbers\"\n",
    "    elif n == 0 or n == 1:\n",
    "        return 1\n",
    "    else:\n",
    "        fact = 1\n",
    "        for i in range(2, n + 1):\n",
    "            fact *= i\n",
    "        return fact\n",
    "\n",
    "# Given number to find the factorial\n",
    "given_number = 5\n",
    "\n",
    "# Calculate the factorial using a for loop\n",
    "result = factorial(given_number)\n",
    "\n",
    "print(f\"The factorial of {given_number} is:\", result)"
   ]
  },
  {
   "cell_type": "markdown",
   "metadata": {},
   "source": [
    "5. Create a program to print the multiplication table of a given number using a `for` loop."
   ]
  },
  {
   "cell_type": "code",
   "execution_count": null,
   "metadata": {},
   "outputs": [],
   "source": [
    "def multiplication_table(number):\n",
    "    print(f\"Multiplication table for {number}:\")\n",
    "    for i in range(1, 11):\n",
    "        result = number * i\n",
    "        print(f\"{number} x {i} = {result}\")\n",
    "\n",
    "# Given number for the multiplication table\n",
    "given_number = 7\n",
    "\n",
    "# Print the multiplication table using a for loop\n",
    "multiplication_table(given_number)"
   ]
  },
  {
   "cell_type": "markdown",
   "metadata": {},
   "source": [
    "6. Write a program that counts the number of even and odd numbers in a list using a `for` loop."
   ]
  },
  {
   "cell_type": "code",
   "execution_count": null,
   "metadata": {},
   "outputs": [],
   "source": [
    "def count_even_odd(numbers):\n",
    "    even_count = 0\n",
    "    odd_count = 0\n",
    "\n",
    "    for num in numbers:\n",
    "        if num % 2 == 0:\n",
    "            even_count += 1\n",
    "        else:\n",
    "            odd_count += 1\n",
    "\n",
    "    return even_count, odd_count\n",
    "\n",
    "# Example list of numbers\n",
    "number_list = [1, 2, 3, 4, 5, 6, 7, 8, 9, 10]\n",
    "\n",
    "# Count the number of even and odd numbers using a for loop\n",
    "even, odd = count_even_odd(number_list)\n",
    "\n",
    "print(\"List of numbers:\", number_list)\n",
    "print(\"Number of even numbers:\", even)\n",
    "print(\"Number of odd numbers:\", odd)"
   ]
  },
  {
   "cell_type": "markdown",
   "metadata": {},
   "source": [
    "7. Develop a program that prints the squares of numbers from 1 to 5 using a `for` loop."
   ]
  },
  {
   "cell_type": "code",
   "execution_count": null,
   "metadata": {},
   "outputs": [],
   "source": [
    "# Print squares of numbers from 1 to 5 using a for loop\n",
    "for i in range(1, 6):\n",
    "    square = i ** 2\n",
    "    print(f\"The square of {i} is: {square}\")"
   ]
  },
  {
   "cell_type": "markdown",
   "metadata": {},
   "source": [
    "8. Create a program to find the length of a string without using the `len()` function."
   ]
  },
  {
   "cell_type": "code",
   "execution_count": null,
   "metadata": {},
   "outputs": [],
   "source": [
    "def string_length(string):\n",
    "    count = 0\n",
    "    for char in string:\n",
    "        count += 1\n",
    "    return count\n",
    "\n",
    "# Example string\n",
    "input_string = \"Hello, World!\"\n",
    "\n",
    "# Calculate the length of the string without using len()\n",
    "length = string_length(input_string)\n",
    "\n",
    "print(\"Input string:\", input_string)\n",
    "print(\"Length of the string (without using len()):\", length)"
   ]
  },
  {
   "cell_type": "markdown",
   "metadata": {},
   "source": [
    "9. Write a program that calculates the average of a list of numbers using a `for` loop."
   ]
  },
  {
   "cell_type": "code",
   "execution_count": null,
   "metadata": {},
   "outputs": [],
   "source": [
    "def calculate_average(numbers):\n",
    "    total = 0\n",
    "    count = 0\n",
    "\n",
    "    for num in numbers:\n",
    "        total += num\n",
    "        count += 1\n",
    "\n",
    "    if count == 0:\n",
    "        return 0  # To avoid division by zero if the list is empty\n",
    "    else:\n",
    "        return total / count\n",
    "\n",
    "# Example list of numbers\n",
    "number_list = [10, 20, 30, 40, 50]\n",
    "\n",
    "# Calculate the average of the list using a for loop\n",
    "average = calculate_average(number_list)\n",
    "\n",
    "print(\"List of numbers:\", number_list)\n",
    "print(\"Average:\", average)"
   ]
  },
  {
   "cell_type": "markdown",
   "metadata": {},
   "source": [
    "10. Develop a program that prints the first `n` Fibonacci numbers using a `for` loop."
   ]
  },
  {
   "cell_type": "code",
   "execution_count": null,
   "metadata": {},
   "outputs": [],
   "source": [
    "def fibonacci(n):\n",
    "    fibonacci_sequence = []\n",
    "    a, b = 0, 1\n",
    "\n",
    "    for _ in range(n):\n",
    "        fibonacci_sequence.append(a)\n",
    "        a, b = b, a + b\n",
    "\n",
    "    return fibonacci_sequence\n",
    "\n",
    "# Number of Fibonacci numbers to generate\n",
    "n = 10\n",
    "\n",
    "# Generate and print the first n Fibonacci numbers using a for loop\n",
    "fib_numbers = fibonacci(n)\n",
    "print(f\"The first {n} Fibonacci numbers are:\", fib_numbers)"
   ]
  },
  {
   "cell_type": "markdown",
   "metadata": {},
   "source": [
    "Intermediate Level:"
   ]
  },
  {
   "cell_type": "markdown",
   "metadata": {},
   "source": [
    "11. Write a program to check if a given list contains any duplicates using a `for` loop."
   ]
  },
  {
   "cell_type": "code",
   "execution_count": null,
   "metadata": {},
   "outputs": [],
   "source": [
    "def has_duplicates(input_list):\n",
    "    seen = set()\n",
    "    for element in input_list:\n",
    "        if element in seen:\n",
    "            return True\n",
    "        seen.add(element)\n",
    "    return False\n",
    "\n",
    "# Example list\n",
    "sample_list = [1, 2, 3, 4, 5, 2]  # Contains duplicates\n",
    "\n",
    "# Check if the list contains any duplicates using a for loop\n",
    "result = has_duplicates(sample_list)\n",
    "\n",
    "if result:\n",
    "    print(\"The list contains duplicates.\")\n",
    "else:\n",
    "    print(\"The list does not contain duplicates.\")"
   ]
  },
  {
   "cell_type": "markdown",
   "metadata": {},
   "source": [
    "12. Create a program that prints the prime numbers in a given range using a `for` loop."
   ]
  },
  {
   "cell_type": "code",
   "execution_count": null,
   "metadata": {},
   "outputs": [],
   "source": [
    "def is_prime(num):\n",
    "    if num < 2:\n",
    "        return False\n",
    "    for i in range(2, int(num ** 0.5) + 1):\n",
    "        if num % i == 0:\n",
    "            return False\n",
    "    return True\n",
    "\n",
    "# Define the range for prime numbers\n",
    "start = 10\n",
    "end = 30\n",
    "\n",
    "print(f\"Prime numbers between {start} and {end}:\")\n",
    "for number in range(start, end + 1):\n",
    "    if is_prime(number):\n",
    "        print(number)"
   ]
  },
  {
   "cell_type": "markdown",
   "metadata": {},
   "source": [
    "13. Develop a program that counts the number of vowels in a string using a `for` loop."
   ]
  },
  {
   "cell_type": "code",
   "execution_count": null,
   "metadata": {},
   "outputs": [],
   "source": [
    "def count_vowels(text):\n",
    "    vowels = \"aeiouAEIOU\"\n",
    "    vowel_count = 0\n",
    "\n",
    "    for char in text:\n",
    "        if char in vowels:\n",
    "            vowel_count += 1\n",
    "\n",
    "    return vowel_count\n",
    "\n",
    "# Example string\n",
    "input_string = \"Hello, how are you?\"\n",
    "\n",
    "# Count the number of vowels using a for loop\n",
    "num_vowels = count_vowels(input_string)\n",
    "\n",
    "print(\"Input string:\", input_string)\n",
    "print(\"Number of vowels:\", num_vowels)"
   ]
  },
  {
   "cell_type": "markdown",
   "metadata": {},
   "source": [
    "14. Write a program to find the maximum element in a 2D list using a nested `for` loop."
   ]
  },
  {
   "cell_type": "code",
   "execution_count": null,
   "metadata": {},
   "outputs": [],
   "source": [
    "# Sample 2D list\n",
    "two_d_list = [\n",
    "    [1, 5, 3],\n",
    "    [7, 2, 9],\n",
    "    [4, 8, 6]\n",
    "]\n",
    "\n",
    "# Initialize the maximum value with the minimum possible integer value\n",
    "max_value = float('-inf')\n",
    "\n",
    "# Find the maximum element in the 2D list using nested for loops\n",
    "for row in two_d_list:\n",
    "    for element in row:\n",
    "        if element > max_value:\n",
    "            max_value = element\n",
    "\n",
    "print(\"The maximum element in the 2D list is:\", max_value)"
   ]
  },
  {
   "cell_type": "markdown",
   "metadata": {},
   "source": [
    "15. Create a program that removes all occurrences of a specific element from a list using a `for` loop."
   ]
  },
  {
   "cell_type": "code",
   "execution_count": null,
   "metadata": {},
   "outputs": [],
   "source": [
    "def remove_element(input_list, element_to_remove):\n",
    "    output_list = []\n",
    "    for item in input_list:\n",
    "        if item != element_to_remove:\n",
    "            output_list.append(item)\n",
    "    return output_list\n",
    "\n",
    "# Example list\n",
    "original_list = [1, 2, 3, 2, 4, 2, 5, 6]\n",
    "\n",
    "# Element to remove\n",
    "element_to_remove = 2\n",
    "\n",
    "# Remove all occurrences of the element using a for loop\n",
    "result_list = remove_element(original_list, element_to_remove)\n",
    "\n",
    "print(\"Original list:\", original_list)\n",
    "print(f\"After removing all occurrences of {element_to_remove}:\", result_list)"
   ]
  },
  {
   "cell_type": "markdown",
   "metadata": {},
   "source": [
    "16. Develop a program that generates a multiplication table for numbers from 1 to 5 using a nested `for` loop."
   ]
  },
  {
   "cell_type": "code",
   "execution_count": null,
   "metadata": {},
   "outputs": [],
   "source": [
    "# Define the range for the multiplication table\n",
    "start = 1\n",
    "end = 5\n",
    "\n",
    "# Generate the multiplication table using nested for loops\n",
    "for i in range(start, end + 1):\n",
    "    print(f\"Multiplication table for {i}:\")\n",
    "    for j in range(1, 11):\n",
    "        result = i * j\n",
    "        print(f\"{i} x {j} = {result}\")\n",
    "    print()  # Print an empty line after each table for clarity"
   ]
  },
  {
   "cell_type": "markdown",
   "metadata": {},
   "source": [
    "17. Write a program that converts a list of Fahrenheit temperatures to Celsius using a `for` loop."
   ]
  },
  {
   "cell_type": "code",
   "execution_count": null,
   "metadata": {},
   "outputs": [],
   "source": [
    "# List of Fahrenheit temperatures\n",
    "fahrenheit_temperatures = [32, 68, 86, 104, 212]\n",
    "\n",
    "# Convert Fahrenheit to Celsius using a for loop\n",
    "celsius_temperatures = []\n",
    "for temp_f in fahrenheit_temperatures:\n",
    "    temp_c = (temp_f - 32) * 5 / 9\n",
    "    celsius_temperatures.append(temp_c)\n",
    "\n",
    "print(\"Fahrenheit temperatures:\", fahrenheit_temperatures)\n",
    "print(\"Celsius temperatures:\", celsius_temperatures)"
   ]
  },
  {
   "cell_type": "markdown",
   "metadata": {},
   "source": [
    "18. Create a program to print the common elements from two lists using a `for` loop."
   ]
  },
  {
   "cell_type": "code",
   "execution_count": null,
   "metadata": {},
   "outputs": [],
   "source": [
    "list1 = [1, 2, 3, 4, 5]\n",
    "list2 = [3, 4, 5, 6, 7]\n",
    "\n",
    "# Find and print common elements using a for loop\n",
    "common_elements = []\n",
    "for element in list1:\n",
    "    if element in list2:\n",
    "        common_elements.append(element)\n",
    "\n",
    "print(\"List 1:\", list1)\n",
    "print(\"List 2:\", list2)\n",
    "print(\"Common elements:\", common_elements)"
   ]
  },
  {
   "cell_type": "markdown",
   "metadata": {},
   "source": [
    "19. Develop a program that prints the pattern of right-angled triangles using a `for` loop. Use ‘*’ to draw the\n",
    "pattern"
   ]
  },
  {
   "cell_type": "code",
   "execution_count": null,
   "metadata": {},
   "outputs": [],
   "source": [
    "# Set the number of rows for the triangle\n",
    "rows = 5\n",
    "\n",
    "# Pattern of right-angled triangle using for loops\n",
    "for i in range(1, rows + 1):\n",
    "    print('* ' * i)"
   ]
  },
  {
   "cell_type": "markdown",
   "metadata": {},
   "source": [
    "20. Write a program to find the greatest common divisor (GCD) of two numbers using a `for` loop."
   ]
  },
  {
   "cell_type": "code",
   "execution_count": null,
   "metadata": {},
   "outputs": [],
   "source": [
    "def gcd(a, b):\n",
    "    while b:\n",
    "        a, b = b, a % b\n",
    "    return a\n",
    "\n",
    "# Input two numbers to find their GCD\n",
    "number1 = 54\n",
    "number2 = 24\n",
    "\n",
    "# Finding the GCD using a for loop\n",
    "result = gcd(number1, number2)\n",
    "\n",
    "print(f\"The GCD of {number1} and {number2} is:\", result)"
   ]
  },
  {
   "cell_type": "markdown",
   "metadata": {},
   "source": [
    "Advanced Level:"
   ]
  },
  {
   "cell_type": "markdown",
   "metadata": {},
   "source": [
    "21. Create a program that calculates the sum of the digits of numbers in a list using a list comprehension."
   ]
  },
  {
   "cell_type": "code",
   "execution_count": null,
   "metadata": {},
   "outputs": [],
   "source": [
    "# Function to calculate the sum of digits in a number\n",
    "def digit_sum(number):\n",
    "    return sum(int(digit) for digit in str(number))\n",
    "\n",
    "# List of numbers\n",
    "numbers = [123, 45, 789, 12]\n",
    "\n",
    "# Calculate the sum of digits for each number using list comprehension\n",
    "sum_of_digits = [digit_sum(num) for num in numbers]\n",
    "\n",
    "print(\"Original numbers:\", numbers)\n",
    "print(\"Sum of digits for each number:\", sum_of_digits)"
   ]
  },
  {
   "cell_type": "markdown",
   "metadata": {},
   "source": [
    "22. Write a program to find the prime factors of a given number using a `for` loop and list comprehension."
   ]
  },
  {
   "cell_type": "code",
   "execution_count": null,
   "metadata": {},
   "outputs": [],
   "source": [
    "def prime_factors(n):\n",
    "    factors = []\n",
    "    divisor = 2\n",
    "\n",
    "    while n > 1:\n",
    "        while n % divisor == 0:\n",
    "            factors.append(divisor)\n",
    "            n //= divisor\n",
    "        divisor += 1\n",
    "\n",
    "    return factors\n",
    "\n",
    "# Input number to find its prime factors\n",
    "number = 84\n",
    "\n",
    "# Finding prime factors using the function and list comprehension\n",
    "factors = prime_factors(number)\n",
    "\n",
    "print(f\"Prime factors of {number}:\", factors)"
   ]
  },
  {
   "cell_type": "markdown",
   "metadata": {},
   "source": [
    "23. Develop a program that extracts unique elements from a list and stores them in a new list using a list\n",
    "comprehension."
   ]
  },
  {
   "cell_type": "code",
   "execution_count": null,
   "metadata": {},
   "outputs": [],
   "source": [
    "# Original list with duplicate elements\n",
    "original_list = [1, 2, 2, 3, 4, 4, 5, 5, 5, 6, 7, 7, 8, 8, 8]\n",
    "\n",
    "# Extract unique elements using list comprehension\n",
    "unique_elements = list(set([element for element in original_list]))\n",
    "\n",
    "print(\"Original List:\", original_list)\n",
    "print(\"List with Unique Elements:\", unique_elements)"
   ]
  },
  {
   "cell_type": "markdown",
   "metadata": {},
   "source": [
    "24. Create a program that generates a list of all palindromic numbers up to a specified limit using a list\n",
    "comprehension."
   ]
  },
  {
   "cell_type": "code",
   "execution_count": null,
   "metadata": {},
   "outputs": [],
   "source": [
    "def is_palindrome(num):\n",
    "    # Convert number to string and check if it's equal to its reverse\n",
    "    return str(num) == str(num)[::-1]\n",
    "\n",
    "# Function to generate palindromic numbers up to a limit\n",
    "def generate_palindromes(limit):\n",
    "    return [num for num in range(limit + 1) if is_palindrome(num)]\n",
    "\n",
    "# Set the limit for generating palindromic numbers\n",
    "limit = 100\n",
    "\n",
    "# Generate palindromic numbers up to the specified limit\n",
    "palindromes = generate_palindromes(limit)\n",
    "\n",
    "print(\"Palindromic numbers up to\", limit, \"are:\", palindromes)"
   ]
  },
  {
   "cell_type": "markdown",
   "metadata": {},
   "source": [
    "25. Write a program to flatten a nested list using list comprehension."
   ]
  },
  {
   "cell_type": "code",
   "execution_count": null,
   "metadata": {},
   "outputs": [],
   "source": [
    "nested_list = [[1, 2, 3], [4, 5], [6, 7, 8, 9]]\n",
    "\n",
    "# Flatten the nested list using list comprehension\n",
    "flattened_list = [element for sublist in nested_list for element in sublist]\n",
    "\n",
    "print(\"Nested List:\", nested_list)\n",
    "print(\"Flattened List:\", flattened_list)"
   ]
  },
  {
   "cell_type": "markdown",
   "metadata": {},
   "source": [
    "26. Develop a program that computes the sum of even and odd numbers in a list separately using list\n",
    "comprehension."
   ]
  },
  {
   "cell_type": "code",
   "execution_count": null,
   "metadata": {},
   "outputs": [],
   "source": [
    "numbers = [1, 2, 3, 4, 5, 6, 7, 8, 9, 10]\n",
    "\n",
    "# Separate even and odd numbers using list comprehension\n",
    "even_numbers = [num for num in numbers if num % 2 == 0]\n",
    "odd_numbers = [num for num in numbers if num % 2 != 0]\n",
    "\n",
    "# Compute sum of even and odd numbers using sum() function\n",
    "sum_even = sum(even_numbers)\n",
    "sum_odd = sum(odd_numbers)\n",
    "\n",
    "print(\"List of numbers:\", numbers)\n",
    "print(\"Even numbers:\", even_numbers)\n",
    "print(\"Sum of even numbers:\", sum_even)\n",
    "print(\"Odd numbers:\", odd_numbers)\n",
    "print(\"Sum of odd numbers:\", sum_odd)"
   ]
  },
  {
   "cell_type": "markdown",
   "metadata": {},
   "source": [
    "27. Create a program that generates a list of squares of odd numbers between 1 and 10 using list\n",
    "comprehension."
   ]
  },
  {
   "cell_type": "code",
   "execution_count": null,
   "metadata": {},
   "outputs": [],
   "source": [
    "# List comprehension to generate squares of odd numbers between 1 and 10\n",
    "odd_squares = [x**2 for x in range(1, 11) if x % 2 != 0]\n",
    "\n",
    "print(odd_squares)"
   ]
  },
  {
   "cell_type": "markdown",
   "metadata": {},
   "source": [
    "28. Write a program that combines two lists into a dictionary using list comprehension."
   ]
  },
  {
   "cell_type": "code",
   "execution_count": null,
   "metadata": {},
   "outputs": [],
   "source": [
    "keys = ['a', 'b', 'c']\n",
    "values = [1, 2, 3]\n",
    "\n",
    "# Combine two lists into a dictionary using list comprehension and zip\n",
    "combined_dict = {k: v for k, v in zip(keys, values)}\n",
    "\n",
    "print(combined_dict)"
   ]
  },
  {
   "cell_type": "markdown",
   "metadata": {},
   "source": [
    "29. Develop a program that extracts the vowels from a string and stores them in a list using list comprehension."
   ]
  },
  {
   "cell_type": "code",
   "execution_count": null,
   "metadata": {},
   "outputs": [],
   "source": [
    "def extract_vowels(string):\n",
    "    vowels = \"aeiouAEIOU\"\n",
    "    vowel_list = [char for char in string if char in vowels]\n",
    "    return vowel_list\n",
    "\n",
    "# Example string\n",
    "text = \"Hello, how are you?\"\n",
    "\n",
    "# Extract vowels from the string using list comprehension\n",
    "vowel_list = extract_vowels(text)\n",
    "\n",
    "print(\"Original string:\", text)\n",
    "print(\"List of vowels extracted from the string:\", vowel_list)"
   ]
  },
  {
   "cell_type": "markdown",
   "metadata": {},
   "source": [
    "30. Create a program that removes all non-numeric characters from a list of strings using list comprehension."
   ]
  },
  {
   "cell_type": "code",
   "execution_count": null,
   "metadata": {},
   "outputs": [],
   "source": [
    "def remove_non_numeric(strings):\n",
    "    # List comprehension to remove non-numeric characters from each string\n",
    "    cleaned_strings = [''.join(char for char in string if char.isdigit()) for string in strings]\n",
    "    return cleaned_strings\n",
    "\n",
    "# List of strings containing alphanumeric characters\n",
    "list_of_strings = [\"abc123\", \"45def\", \"ghi6jkl\", \"7mno8p\"]\n",
    "\n",
    "# Remove non-numeric characters from the list of strings\n",
    "numeric_strings = remove_non_numeric(list_of_strings)\n",
    "\n",
    "print(\"Original list of strings:\", list_of_strings)\n",
    "print(\"List of strings with only numeric characters:\", numeric_strings)"
   ]
  },
  {
   "cell_type": "markdown",
   "metadata": {},
   "source": [
    "Challenge Level:"
   ]
  },
  {
   "cell_type": "markdown",
   "metadata": {},
   "source": [
    "31. Write a program to generate a list of prime numbers using the Sieve of Eratosthenes algorithm and list\n",
    "comprehension."
   ]
  },
  {
   "cell_type": "code",
   "execution_count": null,
   "metadata": {},
   "outputs": [],
   "source": [
    "def sieve_of_eratosthenes(limit):\n",
    "    primes = [True] * (limit + 1)\n",
    "    primes[0] = primes[1] = False\n",
    "\n",
    "    for num in range(2, int(limit ** 0.5) + 1):\n",
    "        if primes[num]:\n",
    "            primes[num * num : limit + 1 : num] = [False] * len(primes[num * num : limit + 1 : num])\n",
    "\n",
    "    return [num for num in range(2, limit + 1) if primes[num]]\n",
    "\n",
    "# Set the limit for generating prime numbers\n",
    "limit = 50\n",
    "\n",
    "# Generate prime numbers using Sieve of Eratosthenes\n",
    "prime_numbers = sieve_of_eratosthenes(limit)\n",
    "\n",
    "print(\"Prime numbers up to\", limit, \"are:\", prime_numbers)"
   ]
  },
  {
   "cell_type": "markdown",
   "metadata": {},
   "source": [
    "32. Create a program that generates a list of all Pythagorean triplets up to a specified limit using list\n",
    "comprehension."
   ]
  },
  {
   "cell_type": "code",
   "execution_count": null,
   "metadata": {},
   "outputs": [],
   "source": [
    "limit = 20  # Specify the limit\n",
    "\n",
    "# List comprehension to generate Pythagorean triplets\n",
    "pythagorean_triplets = [(a, b, c) for c in range(1, limit+1)\n",
    "                        for a in range(1, c)\n",
    "                        for b in range(a, c)\n",
    "                        if a**2 + b**2 == c**2]\n",
    "\n",
    "print(pythagorean_triplets)"
   ]
  },
  {
   "cell_type": "markdown",
   "metadata": {},
   "source": [
    "33. Develop a program that generates a list of all possible combinations of two lists using list comprehension."
   ]
  },
  {
   "cell_type": "code",
   "execution_count": null,
   "metadata": {},
   "outputs": [],
   "source": [
    "list1 = [1, 2, 3]\n",
    "list2 = ['a', 'b', 'c']\n",
    "\n",
    "# List comprehension to generate all combinations\n",
    "combinations = [(x, y) for x in list1 for y in list2]\n",
    "\n",
    "print(combinations)"
   ]
  },
  {
   "cell_type": "markdown",
   "metadata": {},
   "source": [
    "34. Write a program that calculates the mean, median, and mode of a list of numbers using list\n",
    "comprehension."
   ]
  },
  {
   "cell_type": "code",
   "execution_count": null,
   "metadata": {},
   "outputs": [],
   "source": [
    "from collections import Counter\n",
    "import statistics\n",
    "\n",
    "# Example list of numbers\n",
    "numbers = [2, 3, 5, 7, 7, 7, 8, 9, 10, 11]\n",
    "\n",
    "# Mean calculation using list comprehension\n",
    "mean = sum(numbers) / len(numbers)\n",
    "\n",
    "# Median calculation using statistics module\n",
    "median = statistics.median(numbers)\n",
    "\n",
    "# Mode calculation using Counter and list comprehension\n",
    "mode = Counter(numbers)\n",
    "mode = [k for k, v in mode.items() if v == max(mode.values())]\n",
    "\n",
    "print(\"Mean:\", mean)\n",
    "print(\"Median:\", median)\n",
    "print(\"Mode:\", mode)"
   ]
  },
  {
   "cell_type": "markdown",
   "metadata": {},
   "source": [
    "35. Create a program that generates Pascal's triangle up to a specified number of rows using list\n",
    "comprehension."
   ]
  },
  {
   "cell_type": "code",
   "execution_count": null,
   "metadata": {},
   "outputs": [],
   "source": [
    "def generate_pascals_triangle(rows):\n",
    "    # Base case: the first row is always [1]\n",
    "    triangle = [[1]]\n",
    "\n",
    "    for i in range(1, rows):\n",
    "        # Use list comprehension to generate each row based on the previous row\n",
    "        row = [1] + [triangle[i - 1][j] + triangle[i - 1][j + 1] for j in range(len(triangle[i - 1]) - 1)] + [1]\n",
    "        triangle.append(row)\n",
    "\n",
    "    return triangle\n",
    "\n",
    "# Get input for the number of rows in Pascal's triangle\n",
    "num_rows = int(input(\"Enter the number of rows for Pascal's triangle: \"))\n",
    "\n",
    "# Generate Pascal's triangle and print each row\n",
    "pascals_triangle = generate_pascals_triangle(num_rows)\n",
    "for row in pascals_triangle:\n",
    "    print(row)"
   ]
  },
  {
   "cell_type": "markdown",
   "metadata": {},
   "source": [
    "36. Develop a program that calculates the sum of the digits of a factorial of numbers from 1 to 5 using list\n",
    "comprehension."
   ]
  },
  {
   "cell_type": "code",
   "execution_count": null,
   "metadata": {},
   "outputs": [],
   "source": [
    "# Function to calculate factorial\n",
    "def factorial(n):\n",
    "    if n == 0 or n == 1:\n",
    "        return 1\n",
    "    else:\n",
    "        return n * factorial(n - 1)\n",
    "\n",
    "# Calculate factorials and sum the digits using list comprehension\n",
    "factorial_sums = [sum(int(digit) for digit in str(factorial(i))) for i in range(1, 6)]\n",
    "\n",
    "print(\"Factorial sums for numbers 1 to 5:\", factorial_sums)"
   ]
  },
  {
   "cell_type": "markdown",
   "metadata": {},
   "source": [
    "37. Write a program that finds the longest word in a sentence using list comprehension."
   ]
  },
  {
   "cell_type": "code",
   "execution_count": null,
   "metadata": {},
   "outputs": [],
   "source": [
    "sentence = \"This is a very long sentence with many words.\"\n",
    "\n",
    "# Split the sentence into words and find the longest word using list comprehension\n",
    "words = sentence.split()\n",
    "longest_word = max(words, key=lambda word: len(word))\n",
    "\n",
    "print(longest_word)"
   ]
  },
  {
   "cell_type": "markdown",
   "metadata": {},
   "source": [
    "38. Create a program that filters a list of strings to include only those with more than three vowels using list\n",
    "comprehension."
   ]
  },
  {
   "cell_type": "code",
   "execution_count": null,
   "metadata": {},
   "outputs": [],
   "source": [
    "original_list = [\"hello\", \"world\", \"programming\", \"computer\", \"science\"]\n",
    "\n",
    "vowels = \"aeiou\"\n",
    "filtered_list = [s for s in original_list if sum(c in vowels for c in s) > 3]\n",
    "\n",
    "print(filtered_list)"
   ]
  },
  {
   "cell_type": "markdown",
   "metadata": {},
   "source": [
    "39. Develop a program that calculates the sum of the digits of numbers from 1 to 1000 using list\n",
    "comprehension."
   ]
  },
  {
   "cell_type": "code",
   "execution_count": null,
   "metadata": {},
   "outputs": [],
   "source": [
    "sum_of_digits = sum([int(digit) for num in range(1, 1001) for digit in str(num)])\n",
    "print(sum_of_digits)"
   ]
  },
  {
   "cell_type": "markdown",
   "metadata": {},
   "source": [
    "40. Write a program that generates a list of prime palindromic numbers using list comprehension."
   ]
  },
  {
   "cell_type": "code",
   "execution_count": null,
   "metadata": {},
   "outputs": [],
   "source": [
    "def is_prime(num):\n",
    "    if num <= 1:\n",
    "        return False\n",
    "    if num <= 3:\n",
    "        return True\n",
    "    if num % 2 == 0 or num % 3 == 0:\n",
    "        return False\n",
    "    i = 5\n",
    "    while i * i <= num:\n",
    "        if num % i == 0 or num % (i + 2) == 0:\n",
    "            return False\n",
    "        i += 6\n",
    "    return True\n",
    "\n",
    "def is_palindrome(num):\n",
    "    return str(num) == str(num)[::-1]\n",
    "\n",
    "prime_palindromes = [num for num in range(100000) if is_prime(num) and is_palindrome(num)]\n",
    "print(prime_palindromes)"
   ]
  }
 ],
 "metadata": {
  "kernelspec": {
   "display_name": "Python 3",
   "language": "python",
   "name": "python3"
  },
  "language_info": {
   "codemirror_mode": {
    "name": "ipython",
    "version": 3
   },
   "file_extension": ".py",
   "mimetype": "text/x-python",
   "name": "python",
   "nbconvert_exporter": "python",
   "pygments_lexer": "ipython3",
   "version": "3.11.4"
  }
 },
 "nbformat": 4,
 "nbformat_minor": 2
}
