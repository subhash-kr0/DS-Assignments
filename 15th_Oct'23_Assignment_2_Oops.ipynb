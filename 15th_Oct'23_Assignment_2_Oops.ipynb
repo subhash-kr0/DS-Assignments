{
 "cells": [
  {
   "cell_type": "markdown",
   "metadata": {},
   "source": [
    "## Constructor"
   ]
  },
  {
   "cell_type": "markdown",
   "metadata": {},
   "source": [
    "1. What is a constructor in Python? Explain its purpose and usage.\n",
    "\n",
    "sol :-\n",
    "\n",
    "In Python, a constructor is a special method within a class that gets invoked automatically when an object of that class is created. The constructor method is named __init__().\n",
    "\n",
    "Its primary purpose is to initialize the attributes or properties of an object when it's created. It allows you to set initial values for the object's attributes, ensuring that the object starts in a valid state."
   ]
  },
  {
   "cell_type": "markdown",
   "metadata": {},
   "source": [
    "2. Differentiate between a parameterless constructor and a parameterized constructor in Python.\n",
    "\n",
    "sol:-\n",
    "\n",
    "Parameterless Constructor:\n",
    "A parameterless constructor, also known as a default constructor, doesn't take any parameters other than the mandatory self parameter (which refers to the instance of the class itself). It's defined without any explicit parameters aside from self. This constructor is automatically called when an object of the class is created.\n",
    "\n",
    "Parameterized Constructor:\n",
    "A parameterized constructor, on the other hand, accepts parameters other than self during object creation. It's explicitly defined to take specific arguments that initialize the object's attributes with the provided values."
   ]
  },
  {
   "cell_type": "markdown",
   "metadata": {},
   "source": [
    "3. How do you define a constructor in a Python class? Provide an example."
   ]
  },
  {
   "cell_type": "code",
   "execution_count": null,
   "metadata": {},
   "outputs": [],
   "source": [
    "\n",
    "# In Python, you define a constructor within a class using the __init__() method. This method is automatically called when an object of the class is created. You can define the constructor to initialize the object's attributes or perform any necessary setup.\n",
    "\n",
    "# Here's an example demonstrating the definition of a constructor in a Python class:\n",
    "\n",
    "class Person:\n",
    "    def __init__(self, name, age):\n",
    "        self.name = name\n",
    "        self.age = age\n",
    "\n",
    "    def display_info(self):\n",
    "        print(f\"Name: {self.name}, Age: {self.age}\")\n",
    "\n",
    "# Creating an instance of the Person class using the constructor\n",
    "person1 = Person(\"Alice\", 30)\n",
    "person2 = Person(\"Bob\", 25)\n",
    "\n",
    "# Accessing attributes and using a method\n",
    "person1.display_info()\n",
    "person2.display_info()"
   ]
  },
  {
   "cell_type": "markdown",
   "metadata": {},
   "source": [
    "4. Explain the `__init__` method in Python and its role in constructors.\n",
    "\n",
    "sol:-\n",
    "\n",
    "In Python, the __init__() method is a special method that serves as the constructor for a class. It's automatically called when an object of the class is created, allowing you to initialize the object's attributes or perform any necessary setup.\n",
    "\n",
    "=> Role of __init__() in Constructors:\n",
    "1. Initialization: The primary role of __init__() is to initialize the object's attributes. Within this method, you can set initial values for the object's properties by assigning values to attributes using the self keyword.\n",
    "\n",
    "2. Automatic Invocation: When an object is created, Python automatically calls the __init__() method if it's defined in the class. This initialization ensures that the object starts in a valid state with predefined attributes.\n",
    "\n",
    "3. Customization: __init__() allows for customization during object creation. It can accept parameters to tailor the object's initialization based on the provided values, allowing different instances of the class to be initialized differently."
   ]
  },
  {
   "cell_type": "markdown",
   "metadata": {},
   "source": [
    "5. In a class named `Person`, create a constructor that initializes the `name` and `age` attributes. Provide an\n",
    "example of creating an object of this class."
   ]
  },
  {
   "cell_type": "code",
   "execution_count": null,
   "metadata": {},
   "outputs": [],
   "source": [
    "class Person:\n",
    "    def __init__(self, name, age):\n",
    "        self.name = name\n",
    "        self.age = age\n",
    "\n",
    "# Creating an object of the Person class using the constructor\n",
    "person = Person(\"Alice\", 30)"
   ]
  },
  {
   "cell_type": "markdown",
   "metadata": {},
   "source": [
    "6. How can you call a constructor explicitly in Python? Give an example."
   ]
  },
  {
   "cell_type": "code",
   "execution_count": null,
   "metadata": {},
   "outputs": [],
   "source": [
    "\n",
    "# In Python, We typically don't call a constructor explicitly; it's automatically invoked when you create an object of a class using the class name followed by parentheses containing any required arguments. However, you can indirectly call the constructor from within the class or by using the super() function to invoke the constructor of a parent class explicitly.\n",
    "\n",
    "class Parent:\n",
    "    def __init__(self, value):\n",
    "        self.value = value\n",
    "        print(\"Parent constructor called\")\n",
    "\n",
    "class Child(Parent):\n",
    "    def __init__(self, value):\n",
    "        super().__init__(value)\n",
    "        print(\"Child constructor called\")\n",
    "\n",
    "# Creating an object of the Child class\n",
    "child = Child(10)\n"
   ]
  },
  {
   "cell_type": "markdown",
   "metadata": {},
   "source": [
    "7. What is the significance of the `self` parameter in Python constructors? Explain with an example."
   ]
  },
  {
   "cell_type": "code",
   "execution_count": null,
   "metadata": {},
   "outputs": [],
   "source": [
    "# In Python, self is a convention used to refer to the instance of the class itself. Within class methods, including constructors (__init__()), self is the first parameter passed to the method and is used to access and modify the object's attributes and methods.\n",
    "\n",
    "# Significance of self in Constructors:\n",
    "# Instance Access: self allows access to the instance variables and methods within the class. It distinguishes between instance variables and local variables within the class methods.\n",
    "\n",
    "# Attribute Assignment: It's used to assign values to object attributes within the constructor, ensuring the proper initialization of the object's state.\n",
    "\n",
    "# Here's an example to illustrate the significance of self in a Python constructor:\n",
    "\n",
    "class Person:\n",
    "    def __init__(self, name, age):\n",
    "        # self allows access to instance attributes\n",
    "        self.name = name\n",
    "        self.age = age\n",
    "\n",
    "    def display_info(self):\n",
    "        print(f\"Name: {self.name}, Age: {self.age}\")\n",
    "\n",
    "# Creating an instance of the Person class\n",
    "person = Person(\"Alice\", 30)\n",
    "\n",
    "# Accessing attributes using the display_info method\n",
    "person.display_info()  # Output: Name: Alice, Age: 30"
   ]
  },
  {
   "cell_type": "markdown",
   "metadata": {},
   "source": [
    "8. Discuss the concept of default constructors in Python. When are they used?\n",
    "\n",
    "sol :-\n",
    "\n",
    "\n",
    "In Python, classes automatically have a default constructor if you haven't explicitly defined one. This default constructor is provided by Python and doesn't take any additional parameters apart from the obligatory self parameter. It's often referred to as the parameterless constructor.\n",
    "\n",
    "Usage of Default Constructors:\n",
    "Implicit Creation: If you haven't defined any constructor (__init__() method) within your class, Python creates a default constructor for you.\n",
    "\n",
    "No Additional Initialization: The default constructor doesn't perform any explicit initialization of attributes or variables within the class. As a result, the instances of the class would start with no predefined attributes unless explicitly assigned later in the code."
   ]
  },
  {
   "cell_type": "markdown",
   "metadata": {},
   "source": [
    "9. Create a Python class called `Rectangle` with a constructor that initializes the `width` and `height`\n",
    "attributes. Provide a method to calculate the area of the rectangle."
   ]
  },
  {
   "cell_type": "code",
   "execution_count": null,
   "metadata": {},
   "outputs": [],
   "source": [
    "class Rectangle:\n",
    "    def __init__(self, width, height):\n",
    "        self.width = width\n",
    "        self.height = height\n",
    "\n",
    "    def calculate_area(self):\n",
    "        return self.width * self.height\n",
    "\n",
    "# Creating an instance of the Rectangle class\n",
    "rectangle = Rectangle(5, 10)\n",
    "\n",
    "# Calculating the area using the method\n",
    "area = rectangle.calculate_area()\n",
    "print(f\"The area of the rectangle is: {area}\")"
   ]
  },
  {
   "cell_type": "markdown",
   "metadata": {},
   "source": [
    "10. How can you have multiple constructors in a Python class? Explain with an example."
   ]
  },
  {
   "cell_type": "code",
   "execution_count": null,
   "metadata": {},
   "outputs": [],
   "source": [
    "# In Python, We can't have multiple constructors with different signatures (parameters) like in some other programming languages that support method overloading. However, you can simulate multiple constructors by using default parameter values or by using class methods that act as factory methods to create instances with different initialization setups.\n",
    "\n",
    "# Using Default Parameter Values:\n",
    "# One approach to simulate multiple constructors involves setting default parameter values in the constructor. Based on the number of arguments passed during object creation, you can determine the initialization logic.\n",
    "class MyClass:\n",
    "    def __init__(self, x=None, y=None):\n",
    "        if x is not None and y is not None:\n",
    "            self.x = x\n",
    "            self.y = y\n",
    "        else:\n",
    "            self.x = 0\n",
    "            self.y = 0\n",
    "\n",
    "# Creating objects with different initialization setups\n",
    "obj1 = MyClass()  # Initializes with default values (0, 0)\n",
    "obj2 = MyClass(5, 10)  # Initializes with provided values (5, 10)\n",
    "\n",
    "\n",
    "# Using Class Methods as Factory Methods:\n",
    "# Another way is to use class methods that act as factory methods to create instances with different initialization parameters.\n",
    "class MyClass:\n",
    "    def __init__(self, x, y):\n",
    "        self.x = x\n",
    "        self.y = y\n",
    "\n",
    "    @classmethod\n",
    "    def from_string(cls, s):\n",
    "        # Custom initialization logic from a string\n",
    "        x, y = map(int, s.split(','))\n",
    "        return cls(x, y)\n",
    "\n",
    "# Creating objects using factory methods\n",
    "obj1 = MyClass(3, 4)  # Creates object with direct initialization\n",
    "obj2 = MyClass.from_string(\"5,6\")  # Creates object using factory method with string input"
   ]
  },
  {
   "cell_type": "markdown",
   "metadata": {},
   "source": [
    "11. What is method overloading, and how is it related to constructors in Python?\n",
    "\n",
    "sol:-\n",
    "\n",
    "Method overloading refers to the ability to define multiple methods within a class, each sharing the same name but differing in the number or types of parameters they accept. This allows for different behaviors based on the arguments passed to the method.\n",
    "\n",
    "In Python, method overloading works differently compared to languages like Java or C++. Python doesn't support method overloading in the traditional sense, where you can define multiple methods with the same name but different parameter lists.\n",
    "\n",
    "However, Python provides a feature called \"default parameter values\" and supports variable arguments (*args and **kwargs), allowing a form of method overloading. This technique lets a function or method behave differently based on the number or types of arguments passed to it.\n",
    "\n",
    "Regarding constructors in Python:\n",
    "\n",
    "Constructors, represented by the __init__() method, can't be overloaded in the classical way seen in some other languages. In Python, a class can have only one __init__() method.\n",
    "Instead, you can simulate different initialization behaviors using default parameter values or by using class methods as factory methods to create instances with different initialization setups, as mentioned earlier."
   ]
  },
  {
   "cell_type": "markdown",
   "metadata": {},
   "source": [
    "12. Explain the use of the `super()` function in Python constructors. Provide an example."
   ]
  },
  {
   "cell_type": "code",
   "execution_count": null,
   "metadata": {},
   "outputs": [],
   "source": [
    "\n",
    "# In Python, super() is a function used to call methods and access attributes of a parent class from a child class. When working with inheritance, particularly within constructors, super() allows you to explicitly invoke the constructor of the parent class, ensuring proper initialization of inherited attributes.\n",
    "\n",
    "# Here's an example demonstrating the use of super() in Python constructors:\n",
    "\n",
    "class Parent:\n",
    "    def __init__(self, parent_attr):\n",
    "        self.parent_attr = parent_attr\n",
    "\n",
    "class Child(Parent):\n",
    "    def __init__(self, parent_attr, child_attr):\n",
    "        super().__init__(parent_attr)  # Calling the parent class constructor\n",
    "        self.child_attr = child_attr\n",
    "\n",
    "    def display_attributes(self):\n",
    "        print(f\"Parent attribute: {self.parent_attr}\")\n",
    "        print(f\"Child attribute: {self.child_attr}\")\n",
    "\n",
    "# Creating an object of the Child class\n",
    "child_obj = Child(\"Parent Value\", \"Child Value\")\n",
    "\n",
    "# Accessing and displaying attributes using a method\n",
    "child_obj.display_attributes()"
   ]
  },
  {
   "cell_type": "markdown",
   "metadata": {},
   "source": [
    "13. Create a class called `Book` with a constructor that initializes the `title`, `author`, and `published_year`\n",
    "attributes. Provide a method to display book details."
   ]
  },
  {
   "cell_type": "code",
   "execution_count": null,
   "metadata": {},
   "outputs": [],
   "source": [
    "class Book:\n",
    "    def __init__(self, title, author, published_year):\n",
    "        self.title = title\n",
    "        self.author = author\n",
    "        self.published_year = published_year\n",
    "\n",
    "    def display_details(self):\n",
    "        print(f\"Title: {self.title}\")\n",
    "        print(f\"Author: {self.author}\")\n",
    "        print(f\"Published Year: {self.published_year}\")\n",
    "\n",
    "# Creating an instance of the Book class\n",
    "book = Book(\"The Great Gatsby\", \"F. Scott Fitzgerald\", 1925)\n",
    "\n",
    "# Displaying book details using the method\n",
    "book.display_details()"
   ]
  },
  {
   "cell_type": "markdown",
   "metadata": {},
   "source": [
    "14. Discuss the differences between constructors and regular methods in Python classes.\n",
    "\n",
    "sol:-\n",
    "\n",
    "Constructors:\n",
    "1. Initialization: Constructors, denoted by __init__() method, are used to initialize the object's attributes or perform setup when an object of the class is created.\n",
    "2. Automatically Invoked: Constructors are automatically called when an object is instantiated from the class.\n",
    "3. Single Constructor: A class can have only one constructor (__init__()), and it's not mandatory to define one. If not defined, Python provides a default constructor.\n",
    "4. No Explicit Return: Constructors don’t explicitly return a value; they initialize the object's state.\n",
    "\n",
    "Regular Methods:\n",
    "1. Perform Operations: Regular methods perform specific operations or tasks using the object's attributes or other inputs.\n",
    "2. Need to be Called: Regular methods must be explicitly called on an object to execute their functionality.\n",
    "3. Can Take Parameters: Regular methods can take arguments other than self and perform operations based on these arguments.\n",
    "4. Can Return Values: Regular methods can return values or perform operations that affect the object's state."
   ]
  },
  {
   "cell_type": "markdown",
   "metadata": {},
   "source": [
    "15. Explain the role of the `self` parameter in instance variable initialization within a constructor.\n",
    "\n",
    "sol:-\n",
    "\n",
    "\n",
    "The self parameter in Python plays a critical role in instance variable initialization within a constructor. In the context of a class, self refers to the instance of the class itself. It's a convention used to access and manipulate the instance variables and methods within the class.\n",
    "\n",
    "Role in Instance Variable Initialization (within a Constructor):\n",
    "Attribute Binding: Inside a constructor (typically __init__() method), self is used to bind the instance variables. When attributes are assigned using self.attribute_name, it ensures that those attributes belong to that specific instance of the class.\n",
    "\n",
    "Instance-specific Values: By using self within the constructor, instance variables can be initialized uniquely for each object. When the constructor is called during object creation, self.attribute_name initializes attributes for that specific instance."
   ]
  },
  {
   "cell_type": "markdown",
   "metadata": {},
   "source": [
    "16. How do you prevent a class from having multiple instances by using constructors in Python? Provide an\n",
    "example."
   ]
  },
  {
   "cell_type": "code",
   "execution_count": null,
   "metadata": {},
   "outputs": [],
   "source": [
    "\n",
    "# In Python, it's not directly possible to prevent a class from having multiple instances by using constructors or any standard language feature. However, you can simulate a singleton pattern, where a class allows only a single instance throughout the program's execution.\n",
    "\n",
    "# A common way to achieve this in Python is by using a class variable to store the instance and controlling the instantiation process within the constructor. If an instance already exists, subsequent attempts to create new instances return the existing instance instead.\n",
    "\n",
    "# Here's an example illustrating a class designed to have only a single instance using this approach:\n",
    "\n",
    "class SingletonClass:\n",
    "    _instance = None  # Class variable to store the instance\n",
    "\n",
    "    def __new__(cls, *args, **kwargs):\n",
    "        if not cls._instance:\n",
    "            cls._instance = super().__new__(cls)\n",
    "        return cls._instance\n",
    "\n",
    "    def __init__(self, data):\n",
    "        self.data = data\n",
    "\n",
    "# Creating instances of SingletonClass\n",
    "singleton1 = SingletonClass(\"First instance data\")\n",
    "singleton2 = SingletonClass(\"Second instance data\")\n",
    "\n",
    "# Both singleton1 and singleton2 refer to the same instance\n",
    "print(singleton1.data)  # Output: Second instance data\n",
    "print(singleton2.data)  # Output: Second instance data"
   ]
  },
  {
   "cell_type": "markdown",
   "metadata": {},
   "source": [
    "17. Create a Python class called `Student` with a constructor that takes a list of subjects as a parameter and\n",
    "initializes the `subjects` attribute."
   ]
  },
  {
   "cell_type": "code",
   "execution_count": null,
   "metadata": {},
   "outputs": [],
   "source": [
    "class Student:\n",
    "    def __init__(self, subjects):\n",
    "        self.subjects = subjects\n",
    "\n",
    "# Example usage:\n",
    "student1 = Student(['Math', 'Science', 'History'])\n",
    "print(student1.subjects)  # Output: ['Math', 'Science', 'History']"
   ]
  },
  {
   "cell_type": "markdown",
   "metadata": {},
   "source": [
    "18. What is the purpose of the `__del__` method in Python classes, and how does it relate to constructors?\n",
    "\n",
    "sol:-\n",
    "\n",
    "The __del__ method in Python classes is called the destructor method. It's used to perform cleanup actions or release resources when an object is about to be destroyed or garbage collected.\n",
    "\n",
    "While the constructor (__init__ method) is responsible for initializing an object's attributes when it's created, the destructor (__del__ method) is called just before an object is destroyed or deleted. It's not typically used as frequently as the constructor.\n",
    "\n",
    "However, it can be utilized to release resources, such as closing files, releasing network connections, or freeing up memory allocated during object creation. It's important to note that relying on __del__ for resource cleanup isn't always recommended, as the exact timing of when it will be called isn't guaranteed."
   ]
  },
  {
   "cell_type": "markdown",
   "metadata": {},
   "source": [
    "19. Explain the use of constructor chaining in Python. Provide a practical example."
   ]
  },
  {
   "cell_type": "code",
   "execution_count": null,
   "metadata": {},
   "outputs": [],
   "source": [
    "\n",
    "# Constructor chaining in Python refers to the ability of one constructor within a class to call another constructor within the same class hierarchy. This enables the reusability of code present in different constructors and allows for different initialization paths within the class.\n",
    "\n",
    "# In Python, constructor chaining is achieved using super() to call the constructor of the parent class explicitly.\n",
    "\n",
    "# Here's an example to illustrate constructor chaining:\n",
    "\n",
    "class Parent:\n",
    "    def __init__(self, parent_param):\n",
    "        self.parent_param = parent_param\n",
    "        print(\"Parent constructor called\")\n",
    "\n",
    "class Child(Parent):\n",
    "    def __init__(self, parent_param, child_param):\n",
    "        super().__init__(parent_param)  # Calling Parent class constructor\n",
    "        self.child_param = child_param\n",
    "        print(\"Child constructor called\")\n",
    "\n",
    "# Creating an instance of Child\n",
    "child_obj = Child(\"Parent parameter\", \"Child parameter\")"
   ]
  },
  {
   "cell_type": "markdown",
   "metadata": {},
   "source": [
    "20. Create a Python class called `Car` with a default constructor that initializes the `make` and `model`\n",
    "attributes. Provide a method to display car information."
   ]
  },
  {
   "cell_type": "code",
   "execution_count": null,
   "metadata": {},
   "outputs": [],
   "source": [
    "class Car:\n",
    "    def __init__(self, make, model):\n",
    "        self.make = make\n",
    "        self.model = model\n",
    "    \n",
    "    def display_info(self):\n",
    "        print(f\"Car Make: {self.make}\")\n",
    "        print(f\"Car Model: {self.model}\")\n",
    "\n",
    "# Creating an instance of Car\n",
    "my_car = Car(\"Toyota\", \"Corolla\")\n",
    "\n",
    "# Displaying car information\n",
    "my_car.display_info()"
   ]
  },
  {
   "cell_type": "markdown",
   "metadata": {},
   "source": [
    "## Encapsulation"
   ]
  },
  {
   "cell_type": "markdown",
   "metadata": {},
   "source": [
    "1. Explain the concept of encapsulation in Python. What is its role in object-oriented programming?\n",
    "\n",
    "sol:-\n",
    "\n",
    "\n",
    "Encapsulation is a fundamental principle in object-oriented programming (OOP) that involves bundling the data (attributes) and methods (functions) that operate on the data into a single unit, i.e., a class. It's a way of organizing and protecting the internal state of an object from outside interference or misuse by restricting direct access to the internal details.\n",
    "\n",
    "=>Role in Object-Oriented Programming:\n",
    "1. Modularity: Encapsulation promotes modularity by encapsulating related functionalities within a class. Each class acts as a self-contained unit with its own set of attributes and methods, making it easier to manage and reuse.\n",
    "\n",
    "2. Abstraction: It provides abstraction by exposing only the necessary functionalities through a well-defined interface while hiding the implementation details. Users of a class interact with its public interface without needing to understand the complexities of its internal workings.\n",
    "\n",
    "3. Data Security: Encapsulation helps in maintaining data integrity and security by preventing direct access to sensitive data or critical methods. Access to private attributes or methods is controlled through the class's public interface.\n",
    "\n",
    "4. Flexibility and Maintainability: Encapsulation facilitates flexibility in the code by allowing changes to the internal implementation without affecting the external code that uses the class. This promotes easier maintenance and updates as the changes are localized within the class."
   ]
  },
  {
   "cell_type": "markdown",
   "metadata": {},
   "source": [
    "2. Describe the key principles of encapsulation, including access control and data hiding.\n",
    "\n",
    "sol:-\n",
    "\n",
    "Encapsulation in object-oriented programming revolves around two key principles: access control and data hiding.\n",
    "\n",
    "1. Access Control:\n",
    "Access control involves defining the level of visibility and accessibility of class members (attributes and methods) from outside the class. \n",
    "\n",
    "2. Data Hiding:\n",
    "Data hiding is the principle of hiding the implementation details of a class from outside access. It involves making the internal state of an object (its attributes) private or protected, preventing direct access from external code. The idea is to allow access to the object's state only through controlled interfaces provided by the class (e.g., getters and setters)."
   ]
  },
  {
   "cell_type": "markdown",
   "metadata": {},
   "source": [
    "3. How can you achieve encapsulation in Python classes? Provide an example."
   ]
  },
  {
   "cell_type": "code",
   "execution_count": null,
   "metadata": {},
   "outputs": [],
   "source": [
    "# Encapsulation in Python is achieved by using access modifiers to control the visibility of attributes and methods within a class. This involves marking attributes or methods as private, protected, or public to control their accessibility from outside the class.\n",
    "\n",
    "class Car:\n",
    "    def __init__(self, make, model):\n",
    "        self.__make = make  # Private attribute\n",
    "        self.__model = model  # Private attribute\n",
    "\n",
    "    def get_make(self):\n",
    "        return self.__make  # Getter method for accessing private attribute\n",
    "\n",
    "    def set_make(self, make):\n",
    "        self.__make = make  # Setter method for modifying private attribute\n",
    "\n",
    "    def get_model(self):\n",
    "        return self.__model  # Getter method for accessing private attribute\n",
    "\n",
    "    def set_model(self, model):\n",
    "        self.__model = model  # Setter method for modifying private attribute"
   ]
  },
  {
   "cell_type": "markdown",
   "metadata": {},
   "source": [
    "4. Discuss the difference between public, private, and protected access modifiers in Python.\n",
    "\n",
    "sol:-\n",
    "\n",
    "Public Access Modifier:\n",
    "No Prefix: In Python, attributes or methods without any prefix are considered public by default.\n",
    "Accessibility: Public members can be accessed from anywhere, both within the class and from outside the class.\n",
    "\n",
    "Private Access Modifier:\n",
    "Double Underscore __ Prefix: Attributes or methods with a double underscore prefix (__) are considered private in Python.\n",
    "Accessibility: Private members are accessible only within the class itself and cannot be accessed directly from outside the class. However, Python implements name mangling, allowing limited access to private members with a modified name from outside the class.\n",
    "\n",
    "Protected Access Modifier:\n",
    "Single Underscore _ Prefix: Attributes or methods with a single underscore prefix (_) are considered protected in Python (by convention).\n",
    "Accessibility: Protected members are intended for internal use within the class and its subclasses. They can be accessed from outside the class, but it's a convention to treat them as non-public, suggesting that they should not be accessed directly."
   ]
  },
  {
   "cell_type": "markdown",
   "metadata": {},
   "source": [
    "5. Create a Python class called `Person` with a private attribute `__name`. Provide methods to get and set the\n",
    "name attribute."
   ]
  },
  {
   "cell_type": "code",
   "execution_count": null,
   "metadata": {},
   "outputs": [],
   "source": [
    "class Person:\n",
    "    def __init__(self, name):\n",
    "        self.__name = name  # Private attribute\n",
    "\n",
    "    def get_name(self):\n",
    "        return self.__name  # Getter method for accessing private attribute\n",
    "\n",
    "    def set_name(self, new_name):\n",
    "        self.__name = new_name  # Setter method for modifying private attribute\n",
    "\n",
    "# Creating an instance of Person\n",
    "person = Person(\"Alice\")\n",
    "\n",
    "# Getting the name using the getter method\n",
    "current_name = person.get_name()\n",
    "print(\"Current Name:\", current_name)\n",
    "\n",
    "# Setting a new name using the setter method\n",
    "person.set_name(\"Bob\")\n",
    "\n",
    "# Getting the updated name using the getter method\n",
    "updated_name = person.get_name()\n",
    "print(\"Updated Name:\", updated_name)"
   ]
  },
  {
   "cell_type": "markdown",
   "metadata": {},
   "source": [
    "6. Explain the purpose of getter and setter methods in encapsulation. Provide examples."
   ]
  },
  {
   "cell_type": "code",
   "execution_count": null,
   "metadata": {},
   "outputs": [],
   "source": [
    "# Purpose of Getter and Setter Methods:\n",
    "\n",
    "#1. Getter Methods:\n",
    "\n",
    "# Purpose: Getter methods (also known as accessor methods) retrieve the values of private attributes.\n",
    "# Usage: They provide read-only access to private attributes, allowing external code to obtain the attribute's value without directly accessing it.\n",
    "# Benefits: Getter methods can perform additional logic or validation before returning the attribute's value.\n",
    "\n",
    "# 2. Setter Methods:\n",
    "\n",
    "# Purpose: Setter methods (also known as mutator methods) modify the values of private attributes.\n",
    "# Usage: They provide a controlled way to update or modify the value of a private attribute, often including validation or additional logic before setting the value.\n",
    "# Benefits: Setter methods help ensure data integrity by applying rules or checks before modifying the attribute's value.\n",
    "\n",
    "# example:\n",
    "class Temperature:\n",
    "    def __init__(self):\n",
    "        self.__celsius = 0  # Private attribute for temperature in Celsius\n",
    "\n",
    "    def get_temperature(self):\n",
    "        return self.__celsius  # Getter method for accessing temperature\n",
    "\n",
    "    def set_temperature(self, value):\n",
    "        if value < -273.15:\n",
    "            raise ValueError(\"Temperature below absolute zero is not possible\")\n",
    "        else:\n",
    "            self.__celsius = value  # Setter method for modifying temperature\n",
    "\n",
    "# Creating an instance of Temperature\n",
    "temp = Temperature()\n",
    "\n",
    "# Using getter to retrieve the temperature\n",
    "print(\"Current Temperature:\", temp.get_temperature())\n",
    "\n",
    "# Using setter to modify the temperature\n",
    "temp.set_temperature(25)\n",
    "print(\"Updated Temperature:\", temp.get_temperature())"
   ]
  },
  {
   "cell_type": "markdown",
   "metadata": {},
   "source": [
    "7. What is name mangling in Python, and how does it affect encapsulation?\n",
    "\n",
    "sol:-\n",
    "\n",
    "\n",
    "Name mangling in Python is a technique used to ensure that attributes or methods with a double underscore (__) prefix in their names are not easily accessed or overridden in subclasses. When an identifier (attribute or method) is prefixed with double underscores (__) but does not end with double underscores (__), Python internally modifies its name to include the class name, which helps in avoiding naming conflicts in subclasses.\n",
    "\n",
    "Affect on Encapsulation:\n",
    "Name mangling helps in implementing a form of \"pseudo-privacy\" for attributes or methods marked with a double underscore prefix by making their names less accessible and more unique within the class hierarchy. This process does not truly make attributes or methods private in the strictest sense, as it's still possible to access them using the mangled names from outside the class."
   ]
  },
  {
   "cell_type": "markdown",
   "metadata": {},
   "source": [
    "8. Create a Python class called `BankAccount` with private attributes for the account balance (`__balance`)"
   ]
  },
  {
   "cell_type": "code",
   "execution_count": null,
   "metadata": {},
   "outputs": [],
   "source": [
    "class BankAccount:\n",
    "    def __init__(self, initial_balance):\n",
    "        self.__balance = initial_balance  # Private attribute for account balance\n",
    "\n",
    "    def get_balance(self):\n",
    "        return self.__balance  # Getter method for accessing the private balance\n"
   ]
  },
  {
   "cell_type": "markdown",
   "metadata": {},
   "source": [
    "9. Discuss the advantages of encapsulation in terms of code maintainability and security.\n",
    "\n",
    "sol:-\n",
    "\n",
    "Code Maintainability:\n",
    "1. Easier Debugging: Encapsulation confines attributes and methods within a class, facilitating isolated debugging without impacting other parts of the program.\n",
    "\n",
    "2. Modularity: Bundling related data and behaviors within a class enhances code organization and comprehensibility.\n",
    "\n",
    "3. Isolation of Changes: Modifications to a class's internal implementation don't affect other parts of the program if the public interface remains consistent.\n",
    "\n",
    "4. Enhanced Reusability: Well-encapsulated classes with clear interfaces can be reused across various sections or even different programs, minimizing redundancy and promoting code reusability.\n",
    "\n",
    "Security:\n",
    "1. Data Protection: Hides the internal state of an object (private attributes), allowing access only through controlled interfaces (getter and setter methods) to prevent unauthorized access or modification of critical data.\n",
    "\n",
    "2. Access Control: Defines access levels (public, private, protected) to restrict direct access to certain parts of the code, reducing the chances of accidental modifications or misuse.\n",
    "\n",
    "3. Prevents External Interference: Encapsulation discourages external code from directly modifying internal state, mitigating unintended interference and enhancing system security.\n",
    "\n",
    "4. Abstraction of Implementation: Hides implementation details, exposing only essential functionalities through defined interfaces, making it harder for potential attackers to exploit the system."
   ]
  },
  {
   "cell_type": "markdown",
   "metadata": {},
   "source": [
    "10. How can you access private attributes in Python? Provide an example demonstrating the use of name\n",
    "mangling."
   ]
  },
  {
   "cell_type": "code",
   "execution_count": null,
   "metadata": {},
   "outputs": [],
   "source": [
    "# Getter and setter methods provide controlled access to private attributes in Python classes, enabling interaction with these attributes indirectly, following encapsulation principles. \n",
    "\n",
    "# example:\n",
    "class MyClass:\n",
    "    def __init__(self):\n",
    "        self.__private_attr = 20  # Private attribute\n",
    "\n",
    "    def get_private_attr(self):\n",
    "        return self.__private_attr  # Getter method for accessing private attribute\n",
    "\n",
    "    def set_private_attr(self, new_value):\n",
    "        # Additional logic or validation can be added here\n",
    "        self.__private_attr = new_value  # Setter method for modifying private attribute\n",
    "\n",
    "\n",
    "# Creating an instance of the class\n",
    "obj = MyClass()\n",
    "\n",
    "# Accessing private attribute using getter method\n",
    "print(obj.get_private_attr())  # Outputs: 20\n",
    "\n",
    "# Modifying private attribute using setter method\n",
    "obj.set_private_attr(30)\n",
    "\n",
    "# Accessing the modified private attribute using getter method\n",
    "print(obj.get_private_attr())  # Outputs: 30"
   ]
  },
  {
   "cell_type": "markdown",
   "metadata": {},
   "source": [
    "11. Create a Python class hierarchy for a school system, including classes for students, teachers, and courses,\n",
    "and implement encapsulation principles to protect sensitive information."
   ]
  },
  {
   "cell_type": "code",
   "execution_count": null,
   "metadata": {},
   "outputs": [],
   "source": [
    "class Student:\n",
    "    def __init__(self, student_id, name, age):\n",
    "        self.__student_id = student_id  # Private attribute for student ID\n",
    "        self.__name = name  # Private attribute for student name\n",
    "        self.__age = age  # Private attribute for student age\n",
    "        self.__courses = []  # Private attribute for courses enrolled\n",
    "\n",
    "    def get_student_id(self):\n",
    "        return self.__student_id  # Getter method for student ID\n",
    "\n",
    "    def get_name(self):\n",
    "        return self.__name  # Getter method for student name\n",
    "\n",
    "    def get_age(self):\n",
    "        return self.__age  # Getter method for student age\n",
    "\n",
    "    def enroll_course(self, course):\n",
    "        self.__courses.append(course)  # Method to enroll in a course\n",
    "\n",
    "    def get_courses(self):\n",
    "        return self.__courses  # Getter method for enrolled courses\n",
    "\n",
    "\n",
    "class Teacher:\n",
    "    def __init__(self, teacher_id, name, age):\n",
    "        self.__teacher_id = teacher_id  # Private attribute for teacher ID\n",
    "        self.__name = name  # Private attribute for teacher name\n",
    "        self.__age = age  # Private attribute for teacher age\n",
    "        self.__courses_taught = []  # Private attribute for courses taught\n",
    "\n",
    "    def get_teacher_id(self):\n",
    "        return self.__teacher_id  # Getter method for teacher ID\n",
    "\n",
    "    def get_name(self):\n",
    "        return self.__name  # Getter method for teacher name\n",
    "\n",
    "    def get_age(self):\n",
    "        return self.__age  # Getter method for teacher age\n",
    "\n",
    "    def assign_course(self, course):\n",
    "        self.__courses_taught.append(course)  # Method to assign a course to teach\n",
    "\n",
    "    def get_courses_taught(self):\n",
    "        return self.__courses_taught  # Getter method for courses taught\n",
    "\n",
    "\n",
    "class Course:\n",
    "    def __init__(self, course_id, name, teacher):\n",
    "        self.__course_id = course_id  # Private attribute for course ID\n",
    "        self.__name = name  # Private attribute for course name\n",
    "        self.__teacher = teacher  # Private attribute for course teacher\n",
    "\n",
    "    def get_course_id(self):\n",
    "        return self.__course_id  # Getter method for course ID\n",
    "\n",
    "    def get_name(self):\n",
    "        return self.__name  # Getter method for course name\n",
    "\n",
    "    def get_teacher(self):\n",
    "        return self.__teacher  # Getter method for course teacher"
   ]
  },
  {
   "cell_type": "markdown",
   "metadata": {},
   "source": [
    "12. Explain the concept of property decorators in Python and how they relate to encapsulation.\n",
    "\n",
    "sol:-\n",
    "\n",
    "\n",
    "In Python, property decorators are a way to define properties or attributes within a class that allow controlled access, modification, and validation of class attributes. They provide a more elegant way to implement getters, setters, and deleters for attributes, facilitating encapsulation by allowing fine-grained control over attribute access.\n",
    "\n",
    "=>Relationship to Encapsulation:\n",
    "1. Getter (@property): The @property decorator allows the creation of a getter method that enables controlled access to the private attribute. It acts as a bridge to retrieve the attribute's value without directly accessing it.\n",
    "\n",
    "2. Setter (@<attribute_name>.setter): The @<attribute_name>.setter decorator defines a method that allows controlled modification of the attribute. It facilitates encapsulation by providing a way to validate or manipulate the attribute before modification.\n",
    "\n",
    "3. Deleter (@<attribute_name>.deleter): The @<attribute_name>.deleter decorator defines a method that allows controlled deletion of the attribute. It can be used to perform cleanup tasks or validation before deleting the attribute."
   ]
  },
  {
   "cell_type": "markdown",
   "metadata": {},
   "source": [
    "13. What is data hiding, and why is it important in encapsulation? Provide examples."
   ]
  },
  {
   "cell_type": "code",
   "execution_count": null,
   "metadata": {},
   "outputs": [],
   "source": [
    "# Data hiding is a principle in object-oriented programming that involves restricting the accessibility of certain parts of a class, typically its attributes or implementation details, from the outside world. It ensures that the internal state of an object is not directly accessible or modifiable from external code.\n",
    "\n",
    "# In Python, data hiding is often implemented using access modifiers like private (achieved through name mangling using double underscores __), protected, and public. The private attributes or methods are accessible only within the class itself and not from outside the class.\n",
    "\n",
    "class BankAccount:\n",
    "    def __init__(self, account_number, balance):\n",
    "        self.__account_number = account_number  # Private attribute\n",
    "        self.__balance = balance  # Private attribute\n",
    "\n",
    "    def deposit(self, amount):\n",
    "        self.__balance += amount\n",
    "\n",
    "    def withdraw(self, amount):\n",
    "        if self.__balance >= amount:\n",
    "            self.__balance -= amount\n",
    "        else:\n",
    "            print(\"Insufficient funds\")\n",
    "\n",
    "    def get_balance(self):\n",
    "        return self.__balance\n",
    "\n",
    "# Creating an instance of BankAccount\n",
    "account = BankAccount(\"12345\", 1000)\n",
    "\n",
    "# Accessing balance directly (not possible due to data hiding)\n",
    "# print(account.__balance)  # This would raise an AttributeError\n",
    "\n",
    "# Performing operations via public methods\n",
    "print(\"Initial Balance:\", account.get_balance())\n",
    "account.deposit(500)\n",
    "print(\"Balance after deposit:\", account.get_balance())\n",
    "account.withdraw(200)\n",
    "print(\"Balance after withdrawal:\", account.get_balance())"
   ]
  },
  {
   "cell_type": "markdown",
   "metadata": {},
   "source": [
    "14. Create a Python class called `Employee` with private attributes for salary (`__salary`) and employee ID (`__employee_id`). Provide a method to calculate yearly bonuses."
   ]
  },
  {
   "cell_type": "code",
   "execution_count": null,
   "metadata": {},
   "outputs": [],
   "source": [
    "class Employee:\n",
    "    def __init__(self, employee_id, salary):\n",
    "        self.__employee_id = employee_id  # Private attribute for employee ID\n",
    "        self.__salary = salary  # Private attribute for salary\n",
    "    \n",
    "    def calculate_yearly_bonus(self, bonus_percentage):\n",
    "        yearly_bonus = (bonus_percentage / 100) * self.__salary\n",
    "        return yearly_bonus\n",
    "    \n",
    "    # Getter methods to access private attributes\n",
    "    def get_employee_id(self):\n",
    "        return self.__employee_id\n",
    "    \n",
    "    def get_salary(self):\n",
    "        return self.__salary\n",
    "\n",
    "# Creating an instance of Employee\n",
    "employee = Employee(\"EMP123\", 50000)\n",
    "\n",
    "# Accessing private attributes using getter methods\n",
    "print(\"Employee ID:\", employee.get_employee_id())\n",
    "print(\"Employee Salary:\", employee.get_salary())\n",
    "\n",
    "# Calculating and displaying yearly bonus for an employee (bonus percentage: 10%)\n",
    "bonus_percentage = 10\n",
    "yearly_bonus = employee.calculate_yearly_bonus(bonus_percentage)\n",
    "print(f\"\\nYearly bonus for the employee: ${yearly_bonus:.2f}\")"
   ]
  },
  {
   "cell_type": "markdown",
   "metadata": {},
   "source": [
    "15. Discuss the use of accessors and mutators in encapsulation. How do they help maintain control over\n",
    "attribute access?\n",
    "\n",
    "sol:-\n",
    "\n",
    "Accessors are methods that retrieve or get the values of private attributes. They allow external code to retrieve the values without directly accessing the private attributes. Accessors provide read-only access to the attributes, enabling controlled observation of the object's state.\n",
    "\n",
    "=> Benefits of Accessors and Mutators:\n",
    "1. Controlled Access: Getters and setters provide controlled access to private attributes, allowing the class to enforce specific rules or validations before allowing access or modification.\n",
    "\n",
    "2. Abstraction: They abstract away the internal implementation details of the class, providing a clear and standardized interface for interacting with attributes.\n",
    "\n",
    "3. Data Validation: Mutators enable data validation by performing checks or transformations before updating the attribute value, ensuring data integrity.\n",
    "\n",
    "4. Flexibility: They allow for future modifications to the internal representation of attributes without affecting external code that relies on the public interface provided by accessors and mutators.\n",
    "\n",
    "5. Security: By controlling access through methods, accessors and mutators can restrict unauthorized or unintended changes to private attributes."
   ]
  },
  {
   "cell_type": "markdown",
   "metadata": {},
   "source": [
    "16. What are the potential drawbacks or disadvantages of using encapsulation in Python?\n",
    "\n",
    "sol:-\n",
    "\n",
    "While encapsulation provides numerous benefits in terms of data security, code organization, and flexibility, there are also some potential drawbacks or challenges associated with its use in Python:\n",
    "1. Access Complexity:\n",
    "2. Overhead:\n",
    "3. Flexibility vs. Rigidity:\n",
    "4. Misuse of Access Levels:\n",
    "5. Testing Challenges:\n",
    "6. Performance Impact:\n",
    "7. Readability:"
   ]
  },
  {
   "cell_type": "markdown",
   "metadata": {},
   "source": [
    "17. Create a Python class for a library system that encapsulates book information, including titles, authors,\n",
    "and availability status."
   ]
  },
  {
   "cell_type": "code",
   "execution_count": null,
   "metadata": {},
   "outputs": [],
   "source": [
    "class Book:\n",
    "    def __init__(self, title, author):\n",
    "        self.title = title\n",
    "        self.author = author\n",
    "        self.available = True  # By default, the book is available\n",
    "\n",
    "    def get_title(self):\n",
    "        return self.title\n",
    "\n",
    "    def get_author(self):\n",
    "        return self.author\n",
    "\n",
    "    def is_available(self):\n",
    "        return self.available\n",
    "\n",
    "    def borrow_book(self):\n",
    "        if self.available:\n",
    "            self.available = False\n",
    "            print(f\"The book '{self.title}' by {self.author} has been borrowed.\")\n",
    "        else:\n",
    "            print(f\"Sorry, the book '{self.title}' by {self.author} is currently not available.\")\n",
    "\n",
    "    def return_book(self):\n",
    "        if not self.available:\n",
    "            self.available = True\n",
    "            print(f\"Thank you for returning the book '{self.title}' by {self.author}.\")\n",
    "        else:\n",
    "            print(f\"The book '{self.title}' by {self.author} has already been returned.\")\n",
    "\n",
    "# Creating instances of Book\n",
    "book1 = Book(\"The Great Gatsby\", \"F. Scott Fitzgerald\")\n",
    "book2 = Book(\"To Kill a Mockingbird\", \"Harper Lee\")\n",
    "\n",
    "# Displaying book information\n",
    "print(\"Book 1 Information:\")\n",
    "print(\"Title:\", book1.get_title())\n",
    "print(\"Author:\", book1.get_author())\n",
    "print(\"Availability:\", \"Available\" if book1.is_available() else \"Not Available\")\n",
    "\n",
    "# Borrowing a book\n",
    "book1.borrow_book()\n",
    "\n",
    "# Displaying updated availability\n",
    "print(\"\\nBook 1 Availability after borrowing:\")\n",
    "print(\"Availability:\", \"Available\" if book1.is_available() else \"Not Available\")\n",
    "\n",
    "# Returning the book\n",
    "book1.return_book()\n",
    "\n",
    "# Displaying availability after returning\n",
    "print(\"\\nBook 1 Availability after returning:\")\n",
    "print(\"Availability:\", \"Available\" if book1.is_available() else \"Not Available\")"
   ]
  },
  {
   "cell_type": "markdown",
   "metadata": {},
   "source": [
    "18. Explain how encapsulation enhances code reusability and modularity in Python programs.\n",
    "\n",
    "sol:-\n",
    "\n",
    "\n",
    "Encapsulation, a fundamental principle of object-oriented programming, involves bundling the data (attributes) and methods (functions) that operate on the data into a single unit, i.e., a class. It enhances code reusability and modularity in Python programs in several ways:\n",
    "\n",
    "1. Abstraction:\n",
    "Encapsulation allows you to abstract away the complex implementation details within a class, exposing only the necessary functionalities through well-defined interfaces. This abstraction simplifies the usage of the class, making it easier to reuse in different parts of the program.\n",
    "\n",
    "2. Reusability:\n",
    "By hiding the internal implementation details and providing clear interfaces, encapsulated classes can be reused across various parts of the program or even in different programs. Once encapsulated, classes can be instantiated multiple times, allowing you to reuse the same logic without rewriting it.\n",
    "\n",
    "3. Modularity:\n",
    "Encapsulation promotes modularity by creating self-contained units (classes) with specific functionalities. Each class acts as a module that can be developed, tested, and maintained independently. This modular approach helps in better organization and maintenance of code.\n",
    "\n",
    "4. Reduced Interdependence:\n",
    "Encapsulation reduces interdependence between different parts of the program. External code interacts with a class through its well-defined interface (public methods), which shields the external code from the changes in the class's internal implementation. This separation reduces the risk of unintended consequences when modifying the class.\n",
    "\n",
    "5. Easy Maintenance:\n",
    "Encapsulated classes are easier to maintain because changes to the internal implementation of a class don't affect the code that uses its public interface. Modifying the internal workings of a class doesn't necessitate changes in the external code as long as the interface remains consistent."
   ]
  },
  {
   "cell_type": "markdown",
   "metadata": {},
   "source": [
    "19. Describe the concept of information hiding in encapsulation. Why is it essential in software development?\n",
    "\n",
    "sol:-\n",
    "\n",
    "Information hiding is a fundamental principle in encapsulation that involves restricting access to certain parts of an object or class, typically its attributes or implementation details, from the outside world. The idea is to conceal the complexities of the internal workings of an object and expose only the necessary functionalities or interfaces required for interaction.\n",
    "\n",
    "Essentially, information hiding allows developers to define clear boundaries within their code, separating the external interface (what is accessible to the outside) from the internal implementation (how things are done). This separation provides several advantages:\n",
    "1. Abstraction\n",
    "2. Security\n",
    "3. Modularity\n",
    "4. Reduced Complexity\n",
    "5. Better Collaboration"
   ]
  },
  {
   "cell_type": "markdown",
   "metadata": {},
   "source": [
    "20. Create a Python class called `Customer` with private attributes for customer details like name, address,\n",
    "and contact information. Implement encapsulation to ensure data integrity and security."
   ]
  },
  {
   "cell_type": "code",
   "execution_count": null,
   "metadata": {},
   "outputs": [],
   "source": [
    "class Customer:\n",
    "    def __init__(self, name, address, contact):\n",
    "        self.__name = name  # Private attribute for name\n",
    "        self.__address = address  # Private attribute for address\n",
    "        self.__contact = contact  # Private attribute for contact information\n",
    "    \n",
    "    def get_name(self):\n",
    "        return self.__name\n",
    "    \n",
    "    def get_address(self):\n",
    "        return self.__address\n",
    "    \n",
    "    def get_contact(self):\n",
    "        return self.__contact\n",
    "    \n",
    "    def set_name(self, new_name):\n",
    "        self.__name = new_name\n",
    "    \n",
    "    def set_address(self, new_address):\n",
    "        self.__address = new_address\n",
    "    \n",
    "    def set_contact(self, new_contact):\n",
    "        self.__contact = new_contact\n",
    "\n",
    "# Creating an instance of Customer\n",
    "customer = Customer(\"John Doe\", \"123 Main St\", \"johndoe@email.com\")\n",
    "\n",
    "# Trying to access private attributes directly (won't work)\n",
    "# print(customer.__name)  # This would raise an AttributeError\n",
    "\n",
    "# Accessing private attributes using getter methods\n",
    "print(\"Customer Name:\", customer.get_name())\n",
    "print(\"Customer Address:\", customer.get_address())\n",
    "print(\"Customer Contact:\", customer.get_contact())\n",
    "\n",
    "# Modifying private attributes using setter methods\n",
    "customer.set_name(\"Jane Doe\")\n",
    "customer.set_address(\"456 Oak Ave\")\n",
    "customer.set_contact(\"janedoe@email.com\")\n",
    "\n",
    "# Displaying updated customer information\n",
    "print(\"\\nUpdated Customer Information:\")\n",
    "print(\"Customer Name:\", customer.get_name())\n",
    "print(\"Customer Address:\", customer.get_address())\n",
    "print(\"Customer Contact:\", customer.get_contact())"
   ]
  },
  {
   "cell_type": "markdown",
   "metadata": {},
   "source": [
    "## Inheritance"
   ]
  },
  {
   "cell_type": "markdown",
   "metadata": {},
   "source": [
    "1. What is inheritance in Python? Explain its significance in object-oriented programming.\n",
    "\n",
    "sol:-\n",
    "\n",
    "Inheritance in Python is a fundamental concept in object-oriented programming (OOP) that allows new classes to inherit properties and methods from existing classes. This enables you to create a hierarchy of classes where each subclass inherits the characteristics of its parent class, promoting code reusability and maintainability.\n",
    "\n",
    "Significance of Inheritance in OOP:\n",
    "\n",
    "1. Code Reusability\n",
    "2. Specialization \n",
    "3. Is-a Relationships\n",
    "4. Abstraction and Encapsulation\n",
    "5. Code Maintainability"
   ]
  },
  {
   "cell_type": "markdown",
   "metadata": {},
   "source": [
    "2. Differentiate between single inheritance and multiple inheritance in Python. Provide examples for each."
   ]
  },
  {
   "cell_type": "code",
   "execution_count": null,
   "metadata": {},
   "outputs": [],
   "source": [
    "# Single Inheritance:\n",
    "\n",
    "# In single inheritance, a class inherits properties and methods from only one parent class. This creates a simple and straightforward inheritance hierarchy, where each class has a single parent and can directly access its parent's attributes and methods.\n",
    "# Exapmle:\n",
    "class Animal:\n",
    "    def __init__(self, name, species, age):\n",
    "        self.name = name\n",
    "        self.species = species\n",
    "        self.age = age\n",
    "\n",
    "    def make_sound(self):\n",
    "        print(\"Generic animal sound\")\n",
    "\n",
    "class Dog(Animal):\n",
    "    def __init__(self, name, species, age, breed):\n",
    "        super().__init__(name, species, age)  # Call parent's constructor\n",
    "        self.breed = breed\n",
    "\n",
    "    def make_sound(self):\n",
    "        print(\"Woof!\")  # Overriding the parent's method\n",
    "\n",
    "class Cat(Animal):\n",
    "    def __init__(self, name, species, age, fur_color):\n",
    "        super().__init__(name, species, age)  # Call parent's constructor\n",
    "        self.fur_color = fur_color\n",
    "\n",
    "    def make_sound(self):\n",
    "        print(\"Meow!\")  # Overriding the parent's method\n",
    "\n",
    "class Bird(Animal):\n",
    "    def __init__(self, name, species, age, wings_span):\n",
    "        super().__init__(name, species, age)  # Call parent's constructor\n",
    "        self.wings_span = wings_span\n",
    "\n",
    "    def make_sound(self):\n",
    "        print(\"Chirp!\")  # Overriding the parent's method\n",
    "\n",
    "# Multiple Inheritance:\n",
    "\n",
    "# In multiple inheritance, a class inherits properties and methods from two or more parent classes. This creates a more complex inheritance hierarchy, where a class can access and manipulate attributes and methods from multiple parent classes. Multiple inheritance requires careful consideration to avoid conflicts and ambiguities in method resolution.\n",
    "# Example:\n",
    "class Vehicle:\n",
    "    def __init__(self, model, color):\n",
    "        self.model = model\n",
    "        self.color = color\n",
    "        self.speed = 0\n",
    "\n",
    "    def start(self):\n",
    "        print(\"Vehicle engine started\")\n",
    "\n",
    "class ElectronicDevice:\n",
    "    def __init__(self, battery_level):\n",
    "        self.battery_level = battery_level\n",
    "        self.power_status = False\n",
    "\n",
    "    def turn_on(self):\n",
    "        self.power_status = True\n",
    "\n",
    "class ElectricCar(Vehicle, ElectronicDevice):\n",
    "    def __init__(self, model, color, battery_level):\n",
    "        super().__init__(model, color)  # Call Vehicle's constructor\n",
    "        super().__init__(battery_level)  # Call ElectronicDevice's constructor\n",
    "\n",
    "    def accelerate(self):\n",
    "        print(\"Electric car accelerating...\")\n",
    "\n",
    "    def charge_battery(self):\n",
    "        print(\"Electric car charging battery...\")"
   ]
  },
  {
   "cell_type": "markdown",
   "metadata": {},
   "source": [
    "3. Create a Python class called `Vehicle` with attributes `color` and `speed`. Then, create a child class called\n",
    "`Car` that inherits from `Vehicle` and adds a `brand` attribute. Provide an example of creating a `Car` object."
   ]
  },
  {
   "cell_type": "code",
   "execution_count": null,
   "metadata": {},
   "outputs": [],
   "source": [
    "class Vehicle:\n",
    "    def __init__(self, color, speed):\n",
    "        self.color = color\n",
    "        self.speed = speed\n",
    "\n",
    "class Car(Vehicle):\n",
    "    def __init__(self, color, speed, brand):\n",
    "        super().__init__(color, speed)\n",
    "        self.brand = brand\n",
    "\n",
    "\n",
    "# Creating a Car object\n",
    "my_car = Car(\"Red\", 120, \"Toyota\")\n",
    "\n",
    "# Accessing attributes of the Car object\n",
    "print(\"Color:\", my_car.color)\n",
    "print(\"Speed:\", my_car.speed)\n",
    "print(\"Brand:\", my_car.brand)\n",
    "\n"
   ]
  },
  {
   "cell_type": "markdown",
   "metadata": {},
   "source": [
    "4. Explain the concept of method overriding in inheritance. Provide a practical example."
   ]
  },
  {
   "cell_type": "code",
   "execution_count": null,
   "metadata": {},
   "outputs": [],
   "source": [
    "\n",
    "# Method overriding is a fundamental concept in object-oriented programming (OOP) that allows a subclass to redefine an existing method from its parent class. This enables you to customize the behavior of the method for the subclass, providing a more specialized or specific implementation.\n",
    "\n",
    "class Rectangle(Shape):\n",
    "    def __init__(self, name, width, height):\n",
    "        super().__init__(name)\n",
    "        self.width = width\n",
    "        self.height = height\n",
    "\n",
    "    def area(self):\n",
    "        return self.width * self.height\n",
    "\n",
    "class Circle(Shape):\n",
    "    def __init__(self, name, radius):\n",
    "        super().__init__(name)\n",
    "        self.radius = radius\n",
    "\n",
    "    def area(self):\n",
    "        from math import pi\n",
    "        return pi * self.radius * self.radius"
   ]
  },
  {
   "cell_type": "markdown",
   "metadata": {},
   "source": [
    "5. How can you access the methods and attributes of a parent class from a child class in Python? Give an\n",
    "example."
   ]
  },
  {
   "cell_type": "code",
   "execution_count": null,
   "metadata": {},
   "outputs": [],
   "source": [
    "\n",
    "# In Python, accessing methods and attributes of a parent class from a child class can be achieved through two primary mechanisms:\n",
    "\n",
    "# Direct Access: If the method or attribute is not overridden in the child class, you can directly access it using the self object. This means that the child class inherits the method or attribute without any modifications.\n",
    "\n",
    "# Using super(): The super() function provides a way to access and call methods from the parent class, including the constructor (__init__()). This is particularly useful when you want to override a parent's method but still need to utilize its functionality.\n",
    "\n",
    "class Vehicle:\n",
    "    def __init__(self, model):\n",
    "        self.model = model\n",
    "        self.is_started = False\n",
    "\n",
    "    def start(self):\n",
    "        self.is_started = True\n",
    "\n",
    "class Car(Vehicle):\n",
    "    def start(self):\n",
    "        super().start()  # Calling the parent's start() method\n",
    "        print(\"Car engine started\")  # Adding additional functionality"
   ]
  },
  {
   "cell_type": "markdown",
   "metadata": {},
   "source": [
    "6. Discuss the use of the `super()` function in Python inheritance. When and why is it used? Provide an\n",
    "example."
   ]
  },
  {
   "cell_type": "code",
   "execution_count": null,
   "metadata": {},
   "outputs": [],
   "source": [
    "# The super() function plays a crucial role in inheritance hierarchies in Python. It allows child classes to access and call methods from their parent classes, enabling them to leverage the functionality of their parent classes while also customizing behavior when necessary.\n",
    "\n",
    "# Primary Uses of super():\n",
    "# 1.Overriding Methods\n",
    "# 2. Accessing Parent's Methods\n",
    "# 3. Calling the Constructor of the Parent Class\n",
    "\n",
    "# Example\n",
    "from abc import ABC, abstractmethod\n",
    "\n",
    "class Shape(ABC):\n",
    "    def __init__(self, name):\n",
    "        self.name = name\n",
    "\n",
    "    @abstractmethod\n",
    "    def area(self):\n",
    "        raise NotImplementedError(\"Area calculation not defined\")\n",
    "\n",
    "class Rectangle(Shape):\n",
    "    def __init__(self, name, width, height):\n",
    "        super().__init__(name)\n",
    "        self.width = width\n",
    "        self.height = height\n",
    "\n",
    "    def area(self):\n",
    "        return self.width * self.height"
   ]
  },
  {
   "cell_type": "markdown",
   "metadata": {},
   "source": [
    "7. Create a Python class called `Animal` with a method `speak()`. Then, create child classes `Dog` and `Cat`"
   ]
  },
  {
   "cell_type": "code",
   "execution_count": null,
   "metadata": {},
   "outputs": [],
   "source": [
    "class Animal:\n",
    "    def speak(self):\n",
    "        pass  # This method will be overridden in the child classes\n",
    "\n",
    "class Dog(Animal):\n",
    "    def speak(self):\n",
    "        return \"Woof!\"\n",
    "\n",
    "class Cat(Animal):\n",
    "    def speak(self):\n",
    "        return \"Meow!\"\n",
    "\n",
    "dog = Dog()\n",
    "cat = Cat()\n",
    "\n",
    "print(dog.speak())  # Outputs: Woof!\n",
    "print(cat.speak())  # Outputs: Meow!"
   ]
  },
  {
   "cell_type": "markdown",
   "metadata": {},
   "source": [
    "8. Explain the role of the `isinstance()` function in Python and how it relates to inheritance.\n",
    "\n",
    "sol:-\n",
    "\n",
    "The isinstance() function in Python is a built-in function used to determine whether an object is an instance of a particular class or subclass of that class. It takes two arguments: the object to be checked and the class or tuple of classes to compare against.\n",
    "\n",
    "Relation to Inheritance:\n",
    "\n",
    "isinstance() plays a crucial role in inheritance hierarchies. When you check whether an object is an instance of a class, you are essentially asking whether the object belongs to the class itself or any of its subclasses. This is because inheritance creates a \"is-a\" relationship between classes, where a subclass is considered a specialized type of its parent class."
   ]
  },
  {
   "cell_type": "markdown",
   "metadata": {},
   "source": [
    "9. What is the purpose of the `issubclass()` function in Python? Provide an example."
   ]
  },
  {
   "cell_type": "code",
   "execution_count": null,
   "metadata": {},
   "outputs": [],
   "source": [
    "# Purpose of issubclass():\n",
    "\n",
    "# The primary purpose of issubclass() is to determine the inheritance relationship between classes. It helps you verify whether a class is directly or indirectly derived from another class.\n",
    "\n",
    "class Person:\n",
    "    pass\n",
    "\n",
    "class Employee(Person):\n",
    "    pass\n",
    "\n",
    "class Manager(Employee):\n",
    "    pass\n",
    "\n",
    "print(issubclass(Employee, Person))  # Output: True\n",
    "print(issubclass(Manager, Employee))  # Output: True\n",
    "print(issubclass(Manager, Person))  # Output: True\n",
    "print(issubclass(Person, Employee))  # Output: False\n"
   ]
  },
  {
   "cell_type": "markdown",
   "metadata": {},
   "source": [
    "10. Discuss the concept of constructor inheritance in Python. How are constructors inherited in child classes?\n",
    "\n",
    "sol:-\n",
    "\n",
    "Constructor inheritance in Python refers to the mechanism by which a child class inherits the constructor (__init__() method) of its parent class. This allows the child class to utilize the initialization process defined in the parent class while potentially adding additional initialization steps or modifying the behavior of the parent's initialization.\n",
    "\n",
    "Inheritance of Constructors:\n",
    "\n",
    "When a child class inherits from a parent class, it automatically gains access to the parent's constructor. This means that when you create an object of the child class, the parent's constructor is called first to initialize the attributes defined in the parent class. Subsequently, the child class's constructor is called to handle any additional initialization specific to the child class."
   ]
  },
  {
   "cell_type": "markdown",
   "metadata": {},
   "source": [
    "11. Create a Python class called `Shape` with a method `area()` that calculates the area of a shape. Then, create child classes `Circle` and `Rectangle` that inherit from `Shape` and implement the `area()` method\n",
    "accordingly. Provide an example."
   ]
  },
  {
   "cell_type": "code",
   "execution_count": null,
   "metadata": {},
   "outputs": [],
   "source": [
    "import math\n",
    "\n",
    "class Shape:\n",
    "    def area(self):\n",
    "        pass  # This method will be overridden in the child classes\n",
    "\n",
    "class Circle(Shape):\n",
    "    def __init__(self, radius):\n",
    "        self.radius = radius\n",
    "\n",
    "    def area(self):\n",
    "        return math.pi * self.radius ** 2\n",
    "\n",
    "class Rectangle(Shape):\n",
    "    def __init__(self, width, height):\n",
    "        self.width = width\n",
    "        self.height = height\n",
    "\n",
    "    def area(self):\n",
    "        return self.width * self.height\n",
    "\n",
    "circle = Circle(5)\n",
    "rectangle = Rectangle(4, 6)\n",
    "\n",
    "print(\"Area of the Circle:\", circle.area())  # Outputs the area of the circle with radius 5\n",
    "print(\"Area of the Rectangle:\", rectangle.area())  # Outputs the area of the rectangle with width 4 and height 6"
   ]
  },
  {
   "cell_type": "markdown",
   "metadata": {},
   "source": [
    "12. Explain the use of abstract base classes (ABCs) in Python and how they relate to inheritance. Provide an\n",
    "example using the `abc` module."
   ]
  },
  {
   "cell_type": "code",
   "execution_count": null,
   "metadata": {},
   "outputs": [],
   "source": [
    "# Abstract base classes (ABCs) play a crucial role in defining common interfaces for classes within an inheritance hierarchy. They provide a way to establish a blueprint for subclasses, ensuring that they inherit and implement specific methods and attributes. ABCs are particularly useful when you want to create a family of related classes that share a common set of functionalities.\n",
    "\n",
    "from abc import ABC, abstractmethod\n",
    "\n",
    "class Shape(ABC):\n",
    "    def __init__(self, name):\n",
    "        self.name = name\n",
    "\n",
    "    @abstractmethod\n",
    "    def area(self):\n",
    "        raise NotImplementedError(\"Area calculation not defined\")\n",
    "    \n",
    "class Rectangle(Shape):\n",
    "    def __init__(self, name, width, height):\n",
    "        super().__init__(name)\n",
    "        self.width = width\n",
    "        self.height = height\n",
    "\n",
    "    def area(self):\n",
    "        return self.width * self.height\n",
    "\n",
    "class Circle(Shape):\n",
    "    def __init__(self, name, radius):\n",
    "        super().__init__(name)\n",
    "        self.radius = radius\n",
    "\n",
    "    def area(self):\n",
    "        from math import pi\n",
    "        return pi * self.radius * self.radius\n",
    "\n"
   ]
  },
  {
   "cell_type": "markdown",
   "metadata": {},
   "source": [
    "13. How can you prevent a child class from modifying certain attributes or methods inherited from a parent class in Python?\n",
    "\n",
    "sol:-\n",
    "\n",
    "Preventing a child class from modifying certain attributes or methods inherited from a parent class in Python can be achieved using various techniques. Here are a couple of common approaches:\n",
    "\n",
    "1. Read-only attributes: You can make an attribute read-only in the parent class by defining it as a property with only a getter method and no setter method. This ensures that the attribute cannot be directly modified in the child class.\n",
    "\n",
    "2. Protected methods: You can mark methods as protected in the parent class using the __ prefix before the method name. This indicates that the method is intended for internal use and should not be directly called from outside the class hierarchy.\n",
    "\n",
    "3. Abstract classes: Abstract classes are classes that cannot be directly instantiated. They are used to define a common interface for subclasses and can prevent child classes from overriding certain methods by declaring them as abstract methods."
   ]
  },
  {
   "cell_type": "markdown",
   "metadata": {},
   "source": [
    "14. Create a Python class called `Employee` with attributes `name` and `salary`. Then, create a child class\n",
    "`Manager` that inherits from `Employee` and adds an attribute `department`. Provide an example."
   ]
  },
  {
   "cell_type": "code",
   "execution_count": null,
   "metadata": {},
   "outputs": [],
   "source": [
    "class Employee:\n",
    "    def __init__(self, name, salary):\n",
    "        self.name = name\n",
    "        self.salary = salary\n",
    "\n",
    "class Manager(Employee):\n",
    "    def __init__(self, name, salary, department):\n",
    "        super().__init__(name, salary)\n",
    "        self.department = department\n",
    "\n",
    "# Creating an instance of Manager\n",
    "manager = Manager(\"John Doe\", 60000, \"HR\")\n",
    "\n",
    "# Accessing attributes of the Manager instance\n",
    "print(\"Manager Name:\", manager.name)\n",
    "print(\"Manager Salary:\", manager.salary)\n",
    "print(\"Manager Department:\", manager.department)"
   ]
  },
  {
   "cell_type": "markdown",
   "metadata": {},
   "source": [
    "15. Discuss the concept of method overloading in Python inheritance. How does it differ from method overriding?\n",
    "\n",
    "sol:-\n",
    "\n",
    "Method Overloading\n",
    "\n",
    "Method overloading is the ability to define multiple methods with the same name but different parameter lists or signatures. This allows you to provide multiple implementations of the same operation, each handling different types of arguments or performing different tasks.\n",
    "\n",
    "Method Overloading vs. Method Overriding in Python\n",
    "\n",
    "Method overloading and method overriding are two important concepts in object-oriented programming (OOP) that deal with defining and redefining methods in classes. While they share some similarities, they have distinct purposes and applications."
   ]
  },
  {
   "cell_type": "markdown",
   "metadata": {},
   "source": [
    "16. Explain the purpose of the `__init__()` method in Python inheritance and how it is utilized in child classes.\n",
    "\n",
    "sol:-\n",
    "\n",
    "1\n",
    "In Python, the __init__() method, also known as the constructor, is a special method that is automatically called whenever a new object is created from a class. It serves two primary purposes:\n",
    "\n",
    "1. Initializing attributes: The __init__() method allows you to define and initialize the attributes of an object. These attributes are like variables that store data specific to each instance of the class.\n",
    "\n",
    "2. Customizing object creation: When you inherit from a parent class, you can override the parent's __init__() method to customize the initialization process for child classes. This allows you to add specific initialization step\n",
    "\n",
    "=>Utilizing __init__() in Child Classes:\n",
    "\n",
    "When a child class inherits from a parent class, it also inherits the parent's __init__() method. However, the child class can choose to override the parent's method to customize the initialization process for its own objects.\n",
    "\n",
    "To override the parent's __init__() method, the child class must define its own __init__() method. This method can then call the parent's __init__() method using the super() function if it needs to initialize attributes or perform actions defined in the parent class."
   ]
  },
  {
   "cell_type": "markdown",
   "metadata": {},
   "source": [
    "17. Create a Python class called `Bird` with a method `fly()`. Then, create child classes `Eagle` and `Sparrow` that inherit from `Bird` and implement the `fly()` method differently. Provide an example of using these\n",
    "classes."
   ]
  },
  {
   "cell_type": "code",
   "execution_count": null,
   "metadata": {},
   "outputs": [],
   "source": [
    "class Bird:\n",
    "    def fly(self):\n",
    "        pass  # This method will be overridden in the child classes\n",
    "\n",
    "class Eagle(Bird):\n",
    "    def fly(self):\n",
    "        return \"Eagle soaring high in the sky...\"\n",
    "\n",
    "class Sparrow(Bird):\n",
    "    def fly(self):\n",
    "        return \"Sparrow flitting around gracefully...\"\n",
    "\n",
    "# Example usage:\n",
    "eagle = Eagle()\n",
    "sparrow = Sparrow()\n",
    "\n",
    "print(eagle.fly())  # Outputs: Eagle soaring high in the sky...\n",
    "print(sparrow.fly())  # Outputs: Sparrow flitting around gracefully..."
   ]
  },
  {
   "cell_type": "markdown",
   "metadata": {},
   "source": [
    "18. What is the \"diamond problem\" in multiple inheritance, and how does Python address it?\n",
    "\n",
    "sol:-\n",
    "\n",
    "The \"diamond problem\" is a challenge that arises in programming languages that support multiple inheritance, where a subclass inherits from two or more classes that have a common ancestor. This creates ambiguity when the subclass tries to inherit methods or attributes that are present in more than one parent class.\n",
    "\n",
    "Python addresses the diamond problem by following a specific resolution order called the Method Resolution Order (MRO). Python uses the C3 linearization algorithm to determine the order in which methods are resolved in the presence of multiple inheritance.\n",
    "\n",
    "The MRO defines a predictable order for method resolution by examining the inheritance hierarchy and creating a linear sequence that ensures each method in the inheritance chain is called exactly once."
   ]
  },
  {
   "cell_type": "markdown",
   "metadata": {},
   "source": [
    "19. Discuss the concept of \"is-a\" and \"has-a\" relationships in inheritance, and provide examples of each."
   ]
  },
  {
   "cell_type": "code",
   "execution_count": null,
   "metadata": {},
   "outputs": [],
   "source": [
    "# \"Is-a\" Relationship (Inheritance):\n",
    "# Definition: An \"is-a\" relationship signifies inheritance, where a class is a specific type of another class. It represents a hierarchy where a subclass shares the characteristics of its superclass.\n",
    "# Example: Consider a class hierarchy with Animal as the superclass and Dog and Cat as subclasses. A Dog \"is-a\" type of Animal, and a Cat \"is-a\" type of Animal.\n",
    "\n",
    "class Animal:\n",
    "    def breathe(self):\n",
    "        print(\"Breathing...\")\n",
    "\n",
    "class Dog(Animal):\n",
    "    def bark(self):\n",
    "        print(\"Woof!\")\n",
    "\n",
    "class Cat(Animal):\n",
    "    def meow(self):\n",
    "        print(\"Meow!\")\n",
    "\n",
    "# Dog and Cat are subclasses of Animal\n",
    "dog = Dog()\n",
    "cat = Cat()\n",
    "\n",
    "dog.breathe()  # Inherits method from Animal\n",
    "cat.breathe()  # Inherits method from Animal\n",
    "\n",
    "\n",
    "# \"Has-a\" Relationship (Composition):\n",
    "# Definition: A \"has-a\" relationship signifies composition, where a class contains another class as part of its structure. It denotes that one class \"has\" another class as a member or attribute.\n",
    "# Example: A Car \"has-a\" Engine. The Engine class is part of the Car and is composed within it.\n",
    "\n",
    "class Engine:\n",
    "    def start(self):\n",
    "        print(\"Engine starting...\")\n",
    "\n",
    "class Car:\n",
    "    def __init__(self):\n",
    "        self.engine = Engine()  # Car has an Engine\n",
    "\n",
    "    def start_engine(self):\n",
    "        self.engine.start()  # Car delegates start functionality to Engine\n",
    "\n",
    "# Car has an Engine as part of its structure\n",
    "my_car = Car()\n",
    "my_car.start_engine()  # Car uses Engine's functionality"
   ]
  },
  {
   "cell_type": "markdown",
   "metadata": {},
   "source": [
    "20. Create a Python class hierarchy for a university system. Start with a base class `Person` and create child\n",
    "classes `Student` and `Professor`, each with their own attributes and methods. Provide an example of using\n",
    "these classes in a university context."
   ]
  },
  {
   "cell_type": "code",
   "execution_count": null,
   "metadata": {},
   "outputs": [],
   "source": [
    "class Person:\n",
    "    def __init__(self, name, age):\n",
    "        self.name = name\n",
    "        self.age = age\n",
    "\n",
    "    def display_info(self):\n",
    "        return f\"Name: {self.name}, Age: {self.age}\"\n",
    "\n",
    "\n",
    "class Student(Person):\n",
    "    def __init__(self, name, age, student_id):\n",
    "        super().__init__(name, age)\n",
    "        self.student_id = student_id\n",
    "\n",
    "    def display_info(self):\n",
    "        return f\"Student ID: {self.student_id}, {super().display_info()}\"\n",
    "\n",
    "\n",
    "class Professor(Person):\n",
    "    def __init__(self, name, age, employee_id):\n",
    "        super().__init__(name, age)\n",
    "        self.employee_id = employee_id\n",
    "\n",
    "    def display_info(self):\n",
    "        return f\"Employee ID: {self.employee_id}, {super().display_info()}\"\n",
    "\n",
    "# Creating instances of Student and Professor\n",
    "student = Student(\"Alice\", 20, \"S001\")\n",
    "professor = Professor(\"Dr. Smith\", 45, \"P101\")\n",
    "\n",
    "# Displaying information about the student and professor\n",
    "print(\"Student Information:\")\n",
    "print(student.display_info())\n",
    "\n",
    "print(\"\\nProfessor Information:\")\n",
    "print(professor.display_info())"
   ]
  },
  {
   "cell_type": "code",
   "execution_count": null,
   "metadata": {},
   "outputs": [],
   "source": []
  },
  {
   "cell_type": "markdown",
   "metadata": {},
   "source": [
    "## Composition"
   ]
  },
  {
   "cell_type": "markdown",
   "metadata": {},
   "source": [
    "### 1. Explain the concept of composition in Python and how it is used to build complex objects from simpler ones."
   ]
  },
  {
   "cell_type": "markdown",
   "metadata": {},
   "source": [
    "*Ans:*\n",
    "\n",
    "**Composition** is a core principle in Python's object-oriented programming paradigm. It involves creating relationships between classes, where one class contains another as a part. This allows you to build complex objects by combining simpler ones.\n",
    "\n",
    "Key points about composition:\n",
    "\n",
    "**Combining Objects**: Composition involves creating instances of one class within another class. These instances become attributes of the containing class, providing specific functionality.\n",
    "\n",
    "**Has-a Relationship**: Composition establishes a \"has-a\" relationship between classes. For example, a Car \"has-a\" Engine\", meaning the Carclass contains an instance of theEngine` class.\n",
    "\n",
    "**Flexibility and Encapsulation**: Composition offers flexibility and encapsulation. It allows you to change behavior by replacing components. It also hides the internal workings of components.\n",
    "\n",
    "**Code Reusability**: Composition promotes code reusability by allowing you to reuse existing classes as components in different contexts.\n",
    "\n",
    "**Avoiding Tight Coupling**: Composition helps avoid tight coupling between classes. Changes in one class's implementation do not directly affect the containing class.\n",
    "\n",
    "**Granular Control**: With composition, you have fine-grained control over how components are used and interact.\n",
    "\n",
    "**Dynamism and Runtime Behavior**: Composition allows for dynamic composition at runtime. You can change components of an object during program execution, leading to adaptable behavior."
   ]
  },
  {
   "cell_type": "markdown",
   "metadata": {},
   "source": [
    "### 2. Describe the difference between composition and inheritance in object-oriented programming."
   ]
  },
  {
   "cell_type": "markdown",
   "metadata": {},
   "source": [
    "|       | Composition | Inheritance |\n",
    "| ----- | ----------- | ----------- |\n",
    "| **Definition** | Composition is a design principle where one class contains an instance of another class as a member or attribute. | Inheritance is a mechanism where one class (subclass) derives properties and behaviors from another class (superclass or base class). |\n",
    "| **Relationship** | It is a `\"has-a\"` relationship. | It is an `\"is-a\"` relationship. |\n",
    "| **Flexibility** | Composition provides greater flexibility. You can change the behavior of a class by replacing its components with different ones at runtime. | Inheritance provides lessor flexibility as inherited attributes and methods get impacted with changes in base classes etc |\n",
    "| **Code Reusability** | Composition promotes code reusability by allowing you to reuse existing classes as components in different contexts. | Inheritance promotes code reusability by allowing a subclass to inherit attributes and methods from its superclass.|"
   ]
  },
  {
   "cell_type": "markdown",
   "metadata": {},
   "source": [
    "### 3. Create a Python class called `Author` with attributes for name and birthdate. Then, create a `Book` class that contains an instance of `Author` as a composition. Provide an example of creating a `Book` object."
   ]
  },
  {
   "cell_type": "code",
   "execution_count": null,
   "metadata": {},
   "outputs": [
    {
     "name": "stdout",
     "output_type": "stream",
     "text": [
      "Title: Harry Potter and the Philosopher's Stone\n",
      "Author: J.K. Rowling\n",
      "Genre: Fantasy\n"
     ]
    }
   ],
   "source": [
    "class Author:\n",
    "    def __init__(self, name, birthdate):\n",
    "        self.name = name\n",
    "        self.birthdate = birthdate\n",
    "\n",
    "class Book:\n",
    "    def __init__(self, title, author, genre):\n",
    "        self.title = title\n",
    "        self.author = author\n",
    "        self.genre = genre\n",
    "\n",
    "    def get_info(self):\n",
    "        return f\"Title: {self.title}\\nAuthor: {self.author.name}\\nGenre: {self.genre}\"\n",
    "\n",
    "# Create an Author\n",
    "author = Author(\"J.K. Rowling\", \"July 31, 1965\")\n",
    "\n",
    "# Create a Book with the Author as composition\n",
    "harry_potter = Book(\"Harry Potter and the Philosopher's Stone\", author, \"Fantasy\")\n",
    "\n",
    "# Get information about the book\n",
    "print(harry_potter.get_info())\n"
   ]
  },
  {
   "cell_type": "markdown",
   "metadata": {},
   "source": [
    "### 4. Discuss the benefits of using composition over inheritance in Python, especially in terms of code flexibility and reusability."
   ]
  },
  {
   "cell_type": "markdown",
   "metadata": {},
   "source": [
    "Using **composition over inheritance** in Python provides:\n",
    "\n",
    "**Flexibility**:\n",
    "* Allows dynamic behavior changes at runtime.\n",
    "* Avoids rigidity and deep class hierarchies.\n",
    "\n",
    "**Code Reusability**:\n",
    "* Promotes component reusability in different contexts.\n",
    "* Encourages modular design for wider reuse.\n",
    "\n",
    "**Avoids Tight Coupling**:\n",
    "* Reduces dependencies and promotes interchangeability.\n",
    "\n",
    "**Simplifies Testing and Debugging**:\n",
    "* Enables isolation and independent testing of components.\n",
    "\n",
    "**Avoids Fragile Base Class Problem**:\n",
    "* Changes to components won't impact the containing class.\n",
    "\n",
    "**Supports Design Patterns**:\n",
    "* Facilitates implementation of powerful design patterns."
   ]
  },
  {
   "cell_type": "markdown",
   "metadata": {},
   "source": [
    "### 5. How can you implement composition in Python classes? Provide examples of using composition to create complex objects."
   ]
  },
  {
   "cell_type": "markdown",
   "metadata": {},
   "source": [
    "In Python, you can implement composition by creating instances of one class within another class. These **instances become attributes of the containing class** and are used to provide specific functionality or behavior. Here are examples of using composition to create complex objects:"
   ]
  },
  {
   "cell_type": "code",
   "execution_count": null,
   "metadata": {},
   "outputs": [
    {
     "name": "stdout",
     "output_type": "stream",
     "text": [
      "Title: Harry Potter and the Philosopher's Stone\n",
      "Author: J.K. Rowling\n",
      "Genre: Fantasy\n"
     ]
    }
   ],
   "source": [
    "class Author:\n",
    "    def __init__(self, name, birthdate):\n",
    "        self.name = name\n",
    "        self.birthdate = birthdate\n",
    "\n",
    "class Book:\n",
    "    def __init__(self, title, author, genre):\n",
    "        self.title = title\n",
    "        self.author = author\n",
    "        self.genre = genre\n",
    "\n",
    "    def get_info(self):\n",
    "        return f\"Title: {self.title}\\nAuthor: {self.author.name}\\nGenre: {self.genre}\"\n",
    "\n",
    "# Create an Author\n",
    "author = Author(\"J.K. Rowling\", \"July 31, 1965\")\n",
    "\n",
    "# Create a Book with the Author as composition\n",
    "harry_potter = Book(\"Harry Potter and the Philosopher's Stone\", author, \"Fantasy\")\n",
    "\n",
    "# Get information about the book\n",
    "print(harry_potter.get_info())\n"
   ]
  },
  {
   "cell_type": "markdown",
   "metadata": {},
   "source": [
    "### 6. Create a Python class hierarchy for a music player system, using composition to represent playlists and songs."
   ]
  },
  {
   "cell_type": "code",
   "execution_count": null,
   "metadata": {},
   "outputs": [
    {
     "name": "stdout",
     "output_type": "stream",
     "text": [
      "Playing 'Shape of You' by Ed Sheeran\n",
      "Playing 'My heart will go on' by Celine Dion\n"
     ]
    }
   ],
   "source": [
    "class Song:\n",
    "    def __init__(self, title, artist, duration):\n",
    "        self.title = title\n",
    "        self.artist = artist\n",
    "        self.duration = duration\n",
    "\n",
    "    def play(self):\n",
    "        return f\"Playing '{self.title}' by {self.artist}\"\n",
    "\n",
    "class Playlist:\n",
    "    def __init__(self, name):\n",
    "        self.name = name\n",
    "        self.songs = []\n",
    "\n",
    "    def add_song(self, song):\n",
    "        self.songs.append(song)\n",
    "\n",
    "    def play_all(self):\n",
    "        if not self.songs:\n",
    "            return \"Playlist is empty. Add songs to play.\"\n",
    "        else:\n",
    "            for song in self.songs:\n",
    "                print(song.play())\n",
    "\n",
    "# Create songs\n",
    "song1 = Song(\"Shape of You\", \"Ed Sheeran\", \"4:23\")\n",
    "song2 = Song(\"My heart will go on\", \"Celine Dion\", \"4:40\")\n",
    "\n",
    "# Create a playlist and add songs\n",
    "my_playlist = Playlist(\"My Favorites\")\n",
    "my_playlist.add_song(song1)\n",
    "my_playlist.add_song(song2)\n",
    "\n",
    "# Play the playlist\n",
    "my_playlist.play_all()\n"
   ]
  },
  {
   "cell_type": "markdown",
   "metadata": {},
   "source": [
    "### 7. Explain the concept of \"has-a\" relationships in composition and how it helps design software systems."
   ]
  },
  {
   "cell_type": "markdown",
   "metadata": {},
   "source": [
    "A \"has-a\" relationship in composition means one class contains an instance of another. It promotes following points:\n",
    "\n",
    "* **Component-Based Design**: \"Has-a\" relationships promote component-based design. Building complex objects from simpler ones.\n",
    "\n",
    "* **Flexibility**: Dynamic behavior changes at runtime. You can dynamically change the behavior of a class by replacing its components with different ones.\n",
    "\n",
    "* **Code Reusability**: Efficient development and maintenance. Existing classes can be reused as components in different contexts, leading to more efficient development and maintenance.\n",
    "\n",
    "* **Encapsulation**: The internal details and behavior of the component class are hidden from the containing class, enhancing data protection and reducing dependencies.\n",
    "\n",
    "* **Simplicity over Inheritance**: It helps avoid complexities associated with deep class hierarchies that can arise from using inheritance.\n",
    "\n",
    "* **Dynamic Composition**: Components can change at runtime. This means you can change the components of an object during program execution, allowing for adaptable behavior based on changing requirements.\n",
    "\n",
    "* **Interchangeability**: Swapping components with minimal impact. Components can be swapped out or replaced with minimal impact on the containing class.\n",
    "\n",
    "* **Granular Control**: Fine-grained customization of behavior.\n",
    "\n",
    "* **Solves Fragile Base Class Problem**: Avoids unintended consequences of changes.\n",
    "\n",
    "* **Supports Design Patterns**: Facilitates use of powerful design patterns such as the Strategy Pattern or the Decorator Pattern."
   ]
  },
  {
   "cell_type": "markdown",
   "metadata": {},
   "source": [
    "### 8. Create a Python class for a computer system, using composition to represent components like CPU, RAM, and storage devices."
   ]
  },
  {
   "cell_type": "code",
   "execution_count": null,
   "metadata": {},
   "outputs": [
    {
     "name": "stdout",
     "output_type": "stream",
     "text": [
      "CPU: Intel i7-10700K, Cores: 8\n",
      "RAM: 16GB\n",
      "Storage: SSD, Capacity: 512GB\n"
     ]
    }
   ],
   "source": [
    "class CPU:\n",
    "    def __init__(self, brand, model, cores):\n",
    "        self.brand = brand\n",
    "        self.model = model\n",
    "        self.cores = cores\n",
    "\n",
    "    def get_info(self):\n",
    "        return f\"CPU: {self.brand} {self.model}, Cores: {self.cores}\"\n",
    "\n",
    "class RAM:\n",
    "    def __init__(self, size_gb):\n",
    "        self.size_gb = size_gb\n",
    "\n",
    "    def get_info(self):\n",
    "        return f\"RAM: {self.size_gb}GB\"\n",
    "\n",
    "class Storage:\n",
    "    def __init__(self, type, capacity_gb):\n",
    "        self.type = type\n",
    "        self.capacity_gb = capacity_gb\n",
    "\n",
    "    def get_info(self):\n",
    "        return f\"Storage: {self.type}, Capacity: {self.capacity_gb}GB\"\n",
    "\n",
    "class Computer:\n",
    "    def __init__(self, cpu, ram, storage):\n",
    "        self.cpu = cpu\n",
    "        self.ram = ram\n",
    "        self.storage = storage\n",
    "\n",
    "    def get_specs(self):\n",
    "        return f\"{self.cpu.get_info()}\\n{self.ram.get_info()}\\n{self.storage.get_info()}\"\n",
    "\n",
    "# Create components\n",
    "cpu = CPU(\"Intel\", \"i7-10700K\", 8)\n",
    "ram = RAM(16)\n",
    "storage = Storage(\"SSD\", 512)\n",
    "\n",
    "# Create a computer system with components\n",
    "my_computer = Computer(cpu, ram, storage)\n",
    "\n",
    "# Get computer specifications\n",
    "print(my_computer.get_specs())"
   ]
  },
  {
   "cell_type": "markdown",
   "metadata": {},
   "source": [
    "### 9. Describe the concept of \"delegation\" in composition and how it simplifies the design of complex systems."
   ]
  },
  {
   "cell_type": "markdown",
   "metadata": {},
   "source": [
    "*Ans:*\n",
    "\n",
    "**Delegation** in composition is a design principle where one class (or object) assigns a specific responsibility or task to another class, effectively using its behavior without inheriting from it. This is achieved by invoking methods or accessing attributes of the delegated class. It simplifies the design of complex systems in several ways:\n",
    "\n",
    "* **Separation of Concerns**: Delegation allows classes to focus on specific tasks or responsibilities. Each class has a well-defined purpose, which leads to cleaner, more understandable code.\n",
    "\n",
    "* **Code Reusability**: By delegating tasks to specialized classes, you can reuse existing code. This promotes modularity, as individual components can be used in various contexts.\n",
    "\n",
    "* **Flexibility and Customization**: Delegation provides flexibility in behavior. You can dynamically choose which components to delegate to, or even switch them out at runtime. This enables customization of behavior based on specific requirements.\n",
    "\n",
    "* **Avoidance of Deep Class Hierarchies**: Delegation helps avoid the complexities and potential issues associated with deep class hierarchies. Instead of relying on inheritance, classes delegate tasks to their components, resulting in a flatter and more manageable class structure.\n",
    "\n",
    "* **Dynamic Behavior**: Delegation enables dynamic behavior at runtime. You can change the behavior of an object by replacing its components, providing adaptability to changing circumstances.\n",
    "\n",
    "* **Loose Coupling**: Classes involved in delegation are loosely coupled. The delegating class does not depend on the internal implementation of the delegated class, which reduces dependencies and allows for easier maintenance.\n",
    "\n",
    "* **Testing and Debugging**: Delegation simplifies testing and debugging. Components can be tested independently, and issues can be isolated to specific areas of functionality. This makes it easier to identify and fix bugs.\n",
    "\n",
    "* **Support for Design Patterns**: Delegation is a fundamental concept in many design patterns, such as the Strategy Pattern or the Decorator Pattern. It allows these patterns to be implemented effectively, leading to more flexible and extensible code."
   ]
  },
  {
   "cell_type": "markdown",
   "metadata": {},
   "source": [
    "### 10. Create a Python class for a car, using composition to represent components like the engine, wheels, and transmission."
   ]
  },
  {
   "cell_type": "code",
   "execution_count": null,
   "metadata": {},
   "outputs": [
    {
     "name": "stdout",
     "output_type": "stream",
     "text": [
      "Engine started.\n",
      "Changed to gear 1. Wheels rolling.\n",
      "Engine stopped.\n"
     ]
    }
   ],
   "source": [
    "class Engine:\n",
    "    def start(self):\n",
    "        return \"Engine started.\"\n",
    "\n",
    "    def stop(self):\n",
    "        return \"Engine stopped.\"\n",
    "\n",
    "class Wheels:\n",
    "    def roll(self):\n",
    "        return \"Wheels rolling.\"\n",
    "\n",
    "class Transmission:\n",
    "    def change_gear(self, gear):\n",
    "        return f\"Changed to gear {gear}.\"\n",
    "\n",
    "class Car:\n",
    "    def __init__(self):\n",
    "        # composition to represent components\n",
    "        self.engine = Engine()\n",
    "        self.wheels = Wheels()\n",
    "        self.transmission = Transmission()\n",
    "\n",
    "    def start(self):\n",
    "        return self.engine.start()\n",
    "\n",
    "    def stop(self):\n",
    "        return self.engine.stop()\n",
    "\n",
    "    def drive(self, gear):\n",
    "        return f\"{self.transmission.change_gear(gear)} {self.wheels.roll()}\"\n",
    "\n",
    "# Create a car\n",
    "my_car = Car()\n",
    "\n",
    "# Start the car\n",
    "print(my_car.start())\n",
    "\n",
    "# Drive in gear 1\n",
    "print(my_car.drive(1))\n",
    "\n",
    "# Stop the car\n",
    "print(my_car.stop())"
   ]
  },
  {
   "cell_type": "markdown",
   "metadata": {},
   "source": [
    "### 11. How can you encapsulate and hide the details of composed objects in Python classes to maintain abstraction?"
   ]
  },
  {
   "cell_type": "markdown",
   "metadata": {},
   "source": [
    "*Ans:*\n",
    "\n",
    "To encapsulate and hide the details of composed objects in Python classes, you can follow these steps:\n",
    "\n",
    "**Use Private Attributes**: Make the attributes representing the composed objects private by adding a double underscore (`__`) prefix to their names. This convention signals that these attributes are intended for internal use only.\n",
    "\n",
    "**Provide Public Methods for Interaction**: Define public methods in the containing class that act as interfaces for interacting with the composed objects. These methods should handle communication with the composed objects, abstracting away their implementation details.\n",
    "\n",
    "**Delegate Method Calls**: Inside the public methods, delegate method calls to the composed objects using their private attributes. This allows you to control how interactions with the composed objects are handled, ensuring that the details remain hidden."
   ]
  },
  {
   "cell_type": "markdown",
   "metadata": {},
   "source": [
    "### 12. Create a Python class for a university course, using composition to represent students, instructors, and course materials."
   ]
  },
  {
   "cell_type": "code",
   "execution_count": null,
   "metadata": {},
   "outputs": [
    {
     "name": "stdout",
     "output_type": "stream",
     "text": [
      "Course: Python Programming\n",
      "Instructor: Prof. Sudhanshu Kumar (ID: 2001)\n",
      "Student: Robin Pabbi (ID: 1001), Student: Jason Statham (ID: 1002)\n",
      "Textbook: Introduction to Python, Assignments: 5 assignments\n"
     ]
    }
   ],
   "source": [
    "class Student:\n",
    "    def __init__(self, name, student_id):\n",
    "        self.name = name\n",
    "        self.student_id = student_id\n",
    "\n",
    "    def get_info(self):\n",
    "        return f\"Student: {self.name} (ID: {self.student_id})\"\n",
    "\n",
    "class Instructor:\n",
    "    def __init__(self, name, employee_id):\n",
    "        self.name = name\n",
    "        self.employee_id = employee_id\n",
    "\n",
    "    def get_info(self):\n",
    "        return f\"Instructor: {self.name} (ID: {self.employee_id})\"\n",
    "\n",
    "class CourseMaterials:\n",
    "    def __init__(self, textbook, assignments):\n",
    "        self.textbook = textbook\n",
    "        self.assignments = assignments\n",
    "\n",
    "    def get_info(self):\n",
    "        return f\"Textbook: {self.textbook}, Assignments: {self.assignments}\"\n",
    "\n",
    "class UniversityCourse:\n",
    "    def __init__(self, course_name, instructor, students, materials):\n",
    "        self.course_name = course_name\n",
    "        self.instructor = instructor\n",
    "        self.students = students\n",
    "        self.materials = materials\n",
    "\n",
    "    def get_info(self):\n",
    "        return (\n",
    "            f\"Course: {self.course_name}\\n\"\n",
    "            f\"{self.instructor.get_info()}\\n\"\n",
    "            f\"{', '.join([student.get_info() for student in self.students])}\\n\"\n",
    "            f\"{self.materials.get_info()}\"\n",
    "        )\n",
    "\n",
    "# Create students\n",
    "student1 = Student(\"Robin Pabbi\", 1001)\n",
    "student2 = Student(\"Jason Statham\", 1002)\n",
    "\n",
    "# Create an instructor\n",
    "instructor = Instructor(\"Prof. Sudhanshu Kumar\", 2001)\n",
    "\n",
    "# Create course materials\n",
    "materials = CourseMaterials(\"Introduction to Python\", \"5 assignments\")\n",
    "\n",
    "# Create a university course\n",
    "my_course = UniversityCourse(\"Python Programming\", instructor, [student1, student2], materials)\n",
    "\n",
    "# Get course information\n",
    "print(my_course.get_info())"
   ]
  },
  {
   "cell_type": "markdown",
   "metadata": {},
   "source": [
    "### 13. Discuss the challenges and drawbacks of composition, such as increased complexity and potential for tight coupling between objects."
   ]
  },
  {
   "cell_type": "markdown",
   "metadata": {},
   "source": [
    "While composition is a powerful design principle, it's important to be aware of its challenges and potential drawbacks:\n",
    "\n",
    "**Increased Complexity**: Managing multiple objects and their interactions can lead to increased code complexity. This complexity may make it harder to understand and maintain the codebase.\n",
    "\n",
    "**Potential for Tight Coupling**: If not implemented carefully, composition can lead to tight coupling between the containing class and its components. This means that changes to one component may have unintended consequences on other parts of the system.\n",
    "\n",
    "**Managing Lifecycle Dependencies**: When objects are composed, their lifecycles may become intertwined. This can lead to challenges in managing object initialization, destruction, and cleanup.\n",
    "\n",
    "**Propagation of Method Calls**: Delegating method calls from the containing class to its components can introduce additional layers of indirection, making it more difficult to trace the flow of execution.\n",
    "\n",
    "**Initialization Overhead**: Properly initializing and configuring composed objects can introduce additional overhead, especially if there are complex initialization requirements.\n",
    "\n",
    "**Potential for Over-Abstraction**: In an attempt to achieve modularity, there's a risk of over-abstracting components, which can lead to a fragmented and hard-to-follow codebase.\n",
    "\n",
    "**Testing Complexity**: Testing composed objects may require additional setup and mocking of dependencies, which can increase the complexity of unit tests.\n",
    "\n",
    "**Debugging Challenges**: Debugging can be more challenging due to the layered nature of composed objects. It may require understanding how the containing class interacts with its components.\n",
    "\n",
    "**Potential for Code Bloat**: If not managed carefully, composing multiple objects may result in a larger codebase, potentially leading to maintenance challenges.\n",
    "\n",
    "**Performance Considerations**: Depending on the context and the number of composed objects, there may be a performance overhead associated with the additional method calls and indirection."
   ]
  },
  {
   "cell_type": "markdown",
   "metadata": {},
   "source": [
    "### 14. Create a Python class hierarchy for a restaurant system, using composition to represent menus, dishes, and ingredients."
   ]
  },
  {
   "cell_type": "code",
   "execution_count": null,
   "metadata": {},
   "outputs": [
    {
     "name": "stdout",
     "output_type": "stream",
     "text": [
      "Menu: Italian Delights\n",
      "Margherita Pizza - Ingredients: Tomato: 3, Onion: 2, Cheese: 200g\n",
      "Spaghetti Carbonara - Ingredients: Tomato: 3, Onion: 2\n"
     ]
    }
   ],
   "source": [
    "class Ingredient:\n",
    "    def __init__(self, name, quantity):\n",
    "        self.name = name\n",
    "        self.quantity = quantity\n",
    "\n",
    "    def get_info(self):\n",
    "        return f\"{self.name}: {self.quantity}\"\n",
    "\n",
    "class Dish:\n",
    "    def __init__(self, name, ingredients):\n",
    "        self.name = name\n",
    "        self.ingredients = ingredients\n",
    "\n",
    "    def get_info(self):\n",
    "        ingredient_info = [ingredient.get_info() for ingredient in self.ingredients]\n",
    "        return f\"{self.name} - Ingredients: {', '.join(ingredient_info)}\"\n",
    "\n",
    "class Menu:\n",
    "    def __init__(self, name, dishes):\n",
    "        self.name = name\n",
    "        self.dishes = dishes\n",
    "\n",
    "    def get_info(self):\n",
    "        dish_info = [dish.get_info() for dish in self.dishes]\n",
    "        return f\"Menu: {self.name}\\n\" + '\\n'.join(dish_info)\n",
    "\n",
    "# Create ingredients\n",
    "ingredient1 = Ingredient(\"Tomato\", \"3\")\n",
    "ingredient2 = Ingredient(\"Onion\", \"2\")\n",
    "ingredient3 = Ingredient(\"Cheese\", \"200g\")\n",
    "\n",
    "# Create dishes\n",
    "dish1 = Dish(\"Margherita Pizza\", [ingredient1, ingredient2, ingredient3])\n",
    "dish2 = Dish(\"Spaghetti Carbonara\", [ingredient1, ingredient2])\n",
    "\n",
    "# Create a menu\n",
    "menu = Menu(\"Italian Delights\", [dish1, dish2])\n",
    "\n",
    "# Get menu information\n",
    "print(menu.get_info())"
   ]
  },
  {
   "cell_type": "markdown",
   "metadata": {},
   "source": [
    "### 15. Explain how composition enhances code maintainability and modularity in Python programs."
   ]
  },
  {
   "cell_type": "markdown",
   "metadata": {},
   "source": [
    "*Ans:*\n",
    "\n",
    "Composition enhances code maintainability and modularity in Python programs in several ways:\n",
    "\n",
    "**Separation of Concerns**: Composition encourages breaking down complex systems into smaller, manageable components. Each component focuses on a specific task or responsibility, making it easier to understand, modify, and debug.\n",
    "\n",
    "**Code Reusability**: Composed objects can be reused in different contexts. This promotes modularity, allowing components to be used in various parts of the program or in entirely different projects.\n",
    "\n",
    "**Reduced Coupling**: Composition promotes loose coupling between objects. By relying on interfaces provided by components, the containing class is not tightly bound to the implementation details of its parts. This reduces dependencies and makes it easier to replace or update components.\n",
    "\n",
    "**Flexibility and Adaptability**: Components can be swapped or updated with minimal impact on the containing class. This allows for dynamic behavior changes and facilitates adapting to evolving requirements.\n",
    "\n",
    "**Isolation of Changes**: Changes to one component have limited impact on other parts of the system. This isolates modifications, reducing the risk of unintended consequences.\n",
    "\n",
    "**Simplified Testing**: Testing can be more focused. Components can be tested independently, allowing for more granular and effective unit testing. Mocking and stubbing can also be employed to isolate specific parts for testing.\n",
    "\n",
    "**Encapsulation of Implementation Details**: The internal workings of components are hidden from the containing class. This enhances encapsulation, protecting the integrity of each component and reducing the likelihood of unintended interference.\n",
    "\n",
    "**Clear Interfaces**: Well-defined interfaces between components provide a clear contract for how they interact. This allows developers to work on different parts of the system simultaneously, as long as they adhere to the specified interfaces.\n",
    "\n",
    "**Promotion of Design Patterns**: Composition is a key concept in many design patterns like the Strategy Pattern, Decorator Pattern, and Composite Pattern. Using composition encourages the application of these proven design solutions."
   ]
  },
  {
   "cell_type": "markdown",
   "metadata": {},
   "source": [
    "\n",
    "### 16. Create a Python class for a computer game character, using composition to represent attributes like weapons, armor, and inventory."
   ]
  },
  {
   "cell_type": "code",
   "execution_count": null,
   "metadata": {},
   "outputs": [
    {
     "name": "stdout",
     "output_type": "stream",
     "text": [
      "Character Name: Contra 1\n",
      "Equipped Weapon: Weapon: Sword, Damage: 20\n",
      "Equipped Armor: Armor: Shield, Defense: 10\n",
      "Inventory: Weapon: Bow, Damage: 15, Armor: Helmet, Defense: 5\n"
     ]
    }
   ],
   "source": [
    "class Weapon:\n",
    "    def __init__(self, name, damage):\n",
    "        self.name = name\n",
    "        self.damage = damage\n",
    "\n",
    "    def get_info(self):\n",
    "        return f\"Weapon: {self.name}, Damage: {self.damage}\"\n",
    "\n",
    "class Armor:\n",
    "    def __init__(self, name, defense):\n",
    "        self.name = name\n",
    "        self.defense = defense\n",
    "\n",
    "    def get_info(self):\n",
    "        return f\"Armor: {self.name}, Defense: {self.defense}\"\n",
    "\n",
    "class Inventory:\n",
    "    def __init__(self):\n",
    "        self.items = []\n",
    "\n",
    "    def add_item(self, item):\n",
    "        self.items.append(item)\n",
    "\n",
    "    def get_inventory(self):\n",
    "        return [item.get_info() for item in self.items]\n",
    "\n",
    "class GameCharacter:\n",
    "    def __init__(self, name):\n",
    "        self.name = name\n",
    "        self.weapon = None\n",
    "        self.armor = None\n",
    "        self.inventory = Inventory()\n",
    "\n",
    "    def equip_weapon(self, weapon):\n",
    "        self.weapon = weapon\n",
    "\n",
    "    def equip_armor(self, armor):\n",
    "        self.armor = armor\n",
    "\n",
    "    def get_info(self):\n",
    "        equipped_weapon = self.weapon.get_info() if self.weapon else \"No weapon equipped\"\n",
    "        equipped_armor = self.armor.get_info() if self.armor else \"No armor equipped\"\n",
    "        return (\n",
    "            f\"Character Name: {self.name}\\n\"\n",
    "            f\"Equipped Weapon: {equipped_weapon}\\n\"\n",
    "            f\"Equipped Armor: {equipped_armor}\\n\"\n",
    "            f\"Inventory: {', '.join(self.inventory.get_inventory())}\"\n",
    "        )\n",
    "\n",
    "# Create weapons and armor\n",
    "sword = Weapon(\"Sword\", 20)\n",
    "shield = Armor(\"Shield\", 10)\n",
    "\n",
    "# Create a character and equip items\n",
    "hero = GameCharacter(\"Contra 1\")\n",
    "hero.equip_weapon(sword)\n",
    "hero.equip_armor(shield)\n",
    "hero.inventory.add_item(Weapon(\"Bow\", 15))\n",
    "hero.inventory.add_item(Armor(\"Helmet\", 5))\n",
    "\n",
    "# Get character information\n",
    "print(hero.get_info())\n"
   ]
  },
  {
   "cell_type": "markdown",
   "metadata": {},
   "source": [
    "\n",
    "### 17. Describe the concept of \"aggregation\" in composition and how it differs from simple composition."
   ]
  },
  {
   "cell_type": "markdown",
   "metadata": {},
   "source": [
    "*Ans:*\n",
    "\n",
    "**Aggregation** is a specific form of composition in object-oriented programming where one class (the containing class) holds a reference to another class (the contained class), but the contained class can exist independently and may be shared among multiple containing classes.\n",
    "\n",
    "Here's how aggregation differs from simple composition:\n",
    "\n",
    "* **Ownership**: In simple composition, the containing class \"owns\" the contained class, meaning that the contained class is created and managed by the containing class. In aggregation, the contained class exists independently and can be shared among multiple containing classes.\n",
    "\n",
    "* **Lifespan**: In simple composition, the lifespan of the contained class is directly tied to the containing class. If the containing class is destroyed, the contained class is also typically destroyed. In aggregation, the contained class can exist even if the containing class is destroyed.\n",
    "\n",
    "* **Multiplicity**: Aggregation often implies a \"many-to-one\" or \"many-to-many\" relationship, where multiple instances of the containing class can refer to the same instance of the contained class. In simple composition, there is typically a one-to-one relationship.\n",
    "\n",
    "* **Flexibility**: Aggregation provides more flexibility, as the same instance of the contained class can be shared across different instances of containing classes. This allows for reusability and more dynamic system design."
   ]
  },
  {
   "cell_type": "markdown",
   "metadata": {},
   "source": [
    "\n",
    "### 18. Create a Python class for a house, using composition to represent rooms, furniture, and appliances."
   ]
  },
  {
   "cell_type": "code",
   "execution_count": null,
   "metadata": {},
   "outputs": [
    {
     "name": "stdout",
     "output_type": "stream",
     "text": [
      "Rooms:\n",
      "Room: Living Room, Area: 300 sq. ft., \n",
      "Room: Master Bedroom, Area: 200 sq. ft., \n",
      "Room: Bedroom 2, Area: 180 sq. ft., \n",
      "Room: Bedroom 3, Area: 180 sq. ft.\n",
      "Furniture: Furniture: Sofa, Furniture: Bed\n",
      "Appliances: Appliance: TV, Appliance: Oven\n"
     ]
    }
   ],
   "source": [
    "class Room:\n",
    "    def __init__(self, name, area):\n",
    "        self.name = name\n",
    "        self.area = area\n",
    "\n",
    "    def get_info(self):\n",
    "        return f\"\\nRoom: {self.name}, Area: {self.area} sq. ft.\"\n",
    "\n",
    "class Furniture:\n",
    "    def __init__(self, name):\n",
    "        self.name = name\n",
    "\n",
    "    def get_info(self):\n",
    "        return f\"Furniture: {self.name}\"\n",
    "\n",
    "class Appliance:\n",
    "    def __init__(self, name):\n",
    "        self.name = name\n",
    "\n",
    "    def get_info(self):\n",
    "        return f\"Appliance: {self.name}\"\n",
    "\n",
    "class House:\n",
    "    def __init__(self):\n",
    "        self.rooms = []\n",
    "        self.furniture = []\n",
    "        self.appliances = []\n",
    "\n",
    "    def add_room(self, room):\n",
    "        self.rooms.append(room)\n",
    "\n",
    "    def add_furniture(self, furniture):\n",
    "        self.furniture.append(furniture)\n",
    "\n",
    "    def add_appliance(self, appliance):\n",
    "        self.appliances.append(appliance)\n",
    "\n",
    "    def get_info(self):\n",
    "        room_info = [room.get_info() for room in self.rooms]\n",
    "        furniture_info = [item.get_info() for item in self.furniture]\n",
    "        appliance_info = [item.get_info() for item in self.appliances]\n",
    "\n",
    "        return (\n",
    "            f\"Rooms:{', '.join(room_info)}\\n\"\n",
    "            f\"Furniture: {', '.join(furniture_info)}\\n\"\n",
    "            f\"Appliances: {', '.join(appliance_info)}\"\n",
    "        )\n",
    "\n",
    "# Create rooms, furniture, and appliances\n",
    "living_room = Room(\"Living Room\", 300)\n",
    "bedroom1 = Room(\"Master Bedroom\", 200)\n",
    "bedroom2 = Room(\"Bedroom 2\", 180)\n",
    "bedroom3 = Room(\"Bedroom 3\", 180)\n",
    "\n",
    "sofa = Furniture(\"Sofa\")\n",
    "bed = Furniture(\"Bed\")\n",
    "tv = Appliance(\"TV\")\n",
    "oven = Appliance(\"Oven\")\n",
    "\n",
    "# Create a house and add components\n",
    "my_house = House()\n",
    "my_house.add_room(living_room)\n",
    "my_house.add_room(bedroom1)\n",
    "my_house.add_room(bedroom2)\n",
    "my_house.add_room(bedroom3)\n",
    "my_house.add_furniture(sofa)\n",
    "my_house.add_furniture(bed)\n",
    "my_house.add_appliance(tv)\n",
    "my_house.add_appliance(oven)\n",
    "\n",
    "# Get house information\n",
    "print(my_house.get_info())\n"
   ]
  },
  {
   "cell_type": "markdown",
   "metadata": {},
   "source": [
    "\n",
    "### 19. How can you achieve flexibility in composed objects by allowing them to be replaced or modified dynamically at runtime?"
   ]
  },
  {
   "cell_type": "markdown",
   "metadata": {},
   "source": [
    "*Ans:*\n",
    "\n",
    "You can achieve flexibility in composed objects by implementing a mechanism to dynamically replace or modify the components at runtime. Here are some approaches to accomplish this:\n",
    "\n",
    "1. **Using Setter Methods**: Provide setter methods in the containing class that allow you to replace or modify the components. This way, you can change the composition of the object dynamically.\n",
    "\n",
    "*Example:*"
   ]
  },
  {
   "cell_type": "code",
   "execution_count": null,
   "metadata": {},
   "outputs": [],
   "source": [
    "class GameCharacter:\n",
    "    # Setters for weapon and armor\n",
    "    def set_weapon(self, weapon):\n",
    "        self.weapon = weapon\n",
    "\n",
    "    def set_armor(self, armor):\n",
    "        self.armor = armor\n"
   ]
  },
  {
   "cell_type": "markdown",
   "metadata": {},
   "source": [
    "2. **Using Factory Methods**: Implement factory methods that create and return instances of components. This allows you to switch out components with different implementations.\n",
    "\n",
    "*Example:*"
   ]
  },
  {
   "cell_type": "code",
   "execution_count": null,
   "metadata": {},
   "outputs": [],
   "source": [
    "class GameCharacter:\n",
    "    # Factory MEthods to create weapon and armor\n",
    "    def create_weapon(self, name, damage):\n",
    "        return Weapon(name, damage)\n",
    "\n",
    "    def create_armor(self, name, defense):\n",
    "        return Armor(name, defense)\n"
   ]
  },
  {
   "cell_type": "markdown",
   "metadata": {},
   "source": [
    "3. **Using Dependency Injection**: Pass the components as arguments during object creation. This allows you to inject different components at runtime.\n",
    "\n",
    "*Example:*"
   ]
  },
  {
   "cell_type": "code",
   "execution_count": null,
   "metadata": {},
   "outputs": [],
   "source": [
    "class GameCharacter:\n",
    "    # Weapon and armor being injected in the object\n",
    "    def __init__(self, name, weapon=None, armor=None):\n",
    "        self.name = name\n",
    "        self.weapon = weapon\n",
    "        self.armor = armor\n"
   ]
  },
  {
   "cell_type": "markdown",
   "metadata": {},
   "source": [
    "\n",
    "### 20. Create a Python class for a social media application, using composition to represent users, posts, and comments."
   ]
  },
  {
   "cell_type": "code",
   "execution_count": null,
   "metadata": {},
   "outputs": [
    {
     "name": "stdout",
     "output_type": "stream",
     "text": [
      "Users:\n",
      "['User: Robin', 'User: Munish']\n",
      "\n",
      "Posts:\n",
      "['Post by Robin: Hello, world!']\n",
      "\n",
      "Comments:\n",
      "['Comment by Munish: Nice post!']\n"
     ]
    }
   ],
   "source": [
    "class User:\n",
    "    def __init__(self, username):\n",
    "        self.username = username\n",
    "        self.posts = []\n",
    "        self.comments = []\n",
    "\n",
    "    def create_post(self, content):\n",
    "        post = Post(content, self)\n",
    "        self.posts.append(post)\n",
    "        return post\n",
    "\n",
    "    def add_comment(self, post, content):\n",
    "        comment = Comment(content, self, post)\n",
    "        self.comments.append(comment)\n",
    "        post.add_comment(comment)\n",
    "        return comment\n",
    "\n",
    "    def get_info(self):\n",
    "        return f\"User: {self.username}\"\n",
    "\n",
    "class Post:\n",
    "    def __init__(self, content, author):\n",
    "        self.content = content\n",
    "        self.author = author\n",
    "        self.comments = []\n",
    "\n",
    "    def add_comment(self, comment):\n",
    "        self.comments.append(comment)\n",
    "\n",
    "    def get_info(self):\n",
    "        return f\"Post by {self.author.username}: {self.content}\"\n",
    "\n",
    "class Comment:\n",
    "    def __init__(self, content, author, post):\n",
    "        self.content = content\n",
    "        self.author = author\n",
    "        self.post = post\n",
    "\n",
    "    def get_info(self):\n",
    "        return f\"Comment by {self.author.username}: {self.content}\"\n",
    "\n",
    "class SocialMediaApp:\n",
    "    def __init__(self):\n",
    "        self.users = []\n",
    "        self.posts = []\n",
    "        self.comments = []\n",
    "\n",
    "    def create_user(self, username):\n",
    "        user = User(username)\n",
    "        self.users.append(user)\n",
    "        return user\n",
    "\n",
    "    def get_users(self):\n",
    "        return [user.get_info() for user in self.users]\n",
    "\n",
    "    def get_posts(self):\n",
    "        return [post.get_info() for post in self.posts]\n",
    "\n",
    "    def get_comments(self):\n",
    "        return [comment.get_info() for comment in self.comments]\n",
    "\n",
    "# Create a social media application\n",
    "app = SocialMediaApp()\n",
    "\n",
    "# Create users\n",
    "user1 = app.create_user(\"Robin\")\n",
    "user2 = app.create_user(\"Munish\")\n",
    "\n",
    "# Users create posts and comments\n",
    "post1 = user1.create_post(\"Hello, world!\")\n",
    "comment1 = user2.add_comment(post1, \"Nice post!\")\n",
    "\n",
    "# Add users, posts, and comments to the app\n",
    "app.posts.append(post1)\n",
    "app.comments.append(comment1)\n",
    "\n",
    "# Get information from the app\n",
    "print(\"Users:\")\n",
    "print(app.get_users())\n",
    "\n",
    "print(\"\\nPosts:\")\n",
    "print(app.get_posts())\n",
    "\n",
    "print(\"\\nComments:\")\n",
    "print(app.get_comments())\n"
   ]
  },
  {
   "cell_type": "code",
   "execution_count": null,
   "metadata": {},
   "outputs": [],
   "source": []
  },
  {
   "cell_type": "markdown",
   "metadata": {},
   "source": [
    "### 1. What is abstraction in Python, and how does it relate to object-oriented programming?"
   ]
  },
  {
   "cell_type": "markdown",
   "metadata": {},
   "source": [
    "**Abstraction** is one of the four fundamental concepts in object-oriented programming (OOP), along with encapsulation, inheritance, and polymorphism. It is the process of hiding the implementation details of an object and exposing only the relevant features or functionalities to the outside world.\n",
    "\n",
    "In Python, abstraction allows you to create a blueprint (usually in the form of a class) that defines the structure and behavior of an object without exposing the underlying complexity. This blueprint serves as a higher-level representation of an object, focusing on what an object can do rather than how it does it.\n",
    "\n",
    "Here's how abstraction relates to object-oriented programming:\n",
    "\n",
    "**Defining Classes**: Abstraction starts by defining classes that represent objects in your program. These classes contain attributes (data) and methods (functions) that define the behavior of the objects.\n",
    "\n",
    "**Hiding Implementation Details**: With abstraction, you can hide the internal workings or implementation details of a class. This means that the user of the class only needs to know how to use its methods, not how those methods are implemented.\n",
    "\n",
    "**Providing a Simple Interface**: Abstraction provides a simplified interface for interacting with objects. Users of the class interact with it through its methods and attributes, without having to understand the complex inner workings.\n",
    "\n",
    "**Focusing on What, Not How**: Abstraction encourages developers to focus on what an object can do rather than how it does it. This helps in managing complexity and allows for easier maintenance and debugging.\n",
    "Reducing Complexity:\n",
    "\n",
    "By abstracting away implementation details, you can deal with higher-level concepts, making your code more manageable, modular, and reusable.\n",
    "\n",
    "**Enforcing Modularity**: Abstraction promotes modularity by breaking down complex systems into smaller, more manageable units. Each class encapsulates a specific set of functionalities.\n",
    "Supporting Code Reuse:\n",
    "\n",
    "Abstraction allows you to create templates (classes) that can be reused across different parts of your code or in different projects."
   ]
  },
  {
   "cell_type": "code",
   "execution_count": null,
   "metadata": {},
   "outputs": [
    {
     "name": "stdout",
     "output_type": "stream",
     "text": [
      "The Toyota Camry engine is now running.\n",
      "The Toyota Camry engine has been turned off.\n"
     ]
    }
   ],
   "source": [
    "class Car:\n",
    "    def __init__(self, make, model, year):\n",
    "        self.make = make\n",
    "        self.model = model\n",
    "        self.year = year\n",
    "\n",
    "    def start_engine(self):\n",
    "        print(f\"The {self.make} {self.model} engine is now running.\")\n",
    "\n",
    "    def stop_engine(self):\n",
    "        print(f\"The {self.make} {self.model} engine has been turned off.\")\n",
    "\n",
    "\n",
    "# Usage of the Car class\n",
    "my_car = Car(\"Toyota\", \"Camry\", 2022)\n",
    "my_car.start_engine()\n",
    "my_car.stop_engine()\n"
   ]
  },
  {
   "cell_type": "markdown",
   "metadata": {},
   "source": [
    "### 2. Describe the benefits of abstraction in terms of code organization and complexity reduction."
   ]
  },
  {
   "cell_type": "markdown",
   "metadata": {},
   "source": [
    "**Abstraction** provides several benefits in terms of code organization and complexity reduction:\n",
    "\n",
    "**Encapsulation of Complexity**: Abstraction allows you to encapsulate the internal workings and complexities of objects within a class. This means that users of the class only need to know how to use its methods and attributes, without having to understand the intricate details of how those methods are implemented.\n",
    "\n",
    "**Simplified Interface**: Abstraction provides a simplified and well-defined interface for interacting with objects. This makes it easier for developers to use and understand the functionality provided by a class, as they can focus on what the object can do, rather than how it does it.\n",
    "\n",
    "**Modularity**: Abstraction promotes modularity by breaking down complex systems into smaller, more manageable units (classes). Each class encapsulates a specific set of functionalities. This makes it easier to work on individual components without affecting the entire system.\n",
    "\n",
    "**Code Reusability**: Abstraction allows you to create templates (classes) that can be reused across different parts of your code or in different projects. Once you have defined an abstract representation of a concept, you can use it in various contexts without having to rewrite the same code.\n",
    "\n",
    "**Improved Collaboration**: Abstraction can make code more understandable and accessible to other developers. When classes are well-abstracted, it's easier for multiple developers to work on different parts of a project simultaneously, as they can interact with well-defined interfaces.\n",
    "\n",
    "**Reduced Cognitive Load**: By hiding the implementation details, abstraction reduces the cognitive load on developers. They can focus on the higher-level concepts and logic without getting bogged down by low-level implementation specifics.\n",
    "\n",
    "**Easier Maintenance and Debugging**: Abstraction makes it easier to maintain and debug code. When a bug is found or a change is needed, developers can focus on the relevant part of the code without being overwhelmed by the entire system's complexity.\n",
    "\n",
    "**Adaptability to Changes**: When the internal implementation of a class changes, as long as the external interface remains the same, the rest of the code that uses the class remains unaffected. This promotes flexibility and adaptability to changes in the codebase.\n",
    "\n",
    "**Security and Privacy**: Abstraction can help in enforcing security and privacy by controlling access to certain parts of an object's state or behavior. For example, using access modifiers (like private attributes or methods) in Python.\n",
    "\n",
    "**Simplifies Testing**: Abstraction can make unit testing easier because you can focus on testing the behavior of a class without worrying about the internal details. This leads to more effective and maintainable testing procedures."
   ]
  },
  {
   "cell_type": "markdown",
   "metadata": {},
   "source": [
    "### 3. Create a Python class called `Shape` with an abstract method `calculate_area()`. Then, create child classes (e.g., `Circle`, `Rectangle`) that implement the `calculate_area()` method. Provide an example of using these classes."
   ]
  },
  {
   "cell_type": "code",
   "execution_count": null,
   "metadata": {},
   "outputs": [
    {
     "name": "stdout",
     "output_type": "stream",
     "text": [
      "Area of the circle: 314.1592653589793\n",
      "Area of the rectangle: 60\n"
     ]
    }
   ],
   "source": [
    "from abc import ABC, abstractmethod\n",
    "import math\n",
    "\n",
    "class Shape(ABC):\n",
    "    @abstractmethod\n",
    "    def calculate_area(self):\n",
    "        pass\n",
    "\n",
    "class Circle(Shape):\n",
    "    def __init__(self, radius):\n",
    "        self.radius = radius\n",
    "\n",
    "    def calculate_area(self):\n",
    "        return math.pi * self.radius**2\n",
    "\n",
    "class Rectangle(Shape):\n",
    "    def __init__(self, length, width):\n",
    "        self.length = length\n",
    "        self.width = width\n",
    "\n",
    "    def calculate_area(self):\n",
    "        return self.length * self.width\n",
    "\n",
    "# Usage\n",
    "circle = Circle(10)\n",
    "rectangle = Rectangle(10, 6)\n",
    "\n",
    "circle_area = circle.calculate_area()\n",
    "rectangle_area = rectangle.calculate_area()\n",
    "\n",
    "print(f\"Area of the circle: {circle_area}\")\n",
    "print(f\"Area of the rectangle: {rectangle_area}\")\n"
   ]
  },
  {
   "cell_type": "markdown",
   "metadata": {},
   "source": [
    "### 4. Explain the concept of abstract classes in Python and how they are defined using the `abc` module. Provide an example."
   ]
  },
  {
   "cell_type": "markdown",
   "metadata": {},
   "source": [
    "Abstract classes in Python serve as blueprints for other classes. They define a common interface for a group of related classes. An abstract class cannot be instantiated on its own and typically contains one or more abstract methods.\n",
    "\n",
    "In Python, abstract classes are created using the `abc` module, which stands for \"Abstract Base Classes.\" The abc module provides the `ABC` class and the `abstractmethod` decorator, which are used to define abstract classes and abstract methods, respectively.\n",
    "\n",
    "Example:"
   ]
  },
  {
   "cell_type": "code",
   "execution_count": null,
   "metadata": {},
   "outputs": [
    {
     "name": "stdout",
     "output_type": "stream",
     "text": [
      "Area of the circle: 314.1592653589793\n",
      "Area of the rectangle: 60\n"
     ]
    }
   ],
   "source": [
    "from abc import ABC, abstractmethod\n",
    "import math\n",
    "\n",
    "class Shape(ABC):\n",
    "    @abstractmethod\n",
    "    def calculate_area(self):\n",
    "        pass\n",
    "\n",
    "class Circle(Shape):\n",
    "    def __init__(self, radius):\n",
    "        self.radius = radius\n",
    "\n",
    "    def calculate_area(self):\n",
    "        return math.pi * self.radius**2\n",
    "\n",
    "class Rectangle(Shape):\n",
    "    def __init__(self, length, width):\n",
    "        self.length = length\n",
    "        self.width = width\n",
    "\n",
    "    def calculate_area(self):\n",
    "        return self.length * self.width\n",
    "\n",
    "# Usage\n",
    "circle = Circle(10)\n",
    "rectangle = Rectangle(10, 6)\n",
    "\n",
    "circle_area = circle.calculate_area()\n",
    "rectangle_area = rectangle.calculate_area()\n",
    "\n",
    "print(f\"Area of the circle: {circle_area}\")\n",
    "print(f\"Area of the rectangle: {rectangle_area}\")\n"
   ]
  },
  {
   "cell_type": "markdown",
   "metadata": {},
   "source": [
    "### 5. How do abstract classes differ from regular classes in Python? Discuss their use cases."
   ]
  },
  {
   "cell_type": "markdown",
   "metadata": {},
   "source": [
    "|          | Regular Class | Abstract Class |\n",
    "|----------| ------------- | -------------- |\n",
    "| **Instantiation** | You can create objects (instances) of regular classes directly. | You cannot create objects of abstract classes directly. They are meant to serve as blueprints for other classes. |\n",
    "| **Abstract Methods** | Regular classes may or may not have abstract methods. | Abstract classes always have at least one abstract method.| \n",
    "| **Inheritance** | Subclasses of regular classes inherit all the attributes and methods of their parent class. They can also override and extend the behavior of those methods. | Abstract classes are meant to be inherited by other classes. They define a common interface that subclasses must implement. Subclasses of an abstract class must provide implementations for all abstract methods. |\n",
    "\n",
    "#### **Use Cases**:\n",
    "\n",
    "**Regular Classes**:\n",
    "\n",
    "* Regular classes are used when you have a concrete implementation for a group of related objects.\n",
    "* They are instantiated to create objects that can perform specific tasks or hold specific information.\n",
    "\n",
    "**Abstract Classes**:\n",
    "\n",
    "* Abstract classes are used when you want to define a common interface or behavior for a group of related classes, but you don't want to provide a concrete implementation for some of the methods.\n",
    "* They serve as blueprints that enforce a certain structure or set of methods for subclasses to implement.\n",
    "* They are useful when you want to ensure that certain methods are implemented by multiple subclasses, but the exact implementation can vary."
   ]
  },
  {
   "cell_type": "markdown",
   "metadata": {},
   "source": [
    "### 6. Create a Python class for a bank account and demonstrate abstraction by hiding the account balance and providing methods to deposit and withdraw funds."
   ]
  },
  {
   "cell_type": "code",
   "execution_count": null,
   "metadata": {},
   "outputs": [
    {
     "name": "stdout",
     "output_type": "stream",
     "text": [
      "Account 123456789 balance: $1000\n",
      "Updated balance: $1300\n"
     ]
    }
   ],
   "source": [
    "class BankAccount:\n",
    "    def __init__(self, account_number, initial_balance):\n",
    "        self.account_number = account_number\n",
    "        self.__balance = initial_balance  # Private attribute\n",
    "\n",
    "    def deposit(self, amount):\n",
    "        self.__balance += amount\n",
    "\n",
    "    def withdraw(self, amount):\n",
    "        if amount > self.__balance:\n",
    "            print(\"Insufficient funds\")\n",
    "        else:\n",
    "            self.__balance -= amount\n",
    "\n",
    "    def get_balance(self):\n",
    "        return self.__balance\n",
    "\n",
    "\n",
    "# Usage\n",
    "account = BankAccount(\"123456789\", 1000)\n",
    "\n",
    "# Accessing balance using the get_balance method\n",
    "print(f\"Account {account.account_number} balance: ${account.get_balance()}\")\n",
    "\n",
    "# Depositing and withdrawing funds\n",
    "account.deposit(500)\n",
    "account.withdraw(200)\n",
    "\n",
    "print(f\"Updated balance: ${account.get_balance()}\")\n"
   ]
  },
  {
   "cell_type": "markdown",
   "metadata": {},
   "source": [
    "### 7. Discuss the concept of interface classes in Python and their role in achieving abstraction."
   ]
  },
  {
   "cell_type": "markdown",
   "metadata": {},
   "source": [
    "*Ans:*\n",
    "\n",
    "**Interface classes** are classes that define a set of method signatures without providing any implementation details. They serve as contracts that specify what methods a class must implement. Although Python doesn't have a built-in construct for interfaces like some other languages (e.g., C#), the concept of interfaces can still be achieved through abstract base classes (ABCs) using the abc module.\n",
    "\n",
    "Interface classes (using abstract base classes) contribute to achieving abstraction in Python as below:\n",
    "\n",
    "* **Using Abstract Base Classes (ABCs)**: Python's abc module provides the ABC class and the abstractmethod decorator. This allows you to define abstract methods within a class.\n",
    "\n",
    "* **Defining Method Signatures**: Abstract methods declare the method signatures without providing any implementation. This means they only serve as placeholders for methods that must be implemented by subclasses.\n",
    "\n",
    "* **Enforcing a Contract**: By inheriting from an abstract base class and implementing its abstract methods, a subclass effectively promises to adhere to the contract defined by the abstract class.\n",
    "\n",
    "* **Hiding Implementation Details**: Interface classes, being abstract, focus solely on what methods should be available, not on how they are implemented. This helps in hiding the internal implementation details from the user.\n",
    "\n",
    "* **Providing a Common Interface**: Interface classes define a common set of methods that multiple classes can implement. This promotes a consistent interface for objects that share a certain behavior.\n",
    "\n",
    "* **Promoting Polymorphism**: Interface classes play a crucial role in achieving polymorphism. Objects of different classes that implement the same interface can be used interchangeably, allowing for flexibility and extensibility in your code.\n",
    "\n",
    "* **Facilitating Code Reuse**: By defining interfaces, you can create a structure that encourages code reuse. Different classes can implement the same interface, providing similar functionalities with potentially different implementations.\n",
    "\n",
    "* **Making Code More Understandable**: Interface classes help in making code more understandable and maintainable. They provide clear expectations of what methods should be available and how they should be used."
   ]
  },
  {
   "cell_type": "code",
   "execution_count": null,
   "metadata": {},
   "outputs": [],
   "source": [
    "from abc import ABC, abstractmethod\n",
    "\n",
    "# Example of Interface class in Python\n",
    "class Shape(ABC):\n",
    "    @abstractmethod\n",
    "    def calculate_area(self):\n",
    "        pass\n",
    "\n",
    "class Circle(Shape):\n",
    "    def __init__(self, radius):\n",
    "        self.radius = radius\n",
    "\n",
    "    def calculate_area(self):\n",
    "        return 3.14 * self.radius**2\n",
    "\n",
    "class Rectangle(Shape):\n",
    "    def __init__(self, length, width):\n",
    "        self.length = length\n",
    "        self.width = width\n",
    "\n",
    "    def calculate_area(self):\n",
    "        return self.length * self.width\n"
   ]
  },
  {
   "cell_type": "markdown",
   "metadata": {},
   "source": [
    "### 8. Create a Python class hierarchy for animals and implement abstraction by defining common methods (e.g., `eat()`, `sleep()`) in an abstract base class."
   ]
  },
  {
   "cell_type": "code",
   "execution_count": null,
   "metadata": {},
   "outputs": [
    {
     "name": "stdout",
     "output_type": "stream",
     "text": [
      "Lion is eating plants.\n",
      "Lion is sleeping in a cozy den.\n",
      "Eagle is pecking at seeds.\n",
      "Eagle is roosting in a tree.\n",
      "Snake is hunting for insects.\n",
      "Snake is basking on a rock.\n"
     ]
    }
   ],
   "source": [
    "from abc import ABC, abstractmethod\n",
    "\n",
    "class Animal(ABC):\n",
    "    def __init__(self, name):\n",
    "        self.name = name\n",
    "\n",
    "    @abstractmethod\n",
    "    def eat(self):\n",
    "        pass\n",
    "\n",
    "    @abstractmethod\n",
    "    def sleep(self):\n",
    "        pass\n",
    "\n",
    "class Mammal(Animal):\n",
    "    def eat(self):\n",
    "        return f\"{self.name} is eating plants.\"\n",
    "\n",
    "    def sleep(self):\n",
    "        return f\"{self.name} is sleeping in a cozy den.\"\n",
    "\n",
    "class Bird(Animal):\n",
    "    def eat(self):\n",
    "        return f\"{self.name} is pecking at seeds.\"\n",
    "\n",
    "    def sleep(self):\n",
    "        return f\"{self.name} is roosting in a tree.\"\n",
    "\n",
    "class Reptile(Animal):\n",
    "    def eat(self):\n",
    "        return f\"{self.name} is hunting for insects.\"\n",
    "\n",
    "    def sleep(self):\n",
    "        return f\"{self.name} is basking on a rock.\"\n",
    "\n",
    "# Usage\n",
    "lion = Mammal(\"Lion\")\n",
    "eagle = Bird(\"Eagle\")\n",
    "snake = Reptile(\"Snake\")\n",
    "\n",
    "print(lion.eat())\n",
    "print(lion.sleep())\n",
    "\n",
    "print(eagle.eat())\n",
    "print(eagle.sleep())\n",
    "\n",
    "print(snake.eat())\n",
    "print(snake.sleep())\n"
   ]
  },
  {
   "cell_type": "markdown",
   "metadata": {},
   "source": [
    "\n",
    "### 9. Explain the significance of encapsulation in achieving abstraction. Provide examples."
   ]
  },
  {
   "cell_type": "markdown",
   "metadata": {},
   "source": [
    "**Encapsulation and abstraction** are two closely related concepts in object-oriented programming, and encapsulation plays a significant role in achieving abstraction. Here's an explanation of the significance of encapsulation in achieving abstraction, along with examples:\n",
    "\n",
    "1. **Hiding Implementation Details**:\n",
    "\n",
    "* Encapsulation involves bundling data (attributes) and methods (functions) that operate on that data into a single unit, known as a class.\n",
    "* By encapsulating data and methods within a class, you can hide the internal implementation details of the class from the outside world.\n",
    "* This hidden implementation is a key aspect of achieving abstraction, as it allows users of the class to focus on what the class can do (its interface) rather than how it does it (its implementation details).\n",
    "\n",
    "2. **Access Control**:\n",
    "\n",
    "* Encapsulation allows you to control the access to the attributes and methods of a class.\n",
    "* You can specify which attributes or methods are public (accessible from outside the class) and which are private (only accessible within the class).\n",
    "* By keeping certain attributes or methods private, you can further hide the implementation details, ensuring that they are not directly accessible from outside the class.\n",
    "\n",
    "3. **Data Integrity**:\n",
    "\n",
    "* Encapsulation helps in ensuring the integrity of the data within the class. You can define rules and constraints for how data can be modified by providing setter methods.\n",
    "* This ensures that data remains in a valid state and prevents unexpected or invalid modifications."
   ]
  },
  {
   "cell_type": "markdown",
   "metadata": {},
   "source": [
    "### 10. What is the purpose of abstract methods, and how do they enforce abstraction in Python classes?"
   ]
  },
  {
   "cell_type": "markdown",
   "metadata": {},
   "source": [
    "**Abstract methods** serve as placeholders for methods that must be implemented by subclasses. They define the required method signatures without providing any implementation details. The purpose of abstract methods is to enforce a common interface or behavior across multiple classes, ensuring that certain methods are present in each subclass.   \n",
    "\n",
    "**Abstract methods enforce abstraction** in Python classes by following:\n",
    "\n",
    "**Defining a Contract**:\n",
    "\n",
    "* An abstract method in an abstract base class serves as a contract that specifies what methods must be implemented by subclasses.\n",
    "* It defines the expected behavior or functionality that subclasses are expected to provide.\n",
    "\n",
    "**Forcing Implementation**:\n",
    "\n",
    "* Subclasses that inherit from an abstract base class containing abstract methods are required to implement those methods.\n",
    "* If a subclass fails to provide an implementation for an abstract method, it will raise an error at runtime.\n",
    "\n",
    "**Providing a Common Interface**:\n",
    "\n",
    "* Abstract methods help in creating a common interface that multiple classes can implement. This promotes consistency in behavior across different subclasses.\n",
    "\n",
    "**Hiding Implementation Details**:\n",
    "\n",
    "* Abstract methods focus solely on what methods should be available, not on how they are implemented. This helps in hiding the internal implementation details from the user.\n",
    "\n",
    "**Supporting Polymorphism**:\n",
    "\n",
    "* Abstract methods play a crucial role in achieving polymorphism. Objects of different classes that implement the same abstract method can be used interchangeably, allowing for flexibility and extensibility in your code."
   ]
  },
  {
   "cell_type": "markdown",
   "metadata": {},
   "source": [
    "### 11. Create a Python class for a vehicle system and demonstrate abstraction by defining common methods (e.g., `start()`, `stop()`) in an abstract base class."
   ]
  },
  {
   "cell_type": "code",
   "execution_count": null,
   "metadata": {},
   "outputs": [
    {
     "name": "stdout",
     "output_type": "stream",
     "text": [
      "The 2022 Toyota Camry engine is now running.\n",
      "The 2022 Toyota Camry engine has been turned off.\n",
      "The 2022 Honda CBR500R engine is now running.\n",
      "The 2022 Honda CBR500R engine has been turned off.\n",
      "The 2022 Sea Ray Sundancer engine is now running.\n",
      "The 2022 Sea Ray Sundancer engine has been turned off.\n"
     ]
    }
   ],
   "source": [
    "from abc import ABC, abstractmethod\n",
    "\n",
    "class Vehicle(ABC):\n",
    "    def __init__(self, make, model, year):\n",
    "        self.make = make\n",
    "        self.model = model\n",
    "        self.year = year\n",
    "\n",
    "    @abstractmethod\n",
    "    def start(self):\n",
    "        pass\n",
    "\n",
    "    @abstractmethod\n",
    "    def stop(self):\n",
    "        pass\n",
    "\n",
    "class Car(Vehicle):\n",
    "    def start(self):\n",
    "        return f\"The {self.year} {self.make} {self.model} engine is now running.\"\n",
    "\n",
    "    def stop(self):\n",
    "        return f\"The {self.year} {self.make} {self.model} engine has been turned off.\"\n",
    "\n",
    "class Motorcycle(Vehicle):\n",
    "    def start(self):\n",
    "        return f\"The {self.year} {self.make} {self.model} engine is now running.\"\n",
    "\n",
    "    def stop(self):\n",
    "        return f\"The {self.year} {self.make} {self.model} engine has been turned off.\"\n",
    "\n",
    "class Boat(Vehicle):\n",
    "    def start(self):\n",
    "        return f\"The {self.year} {self.make} {self.model} engine is now running.\"\n",
    "\n",
    "    def stop(self):\n",
    "        return f\"The {self.year} {self.make} {self.model} engine has been turned off.\"\n",
    "\n",
    "# Usage\n",
    "car = Car(\"Toyota\", \"Camry\", 2022)\n",
    "motorcycle = Motorcycle(\"Honda\", \"CBR500R\", 2022)\n",
    "boat = Boat(\"Sea Ray\", \"Sundancer\", 2022)\n",
    "\n",
    "print(car.start())\n",
    "print(car.stop())\n",
    "\n",
    "print(motorcycle.start())\n",
    "print(motorcycle.stop())\n",
    "\n",
    "print(boat.start())\n",
    "print(boat.stop())\n"
   ]
  },
  {
   "cell_type": "markdown",
   "metadata": {},
   "source": [
    "### 12. Describe the use of abstract properties in Python and how they can be employed in abstract classes."
   ]
  },
  {
   "cell_type": "markdown",
   "metadata": {},
   "source": [
    "**Abstract properties** in Python are special attributes that are defined in abstract base classes (ABCs) using the `@property` decorator and the `@<attribute>.setter` decorator. They allow you to define a contract for attributes that must be implemented by subclasses, without specifying how they should be implemented.\n",
    "\n",
    "Here's how abstract properties work and how they can be employed in abstract classes:\n",
    "\n",
    "**Defining Abstract Properties**: To create an abstract property, you use the `@property` decorator on a method, and then create a setter method using `@<attribute>.setter`.\n",
    "\n",
    "**Getter Method**: The method with `@property` is known as the getter method. It defines the behavior for retrieving the value of the property.\n",
    "\n",
    "**Setter Method**: The method with `@<attribute>.setter` is used to define the behavior for setting the value of the property.\n",
    "\n",
    "**Enforcing a Contract**: Abstract properties define a contract that subclasses must adhere to. They specify that a certain attribute must be present in subclasses, but they don't specify how it should be implemented.\n",
    "\n",
    "**Providing a Common Interface**: Abstract properties allow you to create a common interface for attributes that multiple classes can implement. This promotes consistency in behavior across different subclasses.\n",
    "\n",
    "**Hiding Implementation Details**: Like abstract methods, abstract properties focus solely on what attributes should be available, not on how they are implemented. This helps in hiding the internal implementation details from the user."
   ]
  },
  {
   "cell_type": "markdown",
   "metadata": {},
   "source": [
    "### 13. Create a Python class hierarchy for employees in a company (e.g., manager, developer, designer) and implement abstraction by defining a common `get_salary()` method."
   ]
  },
  {
   "cell_type": "code",
   "execution_count": null,
   "metadata": {},
   "outputs": [
    {
     "name": "stdout",
     "output_type": "stream",
     "text": [
      "John Doe's Salary: $70000\n",
      "Jane Smith's Salary: $8000\n",
      "Mike Johnson's Salary: $5000\n"
     ]
    }
   ],
   "source": [
    "from abc import ABC, abstractmethod\n",
    "\n",
    "class Employee(ABC):\n",
    "    def __init__(self, name, employee_id):\n",
    "        self.name = name\n",
    "        self.employee_id = employee_id\n",
    "\n",
    "    @abstractmethod\n",
    "    def get_salary(self):\n",
    "        pass\n",
    "\n",
    "class Manager(Employee):\n",
    "    def __init__(self, name, employee_id, base_salary, bonus):\n",
    "        super().__init__(name, employee_id)\n",
    "        self.base_salary = base_salary\n",
    "        self.bonus = bonus\n",
    "\n",
    "    def get_salary(self):\n",
    "        return self.base_salary + self.bonus\n",
    "\n",
    "class Developer(Employee):\n",
    "    def __init__(self, name, employee_id, hourly_rate, hours_worked):\n",
    "        super().__init__(name, employee_id)\n",
    "        self.hourly_rate = hourly_rate\n",
    "        self.hours_worked = hours_worked\n",
    "\n",
    "    def get_salary(self):\n",
    "        return self.hourly_rate * self.hours_worked\n",
    "\n",
    "class Designer(Employee):\n",
    "    def __init__(self, name, employee_id, monthly_salary):\n",
    "        super().__init__(name, employee_id)\n",
    "        self.monthly_salary = monthly_salary\n",
    "\n",
    "    def get_salary(self):\n",
    "        return self.monthly_salary\n",
    "\n",
    "# Usage\n",
    "manager = Manager(\"John Doe\", 1001, 60000, 10000)\n",
    "developer = Developer(\"Jane Smith\", 1002, 50, 160)\n",
    "designer = Designer(\"Mike Johnson\", 1003, 5000)\n",
    "\n",
    "print(f\"{manager.name}'s Salary: ${manager.get_salary()}\")\n",
    "print(f\"{developer.name}'s Salary: ${developer.get_salary()}\")\n",
    "print(f\"{designer.name}'s Salary: ${designer.get_salary()}\")"
   ]
  },
  {
   "cell_type": "markdown",
   "metadata": {},
   "source": [
    "### 14. Discuss the differences between abstract classes and concrete classes in Python, including their instantiation."
   ]
  },
  {
   "cell_type": "markdown",
   "metadata": {},
   "source": [
    "|          | Concrete Class (Regular class) | Abstract Class |\n",
    "|----------| ------------- | -------------- |\n",
    "| **Instantiation** | You can create objects (instances) of concrete classes directly. | You cannot create objects of abstract classes directly. They are meant to serve as blueprints for other classes. |\n",
    "| **Abstract Methods** | Concrete classes may or may not have abstract methods. | Abstract classes always have at least one abstract method.| \n",
    "| **Inheritance** | Subclasses of concrete classes inherit all the attributes and methods of their parent class. They can also override and extend the behavior of those methods. | Abstract classes are meant to be inherited by other classes. They define a common interface that subclasses must implement. Subclasses of an abstract class must provide implementations for all abstract methods. |"
   ]
  },
  {
   "cell_type": "markdown",
   "metadata": {},
   "source": [
    "### 15. Explain the concept of abstract data types (ADTs) and their role in achieving abstraction in Python."
   ]
  },
  {
   "cell_type": "markdown",
   "metadata": {},
   "source": [
    "**Abstract Data Types (ADTs)** are a fundamental concept in computer science that define a set of operations on a data structure without specifying the underlying implementation. They provide a high-level view of data and operations, allowing you to focus on what can be done with the data rather than how it is represented.\n",
    "\n",
    "Here's how ADTs contribute to achieving abstraction in Python:\n",
    "\n",
    "**High-Level View**: ADTs provide a clear, high-level view of the data and operations associated with it. This allows you to think about data in a conceptual manner without getting bogged down in the implementation details.\n",
    "\n",
    "**Separation of Concerns**: ADTs separate the logical view (what operations can be performed) from the physical view (how data is stored and manipulated). This separation helps in organizing code and makes it easier to understand and maintain.\n",
    "\n",
    "**Encapsulation**: ADTs encapsulate data and operations related to that data. This means that the inner workings of the data structure are hidden, and users only interact with it through well-defined interfaces.\n",
    "\n",
    "**Code Reusability**: By providing a standardized interface for working with data, ADTs encourage code reuse. Once an ADT is defined, it can be used in multiple contexts without needing to reimplement the underlying data structure.\n",
    "\n",
    "**Abstraction of Implementation Details**: ADTs hide the implementation details of the data structure, allowing you to focus on the operations you want to perform rather than how those operations are carried out.\n",
    "\n",
    "**Flexibility and Extensibility**: ADTs can be implemented using different data structures, allowing you to choose the most appropriate one for a specific application. This provides flexibility and extensibility in designing software.\n",
    "\n",
    "**Support for Generic Programming**: ADTs can be defined in a generic manner, allowing them to work with different types of data. This promotes code that is more adaptable and can be applied to a wider range of scenarios.\n",
    "\n",
    "**Error Reduction**: ADTs provide a well-defined and standardized interface. This reduces the chances of errors caused by misunderstanding or misusing the data structure."
   ]
  },
  {
   "cell_type": "markdown",
   "metadata": {},
   "source": [
    "### 16. Create a Python class for a computer system, demonstrating abstraction by defining common methods (e.g., `power_on()`, `shutdown()`) in an abstract base class."
   ]
  },
  {
   "cell_type": "code",
   "execution_count": null,
   "metadata": {},
   "outputs": [
    {
     "name": "stdout",
     "output_type": "stream",
     "text": [
      "The Dell Precision Desktop desktop is booting up.\n",
      "The Dell Precision Desktop desktop is shutting down.\n",
      "The Dell Precision 3751 laptop is starting up.\n",
      "The Dell Precision 3751 laptop is shutting down.\n"
     ]
    }
   ],
   "source": [
    "from abc import ABC, abstractmethod\n",
    "\n",
    "# abstract base class\n",
    "class Computer(ABC):\n",
    "    def __init__(self, brand, model):\n",
    "        self.brand = brand\n",
    "        self.model = model\n",
    "\n",
    "    @abstractmethod\n",
    "    def power_on(self):\n",
    "        pass\n",
    "\n",
    "    @abstractmethod\n",
    "    def shutdown(self):\n",
    "        pass\n",
    "\n",
    "class Desktop(Computer):\n",
    "    def power_on(self):\n",
    "        return f\"The {self.brand} {self.model} desktop is booting up.\"\n",
    "\n",
    "    def shutdown(self):\n",
    "        return f\"The {self.brand} {self.model} desktop is shutting down.\"\n",
    "\n",
    "class Laptop(Computer):\n",
    "    def power_on(self):\n",
    "        return f\"The {self.brand} {self.model} laptop is starting up.\"\n",
    "\n",
    "    def shutdown(self):\n",
    "        return f\"The {self.brand} {self.model} laptop is shutting down.\"\n",
    "\n",
    "# Usage\n",
    "desktop = Desktop(\"Dell\", \"Precision Desktop\")\n",
    "laptop = Laptop(\"Dell\", \"Precision 3751\")\n",
    "\n",
    "print(desktop.power_on())\n",
    "print(desktop.shutdown())\n",
    "\n",
    "print(laptop.power_on())\n",
    "print(laptop.shutdown())"
   ]
  },
  {
   "cell_type": "markdown",
   "metadata": {},
   "source": [
    "### 17. Discuss the benefits of using abstraction in large-scale software development projects."
   ]
  },
  {
   "cell_type": "markdown",
   "metadata": {},
   "source": [
    "Using abstraction in large-scale software development projects offers several significant benefits:\n",
    "\n",
    "**Complexity Management**: Abstraction helps manage the complexity of large-scale projects by breaking them down into manageable, modular components. Each component can be developed and tested independently, reducing the cognitive load on individual developers.\n",
    "\n",
    "**Code Organization**: Abstraction promotes a structured and organized codebase. It allows developers to focus on individual components without being overwhelmed by the entire system's intricacies.\n",
    "\n",
    "**Improved Readability and Maintainability**: Abstracting away low-level details means that code is more readable and understandable. This makes it easier for developers (and future maintainers) to grasp the functionality of various parts of the system.\n",
    "\n",
    "**Ease of Collaboration**: Abstraction provides clear interfaces between different parts of the system. This facilitates teamwork, as developers can work on different components simultaneously, knowing how they interact with one another.\n",
    "\n",
    "**Reduced Coupling**: Abstraction helps in reducing tight coupling between different modules or components. This allows for changes or updates to be made to one part of the system without affecting others, as long as the interface remains consistent.\n",
    "\n",
    "**Code Reusability**: Abstracting common functionalities into reusable components or libraries allows for code reusability across different parts of the project or even in future projects. This leads to more efficient development cycles.\n",
    "\n",
    "**Testing and Debugging**: Abstraction facilitates easier testing and debugging. Each component can be tested in isolation, making it simpler to identify and fix issues. Additionally, unit testing can be more focused and comprehensive.\n",
    "\n",
    "**Scalability**: Abstraction enables scalability by providing a framework for adding new features or extending existing functionality. New components can be added without disrupting the existing architecture, as long as they adhere to the established interfaces.\n",
    "\n",
    "**Adaptability to Changes**: As requirements evolve, abstracted components can be modified or replaced without affecting the overall system. This allows for easier adaptation to changing business needs.\n",
    "\n",
    "**Security and Encapsulation**: Abstraction can help enforce security by limiting access to sensitive information or operations. It allows you to encapsulate critical functionalities, making it harder for unintended misuse.\n",
    "\n",
    "**Conceptual Modeling**: Abstraction allows for conceptual modeling of the system, making it easier to communicate with stakeholders, understand the system's behavior, and plan for future enhancements.\n",
    "\n",
    "**Error Isolation**: With proper abstraction, errors are isolated to specific components, making it easier to identify the source of a problem and fix it without affecting other parts of the system."
   ]
  },
  {
   "cell_type": "markdown",
   "metadata": {},
   "source": [
    "### 18. Explain how abstraction enhances code reusability and modularity in Python programs."
   ]
  },
  {
   "cell_type": "markdown",
   "metadata": {},
   "source": [
    "Abstraction plays a crucial role in enhancing code reusability and modularity in Python programs. Here's how it achieves this:\n",
    "\n",
    "1. **Separation of Concerns**: Abstraction allows you to separate different concerns or functionalities in your code. Each component or module can focus on a specific aspect of the program's functionality, making it easier to understand and maintain.\n",
    "\n",
    "2. **Well-Defined Interfaces**: Abstraction defines well-defined interfaces for components. These interfaces specify how different parts of the program can interact with each other. This promotes code reusability because you can use components without needing to understand their internal workings.\n",
    "\n",
    "3. **Encapsulation**: Abstraction encapsulates the implementation details of a component, hiding them from the outside world. This makes it easier to reuse components because you only need to know how to use them, not how they are implemented.\n",
    "\n",
    "4. **Modular Design**: Abstraction encourages a modular design, where different components are organized into separate modules or classes. These modules can be reused in other parts of the program or even in other projects.\n",
    "\n",
    "5. **Reduced Dependencies**: Abstraction reduces dependencies between components. This means that you can change or update one component without affecting others, as long as the interface remains consistent. This promotes code reusability and maintainability.\n",
    "\n",
    "6. **Inheritance and Interfaces**: Python supports inheritance and interfaces through abstract base classes (ABCs). This allows you to create abstract classes that define common interfaces for subclasses. This promotes code reuse by ensuring adherence to a specified contract.\n",
    "\n",
    "7. **Polymorphism**: Abstraction, particularly in the context of polymorphism, allows different objects to be used interchangeably if they implement the same abstract interface. This enables reusing code that operates on abstracted interfaces rather than specific implementations.\n",
    "\n",
    "8. **Template Methods**: Abstraction supports the use of template methods, where the overall structure of an algorithm is defined in an abstract class, but some steps are left to be implemented by subclasses. This encourages code reuse while allowing customization.\n",
    "\n",
    "9. **Functional Programming Paradigm**: Python supports functional programming paradigms, where functions are treated as first-class citizens. Abstraction in functions allows for the creation of reusable and composable code.\n",
    "\n",
    "10. **Mixin Classes**: Mixin classes in Python allow for the reuse of code across different classes by providing specific functionalities that can be mixed in. This is a powerful technique for enhancing modularity and code reuse.\n",
    "\n",
    "11. **Third-Party Libraries and Packages**: Python has a rich ecosystem of third-party libraries and packages. These libraries provide pre-built solutions to common problems, allowing developers to leverage existing code rather than reinventing the wheel."
   ]
  },
  {
   "cell_type": "markdown",
   "metadata": {},
   "source": [
    "### 19. Create a Python class for a library system, implementing abstraction by defining common methods (e.g., `add_book()`, `borrow_book()`) in an abstract base class."
   ]
  },
  {
   "cell_type": "code",
   "execution_count": null,
   "metadata": {},
   "outputs": [
    {
     "name": "stdout",
     "output_type": "stream",
     "text": [
      "The book 'Tales of Vikram Betal' by Somdev Bhatt has been added to the library.\n",
      "You have borrowed the book 'Tales of Vikram Betal'.\n",
      "The book 'Tales of Vikram Betal' is already borrowed.\n",
      "You have returned the book 'Tales of Vikram Betal'.\n",
      "The magazine 'Complete insights of Machine Learning' by Robin Pabbi has been added to the library.\n",
      "You have borrowed the magazine 'Complete insights of Machine Learning'.\n",
      "The magazine 'Complete insights of Machine Learning' is already borrowed.\n",
      "You have returned the magazine 'Complete insights of Machine Learning'.\n"
     ]
    }
   ],
   "source": [
    "from abc import ABC, abstractmethod\n",
    "\n",
    "class LibraryItem(ABC):\n",
    "    def __init__(self, title, author):\n",
    "        self.title = title\n",
    "        self.author = author\n",
    "        self.is_borrowed = False\n",
    "\n",
    "    @abstractmethod\n",
    "    def add_book(self):\n",
    "        pass\n",
    "\n",
    "    @abstractmethod\n",
    "    def borrow_book(self):\n",
    "        pass\n",
    "\n",
    "    @abstractmethod\n",
    "    def return_book(self):\n",
    "        pass\n",
    "\n",
    "class StoryBook(LibraryItem):\n",
    "    def add_book(self):\n",
    "        return f\"The book '{self.title}' by {self.author} has been added to the library.\"\n",
    "\n",
    "    def borrow_book(self):\n",
    "        if not self.is_borrowed:\n",
    "            self.is_borrowed = True\n",
    "            return f\"You have borrowed the book '{self.title}'.\"\n",
    "        else:\n",
    "            return f\"The book '{self.title}' is already borrowed.\"\n",
    "\n",
    "    def return_book(self):\n",
    "        if self.is_borrowed:\n",
    "            self.is_borrowed = False\n",
    "            return f\"You have returned the book '{self.title}'.\"\n",
    "        else:\n",
    "            return f\"The book '{self.title}' was not borrowed.\"\n",
    "\n",
    "class TechnologyBook(LibraryItem):\n",
    "    def add_book(self):\n",
    "        return f\"The magazine '{self.title}' by {self.author} has been added to the library.\"\n",
    "\n",
    "    def borrow_book(self):\n",
    "        if not self.is_borrowed:\n",
    "            self.is_borrowed = True\n",
    "            return f\"You have borrowed the magazine '{self.title}'.\"\n",
    "        else:\n",
    "            return f\"The magazine '{self.title}' is already borrowed.\"\n",
    "\n",
    "    def return_book(self):\n",
    "        if self.is_borrowed:\n",
    "            self.is_borrowed = False\n",
    "            return f\"You have returned the magazine '{self.title}'.\"\n",
    "        else:\n",
    "            return f\"The magazine '{self.title}' was not borrowed.\"\n",
    "\n",
    "# Usage\n",
    "book = StoryBook(\"Tales of Vikram Betal\", \"Somdev Bhatt\")\n",
    "magazine = TechnologyBook(\"Complete insights of Machine Learning\", \"Robin Pabbi\")\n",
    "\n",
    "print(book.add_book())\n",
    "print(book.borrow_book())\n",
    "print(book.borrow_book())\n",
    "print(book.return_book())\n",
    "\n",
    "print(magazine.add_book())\n",
    "print(magazine.borrow_book())\n",
    "print(magazine.borrow_book())\n",
    "print(magazine.return_book())"
   ]
  },
  {
   "cell_type": "markdown",
   "metadata": {},
   "source": [
    "### 20. Describe the concept of method abstraction in Python and how it relates to polymorphism."
   ]
  },
  {
   "cell_type": "markdown",
   "metadata": {},
   "source": [
    "*Ans:*\n",
    "\n",
    "**Method abstraction** in Python is a fundamental concept related to polymorphism and object-oriented programming. It involves defining methods in abstract base classes or interfaces without specifying their concrete implementations. Instead, these abstract methods serve as placeholders for behavior that must be defined by concrete subclasses. Method abstraction allows different classes to share a common method signature, providing a way to achieve polymorphism.\n",
    "\n",
    "Here's how method abstraction relates to polymorphism:\n",
    "\n",
    "**Abstraction through Abstract Methods**: In Python, you can use abstract methods, which are defined in abstract base classes using the `@abstractmethod` decorator from the abc module. These abstract methods have no implementation details and serve as a contract or specification for what a concrete subclass must implement.\n",
    "\n",
    "**Polymorphism through Abstract Methods**: Polymorphism is the ability of different objects to respond to the same method call in a way that is appropriate for their specific type. When you define abstract methods in an abstract base class, you are effectively creating a shared method signature that multiple subclasses can implement in their own unique ways.\n",
    "\n",
    "**Consistent Interfaces**: Abstract methods establish consistent interfaces for different classes, enabling polymorphism. These abstract methods define how objects of different types should respond to method calls with the same name. This allows you to work with objects of various classes in a uniform manner.\n",
    "\n",
    "**Dynamic Dispatch**: Polymorphism in Python is achieved through dynamic dispatch, which means that the appropriate method implementation is determined at runtime based on the actual object's type. When you call an abstract method on an object, Python dispatches the call to the correct concrete implementation based on the object's class.\n",
    "\n",
    "**Code Reusability**: Method abstraction and polymorphism promote code reusability. You can write code that works with abstracted interfaces, allowing it to be reused with different objects that implement those interfaces. This is particularly useful when dealing with collections of objects of different types.\n",
    "\n",
    "**Extensibility**: As your code evolves, you can add new classes that implement the same abstract methods, thereby extending the behavior of your application without modifying existing code. This is a key aspect of polymorphism and method abstraction."
   ]
  },
  {
   "cell_type": "markdown",
   "metadata": {},
   "source": [
    "## Abstraction"
   ]
  },
  {
   "cell_type": "markdown",
   "metadata": {},
   "source": [
    "### 1. What is abstraction in Python, and how does it relate to object-oriented programming?"
   ]
  },
  {
   "cell_type": "markdown",
   "metadata": {},
   "source": [
    "**Abstraction** is one of the four fundamental concepts in object-oriented programming (OOP), along with encapsulation, inheritance, and polymorphism. It is the process of hiding the implementation details of an object and exposing only the relevant features or functionalities to the outside world.\n",
    "\n",
    "In Python, abstraction allows you to create a blueprint (usually in the form of a class) that defines the structure and behavior of an object without exposing the underlying complexity. This blueprint serves as a higher-level representation of an object, focusing on what an object can do rather than how it does it.\n",
    "\n",
    "Here's how abstraction relates to object-oriented programming:\n",
    "\n",
    "**Defining Classes**: Abstraction starts by defining classes that represent objects in your program. These classes contain attributes (data) and methods (functions) that define the behavior of the objects.\n",
    "\n",
    "**Hiding Implementation Details**: With abstraction, you can hide the internal workings or implementation details of a class. This means that the user of the class only needs to know how to use its methods, not how those methods are implemented.\n",
    "\n",
    "**Providing a Simple Interface**: Abstraction provides a simplified interface for interacting with objects. Users of the class interact with it through its methods and attributes, without having to understand the complex inner workings.\n",
    "\n",
    "**Focusing on What, Not How**: Abstraction encourages developers to focus on what an object can do rather than how it does it. This helps in managing complexity and allows for easier maintenance and debugging.\n",
    "Reducing Complexity:\n",
    "\n",
    "By abstracting away implementation details, you can deal with higher-level concepts, making your code more manageable, modular, and reusable.\n",
    "\n",
    "**Enforcing Modularity**: Abstraction promotes modularity by breaking down complex systems into smaller, more manageable units. Each class encapsulates a specific set of functionalities.\n",
    "Supporting Code Reuse:\n",
    "\n",
    "Abstraction allows you to create templates (classes) that can be reused across different parts of your code or in different projects."
   ]
  },
  {
   "cell_type": "code",
   "execution_count": null,
   "metadata": {},
   "outputs": [
    {
     "name": "stdout",
     "output_type": "stream",
     "text": [
      "The Toyota Camry engine is now running.\n",
      "The Toyota Camry engine has been turned off.\n"
     ]
    }
   ],
   "source": [
    "class Car:\n",
    "    def __init__(self, make, model, year):\n",
    "        self.make = make\n",
    "        self.model = model\n",
    "        self.year = year\n",
    "\n",
    "    def start_engine(self):\n",
    "        print(f\"The {self.make} {self.model} engine is now running.\")\n",
    "\n",
    "    def stop_engine(self):\n",
    "        print(f\"The {self.make} {self.model} engine has been turned off.\")\n",
    "\n",
    "\n",
    "# Usage of the Car class\n",
    "my_car = Car(\"Toyota\", \"Camry\", 2022)\n",
    "my_car.start_engine()\n",
    "my_car.stop_engine()\n"
   ]
  },
  {
   "cell_type": "markdown",
   "metadata": {},
   "source": [
    "### 2. Describe the benefits of abstraction in terms of code organization and complexity reduction."
   ]
  },
  {
   "cell_type": "markdown",
   "metadata": {},
   "source": [
    "**Abstraction** provides several benefits in terms of code organization and complexity reduction:\n",
    "\n",
    "**Encapsulation of Complexity**: Abstraction allows you to encapsulate the internal workings and complexities of objects within a class. This means that users of the class only need to know how to use its methods and attributes, without having to understand the intricate details of how those methods are implemented.\n",
    "\n",
    "**Simplified Interface**: Abstraction provides a simplified and well-defined interface for interacting with objects. This makes it easier for developers to use and understand the functionality provided by a class, as they can focus on what the object can do, rather than how it does it.\n",
    "\n",
    "**Modularity**: Abstraction promotes modularity by breaking down complex systems into smaller, more manageable units (classes). Each class encapsulates a specific set of functionalities. This makes it easier to work on individual components without affecting the entire system.\n",
    "\n",
    "**Code Reusability**: Abstraction allows you to create templates (classes) that can be reused across different parts of your code or in different projects. Once you have defined an abstract representation of a concept, you can use it in various contexts without having to rewrite the same code.\n",
    "\n",
    "**Improved Collaboration**: Abstraction can make code more understandable and accessible to other developers. When classes are well-abstracted, it's easier for multiple developers to work on different parts of a project simultaneously, as they can interact with well-defined interfaces.\n",
    "\n",
    "**Reduced Cognitive Load**: By hiding the implementation details, abstraction reduces the cognitive load on developers. They can focus on the higher-level concepts and logic without getting bogged down by low-level implementation specifics.\n",
    "\n",
    "**Easier Maintenance and Debugging**: Abstraction makes it easier to maintain and debug code. When a bug is found or a change is needed, developers can focus on the relevant part of the code without being overwhelmed by the entire system's complexity.\n",
    "\n",
    "**Adaptability to Changes**: When the internal implementation of a class changes, as long as the external interface remains the same, the rest of the code that uses the class remains unaffected. This promotes flexibility and adaptability to changes in the codebase.\n",
    "\n",
    "**Security and Privacy**: Abstraction can help in enforcing security and privacy by controlling access to certain parts of an object's state or behavior. For example, using access modifiers (like private attributes or methods) in Python.\n",
    "\n",
    "**Simplifies Testing**: Abstraction can make unit testing easier because you can focus on testing the behavior of a class without worrying about the internal details. This leads to more effective and maintainable testing procedures."
   ]
  },
  {
   "cell_type": "markdown",
   "metadata": {},
   "source": [
    "### 3. Create a Python class called `Shape` with an abstract method `calculate_area()`. Then, create child classes (e.g., `Circle`, `Rectangle`) that implement the `calculate_area()` method. Provide an example of using these classes."
   ]
  },
  {
   "cell_type": "code",
   "execution_count": null,
   "metadata": {},
   "outputs": [
    {
     "name": "stdout",
     "output_type": "stream",
     "text": [
      "Area of the circle: 314.1592653589793\n",
      "Area of the rectangle: 60\n"
     ]
    }
   ],
   "source": [
    "from abc import ABC, abstractmethod\n",
    "import math\n",
    "\n",
    "class Shape(ABC):\n",
    "    @abstractmethod\n",
    "    def calculate_area(self):\n",
    "        pass\n",
    "\n",
    "class Circle(Shape):\n",
    "    def __init__(self, radius):\n",
    "        self.radius = radius\n",
    "\n",
    "    def calculate_area(self):\n",
    "        return math.pi * self.radius**2\n",
    "\n",
    "class Rectangle(Shape):\n",
    "    def __init__(self, length, width):\n",
    "        self.length = length\n",
    "        self.width = width\n",
    "\n",
    "    def calculate_area(self):\n",
    "        return self.length * self.width\n",
    "\n",
    "# Usage\n",
    "circle = Circle(10)\n",
    "rectangle = Rectangle(10, 6)\n",
    "\n",
    "circle_area = circle.calculate_area()\n",
    "rectangle_area = rectangle.calculate_area()\n",
    "\n",
    "print(f\"Area of the circle: {circle_area}\")\n",
    "print(f\"Area of the rectangle: {rectangle_area}\")\n"
   ]
  },
  {
   "cell_type": "markdown",
   "metadata": {},
   "source": [
    "### 4. Explain the concept of abstract classes in Python and how they are defined using the `abc` module. Provide an example."
   ]
  },
  {
   "cell_type": "markdown",
   "metadata": {},
   "source": [
    "Abstract classes in Python serve as blueprints for other classes. They define a common interface for a group of related classes. An abstract class cannot be instantiated on its own and typically contains one or more abstract methods.\n",
    "\n",
    "In Python, abstract classes are created using the `abc` module, which stands for \"Abstract Base Classes.\" The abc module provides the `ABC` class and the `abstractmethod` decorator, which are used to define abstract classes and abstract methods, respectively.\n",
    "\n",
    "Example:"
   ]
  },
  {
   "cell_type": "code",
   "execution_count": null,
   "metadata": {},
   "outputs": [
    {
     "name": "stdout",
     "output_type": "stream",
     "text": [
      "Area of the circle: 314.1592653589793\n",
      "Area of the rectangle: 60\n"
     ]
    }
   ],
   "source": [
    "from abc import ABC, abstractmethod\n",
    "import math\n",
    "\n",
    "class Shape(ABC):\n",
    "    @abstractmethod\n",
    "    def calculate_area(self):\n",
    "        pass\n",
    "\n",
    "class Circle(Shape):\n",
    "    def __init__(self, radius):\n",
    "        self.radius = radius\n",
    "\n",
    "    def calculate_area(self):\n",
    "        return math.pi * self.radius**2\n",
    "\n",
    "class Rectangle(Shape):\n",
    "    def __init__(self, length, width):\n",
    "        self.length = length\n",
    "        self.width = width\n",
    "\n",
    "    def calculate_area(self):\n",
    "        return self.length * self.width\n",
    "\n",
    "# Usage\n",
    "circle = Circle(10)\n",
    "rectangle = Rectangle(10, 6)\n",
    "\n",
    "circle_area = circle.calculate_area()\n",
    "rectangle_area = rectangle.calculate_area()\n",
    "\n",
    "print(f\"Area of the circle: {circle_area}\")\n",
    "print(f\"Area of the rectangle: {rectangle_area}\")\n"
   ]
  },
  {
   "cell_type": "markdown",
   "metadata": {},
   "source": [
    "### 5. How do abstract classes differ from regular classes in Python? Discuss their use cases."
   ]
  },
  {
   "cell_type": "markdown",
   "metadata": {},
   "source": [
    "|          | Regular Class | Abstract Class |\n",
    "|----------| ------------- | -------------- |\n",
    "| **Instantiation** | You can create objects (instances) of regular classes directly. | You cannot create objects of abstract classes directly. They are meant to serve as blueprints for other classes. |\n",
    "| **Abstract Methods** | Regular classes may or may not have abstract methods. | Abstract classes always have at least one abstract method.| \n",
    "| **Inheritance** | Subclasses of regular classes inherit all the attributes and methods of their parent class. They can also override and extend the behavior of those methods. | Abstract classes are meant to be inherited by other classes. They define a common interface that subclasses must implement. Subclasses of an abstract class must provide implementations for all abstract methods. |\n",
    "\n",
    "#### **Use Cases**:\n",
    "\n",
    "**Regular Classes**:\n",
    "\n",
    "* Regular classes are used when you have a concrete implementation for a group of related objects.\n",
    "* They are instantiated to create objects that can perform specific tasks or hold specific information.\n",
    "\n",
    "**Abstract Classes**:\n",
    "\n",
    "* Abstract classes are used when you want to define a common interface or behavior for a group of related classes, but you don't want to provide a concrete implementation for some of the methods.\n",
    "* They serve as blueprints that enforce a certain structure or set of methods for subclasses to implement.\n",
    "* They are useful when you want to ensure that certain methods are implemented by multiple subclasses, but the exact implementation can vary."
   ]
  },
  {
   "cell_type": "markdown",
   "metadata": {},
   "source": [
    "### 6. Create a Python class for a bank account and demonstrate abstraction by hiding the account balance and providing methods to deposit and withdraw funds."
   ]
  },
  {
   "cell_type": "code",
   "execution_count": null,
   "metadata": {},
   "outputs": [
    {
     "name": "stdout",
     "output_type": "stream",
     "text": [
      "Account 123456789 balance: $1000\n",
      "Updated balance: $1300\n"
     ]
    }
   ],
   "source": [
    "class BankAccount:\n",
    "    def __init__(self, account_number, initial_balance):\n",
    "        self.account_number = account_number\n",
    "        self.__balance = initial_balance  # Private attribute\n",
    "\n",
    "    def deposit(self, amount):\n",
    "        self.__balance += amount\n",
    "\n",
    "    def withdraw(self, amount):\n",
    "        if amount > self.__balance:\n",
    "            print(\"Insufficient funds\")\n",
    "        else:\n",
    "            self.__balance -= amount\n",
    "\n",
    "    def get_balance(self):\n",
    "        return self.__balance\n",
    "\n",
    "\n",
    "# Usage\n",
    "account = BankAccount(\"123456789\", 1000)\n",
    "\n",
    "# Accessing balance using the get_balance method\n",
    "print(f\"Account {account.account_number} balance: ${account.get_balance()}\")\n",
    "\n",
    "# Depositing and withdrawing funds\n",
    "account.deposit(500)\n",
    "account.withdraw(200)\n",
    "\n",
    "print(f\"Updated balance: ${account.get_balance()}\")\n"
   ]
  },
  {
   "cell_type": "markdown",
   "metadata": {},
   "source": [
    "### 7. Discuss the concept of interface classes in Python and their role in achieving abstraction."
   ]
  },
  {
   "cell_type": "markdown",
   "metadata": {},
   "source": [
    "*Ans:*\n",
    "\n",
    "**Interface classes** are classes that define a set of method signatures without providing any implementation details. They serve as contracts that specify what methods a class must implement. Although Python doesn't have a built-in construct for interfaces like some other languages (e.g., C#), the concept of interfaces can still be achieved through abstract base classes (ABCs) using the abc module.\n",
    "\n",
    "Interface classes (using abstract base classes) contribute to achieving abstraction in Python as below:\n",
    "\n",
    "* **Using Abstract Base Classes (ABCs)**: Python's abc module provides the ABC class and the abstractmethod decorator. This allows you to define abstract methods within a class.\n",
    "\n",
    "* **Defining Method Signatures**: Abstract methods declare the method signatures without providing any implementation. This means they only serve as placeholders for methods that must be implemented by subclasses.\n",
    "\n",
    "* **Enforcing a Contract**: By inheriting from an abstract base class and implementing its abstract methods, a subclass effectively promises to adhere to the contract defined by the abstract class.\n",
    "\n",
    "* **Hiding Implementation Details**: Interface classes, being abstract, focus solely on what methods should be available, not on how they are implemented. This helps in hiding the internal implementation details from the user.\n",
    "\n",
    "* **Providing a Common Interface**: Interface classes define a common set of methods that multiple classes can implement. This promotes a consistent interface for objects that share a certain behavior.\n",
    "\n",
    "* **Promoting Polymorphism**: Interface classes play a crucial role in achieving polymorphism. Objects of different classes that implement the same interface can be used interchangeably, allowing for flexibility and extensibility in your code.\n",
    "\n",
    "* **Facilitating Code Reuse**: By defining interfaces, you can create a structure that encourages code reuse. Different classes can implement the same interface, providing similar functionalities with potentially different implementations.\n",
    "\n",
    "* **Making Code More Understandable**: Interface classes help in making code more understandable and maintainable. They provide clear expectations of what methods should be available and how they should be used."
   ]
  },
  {
   "cell_type": "code",
   "execution_count": null,
   "metadata": {},
   "outputs": [],
   "source": [
    "from abc import ABC, abstractmethod\n",
    "\n",
    "# Example of Interface class in Python\n",
    "class Shape(ABC):\n",
    "    @abstractmethod\n",
    "    def calculate_area(self):\n",
    "        pass\n",
    "\n",
    "class Circle(Shape):\n",
    "    def __init__(self, radius):\n",
    "        self.radius = radius\n",
    "\n",
    "    def calculate_area(self):\n",
    "        return 3.14 * self.radius**2\n",
    "\n",
    "class Rectangle(Shape):\n",
    "    def __init__(self, length, width):\n",
    "        self.length = length\n",
    "        self.width = width\n",
    "\n",
    "    def calculate_area(self):\n",
    "        return self.length * self.width\n"
   ]
  },
  {
   "cell_type": "markdown",
   "metadata": {},
   "source": [
    "### 8. Create a Python class hierarchy for animals and implement abstraction by defining common methods (e.g., `eat()`, `sleep()`) in an abstract base class."
   ]
  },
  {
   "cell_type": "code",
   "execution_count": null,
   "metadata": {},
   "outputs": [
    {
     "name": "stdout",
     "output_type": "stream",
     "text": [
      "Lion is eating plants.\n",
      "Lion is sleeping in a cozy den.\n",
      "Eagle is pecking at seeds.\n",
      "Eagle is roosting in a tree.\n",
      "Snake is hunting for insects.\n",
      "Snake is basking on a rock.\n"
     ]
    }
   ],
   "source": [
    "from abc import ABC, abstractmethod\n",
    "\n",
    "class Animal(ABC):\n",
    "    def __init__(self, name):\n",
    "        self.name = name\n",
    "\n",
    "    @abstractmethod\n",
    "    def eat(self):\n",
    "        pass\n",
    "\n",
    "    @abstractmethod\n",
    "    def sleep(self):\n",
    "        pass\n",
    "\n",
    "class Mammal(Animal):\n",
    "    def eat(self):\n",
    "        return f\"{self.name} is eating plants.\"\n",
    "\n",
    "    def sleep(self):\n",
    "        return f\"{self.name} is sleeping in a cozy den.\"\n",
    "\n",
    "class Bird(Animal):\n",
    "    def eat(self):\n",
    "        return f\"{self.name} is pecking at seeds.\"\n",
    "\n",
    "    def sleep(self):\n",
    "        return f\"{self.name} is roosting in a tree.\"\n",
    "\n",
    "class Reptile(Animal):\n",
    "    def eat(self):\n",
    "        return f\"{self.name} is hunting for insects.\"\n",
    "\n",
    "    def sleep(self):\n",
    "        return f\"{self.name} is basking on a rock.\"\n",
    "\n",
    "# Usage\n",
    "lion = Mammal(\"Lion\")\n",
    "eagle = Bird(\"Eagle\")\n",
    "snake = Reptile(\"Snake\")\n",
    "\n",
    "print(lion.eat())\n",
    "print(lion.sleep())\n",
    "\n",
    "print(eagle.eat())\n",
    "print(eagle.sleep())\n",
    "\n",
    "print(snake.eat())\n",
    "print(snake.sleep())\n"
   ]
  },
  {
   "cell_type": "markdown",
   "metadata": {},
   "source": [
    "\n",
    "### 9. Explain the significance of encapsulation in achieving abstraction. Provide examples."
   ]
  },
  {
   "cell_type": "markdown",
   "metadata": {},
   "source": [
    "**Encapsulation and abstraction** are two closely related concepts in object-oriented programming, and encapsulation plays a significant role in achieving abstraction. Here's an explanation of the significance of encapsulation in achieving abstraction, along with examples:\n",
    "\n",
    "1. **Hiding Implementation Details**:\n",
    "\n",
    "* Encapsulation involves bundling data (attributes) and methods (functions) that operate on that data into a single unit, known as a class.\n",
    "* By encapsulating data and methods within a class, you can hide the internal implementation details of the class from the outside world.\n",
    "* This hidden implementation is a key aspect of achieving abstraction, as it allows users of the class to focus on what the class can do (its interface) rather than how it does it (its implementation details).\n",
    "\n",
    "2. **Access Control**:\n",
    "\n",
    "* Encapsulation allows you to control the access to the attributes and methods of a class.\n",
    "* You can specify which attributes or methods are public (accessible from outside the class) and which are private (only accessible within the class).\n",
    "* By keeping certain attributes or methods private, you can further hide the implementation details, ensuring that they are not directly accessible from outside the class.\n",
    "\n",
    "3. **Data Integrity**:\n",
    "\n",
    "* Encapsulation helps in ensuring the integrity of the data within the class. You can define rules and constraints for how data can be modified by providing setter methods.\n",
    "* This ensures that data remains in a valid state and prevents unexpected or invalid modifications."
   ]
  },
  {
   "cell_type": "markdown",
   "metadata": {},
   "source": [
    "### 10. What is the purpose of abstract methods, and how do they enforce abstraction in Python classes?"
   ]
  },
  {
   "cell_type": "markdown",
   "metadata": {},
   "source": [
    "**Abstract methods** serve as placeholders for methods that must be implemented by subclasses. They define the required method signatures without providing any implementation details. The purpose of abstract methods is to enforce a common interface or behavior across multiple classes, ensuring that certain methods are present in each subclass.   \n",
    "\n",
    "**Abstract methods enforce abstraction** in Python classes by following:\n",
    "\n",
    "**Defining a Contract**:\n",
    "\n",
    "* An abstract method in an abstract base class serves as a contract that specifies what methods must be implemented by subclasses.\n",
    "* It defines the expected behavior or functionality that subclasses are expected to provide.\n",
    "\n",
    "**Forcing Implementation**:\n",
    "\n",
    "* Subclasses that inherit from an abstract base class containing abstract methods are required to implement those methods.\n",
    "* If a subclass fails to provide an implementation for an abstract method, it will raise an error at runtime.\n",
    "\n",
    "**Providing a Common Interface**:\n",
    "\n",
    "* Abstract methods help in creating a common interface that multiple classes can implement. This promotes consistency in behavior across different subclasses.\n",
    "\n",
    "**Hiding Implementation Details**:\n",
    "\n",
    "* Abstract methods focus solely on what methods should be available, not on how they are implemented. This helps in hiding the internal implementation details from the user.\n",
    "\n",
    "**Supporting Polymorphism**:\n",
    "\n",
    "* Abstract methods play a crucial role in achieving polymorphism. Objects of different classes that implement the same abstract method can be used interchangeably, allowing for flexibility and extensibility in your code."
   ]
  },
  {
   "cell_type": "markdown",
   "metadata": {},
   "source": [
    "### 11. Create a Python class for a vehicle system and demonstrate abstraction by defining common methods (e.g., `start()`, `stop()`) in an abstract base class."
   ]
  },
  {
   "cell_type": "code",
   "execution_count": null,
   "metadata": {},
   "outputs": [
    {
     "name": "stdout",
     "output_type": "stream",
     "text": [
      "The 2022 Toyota Camry engine is now running.\n",
      "The 2022 Toyota Camry engine has been turned off.\n",
      "The 2022 Honda CBR500R engine is now running.\n",
      "The 2022 Honda CBR500R engine has been turned off.\n",
      "The 2022 Sea Ray Sundancer engine is now running.\n",
      "The 2022 Sea Ray Sundancer engine has been turned off.\n"
     ]
    }
   ],
   "source": [
    "from abc import ABC, abstractmethod\n",
    "\n",
    "class Vehicle(ABC):\n",
    "    def __init__(self, make, model, year):\n",
    "        self.make = make\n",
    "        self.model = model\n",
    "        self.year = year\n",
    "\n",
    "    @abstractmethod\n",
    "    def start(self):\n",
    "        pass\n",
    "\n",
    "    @abstractmethod\n",
    "    def stop(self):\n",
    "        pass\n",
    "\n",
    "class Car(Vehicle):\n",
    "    def start(self):\n",
    "        return f\"The {self.year} {self.make} {self.model} engine is now running.\"\n",
    "\n",
    "    def stop(self):\n",
    "        return f\"The {self.year} {self.make} {self.model} engine has been turned off.\"\n",
    "\n",
    "class Motorcycle(Vehicle):\n",
    "    def start(self):\n",
    "        return f\"The {self.year} {self.make} {self.model} engine is now running.\"\n",
    "\n",
    "    def stop(self):\n",
    "        return f\"The {self.year} {self.make} {self.model} engine has been turned off.\"\n",
    "\n",
    "class Boat(Vehicle):\n",
    "    def start(self):\n",
    "        return f\"The {self.year} {self.make} {self.model} engine is now running.\"\n",
    "\n",
    "    def stop(self):\n",
    "        return f\"The {self.year} {self.make} {self.model} engine has been turned off.\"\n",
    "\n",
    "# Usage\n",
    "car = Car(\"Toyota\", \"Camry\", 2022)\n",
    "motorcycle = Motorcycle(\"Honda\", \"CBR500R\", 2022)\n",
    "boat = Boat(\"Sea Ray\", \"Sundancer\", 2022)\n",
    "\n",
    "print(car.start())\n",
    "print(car.stop())\n",
    "\n",
    "print(motorcycle.start())\n",
    "print(motorcycle.stop())\n",
    "\n",
    "print(boat.start())\n",
    "print(boat.stop())\n"
   ]
  },
  {
   "cell_type": "markdown",
   "metadata": {},
   "source": [
    "### 12. Describe the use of abstract properties in Python and how they can be employed in abstract classes."
   ]
  },
  {
   "cell_type": "markdown",
   "metadata": {},
   "source": [
    "**Abstract properties** in Python are special attributes that are defined in abstract base classes (ABCs) using the `@property` decorator and the `@<attribute>.setter` decorator. They allow you to define a contract for attributes that must be implemented by subclasses, without specifying how they should be implemented.\n",
    "\n",
    "Here's how abstract properties work and how they can be employed in abstract classes:\n",
    "\n",
    "**Defining Abstract Properties**: To create an abstract property, you use the `@property` decorator on a method, and then create a setter method using `@<attribute>.setter`.\n",
    "\n",
    "**Getter Method**: The method with `@property` is known as the getter method. It defines the behavior for retrieving the value of the property.\n",
    "\n",
    "**Setter Method**: The method with `@<attribute>.setter` is used to define the behavior for setting the value of the property.\n",
    "\n",
    "**Enforcing a Contract**: Abstract properties define a contract that subclasses must adhere to. They specify that a certain attribute must be present in subclasses, but they don't specify how it should be implemented.\n",
    "\n",
    "**Providing a Common Interface**: Abstract properties allow you to create a common interface for attributes that multiple classes can implement. This promotes consistency in behavior across different subclasses.\n",
    "\n",
    "**Hiding Implementation Details**: Like abstract methods, abstract properties focus solely on what attributes should be available, not on how they are implemented. This helps in hiding the internal implementation details from the user."
   ]
  },
  {
   "cell_type": "markdown",
   "metadata": {},
   "source": [
    "### 13. Create a Python class hierarchy for employees in a company (e.g., manager, developer, designer) and implement abstraction by defining a common `get_salary()` method."
   ]
  },
  {
   "cell_type": "code",
   "execution_count": null,
   "metadata": {},
   "outputs": [
    {
     "name": "stdout",
     "output_type": "stream",
     "text": [
      "John Doe's Salary: $70000\n",
      "Jane Smith's Salary: $8000\n",
      "Mike Johnson's Salary: $5000\n"
     ]
    }
   ],
   "source": [
    "from abc import ABC, abstractmethod\n",
    "\n",
    "class Employee(ABC):\n",
    "    def __init__(self, name, employee_id):\n",
    "        self.name = name\n",
    "        self.employee_id = employee_id\n",
    "\n",
    "    @abstractmethod\n",
    "    def get_salary(self):\n",
    "        pass\n",
    "\n",
    "class Manager(Employee):\n",
    "    def __init__(self, name, employee_id, base_salary, bonus):\n",
    "        super().__init__(name, employee_id)\n",
    "        self.base_salary = base_salary\n",
    "        self.bonus = bonus\n",
    "\n",
    "    def get_salary(self):\n",
    "        return self.base_salary + self.bonus\n",
    "\n",
    "class Developer(Employee):\n",
    "    def __init__(self, name, employee_id, hourly_rate, hours_worked):\n",
    "        super().__init__(name, employee_id)\n",
    "        self.hourly_rate = hourly_rate\n",
    "        self.hours_worked = hours_worked\n",
    "\n",
    "    def get_salary(self):\n",
    "        return self.hourly_rate * self.hours_worked\n",
    "\n",
    "class Designer(Employee):\n",
    "    def __init__(self, name, employee_id, monthly_salary):\n",
    "        super().__init__(name, employee_id)\n",
    "        self.monthly_salary = monthly_salary\n",
    "\n",
    "    def get_salary(self):\n",
    "        return self.monthly_salary\n",
    "\n",
    "# Usage\n",
    "manager = Manager(\"John Doe\", 1001, 60000, 10000)\n",
    "developer = Developer(\"Jane Smith\", 1002, 50, 160)\n",
    "designer = Designer(\"Mike Johnson\", 1003, 5000)\n",
    "\n",
    "print(f\"{manager.name}'s Salary: ${manager.get_salary()}\")\n",
    "print(f\"{developer.name}'s Salary: ${developer.get_salary()}\")\n",
    "print(f\"{designer.name}'s Salary: ${designer.get_salary()}\")"
   ]
  },
  {
   "cell_type": "markdown",
   "metadata": {},
   "source": [
    "### 14. Discuss the differences between abstract classes and concrete classes in Python, including their instantiation."
   ]
  },
  {
   "cell_type": "markdown",
   "metadata": {},
   "source": [
    "|          | Concrete Class (Regular class) | Abstract Class |\n",
    "|----------| ------------- | -------------- |\n",
    "| **Instantiation** | You can create objects (instances) of concrete classes directly. | You cannot create objects of abstract classes directly. They are meant to serve as blueprints for other classes. |\n",
    "| **Abstract Methods** | Concrete classes may or may not have abstract methods. | Abstract classes always have at least one abstract method.| \n",
    "| **Inheritance** | Subclasses of concrete classes inherit all the attributes and methods of their parent class. They can also override and extend the behavior of those methods. | Abstract classes are meant to be inherited by other classes. They define a common interface that subclasses must implement. Subclasses of an abstract class must provide implementations for all abstract methods. |"
   ]
  },
  {
   "cell_type": "markdown",
   "metadata": {},
   "source": [
    "### 15. Explain the concept of abstract data types (ADTs) and their role in achieving abstraction in Python."
   ]
  },
  {
   "cell_type": "markdown",
   "metadata": {},
   "source": [
    "**Abstract Data Types (ADTs)** are a fundamental concept in computer science that define a set of operations on a data structure without specifying the underlying implementation. They provide a high-level view of data and operations, allowing you to focus on what can be done with the data rather than how it is represented.\n",
    "\n",
    "Here's how ADTs contribute to achieving abstraction in Python:\n",
    "\n",
    "**High-Level View**: ADTs provide a clear, high-level view of the data and operations associated with it. This allows you to think about data in a conceptual manner without getting bogged down in the implementation details.\n",
    "\n",
    "**Separation of Concerns**: ADTs separate the logical view (what operations can be performed) from the physical view (how data is stored and manipulated). This separation helps in organizing code and makes it easier to understand and maintain.\n",
    "\n",
    "**Encapsulation**: ADTs encapsulate data and operations related to that data. This means that the inner workings of the data structure are hidden, and users only interact with it through well-defined interfaces.\n",
    "\n",
    "**Code Reusability**: By providing a standardized interface for working with data, ADTs encourage code reuse. Once an ADT is defined, it can be used in multiple contexts without needing to reimplement the underlying data structure.\n",
    "\n",
    "**Abstraction of Implementation Details**: ADTs hide the implementation details of the data structure, allowing you to focus on the operations you want to perform rather than how those operations are carried out.\n",
    "\n",
    "**Flexibility and Extensibility**: ADTs can be implemented using different data structures, allowing you to choose the most appropriate one for a specific application. This provides flexibility and extensibility in designing software.\n",
    "\n",
    "**Support for Generic Programming**: ADTs can be defined in a generic manner, allowing them to work with different types of data. This promotes code that is more adaptable and can be applied to a wider range of scenarios.\n",
    "\n",
    "**Error Reduction**: ADTs provide a well-defined and standardized interface. This reduces the chances of errors caused by misunderstanding or misusing the data structure."
   ]
  },
  {
   "cell_type": "markdown",
   "metadata": {},
   "source": [
    "### 16. Create a Python class for a computer system, demonstrating abstraction by defining common methods (e.g., `power_on()`, `shutdown()`) in an abstract base class."
   ]
  },
  {
   "cell_type": "code",
   "execution_count": null,
   "metadata": {},
   "outputs": [
    {
     "name": "stdout",
     "output_type": "stream",
     "text": [
      "The Dell Precision Desktop desktop is booting up.\n",
      "The Dell Precision Desktop desktop is shutting down.\n",
      "The Dell Precision 3751 laptop is starting up.\n",
      "The Dell Precision 3751 laptop is shutting down.\n"
     ]
    }
   ],
   "source": [
    "from abc import ABC, abstractmethod\n",
    "\n",
    "# abstract base class\n",
    "class Computer(ABC):\n",
    "    def __init__(self, brand, model):\n",
    "        self.brand = brand\n",
    "        self.model = model\n",
    "\n",
    "    @abstractmethod\n",
    "    def power_on(self):\n",
    "        pass\n",
    "\n",
    "    @abstractmethod\n",
    "    def shutdown(self):\n",
    "        pass\n",
    "\n",
    "class Desktop(Computer):\n",
    "    def power_on(self):\n",
    "        return f\"The {self.brand} {self.model} desktop is booting up.\"\n",
    "\n",
    "    def shutdown(self):\n",
    "        return f\"The {self.brand} {self.model} desktop is shutting down.\"\n",
    "\n",
    "class Laptop(Computer):\n",
    "    def power_on(self):\n",
    "        return f\"The {self.brand} {self.model} laptop is starting up.\"\n",
    "\n",
    "    def shutdown(self):\n",
    "        return f\"The {self.brand} {self.model} laptop is shutting down.\"\n",
    "\n",
    "# Usage\n",
    "desktop = Desktop(\"Dell\", \"Precision Desktop\")\n",
    "laptop = Laptop(\"Dell\", \"Precision 3751\")\n",
    "\n",
    "print(desktop.power_on())\n",
    "print(desktop.shutdown())\n",
    "\n",
    "print(laptop.power_on())\n",
    "print(laptop.shutdown())"
   ]
  },
  {
   "cell_type": "markdown",
   "metadata": {},
   "source": [
    "### 17. Discuss the benefits of using abstraction in large-scale software development projects."
   ]
  },
  {
   "cell_type": "markdown",
   "metadata": {},
   "source": [
    "Using abstraction in large-scale software development projects offers several significant benefits:\n",
    "\n",
    "**Complexity Management**: Abstraction helps manage the complexity of large-scale projects by breaking them down into manageable, modular components. Each component can be developed and tested independently, reducing the cognitive load on individual developers.\n",
    "\n",
    "**Code Organization**: Abstraction promotes a structured and organized codebase. It allows developers to focus on individual components without being overwhelmed by the entire system's intricacies.\n",
    "\n",
    "**Improved Readability and Maintainability**: Abstracting away low-level details means that code is more readable and understandable. This makes it easier for developers (and future maintainers) to grasp the functionality of various parts of the system.\n",
    "\n",
    "**Ease of Collaboration**: Abstraction provides clear interfaces between different parts of the system. This facilitates teamwork, as developers can work on different components simultaneously, knowing how they interact with one another.\n",
    "\n",
    "**Reduced Coupling**: Abstraction helps in reducing tight coupling between different modules or components. This allows for changes or updates to be made to one part of the system without affecting others, as long as the interface remains consistent.\n",
    "\n",
    "**Code Reusability**: Abstracting common functionalities into reusable components or libraries allows for code reusability across different parts of the project or even in future projects. This leads to more efficient development cycles.\n",
    "\n",
    "**Testing and Debugging**: Abstraction facilitates easier testing and debugging. Each component can be tested in isolation, making it simpler to identify and fix issues. Additionally, unit testing can be more focused and comprehensive.\n",
    "\n",
    "**Scalability**: Abstraction enables scalability by providing a framework for adding new features or extending existing functionality. New components can be added without disrupting the existing architecture, as long as they adhere to the established interfaces.\n",
    "\n",
    "**Adaptability to Changes**: As requirements evolve, abstracted components can be modified or replaced without affecting the overall system. This allows for easier adaptation to changing business needs.\n",
    "\n",
    "**Security and Encapsulation**: Abstraction can help enforce security by limiting access to sensitive information or operations. It allows you to encapsulate critical functionalities, making it harder for unintended misuse.\n",
    "\n",
    "**Conceptual Modeling**: Abstraction allows for conceptual modeling of the system, making it easier to communicate with stakeholders, understand the system's behavior, and plan for future enhancements.\n",
    "\n",
    "**Error Isolation**: With proper abstraction, errors are isolated to specific components, making it easier to identify the source of a problem and fix it without affecting other parts of the system."
   ]
  },
  {
   "cell_type": "markdown",
   "metadata": {},
   "source": [
    "### 18. Explain how abstraction enhances code reusability and modularity in Python programs."
   ]
  },
  {
   "cell_type": "markdown",
   "metadata": {},
   "source": [
    "Abstraction plays a crucial role in enhancing code reusability and modularity in Python programs. Here's how it achieves this:\n",
    "\n",
    "1. **Separation of Concerns**: Abstraction allows you to separate different concerns or functionalities in your code. Each component or module can focus on a specific aspect of the program's functionality, making it easier to understand and maintain.\n",
    "\n",
    "2. **Well-Defined Interfaces**: Abstraction defines well-defined interfaces for components. These interfaces specify how different parts of the program can interact with each other. This promotes code reusability because you can use components without needing to understand their internal workings.\n",
    "\n",
    "3. **Encapsulation**: Abstraction encapsulates the implementation details of a component, hiding them from the outside world. This makes it easier to reuse components because you only need to know how to use them, not how they are implemented.\n",
    "\n",
    "4. **Modular Design**: Abstraction encourages a modular design, where different components are organized into separate modules or classes. These modules can be reused in other parts of the program or even in other projects.\n",
    "\n",
    "5. **Reduced Dependencies**: Abstraction reduces dependencies between components. This means that you can change or update one component without affecting others, as long as the interface remains consistent. This promotes code reusability and maintainability.\n",
    "\n",
    "6. **Inheritance and Interfaces**: Python supports inheritance and interfaces through abstract base classes (ABCs). This allows you to create abstract classes that define common interfaces for subclasses. This promotes code reuse by ensuring adherence to a specified contract.\n",
    "\n",
    "7. **Polymorphism**: Abstraction, particularly in the context of polymorphism, allows different objects to be used interchangeably if they implement the same abstract interface. This enables reusing code that operates on abstracted interfaces rather than specific implementations.\n",
    "\n",
    "8. **Template Methods**: Abstraction supports the use of template methods, where the overall structure of an algorithm is defined in an abstract class, but some steps are left to be implemented by subclasses. This encourages code reuse while allowing customization.\n",
    "\n",
    "9. **Functional Programming Paradigm**: Python supports functional programming paradigms, where functions are treated as first-class citizens. Abstraction in functions allows for the creation of reusable and composable code.\n",
    "\n",
    "10. **Mixin Classes**: Mixin classes in Python allow for the reuse of code across different classes by providing specific functionalities that can be mixed in. This is a powerful technique for enhancing modularity and code reuse.\n",
    "\n",
    "11. **Third-Party Libraries and Packages**: Python has a rich ecosystem of third-party libraries and packages. These libraries provide pre-built solutions to common problems, allowing developers to leverage existing code rather than reinventing the wheel."
   ]
  },
  {
   "cell_type": "markdown",
   "metadata": {},
   "source": [
    "### 19. Create a Python class for a library system, implementing abstraction by defining common methods (e.g., `add_book()`, `borrow_book()`) in an abstract base class."
   ]
  },
  {
   "cell_type": "code",
   "execution_count": null,
   "metadata": {},
   "outputs": [
    {
     "name": "stdout",
     "output_type": "stream",
     "text": [
      "The book 'Tales of Vikram Betal' by Somdev Bhatt has been added to the library.\n",
      "You have borrowed the book 'Tales of Vikram Betal'.\n",
      "The book 'Tales of Vikram Betal' is already borrowed.\n",
      "You have returned the book 'Tales of Vikram Betal'.\n",
      "The magazine 'Complete insights of Machine Learning' by Robin Pabbi has been added to the library.\n",
      "You have borrowed the magazine 'Complete insights of Machine Learning'.\n",
      "The magazine 'Complete insights of Machine Learning' is already borrowed.\n",
      "You have returned the magazine 'Complete insights of Machine Learning'.\n"
     ]
    }
   ],
   "source": [
    "from abc import ABC, abstractmethod\n",
    "\n",
    "class LibraryItem(ABC):\n",
    "    def __init__(self, title, author):\n",
    "        self.title = title\n",
    "        self.author = author\n",
    "        self.is_borrowed = False\n",
    "\n",
    "    @abstractmethod\n",
    "    def add_book(self):\n",
    "        pass\n",
    "\n",
    "    @abstractmethod\n",
    "    def borrow_book(self):\n",
    "        pass\n",
    "\n",
    "    @abstractmethod\n",
    "    def return_book(self):\n",
    "        pass\n",
    "\n",
    "class StoryBook(LibraryItem):\n",
    "    def add_book(self):\n",
    "        return f\"The book '{self.title}' by {self.author} has been added to the library.\"\n",
    "\n",
    "    def borrow_book(self):\n",
    "        if not self.is_borrowed:\n",
    "            self.is_borrowed = True\n",
    "            return f\"You have borrowed the book '{self.title}'.\"\n",
    "        else:\n",
    "            return f\"The book '{self.title}' is already borrowed.\"\n",
    "\n",
    "    def return_book(self):\n",
    "        if self.is_borrowed:\n",
    "            self.is_borrowed = False\n",
    "            return f\"You have returned the book '{self.title}'.\"\n",
    "        else:\n",
    "            return f\"The book '{self.title}' was not borrowed.\"\n",
    "\n",
    "class TechnologyBook(LibraryItem):\n",
    "    def add_book(self):\n",
    "        return f\"The magazine '{self.title}' by {self.author} has been added to the library.\"\n",
    "\n",
    "    def borrow_book(self):\n",
    "        if not self.is_borrowed:\n",
    "            self.is_borrowed = True\n",
    "            return f\"You have borrowed the magazine '{self.title}'.\"\n",
    "        else:\n",
    "            return f\"The magazine '{self.title}' is already borrowed.\"\n",
    "\n",
    "    def return_book(self):\n",
    "        if self.is_borrowed:\n",
    "            self.is_borrowed = False\n",
    "            return f\"You have returned the magazine '{self.title}'.\"\n",
    "        else:\n",
    "            return f\"The magazine '{self.title}' was not borrowed.\"\n",
    "\n",
    "# Usage\n",
    "book = StoryBook(\"Tales of Vikram Betal\", \"Somdev Bhatt\")\n",
    "magazine = TechnologyBook(\"Complete insights of Machine Learning\", \"Robin Pabbi\")\n",
    "\n",
    "print(book.add_book())\n",
    "print(book.borrow_book())\n",
    "print(book.borrow_book())\n",
    "print(book.return_book())\n",
    "\n",
    "print(magazine.add_book())\n",
    "print(magazine.borrow_book())\n",
    "print(magazine.borrow_book())\n",
    "print(magazine.return_book())"
   ]
  },
  {
   "cell_type": "markdown",
   "metadata": {},
   "source": [
    "### 20. Describe the concept of method abstraction in Python and how it relates to polymorphism."
   ]
  },
  {
   "cell_type": "markdown",
   "metadata": {},
   "source": [
    "*Ans:*\n",
    "\n",
    "**Method abstraction** in Python is a fundamental concept related to polymorphism and object-oriented programming. It involves defining methods in abstract base classes or interfaces without specifying their concrete implementations. Instead, these abstract methods serve as placeholders for behavior that must be defined by concrete subclasses. Method abstraction allows different classes to share a common method signature, providing a way to achieve polymorphism.\n",
    "\n",
    "Here's how method abstraction relates to polymorphism:\n",
    "\n",
    "**Abstraction through Abstract Methods**: In Python, you can use abstract methods, which are defined in abstract base classes using the `@abstractmethod` decorator from the abc module. These abstract methods have no implementation details and serve as a contract or specification for what a concrete subclass must implement.\n",
    "\n",
    "**Polymorphism through Abstract Methods**: Polymorphism is the ability of different objects to respond to the same method call in a way that is appropriate for their specific type. When you define abstract methods in an abstract base class, you are effectively creating a shared method signature that multiple subclasses can implement in their own unique ways.\n",
    "\n",
    "**Consistent Interfaces**: Abstract methods establish consistent interfaces for different classes, enabling polymorphism. These abstract methods define how objects of different types should respond to method calls with the same name. This allows you to work with objects of various classes in a uniform manner.\n",
    "\n",
    "**Dynamic Dispatch**: Polymorphism in Python is achieved through dynamic dispatch, which means that the appropriate method implementation is determined at runtime based on the actual object's type. When you call an abstract method on an object, Python dispatches the call to the correct concrete implementation based on the object's class.\n",
    "\n",
    "**Code Reusability**: Method abstraction and polymorphism promote code reusability. You can write code that works with abstracted interfaces, allowing it to be reused with different objects that implement those interfaces. This is particularly useful when dealing with collections of objects of different types.\n",
    "\n",
    "**Extensibility**: As your code evolves, you can add new classes that implement the same abstract methods, thereby extending the behavior of your application without modifying existing code. This is a key aspect of polymorphism and method abstraction."
   ]
  },
  {
   "cell_type": "markdown",
   "metadata": {},
   "source": [
    "## Polymorphism"
   ]
  },
  {
   "cell_type": "markdown",
   "metadata": {},
   "source": [
    "### 1. What is polymorphism in Python? Explain how it is related to object-oriented programming."
   ]
  },
  {
   "cell_type": "markdown",
   "metadata": {},
   "source": [
    "*Ans:*\n",
    "\n",
    "**Polymorphism** is the ability of a class or function to behave differently based on the context in which it is used. It allows objects or functions to take on multiple forms, depending on the situation.\n",
    "\n",
    "In the context of object-oriented programming (OOP), polymorphism is one of the four fundamental pillars, along with inheritance, encapsulation, and abstraction. There are two primary forms of polymorphism in Python:\n",
    "\n",
    "**Compile-Time Polymorphism** (also known as Static Polymorphism):\n",
    "\n",
    "This type of polymorphism is resolved at compile time, and it involves method overloading.\n",
    "*Method overloading* is the ability to define multiple methods with the same name in a class but with different parameters. The appropriate method is selected based on the number or types of arguments passed during compilation.\n",
    "\n",
    "**Run-Time Polymorphism** (also known as Dynamic Polymorphism):\n",
    "\n",
    "This is the more common form of polymorphism in OOP and is achieved through method overriding and inheritance.\n",
    "*Method overriding* allows a subclass to provide a specific implementation of a method that is already defined in its superclass. When an object of the subclass is used to call that method, the overridden version is executed.\n",
    "Dynamic polymorphism allows the same method name to behave differently depending on the specific type of object it is called on. It is a key feature in Python, and it makes code more flexible and adaptable."
   ]
  },
  {
   "cell_type": "markdown",
   "metadata": {},
   "source": [
    "### 2. Describe the difference between compile-time polymorphism and runtime polymorphism in Python."
   ]
  },
  {
   "cell_type": "markdown",
   "metadata": {},
   "source": [
    "| **Compile-time Polymorphism** | **Runtime Polymorphism** |\n",
    "| ------------- | ------------|\n",
    "| The determination of which method to call is made by the compiler based on the context and the types of variables involved.| The determination of which method to call is made dynamically based on the type of object involved.|\n",
    "| Occurs at compile time, before the program is run. | Occurs at runtime, while the program is running. |\n",
    "| Also known as early binding or static polymorphism. | Also known as late binding or dynamic polymorphism.|\n",
    "| Achieved through **method overloading** | Achieved through **method overriding** |"
   ]
  },
  {
   "cell_type": "markdown",
   "metadata": {},
   "source": [
    "### 3. Create a Python class hierarchy for shapes (e.g., circle, square, triangle) and demonstrate polymorphism through a common method, such as `calculate_area()`."
   ]
  },
  {
   "cell_type": "code",
   "execution_count": null,
   "metadata": {},
   "outputs": [
    {
     "name": "stdout",
     "output_type": "stream",
     "text": [
      "Area of circle: 78.5\n",
      "Area of square: 25\n",
      "Area of triangle: 9.0\n"
     ]
    }
   ],
   "source": [
    "# Super class (base class) Shape\n",
    "class Shape:\n",
    "    def calculate_area(self):\n",
    "        pass\n",
    "\n",
    "class Circle(Shape):\n",
    "    def __init__(self, radius):\n",
    "        self.radius = radius\n",
    "\n",
    "    # calculate_area for circle\n",
    "    def calculate_area(self):\n",
    "        return 3.14 * self.radius**2\n",
    "\n",
    "class Square(Shape):\n",
    "    def __init__(self, side_length):\n",
    "        self.side_length = side_length\n",
    "\n",
    "    # calculate_area for Square\n",
    "    def calculate_area(self):\n",
    "        return self.side_length**2\n",
    "\n",
    "class Triangle(Shape):\n",
    "    def __init__(self, base, height):\n",
    "        self.base = base\n",
    "        self.height = height\n",
    "\n",
    "    # calculate_area for Triangle\n",
    "    def calculate_area(self):\n",
    "        return 0.5 * self.base * self.height\n",
    "\n",
    "# Create INstance of each shape type\n",
    "circle = Circle(5)\n",
    "square = Square(5)\n",
    "triangle = Triangle(3, 6)\n",
    "\n",
    "print(f\"Area of circle: {circle.calculate_area()}\")\n",
    "print(f\"Area of square: {square.calculate_area()}\") \n",
    "print(f\"Area of triangle: {triangle.calculate_area()}\")\n"
   ]
  },
  {
   "cell_type": "markdown",
   "metadata": {},
   "source": [
    "### 4. Explain the concept of method overriding in polymorphism. Provide an example."
   ]
  },
  {
   "cell_type": "markdown",
   "metadata": {},
   "source": [
    "*Ans:*\n",
    "\n",
    "**Method overriding** is a concept in object-oriented programming where a subclass provides a specific implementation for a method that is already defined in its superclass. This allows the subclass to customize or extend the behavior of the inherited method.\n",
    "\n",
    "Example:"
   ]
  },
  {
   "cell_type": "code",
   "execution_count": null,
   "metadata": {},
   "outputs": [
    {
     "name": "stdout",
     "output_type": "stream",
     "text": [
      "Generic animal sound\n",
      "Woof!\n",
      "Meow!\n"
     ]
    }
   ],
   "source": [
    "class Animal:\n",
    "    def make_sound(self):\n",
    "        return \"Generic animal sound\"\n",
    "\n",
    "class Dog(Animal):\n",
    "    def make_sound(self):\n",
    "        return \"Woof!\"\n",
    "\n",
    "class Cat(Animal):\n",
    "    def make_sound(self):\n",
    "        return \"Meow!\"\n",
    "\n",
    "# Usage:\n",
    "animal = Animal()\n",
    "dog = Dog()\n",
    "cat = Cat()\n",
    "\n",
    "print(animal.make_sound())\n",
    "print(dog.make_sound())\n",
    "print(cat.make_sound())"
   ]
  },
  {
   "cell_type": "markdown",
   "metadata": {},
   "source": [
    "### 5. How is polymorphism different from method overloading in Python? Provide examples for both."
   ]
  },
  {
   "cell_type": "markdown",
   "metadata": {},
   "source": [
    "**Polymorphism** and **method overloading** are related concepts in object-oriented programming, but they work differently in Python.\n",
    "\n",
    "**Polymorphism**:\n",
    "\n",
    "* Polymorphism allows objects or functions to take on multiple forms, depending on the context in which they are used.\n",
    "* It is achieved through two main mechanisms: method overriding and method overloading.\n",
    "* In Python, polymorphism is primarily achieved through method overriding.\n",
    "* In polymorphism, a method in a superclass is overridden in a subclass to provide a specific implementation.\n",
    "\n",
    "Example of polymorphism (method overriding) in python: "
   ]
  },
  {
   "cell_type": "code",
   "execution_count": null,
   "metadata": {},
   "outputs": [],
   "source": [
    "class Animal:\n",
    "    def make_sound(self):\n",
    "        pass\n",
    "\n",
    "class Dog(Animal):\n",
    "    def make_sound(self):\n",
    "        return \"Woof!\"\n",
    "\n",
    "class Cat(Animal):\n",
    "    def make_sound(self):\n",
    "        return \"Meow!\"\n",
    "\n",
    "dog = Dog()\n",
    "cat = Cat()\n",
    "\n",
    "print(dog.make_sound())  # Output: \"Woof!\"\n",
    "print(cat.make_sound())  # Output: \"Meow!\"\n"
   ]
  },
  {
   "cell_type": "markdown",
   "metadata": {},
   "source": [
    "**Method Overloading**:\n",
    "\n",
    "* Traditional method overloading involves defining multiple methods with the same name but different parameter lists within a class.\n",
    "* In Python, method overloading (as seen in languages like C#) is not directly supported. It doesn't work based on the number or type of arguments.\n",
    "\n",
    "In C# below is example of method overloading:\n",
    "\n",
    "```\n",
    "class Calculator {\n",
    "    int add(int a, int b) {\n",
    "        return a + b;\n",
    "    }\n",
    "\n",
    "    double add(double a, double b) {\n",
    "        return a + b;\n",
    "    }\n",
    "}\n",
    "```\n",
    "\n",
    "Example of `add_number` method in python:"
   ]
  },
  {
   "cell_type": "code",
   "execution_count": null,
   "metadata": {},
   "outputs": [
    {
     "name": "stdout",
     "output_type": "stream",
     "text": [
      "5\n",
      "6.0\n",
      "Hello, world\n"
     ]
    }
   ],
   "source": [
    "def add_numbers(a, b):\n",
    "    return a + b\n",
    "\n",
    "result1 = add_numbers(2, 3)         # Output: 5 (addition of integers)\n",
    "result2 = add_numbers(2.5, 3.5)     # Output: 6.0 (addition of floats)\n",
    "result3 = add_numbers(\"Hello, \", \"world\")  # Output: \"Hello, world\" (string concatenation)\n",
    "\n",
    "print(result1)\n",
    "print(result2)\n",
    "print(result3)"
   ]
  },
  {
   "cell_type": "markdown",
   "metadata": {},
   "source": [
    "### 6. Create a Python class called `Animal` with a method `speak()`. Then, create child classes like `Dog`, `Cat`, and `Bird`, each with their own `speak()` method. Demonstrate polymorphism by calling the `speak()` method on objects of different subclasses."
   ]
  },
  {
   "cell_type": "code",
   "execution_count": null,
   "metadata": {},
   "outputs": [
    {
     "name": "stdout",
     "output_type": "stream",
     "text": [
      "Woof!\n",
      "Meow!\n",
      "Chirp!\n"
     ]
    }
   ],
   "source": [
    "class Animal:\n",
    "    def speak(self):\n",
    "        pass\n",
    "\n",
    "class Dog(Animal):\n",
    "    def speak(self):\n",
    "        return \"Woof!\"\n",
    "\n",
    "class Cat(Animal):\n",
    "    def speak(self):\n",
    "        return \"Meow!\"\n",
    "\n",
    "class Bird(Animal):\n",
    "    def speak(self):\n",
    "        return \"Chirp!\"\n",
    "\n",
    "# Usage:\n",
    "dog = Dog()\n",
    "cat = Cat()\n",
    "bird = Bird()\n",
    "\n",
    "print(dog.speak())     # Output: \"Woof!\"\n",
    "print(cat.speak())     # Output: \"Meow!\"\n",
    "print(bird.speak())    # Output: \"Chirp!\"\n"
   ]
  },
  {
   "cell_type": "markdown",
   "metadata": {},
   "source": [
    "### 7. Discuss the use of abstract methods and classes in achieving polymorphism in Python. Provide an example using the `abc` module."
   ]
  },
  {
   "cell_type": "markdown",
   "metadata": {},
   "source": [
    "*Ans:*\n",
    "\n",
    "In Python, **abstract methods and classes** play a crucial role in achieving polymorphism. Abstract methods define a method signature in an abstract base class, and concrete subclasses must provide an implementation for these methods. The abc module (*Abstract Base Classes*) is used to define abstract classes and methods.\n",
    "\n",
    "Here's an example using the abc module to demonstrate polymorphism through abstract methods and classes:"
   ]
  },
  {
   "cell_type": "code",
   "execution_count": null,
   "metadata": {},
   "outputs": [
    {
     "name": "stdout",
     "output_type": "stream",
     "text": [
      "Area: 153.86\n",
      "Area: 84\n"
     ]
    }
   ],
   "source": [
    "from abc import ABC, abstractmethod\n",
    "\n",
    "# Abstract base class\n",
    "class Shape(ABC):\n",
    "    @abstractmethod\n",
    "    def area(self):\n",
    "        pass\n",
    "\n",
    "# Concrete subclass Circle\n",
    "class Circle(Shape):\n",
    "    def __init__(self, radius):\n",
    "        self.radius = radius\n",
    "\n",
    "    def area(self):\n",
    "        return 3.14 * self.radius * self.radius\n",
    "\n",
    "# Concrete subclass Rectangle\n",
    "class Rectangle(Shape):\n",
    "    def __init__(self, length, width):\n",
    "        self.length = length\n",
    "        self.width = width\n",
    "\n",
    "    def area(self):\n",
    "        return self.length * self.width\n",
    "\n",
    "# Usage\n",
    "circle = Circle(7)\n",
    "rectangle = Rectangle(14, 6)\n",
    "\n",
    "shapes = [circle, rectangle]\n",
    "\n",
    "for shape in shapes:\n",
    "    print(f\"Area: {shape.area()}\")\n"
   ]
  },
  {
   "cell_type": "markdown",
   "metadata": {},
   "source": [
    "### 8. Create a Python class hierarchy for a vehicle system (e.g., car, bicycle, boat) and implement a polymorphic `start()` method that prints a message specific to each vehicle type."
   ]
  },
  {
   "cell_type": "code",
   "execution_count": null,
   "metadata": {},
   "outputs": [
    {
     "name": "stdout",
     "output_type": "stream",
     "text": [
      "Car engine started. Ready to go!\n",
      "Pedaling... Bicycle is in motion!\n",
      "Engine running. Let's Sail the boat!\n"
     ]
    }
   ],
   "source": [
    "class Vehicle:\n",
    "    def start(self):\n",
    "        pass\n",
    "\n",
    "class Car(Vehicle):\n",
    "    def start(self):\n",
    "        return \"Car engine started. Ready to go!\"\n",
    "\n",
    "class Bicycle(Vehicle):\n",
    "    def start(self):\n",
    "        return \"Pedaling... Bicycle is in motion!\"\n",
    "\n",
    "class Boat(Vehicle):\n",
    "    def start(self):\n",
    "        return \"Engine running. Let's Sail the boat!\"\n",
    "\n",
    "# INstances\n",
    "car = Car()\n",
    "bicycle = Bicycle()\n",
    "boat = Boat()\n",
    "\n",
    "vehicles = [car, bicycle, boat]\n",
    "\n",
    "for vehicle in vehicles:\n",
    "    print(vehicle.start())\n"
   ]
  },
  {
   "cell_type": "markdown",
   "metadata": {},
   "source": [
    "### 9. Explain the significance of the `isinstance()` and `issubclass()` functions in Python polymorphism."
   ]
  },
  {
   "cell_type": "markdown",
   "metadata": {},
   "source": [
    "*Ans:*\n",
    "\n",
    "The functions `isinstance()` and `issubclass()` are essential in Python for working with polymorphism.\n",
    "\n",
    "**`isinstance()`**:\n",
    "\n",
    "* The `isinstance()` function is used to determine whether an object is an instance of a particular class or any of its subclasses.\n",
    "* It takes two arguments: the object and the class or type you want to check against.\n",
    "* It returns True if the object is an instance of the specified class or its subclass, and False otherwise.\n",
    "\n",
    "Example:"
   ]
  },
  {
   "cell_type": "code",
   "execution_count": null,
   "metadata": {},
   "outputs": [
    {
     "name": "stdout",
     "output_type": "stream",
     "text": [
      "True\n",
      "True\n"
     ]
    }
   ],
   "source": [
    "class Animal:\n",
    "    pass\n",
    "\n",
    "class Dog(Animal):\n",
    "    pass\n",
    "\n",
    "dog = Dog()\n",
    "\n",
    "print(isinstance(dog, Dog))      # Output: True\n",
    "print(isinstance(dog, Animal))   # Output: True\n"
   ]
  },
  {
   "cell_type": "markdown",
   "metadata": {},
   "source": [
    "**`issubclass()`**:\n",
    "\n",
    "* The `issubclass()` function checks whether a class is a subclass of a specified class or any of its subclasses.\n",
    "* It takes two arguments: the class you want to check and the class you want to check against.\n",
    "* It returns True if the first class is a subclass of the second class, and False otherwise.\n",
    "\n",
    "Example:"
   ]
  },
  {
   "cell_type": "code",
   "execution_count": null,
   "metadata": {},
   "outputs": [
    {
     "name": "stdout",
     "output_type": "stream",
     "text": [
      "True\n",
      "False\n"
     ]
    }
   ],
   "source": [
    "class Animal:\n",
    "    pass\n",
    "\n",
    "class Dog(Animal):\n",
    "    pass\n",
    "\n",
    "print(issubclass(Dog, Animal))   # Output: True\n",
    "print(issubclass(Animal, Dog))   # Output: False\n"
   ]
  },
  {
   "cell_type": "markdown",
   "metadata": {},
   "source": [
    "### 10. What is the role of the `@abstractmethod` decorator in achieving polymorphism in Python? Provide an example."
   ]
  },
  {
   "cell_type": "markdown",
   "metadata": {},
   "source": [
    "*Ans:*\n",
    "\n",
    "The **`@abstractmethod`** decorator is a key component of achieving polymorphism in Python using abstract classes. It is part of the abc module (Abstract Base Classes) and allows you to declare abstract methods in a base class. Abstract methods are methods that are defined in the base class but have no implementation. Subclasses are required to provide their own implementation for these methods.\n",
    "\n",
    "Here is an example demonstrating the use of `@abstractmethod`:"
   ]
  },
  {
   "cell_type": "code",
   "execution_count": null,
   "metadata": {},
   "outputs": [
    {
     "name": "stdout",
     "output_type": "stream",
     "text": [
      "Area: 153.86\n",
      "Area: 84\n"
     ]
    }
   ],
   "source": [
    "from abc import ABC, abstractmethod\n",
    "\n",
    "# Abstract base class\n",
    "class Shape(ABC):\n",
    "    @abstractmethod\n",
    "    def area(self):\n",
    "        pass\n",
    "\n",
    "# Concrete subclass Circle\n",
    "class Circle(Shape):\n",
    "    def __init__(self, radius):\n",
    "        self.radius = radius\n",
    "\n",
    "    def area(self):\n",
    "        return 3.14 * self.radius * self.radius\n",
    "\n",
    "# Concrete subclass Rectangle\n",
    "class Rectangle(Shape):\n",
    "    def __init__(self, length, width):\n",
    "        self.length = length\n",
    "        self.width = width\n",
    "\n",
    "    def area(self):\n",
    "        return self.length * self.width\n",
    "\n",
    "# Usage\n",
    "circle = Circle(7)\n",
    "rectangle = Rectangle(14, 6)\n",
    "\n",
    "shapes = [circle, rectangle]\n",
    "\n",
    "for shape in shapes:\n",
    "    print(f\"Area: {shape.area()}\")\n"
   ]
  },
  {
   "cell_type": "markdown",
   "metadata": {},
   "source": [
    "### 11. Create a Python class called `Shape` with a polymorphic method `area()` that calculates the area of different shapes (e.g., circle, rectangle, triangle)."
   ]
  },
  {
   "cell_type": "code",
   "execution_count": null,
   "metadata": {},
   "outputs": [
    {
     "name": "stdout",
     "output_type": "stream",
     "text": [
      "Area: 78.5\n",
      "Area: 24\n",
      "Area: 12.0\n"
     ]
    }
   ],
   "source": [
    "class Shape:\n",
    "    def area(self):\n",
    "        pass\n",
    "\n",
    "class Circle(Shape):\n",
    "    def __init__(self, radius):\n",
    "        self.radius = radius\n",
    "\n",
    "    def area(self):\n",
    "        return 3.14 * self.radius**2\n",
    "\n",
    "class Rectangle(Shape):\n",
    "    def __init__(self, length, width):\n",
    "        self.length = length\n",
    "        self.width = width\n",
    "\n",
    "    def area(self):\n",
    "        return self.length * self.width\n",
    "\n",
    "class Triangle(Shape):\n",
    "    def __init__(self, base, height):\n",
    "        self.base = base\n",
    "        self.height = height\n",
    "\n",
    "    def area(self):\n",
    "        return 0.5 * self.base * self.height\n",
    "\n",
    "# Usage\n",
    "circle = Circle(5)\n",
    "rectangle = Rectangle(4, 6)\n",
    "triangle = Triangle(3, 8)\n",
    "\n",
    "shapes = [circle, rectangle, triangle]\n",
    "\n",
    "for shape in shapes:\n",
    "    print(f\"Area: {shape.area()}\")\n"
   ]
  },
  {
   "cell_type": "markdown",
   "metadata": {},
   "source": [
    "### 12. Discuss the benefits of polymorphism in terms of code reusability and flexibility in Python programs."
   ]
  },
  {
   "cell_type": "markdown",
   "metadata": {},
   "source": [
    "*Ans:*\n",
    "\n",
    "**Polymorphism** offers several benefits in Python programs, primarily in terms of code reusability and flexibility:\n",
    "\n",
    "**Code Reusability**: Polymorphism allows you to write reusable code that can work with objects of different classes as long as they adhere to a common interface (i.e., implement the same methods). This means you can create functions or modules that can be used with a wide range of objects, promoting modular and reusable code.\n",
    "\n",
    "**Reduced Redundancy**: Without polymorphism, you might need to write separate code to handle different types of objects. With polymorphism, you can avoid redundant code and write more compact and efficient solutions.\n",
    "\n",
    "**Flexibility**: Polymorphism makes your code more flexible and adaptable to changes. You can easily add new classes or modify existing ones without affecting the core logic of your program, as long as they conform to the same interface.\n",
    "\n",
    "**Improved Readability**: Polymorphism can make your code more readable and intuitive. When you see a method call on an object, you don't need to know the specific class; you can rely on the common interface, making code easier to understand.\n",
    "\n",
    "**Easier Maintenance**: Since polymorphism promotes modularity and reduces redundancy, it simplifies maintenance. Changes or bug fixes can often be localized to specific classes, reducing the risk of unintended side effects in other parts of your code.\n",
    "\n",
    "**Interface-Based Programming**: Polymorphism encourages interface-based programming, where you focus on defining the expected behavior (methods) rather than the specific implementations. This allows multiple developers to work on different parts of a project independently, as long as they adhere to the agreed-upon interface.\n",
    "\n",
    "**Support for Open-Closed Principle**: Polymorphism supports the open-closed principle, one of the SOLID principles of object-oriented design. It allows you to extend the behavior of a program by adding new classes or methods without modifying existing code, reducing the risk of introducing errors."
   ]
  },
  {
   "cell_type": "markdown",
   "metadata": {},
   "source": [
    "### 13. Explain the use of the `super()` function in Python polymorphism. How does it help call methods of parent classes?"
   ]
  },
  {
   "cell_type": "markdown",
   "metadata": {},
   "source": [
    "*Ans:*\n",
    "\n",
    "The **`super()`** function in Python is used to call methods from a parent or superclass in the context of inheritance and polymorphism. It helps in achieving method overriding, where a subclass provides a specific implementation of a method that is already defined in its superclass.\n",
    "\n",
    "Here's how `super()` works and its role in polymorphism:\n",
    "\n",
    "**Accessing Parent Class Methods**: When you override a method in a subclass, you can use `super()` to call the overridden method in the parent class. This allows you to reuse the functionality provided by the parent class while adding or modifying behavior specific to the subclass.\n",
    "\n",
    "**Method Overriding**: By calling the parent class's method using `super()`, you can implement method overriding. This is a key aspect of polymorphism, where objects of different classes can be treated interchangeably if they adhere to a common interface.\n",
    "\n",
    "**Chaining Superclasses**: If you have a chain of inheritance with multiple superclasses, super() allows you to call methods from the immediate parent class, and those methods can, in turn, call methods from their parent classes, creating a hierarchy of method calls.\n",
    "\n",
    "Example of usage of `super()`:"
   ]
  },
  {
   "cell_type": "code",
   "execution_count": null,
   "metadata": {},
   "outputs": [
    {
     "name": "stdout",
     "output_type": "stream",
     "text": [
      "Dog barks, and also, Animal speaks\n"
     ]
    }
   ],
   "source": [
    "class Animal:\n",
    "    def speak(self):\n",
    "        return \"Animal speaks\"\n",
    "\n",
    "class Dog(Animal):\n",
    "    def speak(self):\n",
    "        # Call the parent class method\n",
    "        parent_result = super().speak()\n",
    "        return f\"Dog barks, and also, {parent_result}\"\n",
    "\n",
    "\n",
    "dog = Dog()\n",
    "print(dog.speak())\n"
   ]
  },
  {
   "cell_type": "markdown",
   "metadata": {},
   "source": [
    "### 14. Create a Python class hierarchy for a banking system with various account types (e.g., savings, checking, credit card) and demonstrate polymorphism by implementing a common `withdraw()` method."
   ]
  },
  {
   "cell_type": "code",
   "execution_count": null,
   "metadata": {},
   "outputs": [
    {
     "name": "stdout",
     "output_type": "stream",
     "text": [
      "Account Number: SA123\n",
      "Withdrawal of $500 successful. New balance: $500\n",
      "\n",
      "Account Number: CA451\n",
      "Withdrawal of $500 successful. New balance: $1500\n",
      "\n",
      "Account Number: CC786\n",
      "Withdrawal of $500 successful. New balance: $0\n",
      "\n"
     ]
    }
   ],
   "source": [
    "class BankAccount:\n",
    "    def __init__(self, account_number, initial_balance):\n",
    "        self.__account_number = account_number\n",
    "        self._balance = initial_balance\n",
    "\n",
    "    def get_account_number(self):\n",
    "        return self.__account_number\n",
    "\n",
    "    def get_balance(self):\n",
    "        return self._balance\n",
    "\n",
    "    def withdraw(self, amount):\n",
    "        pass\n",
    "\n",
    "class SavingsAccount(BankAccount):\n",
    "    def withdraw(self, amount):\n",
    "        if self.get_balance() >= amount:\n",
    "            self._balance -= amount\n",
    "            return f\"Withdrawal of ${amount} successful. New balance: ${super().get_balance()}\"\n",
    "        else:\n",
    "            return \"Insufficient funds for withdrawal.\"\n",
    "\n",
    "class CheckingAccount(BankAccount):\n",
    "    def withdraw(self, amount):\n",
    "        if self.get_balance() >= amount:\n",
    "            self._balance -= amount\n",
    "            return f\"Withdrawal of ${amount} successful. New balance: ${self.get_balance()}\"\n",
    "        else:\n",
    "            return \"Insufficient funds for withdrawal.\"\n",
    "\n",
    "class CreditCardAccount(BankAccount):\n",
    "    def withdraw(self, amount):\n",
    "        new_balance = self.get_balance() - amount\n",
    "        if new_balance >= -1000:  # Assuming a credit limit of $1000\n",
    "            self._balance = new_balance\n",
    "            return f\"Withdrawal of ${amount} successful. New balance: ${self.get_balance()}\"\n",
    "        else:\n",
    "            return \"Credit limit exceeded. Unable to process withdrawal.\"\n",
    "\n",
    "# Usage\n",
    "savings_account = SavingsAccount(\"SA123\", 1000)\n",
    "checking_account = CheckingAccount(\"CA451\", 2000)\n",
    "credit_card_account = CreditCardAccount(\"CC786\", 500)\n",
    "\n",
    "accounts = [savings_account, checking_account, credit_card_account]\n",
    "\n",
    "for account in accounts:\n",
    "    print(f\"Account Number: {account.get_account_number()}\")\n",
    "    print(account.withdraw(500))\n",
    "    print()\n"
   ]
  },
  {
   "cell_type": "markdown",
   "metadata": {},
   "source": [
    "### 15. Describe the concept of operator overloading in Python and how it relates to polymorphism. Provide examples using operators like `+` and `*`."
   ]
  },
  {
   "cell_type": "markdown",
   "metadata": {},
   "source": [
    "*Ans:*\n",
    "\n",
    "**Operator overloading** in Python allows you to define how operators should behave for objects of a user-defined class. This means you can customize the behavior of operators like `+, -, *, /`, etc., to work with your custom objects.\n",
    "\n",
    "Here's how operator overloading relates to polymorphism:\n",
    "\n",
    "**Polymorphism and Operator Overloading**: Operator overloading is a form of polymorphism because it allows different types or classes to use the same operator in different ways. This enables objects of different classes to interact with operators in a way that makes sense for their context.\n",
    "\n",
    "**Customized Behavior**: By overloading operators, you can define what it means to add, subtract, multiply, etc., for objects of your class. This enables you to apply familiar operators to your custom objects, making your code more intuitive and expressive.\n",
    "\n",
    "Here's an example using the + and * operators:"
   ]
  },
  {
   "cell_type": "code",
   "execution_count": null,
   "metadata": {},
   "outputs": [
    {
     "name": "stdout",
     "output_type": "stream",
     "text": [
      "Vector Addition: (3, 5)\n",
      "Vector Multiplication: (4, 6)\n"
     ]
    }
   ],
   "source": [
    "class Vector:\n",
    "    def __init__(self, x, y):\n",
    "        self.x = x\n",
    "        self.y = y\n",
    "\n",
    "    def __add__(self, other):\n",
    "        return Vector(self.x + other.x, self.y + other.y)\n",
    "\n",
    "    def __mul__(self, scalar):\n",
    "        return Vector(self.x * scalar, self.y * scalar)\n",
    "\n",
    "    def __str__(self):\n",
    "        return f\"({self.x}, {self.y})\"\n",
    "\n",
    "# Usage\n",
    "v1 = Vector(2, 3)\n",
    "v2 = Vector(1, 2)\n",
    "\n",
    "# Adding vectors\n",
    "result_add = v1 + v2\n",
    "print(f\"Vector Addition: {result_add}\")\n",
    "\n",
    "# Multiplying a vector by a scalar\n",
    "result_mul = v1 * 2\n",
    "print(f\"Vector Multiplication: {result_mul}\")\n"
   ]
  },
  {
   "cell_type": "markdown",
   "metadata": {},
   "source": [
    "### 16. What is dynamic polymorphism, and how is it achieved in Python?"
   ]
  },
  {
   "cell_type": "markdown",
   "metadata": {},
   "source": [
    "*Ans:*\n",
    "\n",
    "**Dynamic polymorphism**, also known as runtime polymorphism or late binding, is a fundamental concept in object-oriented programming. It allows objects of different classes to be treated as objects of a common base class. The specific method or function that gets executed when you call it is determined at runtime based on the actual type of the object. Dynamic polymorphism is one of the key features of inheritance and abstraction in object-oriented programming.\n",
    "\n",
    "In Python, **dynamic polymorphism is achieved through method overriding**. Method overriding is a feature that allows a subclass to provide a specific implementation of a method that is already defined in its superclass. When you call a method on an object, Python determines at runtime which implementation of the method to execute, based on the actual type of the object."
   ]
  },
  {
   "cell_type": "markdown",
   "metadata": {},
   "source": [
    "### 17. Create a Python class hierarchy for employees in a company (e.g., manager, developer, designer) and implement polymorphism through a common `calculate_salary()` method."
   ]
  },
  {
   "cell_type": "code",
   "execution_count": null,
   "metadata": {},
   "outputs": [
    {
     "name": "stdout",
     "output_type": "stream",
     "text": [
      "John Doe's salary: $70000\n",
      "Jane Smith's salary: $52000\n",
      "Bob Johnson's salary: $47500\n",
      "John Doe's updated salary: $75000\n"
     ]
    }
   ],
   "source": [
    "class Employee:\n",
    "    def __init__(self, name, salary):\n",
    "        self.__name = name\n",
    "        self.__salary = salary\n",
    "\n",
    "    def get_name(self):\n",
    "        return self.__name\n",
    "\n",
    "    def get_salary(self):\n",
    "        return self.__salary\n",
    "\n",
    "    def set_salary(self, new_salary):\n",
    "        self.__salary = new_salary\n",
    "\n",
    "\n",
    "class Manager(Employee):\n",
    "    def __init__(self, name, salary, bonus):\n",
    "        super().__init__(name, salary)\n",
    "        self.__bonus = bonus\n",
    "\n",
    "    def calculate_salary(self):\n",
    "        return super().get_salary() + self.__bonus\n",
    "\n",
    "\n",
    "class Developer(Employee):\n",
    "    def __init__(self, name, salary, languages):\n",
    "        super().__init__(name, salary)\n",
    "        self.__languages = languages\n",
    "\n",
    "    def calculate_salary(self):\n",
    "        return super().get_salary() + len(self.__languages) * 1000\n",
    "\n",
    "\n",
    "class Designer(Employee):\n",
    "    def __init__(self, name, salary, experience):\n",
    "        super().__init__(name, salary)\n",
    "        self.__experience = experience\n",
    "\n",
    "    def calculate_salary(self):\n",
    "        return super().get_salary() + self.__experience * 500\n",
    "\n",
    "\n",
    "# Create instances of different employees\n",
    "manager = Manager(\"John Doe\", 60000, 10000)\n",
    "developer = Developer(\"Jane Smith\", 50000, [\"Python\", \"JavaScript\"])\n",
    "designer = Designer(\"Bob Johnson\", 45000, 5)\n",
    "\n",
    "# Accessing attributes using getters\n",
    "print(f\"{manager.get_name()}'s salary: ${manager.calculate_salary()}\")\n",
    "print(f\"{developer.get_name()}'s salary: ${developer.calculate_salary()}\")\n",
    "print(f\"{designer.get_name()}'s salary: ${designer.calculate_salary()}\")\n",
    "\n",
    "# Using setters to modify attributes\n",
    "manager.set_salary(65000)\n",
    "print(f\"{manager.get_name()}'s updated salary: ${manager.calculate_salary()}\")\n"
   ]
  },
  {
   "cell_type": "markdown",
   "metadata": {},
   "source": [
    "### 18. Discuss the concept of function pointers and how they can be used to achieve polymorphism in Python."
   ]
  },
  {
   "cell_type": "markdown",
   "metadata": {},
   "source": [
    "*Ans:*\n",
    "\n",
    "**Function pointers** are a concept commonly found in languages like C and C++. They allow you to store the memory address of a function and call that function indirectly through the pointer. This provides a way to dynamically select and call different functions at runtime.\n",
    "\n",
    "In Python, you don't have explicit function pointers like in C or C++. Instead, Python has first-class functions, which means that functions can be treated as objects, assigned to variables, passed as arguments, and returned as values. This enables a form of polymorphism known as \"duck typing.\""
   ]
  },
  {
   "cell_type": "code",
   "execution_count": null,
   "metadata": {},
   "outputs": [
    {
     "name": "stdout",
     "output_type": "stream",
     "text": [
      "Addition result: 8\n",
      "Subtraction result: 2\n",
      "Multiplication result: 15\n"
     ]
    }
   ],
   "source": [
    "def add(x, y):\n",
    "    return x + y\n",
    "\n",
    "def subtract(x, y):\n",
    "    return x - y\n",
    "\n",
    "def multiply(x, y):\n",
    "    return x * y\n",
    "\n",
    "# Define a function that takes two numbers and a function pointer\n",
    "def calculate(x, y, operation):\n",
    "    return operation(x, y)\n",
    "\n",
    "# Use the calculate function with different operations\n",
    "result_add = calculate(5, 3, add)\n",
    "result_subtract = calculate(5, 3, subtract)\n",
    "result_multiply = calculate(5, 3, multiply)\n",
    "\n",
    "print(f\"Addition result: {result_add}\")\n",
    "print(f\"Subtraction result: {result_subtract}\")\n",
    "print(f\"Multiplication result: {result_multiply}\")\n"
   ]
  },
  {
   "cell_type": "markdown",
   "metadata": {},
   "source": [
    "### 19. Explain the role of interfaces and abstract classes in polymorphism, drawing comparisons between them."
   ]
  },
  {
   "cell_type": "markdown",
   "metadata": {},
   "source": [
    "\n",
    "**Interfaces and abstract classes** are both powerful tools that can be used to achieve polymorphism in object-oriented programming. However, they have some key differences.\n",
    "\n",
    "**Interfaces** are declarations of behavior, but they do not provide any implementation. This means that any class that implements an interface must provide its own implementation of all of the interface's methods.\n",
    "\n",
    "Interfaces are used to define a contract that a class must adhere to. Any class that implements an interface must provide implementations for all the methods defined in the interface.\n",
    "\n",
    "**Abstract classes** are similar to interfaces in that they can declare abstract methods. However, abstract classes can also provide concrete implementations of methods. This means that classes that subclass an abstract class can choose to inherit the concrete implementations or provide their own implementations.\n",
    "\n",
    "Abstract classes are used when you want to define a common structure or behavior that multiple subclasses share, but each subclass might have its own specific implementation of some methods."
   ]
  },
  {
   "cell_type": "markdown",
   "metadata": {},
   "source": [
    "### 20. Create a Python class for a zoo simulation, demonstrating polymorphism with different animal types (e.g., mammals, birds, reptiles) and their behavior (e.g., eating, sleeping, making sounds)."
   ]
  },
  {
   "cell_type": "code",
   "execution_count": null,
   "metadata": {},
   "outputs": [
    {
     "name": "stdout",
     "output_type": "stream",
     "text": [
      "Lion is eating plants.\n",
      "Lion is sleeping in a cozy den.\n",
      "Lion is making mammal sounds.\n",
      "Eagle is pecking at seeds.\n",
      "Eagle is roosting in a tree.\n",
      "Eagle is chirping and singing.\n",
      "Snake is hunting for insects.\n",
      "Snake is basking on a rock.\n",
      "Snake is hissing and rustling.\n"
     ]
    }
   ],
   "source": [
    "class Animal:\n",
    "    def __init__(self, name):\n",
    "        self.name = name\n",
    "\n",
    "    def eat(self):\n",
    "        pass\n",
    "\n",
    "    def sleep(self):\n",
    "        pass\n",
    "\n",
    "    def make_sound(self):\n",
    "        pass\n",
    "\n",
    "\n",
    "class Mammal(Animal):\n",
    "    def eat(self):\n",
    "        return f\"{self.name} is eating plants.\"\n",
    "\n",
    "    def sleep(self):\n",
    "        return f\"{self.name} is sleeping in a cozy den.\"\n",
    "\n",
    "    def make_sound(self):\n",
    "        return f\"{self.name} is making mammal sounds.\"\n",
    "\n",
    "\n",
    "class Bird(Animal):\n",
    "    def eat(self):\n",
    "        return f\"{self.name} is pecking at seeds.\"\n",
    "\n",
    "    def sleep(self):\n",
    "        return f\"{self.name} is roosting in a tree.\"\n",
    "\n",
    "    def make_sound(self):\n",
    "        return f\"{self.name} is chirping and singing.\"\n",
    "\n",
    "\n",
    "class Reptile(Animal):\n",
    "    def eat(self):\n",
    "        return f\"{self.name} is hunting for insects.\"\n",
    "\n",
    "    def sleep(self):\n",
    "        return f\"{self.name} is basking on a rock.\"\n",
    "\n",
    "    def make_sound(self):\n",
    "        return f\"{self.name} is hissing and rustling.\"\n",
    "\n",
    "\n",
    "# Create instances of different animals\n",
    "lion = Mammal(\"Lion\")\n",
    "eagle = Bird(\"Eagle\")\n",
    "snake = Reptile(\"Snake\")\n",
    "\n",
    "# Perform actions\n",
    "print(lion.eat())\n",
    "print(lion.sleep())\n",
    "print(lion.make_sound())\n",
    "\n",
    "print(eagle.eat())\n",
    "print(eagle.sleep())\n",
    "print(eagle.make_sound())\n",
    "\n",
    "print(snake.eat())\n",
    "print(snake.sleep())\n",
    "print(snake.make_sound())\n"
   ]
  }
 ],
 "metadata": {
  "language_info": {
   "name": "python"
  }
 },
 "nbformat": 4,
 "nbformat_minor": 2
}
