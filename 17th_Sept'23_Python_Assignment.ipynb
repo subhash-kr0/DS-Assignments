{
 "cells": [
  {
   "cell_type": "markdown",
   "metadata": {},
   "source": [
    "For Loop :-"
   ]
  },
  {
   "cell_type": "markdown",
   "metadata": {},
   "source": [
    "1. Write a Python program to print numbers from 1 to 10 using a for loop."
   ]
  },
  {
   "cell_type": "code",
   "execution_count": null,
   "metadata": {},
   "outputs": [],
   "source": [
    "# Use a for loop to print numbers from 1 to 10\n",
    "for i in range(1, 11):\n",
    "    print(i)"
   ]
  },
  {
   "cell_type": "markdown",
   "metadata": {},
   "source": [
    "2. Explain the difference between a for loop and a while loop in Python.\n",
    "\n",
    "sol => For Loop: A for loop in Python is used to iterate over a sequence (like a list, tuple, dictionary, set, or string) or other iterable objects. The for loop executes the block of code for each item in the sequence until it has gone through all the items. Here’s an example:\n",
    "\n",
    "for i in range(5):\n",
    "    print(i)\n",
    "\n",
    "While Loop: A while loop in Python is used when you want to repeat a block of code as long as a certain condition is true. The while loop checks the condition before each iteration, and if the condition is True, it executes the block of code. Here’s an example:\n",
    "\n",
    "i = 0\n",
    "while i < 5:\n",
    "    print(i)\n",
    "    i += 1"
   ]
  },
  {
   "cell_type": "markdown",
   "metadata": {},
   "source": [
    "3. Write a Python program to calculate the sum of all numbers from 1 to 100 using a for loop."
   ]
  },
  {
   "cell_type": "code",
   "execution_count": null,
   "metadata": {},
   "outputs": [],
   "source": [
    "# Initialize the sum to 0\n",
    "sum = 0\n",
    "\n",
    "# Use a for loop to iterate over numbers from 1 to 100\n",
    "for i in range(1, 101):\n",
    "    # Add the current number to the sum\n",
    "    sum += i\n",
    "\n",
    "# Print the sum\n",
    "print(\"The sum of all numbers from 1 to 100 is:\", sum)"
   ]
  },
  {
   "cell_type": "markdown",
   "metadata": {},
   "source": [
    "4. How do you iterate through a list using a for loop in Python?"
   ]
  },
  {
   "cell_type": "code",
   "execution_count": null,
   "metadata": {},
   "outputs": [],
   "source": [
    "# Define a list\n",
    "my_list = [1, 2, 3, 4, 5]\n",
    "\n",
    "# Iterate through the list\n",
    "for item in my_list:\n",
    "    print(item)"
   ]
  },
  {
   "cell_type": "markdown",
   "metadata": {},
   "source": [
    "5. Write a Python program to find the product of all elements in a list using a for loop."
   ]
  },
  {
   "cell_type": "code",
   "execution_count": null,
   "metadata": {},
   "outputs": [],
   "source": [
    "def product_of_list(lst):\n",
    "    product = 1\n",
    "    for num in lst:\n",
    "        product *= num\n",
    "    return product\n",
    "\n",
    "# Test the function\n",
    "numbers = [1, 2, 3, 4, 5]\n",
    "print(\"The product of the list is:\", product_of_list(numbers))"
   ]
  },
  {
   "cell_type": "markdown",
   "metadata": {},
   "source": [
    "6. Create a Python program that prints all even numbers from 1 to 20 using a for loop."
   ]
  },
  {
   "cell_type": "code",
   "execution_count": null,
   "metadata": {},
   "outputs": [],
   "source": [
    "for num in range(1, 21):\n",
    "    if num % 2 == 0:\n",
    "        print(num)"
   ]
  },
  {
   "cell_type": "markdown",
   "metadata": {},
   "source": [
    "7. Write a Python program that calculates the factorial of a number using a for loop."
   ]
  },
  {
   "cell_type": "code",
   "execution_count": null,
   "metadata": {},
   "outputs": [],
   "source": [
    "def factorial(n):\n",
    "    result = 1\n",
    "    for i in range(1, n + 1):\n",
    "        result *= i\n",
    "    return result\n",
    "\n",
    "# Test the function\n",
    "num = 5\n",
    "print(\"The factorial of\", num, \"is:\", factorial(num))"
   ]
  },
  {
   "cell_type": "markdown",
   "metadata": {},
   "source": [
    "8. How can you iterate through the characters of a string using a for loop in Python?"
   ]
  },
  {
   "cell_type": "code",
   "execution_count": null,
   "metadata": {},
   "outputs": [],
   "source": [
    "s = \"Hello, World!\"\n",
    "for char in s:\n",
    "    print(char)"
   ]
  },
  {
   "cell_type": "markdown",
   "metadata": {},
   "source": [
    "9. Write a Python program to find the largest number in a list using a for loop."
   ]
  },
  {
   "cell_type": "code",
   "execution_count": null,
   "metadata": {},
   "outputs": [],
   "source": [
    "def find_largest(lst):\n",
    "    largest = lst[0]\n",
    "    for num in lst:\n",
    "        if num > largest:\n",
    "            largest = num\n",
    "    return largest\n",
    "\n",
    "# Test the function\n",
    "numbers = [1, 2, 3, 4, 5]\n",
    "print(\"The largest number in the list is:\", find_largest(numbers))"
   ]
  },
  {
   "cell_type": "markdown",
   "metadata": {},
   "source": [
    "10. Create a Python program that prints the Fibonacci sequence up to a specified limit using a for loop."
   ]
  },
  {
   "cell_type": "code",
   "execution_count": null,
   "metadata": {},
   "outputs": [],
   "source": [
    "def fibonacci(limit):\n",
    "    a, b = 0, 1\n",
    "    for _ in range(limit):\n",
    "        print(a)\n",
    "        a, b = b, a + b\n",
    "\n",
    "# Test the function\n",
    "fibonacci(10)"
   ]
  },
  {
   "cell_type": "markdown",
   "metadata": {},
   "source": [
    "11. Write a Python program to count the number of vowels in a given string using a for loop."
   ]
  },
  {
   "cell_type": "code",
   "execution_count": null,
   "metadata": {},
   "outputs": [],
   "source": [
    "def count_vowels(s):\n",
    "    count = 0\n",
    "    for char in s:\n",
    "        if char.lower() in 'aeiou':\n",
    "            count += 1\n",
    "    return count\n",
    "\n",
    "# Test the function\n",
    "string = \"Hello, World!\"\n",
    "print(\"The number of vowels in the string is:\", count_vowels(string))"
   ]
  },
  {
   "cell_type": "markdown",
   "metadata": {},
   "source": [
    "12. Create a Python program that generates a multiplication table for a given number using a for loop."
   ]
  },
  {
   "cell_type": "code",
   "execution_count": null,
   "metadata": {},
   "outputs": [],
   "source": [
    "def multiplication_table(n):\n",
    "    for i in range(1, 11):\n",
    "        print(n, \"x\", i, \"=\", n * i)\n",
    "\n",
    "# Test the function\n",
    "num = 5\n",
    "print(\"Multiplication table for\", num, \":\")\n",
    "multiplication_table(num)"
   ]
  },
  {
   "cell_type": "markdown",
   "metadata": {},
   "source": [
    "13. Write a Python program to reverse a list using a for loop."
   ]
  },
  {
   "cell_type": "code",
   "execution_count": null,
   "metadata": {},
   "outputs": [],
   "source": [
    "def reverse_list(lst):\n",
    "    reversed_list = []\n",
    "    for i in range(len(lst) - 1, -1, -1):\n",
    "        reversed_list.append(lst[i])\n",
    "    return reversed_list\n",
    "\n",
    "# Test the function\n",
    "numbers = [1, 2, 3, 4, 5]\n",
    "print(\"The reversed list is:\", reverse_list(numbers))"
   ]
  },
  {
   "cell_type": "markdown",
   "metadata": {},
   "source": [
    "14. Write a Python program to find the common elements between two lists using a for loop."
   ]
  },
  {
   "cell_type": "code",
   "execution_count": null,
   "metadata": {},
   "outputs": [],
   "source": [
    "def find_common_elements(list1, list2):\n",
    "    common_elements = []\n",
    "    for element in list1:\n",
    "        if element in list2:\n",
    "            common_elements.append(element)\n",
    "    return common_elements\n",
    "\n",
    "# Test the function\n",
    "list1 = [1, 2, 3, 4, 5]\n",
    "list2 = [4, 5, 6, 7, 8]\n",
    "print(\"The common elements are:\", find_common_elements(list1, list2))"
   ]
  },
  {
   "cell_type": "markdown",
   "metadata": {},
   "source": [
    "15. Explain how to use a for loop to iterate through the keys and values of a dictionary in Python."
   ]
  },
  {
   "cell_type": "code",
   "execution_count": null,
   "metadata": {},
   "outputs": [],
   "source": [
    "# Define a dictionary\n",
    "my_dict = {\"key1\": \"value1\", \"key2\": \"value2\", \"key3\": \"value3\"}\n",
    "\n",
    "# Iterate over the dictionary\n",
    "for key, value in my_dict.items():\n",
    "    print(\"Key:\", key)\n",
    "    print(\"Value:\", value)"
   ]
  },
  {
   "cell_type": "markdown",
   "metadata": {},
   "source": [
    "16. Write a Python program to find the GCD (Greatest Common Divisor) of two numbers using a for loop."
   ]
  },
  {
   "cell_type": "code",
   "execution_count": null,
   "metadata": {},
   "outputs": [],
   "source": [
    "def find_gcd(num1, num2):\n",
    "    gcd = 1\n",
    "    for i in range(1, min(num1, num2) + 1):\n",
    "        if num1 % i == 0 and num2 % i == 0:\n",
    "            gcd = i\n",
    "    return gcd\n",
    "\n",
    "# Test the function\n",
    "number1 = 60\n",
    "number2 = 48\n",
    "print(\"The GCD of\", number1, \"and\", number2, \"is:\", find_gcd(number1, number2))"
   ]
  },
  {
   "cell_type": "markdown",
   "metadata": {},
   "source": [
    "17. Create a Python program that checks if a string is a palindrome using a for loop."
   ]
  },
  {
   "cell_type": "code",
   "execution_count": null,
   "metadata": {},
   "outputs": [],
   "source": [
    "def is_palindrome(s):\n",
    "    for i in range(len(s) // 2):\n",
    "        if s[i] != s[-i - 1]:\n",
    "            return False\n",
    "    return True\n",
    "\n",
    "# Test the function\n",
    "string = \"madam\"\n",
    "if is_palindrome(string):\n",
    "    print(string, \"is a palindrome.\")\n",
    "else:\n",
    "    print(string, \"is not a palindrome.\")"
   ]
  },
  {
   "cell_type": "markdown",
   "metadata": {},
   "source": [
    "18. Write a Python program to remove duplicates from a list using a for loop."
   ]
  },
  {
   "cell_type": "code",
   "execution_count": null,
   "metadata": {},
   "outputs": [],
   "source": [
    "def remove_duplicates(lst):\n",
    "    no_duplicates = []\n",
    "    for element in lst:\n",
    "        if element not in no_duplicates:\n",
    "            no_duplicates.append(element)\n",
    "    return no_duplicates\n",
    "\n",
    "# Test the function\n",
    "numbers = [1, 2, 2, 3, 4, 4, 5, 5]\n",
    "print(\"The list without duplicates is:\", remove_duplicates(numbers))"
   ]
  },
  {
   "cell_type": "markdown",
   "metadata": {},
   "source": [
    "19. Create a Python program that counts the number of words in a sentence using a for loop."
   ]
  },
  {
   "cell_type": "code",
   "execution_count": null,
   "metadata": {},
   "outputs": [],
   "source": [
    "def count_words(sentence):\n",
    "    words = sentence.split(' ')\n",
    "    return len(words)\n",
    "\n",
    "# Test the function\n",
    "sentence = \"Hello, this is a test sentence.\"\n",
    "print(\"The number of words in the sentence is:\", count_words(sentence))"
   ]
  },
  {
   "cell_type": "markdown",
   "metadata": {},
   "source": [
    "20. Write a Python program to find the sum of all odd numbers from 1 to 50 using a for loop."
   ]
  },
  {
   "cell_type": "code",
   "execution_count": null,
   "metadata": {},
   "outputs": [],
   "source": [
    "def sum_of_odd_numbers():\n",
    "    sum = 0\n",
    "    for num in range(1, 51):\n",
    "        if num % 2 != 0:\n",
    "            sum += num\n",
    "    return sum\n",
    "\n",
    "# Test the function\n",
    "print(\"The sum of all odd numbers from 1 to 50 is:\", sum_of_odd_numbers())"
   ]
  },
  {
   "cell_type": "markdown",
   "metadata": {},
   "source": [
    "21. Write a Python program that checks if a given year is a leap year using a for loop."
   ]
  },
  {
   "cell_type": "code",
   "execution_count": null,
   "metadata": {},
   "outputs": [],
   "source": [
    "def is_leap_year(year):\n",
    "    # Check if the year is divisible by 4 and not divisible by 100\n",
    "    # OR if the year is divisible by 400\n",
    "    for y in range(year, year + 1):\n",
    "        if (y % 4 == 0 and y % 100 != 0) or (y % 400 == 0):\n",
    "            return True\n",
    "        else:\n",
    "            return False\n",
    "\n",
    "# Input year\n",
    "year = int(input(\"Enter a year: \"))\n",
    "\n",
    "if is_leap_year(year):\n",
    "    print(f\"{year} is a leap year.\")\n",
    "else:\n",
    "    print(f\"{year} is not a leap year.\")"
   ]
  },
  {
   "cell_type": "markdown",
   "metadata": {},
   "source": [
    "22. Create a Python program that calculates the square root of a number using a for loop."
   ]
  },
  {
   "cell_type": "code",
   "execution_count": null,
   "metadata": {},
   "outputs": [],
   "source": [
    "def calculate_square_root(n):\n",
    "    precision = 0.00001\n",
    "    for i in range(0, int(n)+1):\n",
    "        if i * i == n:\n",
    "            return i\n",
    "        elif i * i < n and (i+1) * (i+1) > n:\n",
    "            j = i + 0.1\n",
    "            while j * j <= n:\n",
    "                if abs(j * j - n) < precision:\n",
    "                    return j\n",
    "                j += 0.1\n",
    "    return -1\n",
    "\n",
    "# Test the function\n",
    "num = 25\n",
    "print(\"The square root of\", num, \"is approximately:\", calculate_square_root(num))"
   ]
  },
  {
   "cell_type": "markdown",
   "metadata": {},
   "source": [
    "23. Write a Python program to find the LCM (Least Common Multiple) of two numbers using a for loop."
   ]
  },
  {
   "cell_type": "code",
   "execution_count": null,
   "metadata": {},
   "outputs": [],
   "source": [
    "def find_lcm(num1, num2):\n",
    "    if num1 > num2:\n",
    "        greater = num1\n",
    "    else:\n",
    "        greater = num2\n",
    "\n",
    "    while True:\n",
    "        if greater % num1 == 0 and greater % num2 == 0:\n",
    "            lcm = greater\n",
    "            break\n",
    "        greater += 1\n",
    "\n",
    "    return lcm\n",
    "\n",
    "# Test the function\n",
    "number1 = 12\n",
    "number2 = 20\n",
    "print(\"The LCM of\", number1, \"and\", number2, \"is:\", find_lcm(number1, number2))"
   ]
  },
  {
   "cell_type": "markdown",
   "metadata": {},
   "source": [
    "If else :-"
   ]
  },
  {
   "cell_type": "markdown",
   "metadata": {},
   "source": [
    "1. Write a Python program to check if a number is positive, negative, or zero using an if-else statement."
   ]
  },
  {
   "cell_type": "code",
   "execution_count": null,
   "metadata": {},
   "outputs": [],
   "source": [
    "def check_number(n):\n",
    "    if n > 0:\n",
    "        print(n, \"is a positive number.\")\n",
    "    elif n < 0:\n",
    "        print(n, \"is a negative number.\")\n",
    "    else:\n",
    "        print(n, \"is zero.\")\n",
    "\n",
    "# Test the function\n",
    "num = 5\n",
    "check_number(num)"
   ]
  },
  {
   "cell_type": "markdown",
   "metadata": {},
   "source": [
    "2. Create a Python program that checks if a given number is even or odd using an if-else statement."
   ]
  },
  {
   "cell_type": "code",
   "execution_count": null,
   "metadata": {},
   "outputs": [],
   "source": [
    "def check_number(n):\n",
    "    if n % 2 == 0:\n",
    "        print(n, \"is an even number.\")\n",
    "    else:\n",
    "        print(n, \"is an odd number.\")\n",
    "\n",
    "# Test the function\n",
    "num = 5\n",
    "check_number(num)"
   ]
  },
  {
   "cell_type": "markdown",
   "metadata": {},
   "source": [
    "3. How can you use nested if-else statements in Python, and provide an example?"
   ]
  },
  {
   "cell_type": "code",
   "execution_count": null,
   "metadata": {},
   "outputs": [],
   "source": [
    "# In Python, nested if-else statements are used when you want to check for another condition after a condition resolves to true, or another condition if the first condition resolves to false. Essentially, it’s an if-else statement inside another if-else statement.\n",
    "\n",
    "# Here’s an example:\n",
    "\n",
    "\n",
    "def check_number(n):\n",
    "    if n >= 0:\n",
    "        if n == 0:\n",
    "            print(\"Zero\")\n",
    "        else:\n",
    "            print(\"Positive number\")\n",
    "    else:\n",
    "        print(\"Negative number\")\n",
    "\n",
    "# Test the function\n",
    "check_number(5)\n",
    "check_number(-5)\n",
    "check_number(0)"
   ]
  },
  {
   "cell_type": "markdown",
   "metadata": {},
   "source": [
    "4. Write a Python program to determine the largest of three numbers using if-else."
   ]
  },
  {
   "cell_type": "code",
   "execution_count": null,
   "metadata": {},
   "outputs": [],
   "source": [
    "def find_largest(num1, num2, num3):\n",
    "    if (num1 >= num2) and (num1 >= num3):\n",
    "        largest = num1\n",
    "    elif (num2 >= num1) and (num2 >= num3):\n",
    "        largest = num2\n",
    "    else:\n",
    "        largest = num3\n",
    "    return largest\n",
    "\n",
    "# Test the function\n",
    "number1 = 10\n",
    "number2 = 14\n",
    "number3 = 12\n",
    "print(\"The largest number is:\", find_largest(number1, number2, number3))"
   ]
  },
  {
   "cell_type": "markdown",
   "metadata": {},
   "source": [
    "5. Write a Python program that calculates the absolute value of a number using if-else."
   ]
  },
  {
   "cell_type": "code",
   "execution_count": null,
   "metadata": {},
   "outputs": [],
   "source": [
    "def calculate_absolute(n):\n",
    "    if n < 0:\n",
    "        return -n\n",
    "    else:\n",
    "        return n\n",
    "\n",
    "# Test the function\n",
    "num = -5\n",
    "print(\"The absolute value of\", num, \"is:\", calculate_absolute(num))"
   ]
  },
  {
   "cell_type": "markdown",
   "metadata": {},
   "source": [
    "6. Create a Python program that checks if a given character is a vowel or consonant using if-else."
   ]
  },
  {
   "cell_type": "code",
   "execution_count": null,
   "metadata": {},
   "outputs": [],
   "source": [
    "def check_character(ch):\n",
    "    if ch.lower() in 'aeiou':\n",
    "        print(ch, \"is a vowel.\")\n",
    "    else:\n",
    "        print(ch, \"is a consonant.\")\n",
    "\n",
    "# Test the function\n",
    "char = 'a'\n",
    "check_character(char)"
   ]
  },
  {
   "cell_type": "markdown",
   "metadata": {},
   "source": [
    "7. Write a Python program to determine if a user is eligible to vote based on their age using if-else."
   ]
  },
  {
   "cell_type": "code",
   "execution_count": null,
   "metadata": {},
   "outputs": [],
   "source": [
    "def check_voting_eligibility(age):\n",
    "    if age >= 18:\n",
    "        print(\"You are eligible to vote.\")\n",
    "    else:\n",
    "        print(\"You are not eligible to vote.\")\n",
    "\n",
    "# Test the function\n",
    "age = 20\n",
    "check_voting_eligibility(age)"
   ]
  },
  {
   "cell_type": "markdown",
   "metadata": {},
   "source": [
    "8. Create a Python program that calculates the discount amount based on the purchase amount using if-else."
   ]
  },
  {
   "cell_type": "code",
   "execution_count": null,
   "metadata": {},
   "outputs": [],
   "source": [
    "def calculate_discount(amount):\n",
    "    if amount <= 0:\n",
    "        return 0\n",
    "    elif amount < 100:\n",
    "        return amount * 0.05  # 5% discount\n",
    "    elif amount < 500:\n",
    "        return amount * 0.1  # 10% discount\n",
    "    else:\n",
    "        return amount * 0.15  # 15% discount\n",
    "\n",
    "# Test the function\n",
    "purchase_amount = 600\n",
    "print(\"The discount for a purchase amount of\", purchase_amount, \"is:\", calculate_discount(purchase_amount))"
   ]
  },
  {
   "cell_type": "markdown",
   "metadata": {},
   "source": [
    "9. Write a Python program to check if a number is within a specified range using if-else."
   ]
  },
  {
   "cell_type": "code",
   "execution_count": null,
   "metadata": {},
   "outputs": [],
   "source": [
    "def check_range(n, start, end):\n",
    "    if n >= start and n <= end:\n",
    "        print(n, \"is in the range between\", start, \"and\", end)\n",
    "    else:\n",
    "        print(n, \"is not in the range between\", start, \"and\", end)\n",
    "\n",
    "# Test the function\n",
    "num = 5\n",
    "start = 1\n",
    "end = 10\n",
    "check_range(num, start, end)"
   ]
  },
  {
   "cell_type": "markdown",
   "metadata": {},
   "source": [
    "10. Create a Python program that determines the grade of a student based on their score using if-else."
   ]
  },
  {
   "cell_type": "code",
   "execution_count": null,
   "metadata": {},
   "outputs": [],
   "source": [
    "def determine_grade(score):\n",
    "    if score >= 90:\n",
    "        return \"A\"\n",
    "    elif score >= 80:\n",
    "        return \"B\"\n",
    "    elif score >= 70:\n",
    "        return \"C\"\n",
    "    elif score >= 60:\n",
    "        return \"D\"\n",
    "    else:\n",
    "        return \"F\"\n",
    "\n",
    "# Test the function\n",
    "print(determine_grade(85))  # Output: B"
   ]
  },
  {
   "cell_type": "markdown",
   "metadata": {},
   "source": [
    "11. Write a Python program to check if a string is empty or not using if-else."
   ]
  },
  {
   "cell_type": "code",
   "execution_count": null,
   "metadata": {},
   "outputs": [],
   "source": [
    "def check_string(s):\n",
    "    if s:\n",
    "        return \"The string is not empty.\"\n",
    "    else:\n",
    "        return \"The string is empty.\"\n",
    "\n",
    "# Test the function\n",
    "print(check_string(\"\"))  # Output: The string is empty.\n",
    "print(check_string(\"Hello\"))  # Output: The string is not empty."
   ]
  },
  {
   "cell_type": "markdown",
   "metadata": {},
   "source": [
    "12. Create a Python program that identifies the type of a triangle (e.g., equilateral, isosceles, or scalene) based on input values using if-else."
   ]
  },
  {
   "cell_type": "code",
   "execution_count": null,
   "metadata": {},
   "outputs": [],
   "source": [
    "def identify_triangle(a, b, c):\n",
    "    if a == b == c:\n",
    "        return \"Equilateral\"\n",
    "    elif a == b or b == c or c == a:\n",
    "        return \"Isosceles\"\n",
    "    else:\n",
    "        return \"Scalene\"\n",
    "\n",
    "# Test the function\n",
    "print(identify_triangle(3, 3, 3))  # Output: Equilateral\n",
    "print(identify_triangle(3, 3, 2))  # Output: Isosceles\n",
    "print(identify_triangle(3, 4, 5))  # Output: Scalene"
   ]
  },
  {
   "cell_type": "markdown",
   "metadata": {},
   "source": [
    "13. Write a Python program to determine the day of the week based on a user-provided number using if-else."
   ]
  },
  {
   "cell_type": "code",
   "execution_count": null,
   "metadata": {},
   "outputs": [],
   "source": [
    "def determine_day(num):\n",
    "    if num == 1:\n",
    "        return \"Monday\"\n",
    "    elif num == 2:\n",
    "        return \"Tuesday\"\n",
    "    elif num == 3:\n",
    "        return \"Wednesday\"\n",
    "    elif num == 4:\n",
    "        return \"Thursday\"\n",
    "    elif num == 5:\n",
    "        return \"Friday\"\n",
    "    elif num == 6:\n",
    "        return \"Saturday\"\n",
    "    elif num == 7:\n",
    "        return \"Sunday\"\n",
    "    else:\n",
    "        return \"Invalid number. Please enter a number between 1 and 7.\"\n",
    "\n",
    "# Test the function\n",
    "print(determine_day(3))  # Output: Wednesday"
   ]
  },
  {
   "cell_type": "markdown",
   "metadata": {},
   "source": [
    "14.  Create a Python program that checks if a given year is a leap year using both if-else and a function."
   ]
  },
  {
   "cell_type": "code",
   "execution_count": null,
   "metadata": {},
   "outputs": [],
   "source": [
    "def is_leap_year(year):\n",
    "    if year % 4 == 0:\n",
    "        if year % 100 == 0:\n",
    "            if year % 400 == 0:\n",
    "                return True\n",
    "            else:\n",
    "                return False\n",
    "        else:\n",
    "            return True\n",
    "    else:\n",
    "        return False\n",
    "\n",
    "# Test the function\n",
    "print(is_leap_year(2000))  # Output: True\n",
    "print(is_leap_year(1900))  # Output: False"
   ]
  },
  {
   "cell_type": "markdown",
   "metadata": {},
   "source": [
    "15. How do you use the \"assert\" statement in Python to add debugging checks within if-else blocks?"
   ]
  },
  {
   "cell_type": "code",
   "execution_count": null,
   "metadata": {},
   "outputs": [],
   "source": [
    "# The assert statement in Python is a debugging aid that tests a condition. If the condition is true, it does nothing and your program just continues to execute. But if the assert condition evaluates to false, it raises an AssertionError exception with an optional error message.\n",
    "\n",
    "# Here’s an example of how you can use the assert statement in Python within if-else blocks:\n",
    "\n",
    "def check_triangle(a, b, c):\n",
    "    # Check if the sides form a valid triangle\n",
    "    assert a + b > c and a + c > b and b + c > a, \"Invalid triangle sides\"\n",
    "\n",
    "    if a == b == c:\n",
    "        return \"Equilateral\"\n",
    "    elif a == b or b == c or c == a:\n",
    "        return \"Isosceles\"\n",
    "    else:\n",
    "        return \"Scalene\"\n",
    "\n",
    "# Test the function with valid triangle sides\n",
    "print(check_triangle(3, 4, 5))  # Output: Scalene\n",
    "\n",
    "# Test the function with invalid triangle sides\n",
    "print(check_triangle(1, 2, 3))  # Raises AssertionError: Invalid triangle sides"
   ]
  },
  {
   "cell_type": "markdown",
   "metadata": {},
   "source": [
    "16. Create a Python program that determines the eligibility of a person for a senior citizen discount based on age using if-else."
   ]
  },
  {
   "cell_type": "code",
   "execution_count": null,
   "metadata": {},
   "outputs": [],
   "source": [
    "def check_eligibility(age):\n",
    "    if age >= 60:\n",
    "        return \"Eligible for senior citizen discount.\"\n",
    "    else:\n",
    "        return \"Not eligible for senior citizen discount.\"\n",
    "\n",
    "# Test the function\n",
    "print(check_eligibility(65))  # Output: Eligible for senior citizen discount.\n",
    "print(check_eligibility(55))  # Output: Not eligible for senior citizen discount."
   ]
  },
  {
   "cell_type": "markdown",
   "metadata": {},
   "source": [
    "17. Write a Python program to categorize a given character as uppercase, lowercase, or neither using if-else."
   ]
  },
  {
   "cell_type": "code",
   "execution_count": null,
   "metadata": {},
   "outputs": [],
   "source": [
    "def categorize_character(ch):\n",
    "    if ch.isupper():\n",
    "        return \"Uppercase\"\n",
    "    elif ch.islower():\n",
    "        return \"Lowercase\"\n",
    "    else:\n",
    "        return \"Neither\"\n",
    "\n",
    "# Test the function\n",
    "print(categorize_character('A'))  # Output: Uppercase\n",
    "print(categorize_character('a'))  # Output: Lowercase\n",
    "print(categorize_character('1'))  # Output: Neither"
   ]
  },
  {
   "cell_type": "markdown",
   "metadata": {},
   "source": [
    "18. Write a Python program to determine the roots of a quadratic equation using if-else."
   ]
  },
  {
   "cell_type": "code",
   "execution_count": null,
   "metadata": {},
   "outputs": [],
   "source": [
    "import cmath\n",
    "\n",
    "def find_roots(a, b, c):\n",
    "    # calculate the discriminant\n",
    "    d = (b**2) - (4*a*c)\n",
    "\n",
    "    # find two solutions\n",
    "    sol1 = (-b-cmath.sqrt(d))/(2*a)\n",
    "    sol2 = (-b+cmath.sqrt(d))/(2*a)\n",
    "\n",
    "    if d > 0:\n",
    "        return \"Real and Different Roots: {0} and {1}\".format(sol1, sol2)\n",
    "    elif d == 0:\n",
    "        return \"Real and Same Roots: {0} and {1}\".format(sol1, sol2)\n",
    "    else:\n",
    "        return \"Complex Roots: {0} and {1}\".format(sol1, sol2)\n",
    "\n",
    "# Test the function\n",
    "print(find_roots(1, -3, 2))  # Output: Real and Different Roots: (1+0j) and (2+0j)\n",
    "print(find_roots(1, -2, 1))  # Output: Real and Same Roots: (1+0j) and (1+0j)\n",
    "print(find_roots(1, 1, 1))   # Output: Complex Roots: (-0.5-0.8660254037844386j) and (-0.5+0.8660254037844386j)"
   ]
  },
  {
   "cell_type": "markdown",
   "metadata": {},
   "source": [
    "19. Create a Python program that checks if a given year is a century year or not using if-else."
   ]
  },
  {
   "cell_type": "code",
   "execution_count": null,
   "metadata": {},
   "outputs": [],
   "source": [
    "def is_century_year(year):\n",
    "    if year % 100 == 0:\n",
    "        return \"Yes, {} is a century year.\".format(year)\n",
    "    else:\n",
    "        return \"No, {} is not a century year.\".format(year)\n",
    "\n",
    "# Test the function\n",
    "print(is_century_year(2000))  # Output: Yes, 2000 is a century year.\n",
    "print(is_century_year(2023))  # Output: No, 2023 is not a century year."
   ]
  },
  {
   "cell_type": "markdown",
   "metadata": {},
   "source": [
    "20. Write a Python program to determine if a given number is a perfect square using if-else."
   ]
  },
  {
   "cell_type": "code",
   "execution_count": null,
   "metadata": {},
   "outputs": [],
   "source": [
    "import math\n",
    "\n",
    "def is_perfect_square(n):\n",
    "    root = math.sqrt(n)\n",
    "    if int(root + 0.5) ** 2 == n:\n",
    "        return \"Yes, {} is a perfect square.\".format(n)\n",
    "    else:\n",
    "        return \"No, {} is not a perfect square.\".format(n)\n",
    "\n",
    "# Test the function\n",
    "print(is_perfect_square(16))  # Output: Yes, 16 is a perfect square.\n",
    "print(is_perfect_square(20))  # Output: No, 20 is not a perfect square."
   ]
  },
  {
   "cell_type": "markdown",
   "metadata": {},
   "source": [
    "21. Explain the purpose of the \"continue\" and \"break\" statements within if-else loops."
   ]
  },
  {
   "cell_type": "code",
   "execution_count": null,
   "metadata": {},
   "outputs": [],
   "source": [
    "for i in range(5):\n",
    "    if i == 2:\n",
    "        continue\n",
    "    print(i)\n",
    "# In this code, when i equals 2, the continue statement is encountered and the print(i) statement is skipped for that iteration.\n",
    "\n",
    "for i in range(5):\n",
    "    if i == 2:\n",
    "        break\n",
    "    print(i)\n",
    "# In this code, when i equals 2, the break statement is encountered and the loop is terminated"
   ]
  },
  {
   "cell_type": "markdown",
   "metadata": {},
   "source": [
    "22. Create a Python program that calculates the BMI (Body Mass Index) of a person based on their weight and height using if-else."
   ]
  },
  {
   "cell_type": "code",
   "execution_count": null,
   "metadata": {},
   "outputs": [],
   "source": [
    "def calculate_bmi(weight, height):\n",
    "    # Calculate BMI\n",
    "    bmi = weight / (height ** 2)\n",
    "\n",
    "    # Determine the BMI category\n",
    "    if bmi < 18.5:\n",
    "        category = \"Underweight\"\n",
    "    elif bmi < 25:\n",
    "        category = \"Normal weight\"\n",
    "    elif bmi < 30:\n",
    "        category = \"Overweight\"\n",
    "    else:\n",
    "        category = \"Obesity\"\n",
    "\n",
    "    return \"BMI: {:.2f}, Category: {}\".format(bmi, category)\n",
    "\n",
    "# Test the function\n",
    "print(calculate_bmi(70, 1.75))  # Output: BMI: 22.86, Category: Normal weight"
   ]
  },
  {
   "cell_type": "markdown",
   "metadata": {},
   "source": [
    "23. How can you use the \"filter()\" function with if-else statements to filter elements from a list?"
   ]
  },
  {
   "cell_type": "code",
   "execution_count": null,
   "metadata": {},
   "outputs": [],
   "source": [
    "# The filter() function in Python is used to filter elements from a list (or any iterable) based on a condition. This function takes two arguments: a function and an iterable. The function should return True or False for each element in the iterable. The filter() function then returns a new iterable with only the elements for which the function returned True.\n",
    "\n",
    "# Example\n",
    "# Define a list of numbers\n",
    "numbers = [1, 2, 3, 4, 5, 6]\n",
    "\n",
    "# Define a function that checks if a number is even\n",
    "def is_even(n):\n",
    "    if n % 2 == 0:\n",
    "        return True\n",
    "    else:\n",
    "        return False\n",
    "\n",
    "# Use the filter() function to filter the even numbers\n",
    "even_numbers = filter(is_even, numbers)\n",
    "\n",
    "# Convert the result to a list and print it\n",
    "print(list(even_numbers))  # Output: [2, 4, 6]"
   ]
  },
  {
   "cell_type": "markdown",
   "metadata": {},
   "source": [
    "24. Write a Python program to determine if a given number is prime or not using if-else."
   ]
  },
  {
   "cell_type": "code",
   "execution_count": null,
   "metadata": {},
   "outputs": [],
   "source": [
    "def is_prime(n):\n",
    "    if n <= 1:\n",
    "        return \"Number must be greater than 1.\"\n",
    "    elif n <= 3:\n",
    "        return \"Yes, {} is a prime number.\".format(n)\n",
    "    elif n % 2 == 0 or n % 3 == 0:\n",
    "        return \"No, {} is not a prime number.\".format(n)\n",
    "    i = 5\n",
    "    while i * i <= n:\n",
    "        if n % i == 0 or n % (i + 2) == 0:\n",
    "            return \"No, {} is not a prime number.\".format(n)\n",
    "        i += 6\n",
    "    return \"Yes, {} is a prime number.\".format(n)\n",
    "\n",
    "# Test the function\n",
    "print(is_prime(29))  # Output: Yes, 29 is a prime number.\n",
    "print(is_prime(30))  # Output: No, 30 is not a prime number."
   ]
  },
  {
   "cell_type": "markdown",
   "metadata": {},
   "source": [
    "Map :-"
   ]
  },
  {
   "cell_type": "markdown",
   "metadata": {},
   "source": [
    "1. Explain the purpose of the `map()` function in Python and provide an example of how it can be used to apply a function to each element of an iterable."
   ]
  },
  {
   "cell_type": "code",
   "execution_count": null,
   "metadata": {},
   "outputs": [],
   "source": [
    "# The map() function in Python is a built-in function that allows you to process and transform all the items in an iterable without using an explicit for loop. It is a function that takes in two or more arguments: a function and one or more iterables, in the form: map(function, iterable, ...).\n",
    "\n",
    "# The map() function applies the function to all elements in the iterable and returns a map object with the results. This map object can be converted to a list or another iterable for use in your program.\n",
    "\n",
    "# Here’s an example of how you can use the map() function to square all numbers in a list:\n",
    "\n",
    "# Define a list of numbers\n",
    "numbers = [1, 2, 3, 4, 5]\n",
    "\n",
    "# Define a function that squares a number\n",
    "def square(n):\n",
    "    return n ** 2\n",
    "\n",
    "# Use the map() function to apply the square function to all numbers\n",
    "squares = map(square, numbers)\n",
    "\n",
    "# Convert the result to a list and print it\n",
    "print(list(squares))  # Output: [1, 4, 9, 16, 25]"
   ]
  },
  {
   "cell_type": "markdown",
   "metadata": {},
   "source": [
    "2. Write a Python program that uses the `map()` function to square each element of a list of numbers."
   ]
  },
  {
   "cell_type": "code",
   "execution_count": null,
   "metadata": {},
   "outputs": [],
   "source": [
    "# Define a list of numbers\n",
    "numbers = [1, 2, 3, 4, 5]\n",
    "\n",
    "# Define a function that squares a number\n",
    "def square(n):\n",
    "    return n ** 2\n",
    "\n",
    "# Use the map() function to apply the square function to all numbers\n",
    "squares = map(square, numbers)\n",
    "\n",
    "# Convert the result to a list and print it\n",
    "print(list(squares))  # Output: [1, 4, 9, 16, 25]"
   ]
  },
  {
   "cell_type": "markdown",
   "metadata": {},
   "source": [
    "3. How does the `map()` function differ from a list comprehension in Python, and when would you choose one over the other?\n",
    "\n",
    "sol:-\n",
    "\n",
    "The map() function and list comprehension in Python are both used to apply a function to each element in a list or other iterable, but they do it in slightly different ways:\n",
    "\n",
    "The map() function takes a function and an iterable as arguments, applies the function to each element in the iterable, and returns a map object. This map object is an iterator, so you can iterate over it to get the results, or convert it to a list or another iterable\n",
    "\n",
    "When to use one over the other depends on your specific needs:\n",
    "\n",
    "If you’re working with a large dataset and memory is a concern, map() can be a better choice because it returns an iterator and generates each value on the fly, not needing to store all the values in memory at once.\n",
    "\n",
    "If you’re applying a simple function to a small list and you want to write more idiomatic Python code, list comprehension can be a better choice because it’s more concise and easier to read.\n",
    "\n",
    "If you need to apply a function to multiple iterables in a pairwise manner, map() can be a better choice because it supports multiple iterables."
   ]
  },
  {
   "cell_type": "markdown",
   "metadata": {},
   "source": [
    "4. Create a Python program that uses the `map()` function to convert a list of names to uppercase."
   ]
  },
  {
   "cell_type": "code",
   "execution_count": null,
   "metadata": {},
   "outputs": [],
   "source": [
    "# Define a list of names\n",
    "names = [\"Alice\", \"Bob\", \"Charlie\"]\n",
    "\n",
    "# Use the map() function to apply the str.upper function to all names\n",
    "uppercase_names = map(str.upper, names)\n",
    "\n",
    "# Convert the result to a list and print it\n",
    "print(list(uppercase_names))  # Output: ['ALICE', 'BOB', 'CHARLIE']"
   ]
  },
  {
   "cell_type": "markdown",
   "metadata": {},
   "source": [
    "5. Write a Python program that uses the `map()` function to calculate the length of each word in a list of strings."
   ]
  },
  {
   "cell_type": "code",
   "execution_count": null,
   "metadata": {},
   "outputs": [],
   "source": [
    "# Define a list of words\n",
    "words = [\"Alice\", \"Bob\", \"Charlie\"]\n",
    "\n",
    "# Use the map() function to apply the len function to all words\n",
    "word_lengths = map(len, words)\n",
    "\n",
    "# Convert the result to a list and print it\n",
    "print(list(word_lengths))  # Output: [5, 3, 7]"
   ]
  },
  {
   "cell_type": "markdown",
   "metadata": {},
   "source": [
    "6. How can you use the `map()` function to apply a custom function to elements of multiple lists simultaneously in Python?"
   ]
  },
  {
   "cell_type": "code",
   "execution_count": null,
   "metadata": {},
   "outputs": [],
   "source": [
    "# The map() function in Python can be used to apply a function to elements of multiple lists simultaneously. This is done by passing multiple iterables to the map() function, and it will apply the function to the elements of the iterables in a pairwise manner.\n",
    "\n",
    "# Here’s an example where a custom function is applied to elements of two lists simultaneously:\n",
    "\n",
    "# Define two lists\n",
    "list1 = [1, 2, 3, 4, 5]\n",
    "list2 = [6, 7, 8, 9, 10]\n",
    "\n",
    "# Define a function that adds two numbers\n",
    "def add(x, y):\n",
    "    return x + y\n",
    "\n",
    "# Use the map() function to apply the add function to elements of list1 and list2\n",
    "result = map(add, list1, list2)\n",
    "\n",
    "# Convert the result to a list and print it\n",
    "print(list(result))  # Output: [7, 9, 11, 13, 15]"
   ]
  },
  {
   "cell_type": "markdown",
   "metadata": {},
   "source": [
    "7. Create a Python program that uses `map()` to convert a list of temperatures from Celsius to Fahrenheit."
   ]
  },
  {
   "cell_type": "code",
   "execution_count": null,
   "metadata": {},
   "outputs": [],
   "source": [
    "# Define a list of temperatures in Celsius\n",
    "celsius = [0, 10, 20, 30, 40]\n",
    "\n",
    "# Define a function that converts Celsius to Fahrenheit\n",
    "def celsius_to_fahrenheit(temp):\n",
    "    return (temp * 9/5) + 32\n",
    "\n",
    "# Use the map() function to apply the celsius_to_fahrenheit function to all temperatures\n",
    "fahrenheit = map(celsius_to_fahrenheit, celsius)\n",
    "\n",
    "# Convert the result to a list and print it\n",
    "print(list(fahrenheit))  # Output: [32.0, 50.0, 68.0, 86.0, 104.0]"
   ]
  },
  {
   "cell_type": "markdown",
   "metadata": {},
   "source": [
    "8. Write a Python program that uses the `map()` function to round each element of a list of floating-point numbers to the nearest integer."
   ]
  },
  {
   "cell_type": "code",
   "execution_count": null,
   "metadata": {},
   "outputs": [],
   "source": [
    "# Define a list of floating-point numbers\n",
    "numbers = [1.2, 2.5, 3.7, 4.6]\n",
    "\n",
    "# Use the map() function to apply the round function to all numbers\n",
    "rounded_numbers = map(round, numbers)\n",
    "\n",
    "# Convert the result to a list and print it\n",
    "print(list(rounded_numbers))  # Output: [1, 2, 4, 5]"
   ]
  },
  {
   "cell_type": "markdown",
   "metadata": {},
   "source": [
    "Reduce :-"
   ]
  },
  {
   "cell_type": "markdown",
   "metadata": {},
   "source": [
    "1. What is the `reduce()` function in Python, and what module should you import to use it? Provide an example of its basic usage."
   ]
  },
  {
   "cell_type": "code",
   "execution_count": null,
   "metadata": {},
   "outputs": [],
   "source": [
    "# The reduce() function in Python is a function that applies a binary function (a function that takes two arguments) to all elements of an iterable in a cumulative way. This means it takes the first two elements and applies the function to them, then feeds the result and the next element into the function, and so on, reducing the iterable to a single output.\n",
    "\n",
    "# The reduce() function is part of the functools module, so you need to import this module to use it.\n",
    "\n",
    "# Here’s an example of its basic usage:\n",
    "\n",
    "from functools import reduce\n",
    "\n",
    "# Define a list of numbers\n",
    "numbers = [1, 2, 3, 4, 5]\n",
    "\n",
    "# Define a function that adds two numbers\n",
    "def add(x, y):\n",
    "    return x + y\n",
    "\n",
    "# Use the reduce() function to apply the add function to all numbers\n",
    "sum = reduce(add, numbers)\n",
    "\n",
    "print(sum)  # Output: 15"
   ]
  },
  {
   "cell_type": "markdown",
   "metadata": {},
   "source": [
    "2. Write a Python program that uses the `reduce()` function to find the product of all elements in a list."
   ]
  },
  {
   "cell_type": "code",
   "execution_count": null,
   "metadata": {},
   "outputs": [],
   "source": [
    "from functools import reduce\n",
    "\n",
    "# Define a list of numbers\n",
    "numbers = [1, 2, 3, 4, 5]\n",
    "\n",
    "# Define a function that multiplies two numbers\n",
    "def multiply(x, y):\n",
    "    return x * y\n",
    "\n",
    "# Use the reduce() function to apply the multiply function to all numbers\n",
    "product = reduce(multiply, numbers)\n",
    "\n",
    "print(product)  # Output: 120"
   ]
  },
  {
   "cell_type": "markdown",
   "metadata": {},
   "source": [
    "3. Create a Python program that uses `reduce()` to find the maximum element in a list of numbers."
   ]
  },
  {
   "cell_type": "code",
   "execution_count": null,
   "metadata": {},
   "outputs": [],
   "source": [
    "from functools import reduce\n",
    "\n",
    "# Define a list of numbers\n",
    "numbers = [1, 2, 3, 4, 5]\n",
    "\n",
    "# Use the reduce() function to find the maximum number\n",
    "maximum = reduce(lambda x, y: x if x > y else y, numbers)\n",
    "\n",
    "print(maximum)  # Output: 5"
   ]
  },
  {
   "cell_type": "markdown",
   "metadata": {},
   "source": [
    "4. How can you use the `reduce()` function to concatenate a list of strings into a single string?"
   ]
  },
  {
   "cell_type": "code",
   "execution_count": null,
   "metadata": {},
   "outputs": [],
   "source": [
    "from functools import reduce\n",
    "\n",
    "# Define a list of strings\n",
    "strings = [\"Hello\", \" \", \"world\", \"!\"]\n",
    "\n",
    "# Use the reduce() function to concatenate all strings\n",
    "concatenated_string = reduce(lambda x, y: x + y, strings)\n",
    "\n",
    "print(concatenated_string)  # Output: Hello world!"
   ]
  },
  {
   "cell_type": "markdown",
   "metadata": {},
   "source": [
    "5. Write a Python program that calculates the factorial of a number using the `reduce()` function."
   ]
  },
  {
   "cell_type": "code",
   "execution_count": null,
   "metadata": {},
   "outputs": [],
   "source": [
    "from functools import reduce\n",
    "\n",
    "def factorial(n):\n",
    "    # Define a function that multiplies two numbers\n",
    "    def multiply(x, y):\n",
    "        return x * y\n",
    "\n",
    "    # Use the reduce() function to multiply all numbers from 1 to n\n",
    "    result = reduce(multiply, range(1, n + 1))\n",
    "\n",
    "    return result\n",
    "\n",
    "# Test the function\n",
    "print(factorial(5))  # Output: 120"
   ]
  },
  {
   "cell_type": "markdown",
   "metadata": {},
   "source": [
    "6. Create a Python program that uses `reduce()` to find the GCD (Greatest Common Divisor) of a list of numbers."
   ]
  },
  {
   "cell_type": "code",
   "execution_count": null,
   "metadata": {},
   "outputs": [],
   "source": [
    "from functools import reduce\n",
    "import math\n",
    "\n",
    "# Define a list of numbers\n",
    "numbers = [48, 60, 18]\n",
    "\n",
    "# Use the reduce() function to find the GCD of all numbers\n",
    "gcd = reduce(math.gcd, numbers)\n",
    "\n",
    "print(gcd)  # Output: 6"
   ]
  },
  {
   "cell_type": "markdown",
   "metadata": {},
   "source": [
    "7. Write a Python program that uses the `reduce()` function to find the sum of the digits of a given number."
   ]
  },
  {
   "cell_type": "code",
   "execution_count": null,
   "metadata": {},
   "outputs": [],
   "source": [
    "from functools import reduce\n",
    "\n",
    "def sum_of_digits(n):\n",
    "    # Convert the number to a list of digits\n",
    "    digits = list(map(int, str(n)))\n",
    "\n",
    "    # Use the reduce() function to sum all digits\n",
    "    sum = reduce(lambda x, y: x + y, digits)\n",
    "\n",
    "    return sum\n",
    "\n",
    "# Test the function\n",
    "print(sum_of_digits(12345))  # Output: 15"
   ]
  },
  {
   "cell_type": "markdown",
   "metadata": {},
   "source": [
    "Filter :-"
   ]
  },
  {
   "cell_type": "markdown",
   "metadata": {},
   "source": [
    "1. Explain the purpose of the `filter()` function in Python and provide an example of how it can be used to filter elements from an iterable."
   ]
  },
  {
   "cell_type": "code",
   "execution_count": null,
   "metadata": {},
   "outputs": [],
   "source": [
    "# The purpose of the filter() function in Python is to select elements from an iterable (such as a list, tuple, or string) that satisfy a given condition. The condition is defined by a function that returns True or False for each element. The filter() function returns an iterator that contains only the elements that passed the condition.\n",
    "\n",
    "# example\n",
    "# Define a function that checks if a number is even\n",
    "def is_even(num):\n",
    "    return num % 2 == 0\n",
    "\n",
    "# Create a list of numbers\n",
    "numbers = [1, 2, 3, 4, 5, 6, 7, 8, 9, 10]\n",
    "\n",
    "# Use the filter() function to select the even numbers\n",
    "even_numbers = filter(is_even, numbers)\n",
    "\n",
    "# Convert the iterator to a list and print it\n",
    "print(list(even_numbers))"
   ]
  },
  {
   "cell_type": "markdown",
   "metadata": {},
   "source": [
    "2. Write a Python program that uses the `filter()` function to select even numbers from a list of integers."
   ]
  },
  {
   "cell_type": "code",
   "execution_count": null,
   "metadata": {},
   "outputs": [],
   "source": [
    "# Define a list of integers\n",
    "numbers = [12, 34, 56, 78, 91, 15, 24, 39, 48, 67]\n",
    "\n",
    "# Define a function that checks if a number is even\n",
    "def is_even(num):\n",
    "    return num % 2 == 0\n",
    "\n",
    "# Use the filter() function to select the even numbers from the list\n",
    "even_numbers = filter(is_even, numbers)\n",
    "\n",
    "# Convert the iterator to a list and print it\n",
    "print(list(even_numbers))"
   ]
  },
  {
   "cell_type": "markdown",
   "metadata": {},
   "source": [
    "3. Create a Python program that uses the `filter()` function to select names that start with a specific letter from a list of strings."
   ]
  },
  {
   "cell_type": "code",
   "execution_count": null,
   "metadata": {},
   "outputs": [],
   "source": [
    "# Define a list of names\n",
    "names = [\"Alice\", \"Bob\", \"Charlie\", \"David\", \"Eve\", \"Frank\", \"Grace\", \"Harry\", \"Iris\", \"Jack\"]\n",
    "\n",
    "# Define a function that checks if a name starts with a specific letter\n",
    "def starts_with(name, letter):\n",
    "    return name[0] == letter\n",
    "\n",
    "# Use the filter() function to select the names that start with \"A\"\n",
    "a_names = filter(lambda name: starts_with(name, \"A\"), names)\n",
    "\n",
    "# Convert the iterator to a list and print it\n",
    "print(list(a_names))"
   ]
  },
  {
   "cell_type": "markdown",
   "metadata": {},
   "source": [
    "4. Write a Python program that uses the `filter()` function to select prime numbers from a list of integers."
   ]
  },
  {
   "cell_type": "code",
   "execution_count": null,
   "metadata": {},
   "outputs": [],
   "source": [
    "# Define a list of integers\n",
    "numbers = [12, 34, 56, 78, 91, 15, 24, 39, 48, 67]\n",
    "\n",
    "# Define a function that checks if a number is prime\n",
    "def is_prime(num):\n",
    "    # A prime number is greater than 1\n",
    "    if num <= 1:\n",
    "        return False\n",
    "    # Check for factors from 2 to the square root of num\n",
    "    for i in range(2, int(num**0.5) + 1):\n",
    "        if num % i == 0:\n",
    "            return False\n",
    "    # If no factors are found, the number is prime\n",
    "    return True\n",
    "\n",
    "# Use the filter() function to select the prime numbers from the list\n",
    "prime_numbers = filter(is_prime, numbers)\n",
    "\n",
    "# Convert the iterator to a list and print it\n",
    "print(list(prime_numbers))"
   ]
  },
  {
   "cell_type": "markdown",
   "metadata": {},
   "source": [
    "5. How can you use the `filter()` function to remove None values from a list in Python?"
   ]
  },
  {
   "cell_type": "code",
   "execution_count": null,
   "metadata": {},
   "outputs": [],
   "source": [
    "# Define a list that contains some None values\n",
    "my_list = [1, 2, None, 4, None, 6, None, 8, 9, 10]\n",
    "\n",
    "# Use the filter() function to remove the None values\n",
    "filtered_list = filter(bool, my_list)\n",
    "\n",
    "# Convert the iterator to a list and print it\n",
    "print(list(filtered_list))"
   ]
  },
  {
   "cell_type": "markdown",
   "metadata": {},
   "source": [
    "6. Create a Python program that uses `filter()` to select words longer than a certain length from a list of strings."
   ]
  },
  {
   "cell_type": "code",
   "execution_count": null,
   "metadata": {},
   "outputs": [],
   "source": [
    "# Define a list of words\n",
    "words = [\"apple\", \"banana\", \"cherry\", \"date\", \"elderberry\", \"fig\", \"grape\", \"honeydew\", \"iceberg\", \"jackfruit\"]\n",
    "\n",
    "# Define a function that checks if a word is longer than a given length\n",
    "def is_longer(word, length):\n",
    "    return len(word) > length\n",
    "\n",
    "# Use the filter() function to select the words longer than 5 characters from the list\n",
    "long_words = filter(lambda word: is_longer(word, 5), words)\n",
    "\n",
    "# Convert the iterator to a list and print it\n",
    "print(list(long_words))"
   ]
  },
  {
   "cell_type": "markdown",
   "metadata": {},
   "source": [
    "7. Write a Python program that uses the `filter()` function to select elements greater than a specified threshold from a list of values."
   ]
  },
  {
   "cell_type": "code",
   "execution_count": null,
   "metadata": {},
   "outputs": [],
   "source": [
    "# Define a list of values\n",
    "values = [12, 34, 56, 78, 91, 15, 24, 39, 48, 67]\n",
    "\n",
    "# Define a function that checks if a value is greater than a given threshold\n",
    "def is_greater(value, threshold):\n",
    "    return value > threshold\n",
    "\n",
    "# Use the filter() function to select the values greater than 50 from the list\n",
    "filtered_values = filter(lambda value: is_greater(value, 50), values)\n",
    "\n",
    "# Convert the iterator to a list and print it\n",
    "print(list(filtered_values))"
   ]
  },
  {
   "cell_type": "markdown",
   "metadata": {},
   "source": [
    "Recursion :-"
   ]
  },
  {
   "cell_type": "markdown",
   "metadata": {},
   "source": [
    "1. Explain the concept of recursion in Python. How does it differ from iteration?\n",
    "\n",
    "sol:-\n",
    "\n",
    "Recursion in Python is the process of defining a function that calls itself directly or indirectly to solve a problem. It differs from iteration, which is the process of repeating a set of statements until a condition is met.\n",
    "\n",
    "Recursion can be useful when the problem can be divided into smaller and simpler subproblems that have the same structure as the original problem. For example, finding the factorial of a number, generating a Fibonacci sequence, or traversing a tree structure can be done using recursion.\n",
    "\n",
    "Iteration means a loop repeatedly executes a set of instructions until a condition is met. For example, to find the factorial of a number n, you can use an iterative loop that starts from 1 and multiplies it by each number up to n. The loop stops when the number reaches n, and the final result is stored in a variable. Here is an example of an iterative loop in Python that calculates the factorial of a number:"
   ]
  },
  {
   "cell_type": "markdown",
   "metadata": {},
   "source": [
    "2. Write a Python program to calculate the factorial of a number using recursion."
   ]
  },
  {
   "cell_type": "code",
   "execution_count": null,
   "metadata": {},
   "outputs": [],
   "source": [
    "def factorial(n):\n",
    "    # Base case: 0! = 1\n",
    "    if n == 0:\n",
    "        return 1\n",
    "    # Recursive step: n! = n * (n-1)!\n",
    "    else:\n",
    "        return n * factorial(n-1)"
   ]
  },
  {
   "cell_type": "markdown",
   "metadata": {},
   "source": [
    "3. Create a recursive Python function to find the nth Fibonacci number."
   ]
  },
  {
   "cell_type": "code",
   "execution_count": null,
   "metadata": {},
   "outputs": [],
   "source": [
    "# Define a recursive function that takes n as an argument\n",
    "def fibonacci(n):\n",
    "    # Check if n is a valid input\n",
    "    if n < 0:\n",
    "        print(\"Invalid input\")\n",
    "        return\n",
    "    # Base case: the first Fibonacci number is 0\n",
    "    elif n == 0:\n",
    "        return 0\n",
    "    # Base case: the second Fibonacci number is 1\n",
    "    elif n == 1:\n",
    "        return 1\n",
    "    # Recursive case: the nth Fibonacci number is the sum of the previous two\n",
    "    else:\n",
    "        return fibonacci(n-1) + fibonacci(n-2)"
   ]
  },
  {
   "cell_type": "markdown",
   "metadata": {},
   "source": [
    "4. Write a recursive Python function to calculate the sum of all elements in a list."
   ]
  },
  {
   "cell_type": "code",
   "execution_count": null,
   "metadata": {},
   "outputs": [],
   "source": [
    "# Define a recursive function that takes a list as an argument\n",
    "def sum_list(lst):\n",
    "    # Base case: if the list is empty, return 0\n",
    "    if len(lst) == 0:\n",
    "        return 0\n",
    "    # Recursive case: return the first element plus the sum of the rest of the list\n",
    "    else:\n",
    "        return lst[0] + sum_list(lst[1:])"
   ]
  },
  {
   "cell_type": "markdown",
   "metadata": {},
   "source": [
    "5. How can you prevent a recursive function from running indefinitely, causing a stack overflow error?\n",
    "\n",
    "sol :-\n",
    "\n",
    "One way to prevent a recursive function from running indefinitely, causing a stack overflow error, is to use a base case. A base case is a condition that stops the recursion when it is met, and returns a value or performs an action that does not require further recursion. For example, if you want to write a recursive function that calculates the factorial of a number n, you can use the base case of n = 0, where you return 1. This way, the recursion will end when n reaches 0, and the function will not call itself indefinitely."
   ]
  },
  {
   "cell_type": "markdown",
   "metadata": {},
   "source": [
    "6. Create a recursive Python function to find the greatest common divisor (GCD) of two numbers using the Euclidean algorithm."
   ]
  },
  {
   "cell_type": "code",
   "execution_count": null,
   "metadata": {},
   "outputs": [],
   "source": [
    "# Define a recursive function that takes two numbers as arguments\n",
    "def gcd(a, b):\n",
    "    # Base case: if the second number is zero, return the first number\n",
    "    if b == 0:\n",
    "        return a\n",
    "    # Recursive case: return the GCD of the second number and the remainder of the first number divided by the second number\n",
    "    else:\n",
    "        return gcd(b, a % b)"
   ]
  },
  {
   "cell_type": "markdown",
   "metadata": {},
   "source": [
    "7. Write a recursive Python function to reverse a string."
   ]
  },
  {
   "cell_type": "code",
   "execution_count": null,
   "metadata": {},
   "outputs": [],
   "source": [
    "# Define a recursive function that takes a string as an argument\n",
    "def reverse_string(string):\n",
    "    # Base case: if the string is empty, return an empty string\n",
    "    if string == \"\":\n",
    "        return \"\"\n",
    "    # Recursive case: return the last character of the string plus the reversed string without the last character\n",
    "    else:\n",
    "        return string[-1] + reverse_string(string[:-1])"
   ]
  },
  {
   "cell_type": "markdown",
   "metadata": {},
   "source": [
    "8. Create a recursive Python function to calculate the power of a number (x^n)."
   ]
  },
  {
   "cell_type": "code",
   "execution_count": null,
   "metadata": {},
   "outputs": [],
   "source": [
    "# Define a recursive function that takes x and n as arguments\n",
    "def power(x, n):\n",
    "    # Base case: if n is zero, return 1\n",
    "    if n == 0:\n",
    "        return 1\n",
    "    # Recursive case: return x times the power of x and n-1\n",
    "    else:\n",
    "        return x * power(x, n-1)"
   ]
  },
  {
   "cell_type": "markdown",
   "metadata": {},
   "source": [
    "9. Write a recursive Python function to find all permutations of a given string."
   ]
  },
  {
   "cell_type": "code",
   "execution_count": null,
   "metadata": {},
   "outputs": [],
   "source": [
    "# Define a recursive function that takes a string as an argument\n",
    "def permutations(string):\n",
    "    # Base case: if the string is empty or has one character, return the string as the only permutation\n",
    "    if len(string) <= 1:\n",
    "        return [string]\n",
    "    # Recursive case: if the string has more than one character, initialize an empty result list\n",
    "    else:\n",
    "        result = []\n",
    "        # Loop through each character in the string\n",
    "        for i in range(len(string)):\n",
    "            # Remove the character from the string\n",
    "            char = string[i]\n",
    "            rest = string[:i] + string[i+1:]\n",
    "            # Call the same function on the remaining string, and get the list of permutations\n",
    "            sub_permutations = permutations(rest)\n",
    "            # For each permutation in the list, append the removed character to the front, and add the new permutation to the result list\n",
    "            for perm in sub_permutations:\n",
    "                result.append(char + perm)\n",
    "        # Return the result list after the loop\n",
    "        return result"
   ]
  },
  {
   "cell_type": "markdown",
   "metadata": {},
   "source": [
    "10. Write a recursive Python function to check if a string is a palindrome."
   ]
  },
  {
   "cell_type": "code",
   "execution_count": null,
   "metadata": {},
   "outputs": [],
   "source": [
    "# Define a recursive function that takes a string as an argument\n",
    "def is_palindrome(string):\n",
    "    # Base case: if the string is empty or has one character, return True\n",
    "    if len(string) <= 1:\n",
    "        return True\n",
    "    # Recursive case: if the first and last characters are the same, check the rest of the string\n",
    "    else:\n",
    "        return string[0] == string[-1] and is_palindrome(string[1:-1])"
   ]
  },
  {
   "cell_type": "markdown",
   "metadata": {},
   "source": [
    "11. Create a recursive Python function to generate all possible combinations of a list of elements."
   ]
  },
  {
   "cell_type": "code",
   "execution_count": null,
   "metadata": {},
   "outputs": [],
   "source": [
    "# Define a recursive function that takes a list as an argument\n",
    "def combinations(lst):\n",
    "    # Base case: if the list is empty, return a list containing an empty list\n",
    "    if len(lst) == 0:\n",
    "        return [[]]\n",
    "    # Recursive case: if the list has at least one element, initialize an empty result list\n",
    "    else:\n",
    "        result = []\n",
    "        # Loop through each element in the list\n",
    "        for i in range(len(lst)):\n",
    "            # Remove the element from the list\n",
    "            elem = lst[i]\n",
    "            rest = lst[:i] + lst[i+1:]\n",
    "            # Call the same function on the remaining list, and get the list of combinations\n",
    "            sub_combinations = combinations(rest)\n",
    "            # For each combination in the list, append the removed element to the front, and add the new combination to the result list\n",
    "            for comb in sub_combinations:\n",
    "                result.append([elem] + comb)\n",
    "        # Return the result list after the loop\n",
    "        return result"
   ]
  },
  {
   "cell_type": "markdown",
   "metadata": {},
   "source": [
    "Basics of Functions:"
   ]
  },
  {
   "cell_type": "markdown",
   "metadata": {},
   "source": [
    "1. What is a function in Python, and why is it used?\n"
   ]
  },
  {
   "cell_type": "code",
   "execution_count": null,
   "metadata": {},
   "outputs": [],
   "source": [
    "# A function in Python is a block of code that performs a specific task or a group of related tasks. Functions are used to make the code more organized, reusable, and modular. Functions can also help to avoid repetition and improve readability.\n",
    "\n",
    "# To define a function in Python, you need to use the def keyword, followed by the name of the function, the parentheses, and a colon. Inside the parentheses, you can optionally specify the parameters that the function accepts. After the colon, you need to indent the block of code that forms the body of the function. You can also use the return statement to return a value from the function.\n",
    "\n",
    "# For example, here is a function that takes two numbers and returns their sum:\n",
    "\n",
    "\n",
    "# Define a function that takes two numbers as arguments\n",
    "def add(x, y):\n",
    "    # Return the sum of the arguments\n",
    "    return x + y"
   ]
  },
  {
   "cell_type": "markdown",
   "metadata": {},
   "source": [
    "2. How do you define a function in Python? Provide an example."
   ]
  },
  {
   "cell_type": "code",
   "execution_count": null,
   "metadata": {},
   "outputs": [],
   "source": [
    "# To define a function in Python, you need to use the def keyword, followed by the name of the function, the parentheses, and a colon. Inside the parentheses, you can optionally specify the parameters that the function accepts. After the colon, you need to indent the block of code that forms the body of the function. You can also use the return statement to return a value from the function. Here is an example of a function definition in Python:\n",
    "\n",
    "# Define a function that takes two numbers and returns their sum\n",
    "def add(x, y):\n",
    "    # Calculate the sum\n",
    "    result = x + y\n",
    "    # Return the sum\n",
    "    return result"
   ]
  },
  {
   "cell_type": "markdown",
   "metadata": {},
   "source": [
    "3. Explain the difference between a function definition and a function call.\n",
    "\n",
    "sol :-\n",
    "\n",
    "Function Definition:\n",
    "\n",
    "A function definition is where you actually create the function. It's like designing a blueprint or a recipe for something you want the computer to do.\n",
    "In this stage, you specify what the function does when it's called and what inputs (if any) it needs to work.\n",
    "Syntax-wise, it usually involves using a keyword (like def in Python) followed by the function name, parameters (if any), and the block of code that represents the function's behavior.\n",
    "\n",
    "Function Call:\n",
    "\n",
    "A function call is when you actually use or invoke the function you've defined. It's like using the blueprint or the recipe you've created earlier to get something done.\n",
    "When you call a function, you're instructing the program to execute the code defined within that function.\n",
    "To call a function, you use its name followed by parentheses, and if the function requires any arguments (inputs), you provide them within the parentheses."
   ]
  },
  {
   "cell_type": "markdown",
   "metadata": {},
   "source": [
    "4. Write a Python program that defines a function to calculate the sum of two numbers and then calls the function."
   ]
  },
  {
   "cell_type": "code",
   "execution_count": null,
   "metadata": {},
   "outputs": [],
   "source": [
    "# Define a function that takes two numbers as arguments\n",
    "def add(x, y):\n",
    "    # Return the sum of the arguments\n",
    "    return x + y\n",
    "\n",
    "# Call the function with two numbers and print the result\n",
    "print(add(3, 5))"
   ]
  },
  {
   "cell_type": "markdown",
   "metadata": {},
   "source": [
    "5. What is a function signature, and what information does it typically include?"
   ]
  },
  {
   "cell_type": "code",
   "execution_count": null,
   "metadata": {},
   "outputs": [],
   "source": [
    "# A function signature is the interface that describes what arguments a function accepts and what kind of value it returns. It typically includes the following information:\n",
    "\n",
    "# The name of the function\n",
    "# The number and order of the parameters\n",
    "# The type and default value of each parameter (optional)\n",
    "# The type of the return value (optional)\n",
    "# For example, in Python, you can use the inspect.signature() function to get the signature of a function. Here is an example of a function and its signature:\n",
    "\n",
    "# Define a function that takes two numbers and returns their sum\n",
    "def add(x: int, y: int = 0) -> int:\n",
    "    return x + y\n",
    "\n",
    "# Get the signature of the function\n",
    "import inspect\n",
    "print(inspect.signature(add))"
   ]
  },
  {
   "cell_type": "markdown",
   "metadata": {},
   "source": [
    "6. Create a Python function that takes two arguments and returns their product."
   ]
  },
  {
   "cell_type": "code",
   "execution_count": null,
   "metadata": {},
   "outputs": [],
   "source": [
    "# Define a function that takes two arguments\n",
    "def product(a, b):\n",
    "    # Return the product of the arguments\n",
    "    return a * b"
   ]
  },
  {
   "cell_type": "markdown",
   "metadata": {},
   "source": [
    "Function Parameters and Arguments:"
   ]
  },
  {
   "cell_type": "markdown",
   "metadata": {},
   "source": [
    "1. Explain the concepts of formal parameters and actual arguments in Python functions.\n",
    "\n",
    "sol :-\n",
    "\n",
    "Formal parameters and actual arguments are two concepts related to how functions in Python accept and use input values.\n",
    "\n",
    "Formal parameters are the names or placeholders that are used to define a function and its expected input. They are also called parameters or arguments.\n",
    "\n",
    "Actual arguments are the values or expressions that are passed to a function when it is called. They are also called arguments or parameters\n",
    "\n",
    "The actual arguments are matched with the formal parameters according to their position or name, and then used inside the function bod"
   ]
  },
  {
   "cell_type": "markdown",
   "metadata": {},
   "source": [
    "2. Write a Python program that defines a function with default argument values."
   ]
  },
  {
   "cell_type": "code",
   "execution_count": null,
   "metadata": {},
   "outputs": [],
   "source": [
    "# Define a function that takes a name and a greeting as arguments\n",
    "# The greeting argument has a default value of \"Hello\"\n",
    "def greet(name, greeting=\"Hello\"):\n",
    "    # Return the greeting and the name\n",
    "    return greeting + \" \" + name\n",
    "\n",
    "# Call the function with two arguments and print the result\n",
    "print(greet(\"Alice\", \"Hi\"))\n",
    "\n",
    "# Call the function with one argument and print the result\n",
    "print(greet(\"Bob\"))"
   ]
  },
  {
   "cell_type": "markdown",
   "metadata": {},
   "source": [
    "3. How do you use keyword arguments in Python function calls? Provide an example."
   ]
  },
  {
   "cell_type": "code",
   "execution_count": null,
   "metadata": {},
   "outputs": [],
   "source": [
    "# Keyword arguments in Python allow you to specify argument names with values when calling a function. They are often used for optional parameters. Here’s an example:\n",
    "\n",
    "def greet(name, greeting=\"Hello\"):\n",
    "    print(f\"{greeting}, {name}!\")\n",
    "\n",
    "# Using positional arguments\n",
    "greet(\"Alice\")\n",
    "\n",
    "# Using keyword arguments\n",
    "greet(name=\"Bob\", greeting=\"Good morning\")\n",
    "greet(greeting=\"Good evening\", name=\"Charlie\")"
   ]
  },
  {
   "cell_type": "markdown",
   "metadata": {},
   "source": [
    "4. Create a Python function that accepts a variable number of arguments and calculates their sum."
   ]
  },
  {
   "cell_type": "code",
   "execution_count": null,
   "metadata": {},
   "outputs": [
    {
     "ename": "",
     "evalue": "",
     "output_type": "error",
     "traceback": [
      "\u001b[1;31mThe Kernel crashed while executing code in the the current cell or a previous cell. Please review the code in the cell(s) to identify a possible cause of the failure. Click <a href='https://aka.ms/vscodeJupyterKernelCrash'>here</a> for more info. View Jupyter <a href='command:jupyter.viewOutput'>log</a> for further details."
     ]
    }
   ],
   "source": [
    "def calculate_sum(*args):\n",
    "    return sum(args)\n",
    "\n",
    "# Example usage:\n",
    "total = calculate_sum(1, 2, 3, 4, 5)\n",
    "print(total)  # Output: 15"
   ]
  },
  {
   "cell_type": "markdown",
   "metadata": {},
   "source": [
    "5. What is the purpose of the `*args` and `**kwargs` syntax in function parameter lists?\n",
    "\n",
    "sol :-\n",
    "\n",
    "*args: This allows a function to accept any number of positional arguments. These arguments are stored in a tuple.\n",
    "\n",
    "**kwargs: This allows a function to accept any number of keyword arguments (arguments preceded by identifiers). These arguments are stored in a dictionary"
   ]
  },
  {
   "cell_type": "markdown",
   "metadata": {},
   "source": [
    "Return Values and Scoping:"
   ]
  },
  {
   "cell_type": "markdown",
   "metadata": {},
   "source": [
    "1. Describe the role of the `return` statement in Python functions and provide examples.\n"
   ]
  },
  {
   "cell_type": "code",
   "execution_count": null,
   "metadata": {},
   "outputs": [],
   "source": [
    "# The return statement in Python functions is used to send a result back to the caller of the function. When a return statement is executed, the function terminates immediately and the value specified in the return statement is passed back to the caller. If no value is specified, None is returned.\n",
    "\n",
    "def divide(x, y):\n",
    "    if y == 0:\n",
    "        return \"Cannot divide by zero\"\n",
    "    return x / y\n",
    "\n",
    "print(divide(10, 0))  # Output: Cannot divide by zero"
   ]
  },
  {
   "cell_type": "markdown",
   "metadata": {},
   "source": [
    "2. Explain the concept of variable scope in Python, including local and global variables.\n",
    "\n",
    "sol:-\n",
    "\n",
    "Local Variables: A variable declared inside a function is known as a local variable. This variable is present in the local space, not in the global space. It is only accessible within the function it is declared, not outside the function\n",
    "\n",
    "Global Variables: A variable declared outside all function definitions is a global variable, and it is accessible throughout the program, both inside functions and outside."
   ]
  },
  {
   "cell_type": "markdown",
   "metadata": {},
   "source": [
    "3. Write a Python program that demonstrates the use of global variables within functions."
   ]
  },
  {
   "cell_type": "code",
   "execution_count": null,
   "metadata": {},
   "outputs": [],
   "source": [
    "# Global variable\n",
    "num = 10\n",
    "\n",
    "def show_num():\n",
    "    # This function prints the global variable num\n",
    "    print(\"Inside the function, num is:\", num)\n",
    "\n",
    "def change_num():\n",
    "    # Declare num as global\n",
    "    global num\n",
    "    # Now we can change the global variable\n",
    "    num = 20\n",
    "\n",
    "show_num()  # Output: Inside the function, num is: 10\n",
    "change_num()\n",
    "show_num()  # Output: Inside the function, num is: 20"
   ]
  },
  {
   "cell_type": "markdown",
   "metadata": {},
   "source": [
    "4. Create a Python function that calculates the factorial of a number and returns it."
   ]
  },
  {
   "cell_type": "code",
   "execution_count": null,
   "metadata": {},
   "outputs": [],
   "source": [
    "def factorial(n):\n",
    "    if n == 0:\n",
    "        return 1\n",
    "    else:\n",
    "        return n * factorial(n-1)\n",
    "\n",
    "# Example usage:\n",
    "print(factorial(5))  # Output: 120"
   ]
  },
  {
   "cell_type": "markdown",
   "metadata": {},
   "source": [
    "5. How can you access variables defined outside a function from within the function?"
   ]
  },
  {
   "cell_type": "code",
   "execution_count": null,
   "metadata": {},
   "outputs": [],
   "source": [
    "# In Python, you can access variables defined outside a function from within the function. These are known as global variables. Here’s an example:\n",
    "\n",
    "# Global variable\n",
    "x = 10\n",
    "\n",
    "def print_x():\n",
    "    # Access the global variable x\n",
    "    print(x)\n",
    "\n",
    "print_x()  # Output: 10\n",
    "\n",
    "\n",
    "#  if you want to modify a global variable from within a function, you need to declare it as global inside the function using the global keyword. Here’s an example:\n",
    "\n",
    "\n",
    "# Global variable\n",
    "x = 10\n",
    "\n",
    "def change_x():\n",
    "    # Declare x as global\n",
    "    global x\n",
    "    # Now we can change the global variable\n",
    "    x = 20\n",
    "\n",
    "print(x)  # Output: 10\n",
    "change_x()\n",
    "print(x)  # Output: 20\n"
   ]
  },
  {
   "cell_type": "markdown",
   "metadata": {},
   "source": [
    "Lambda Functions and Higher-Order Functions:"
   ]
  },
  {
   "cell_type": "markdown",
   "metadata": {},
   "source": [
    "1. What are lambda functions in Python, and when are they typically used?\n",
    "\n",
    "sol :-\n",
    "\n",
    "Lambda functions in Python, also known as anonymous functions, are small, one-line functions declared with the lambda keyword. They can take any number of arguments but can only have one expression\n",
    "\n",
    "Lambda functions are typically used when you need a small function for a short period of time, and you don’t want to use the def keyword to define it. They are commonly used with functions like map(), filter(), and reduce() which require function objects as arguments."
   ]
  },
  {
   "cell_type": "markdown",
   "metadata": {},
   "source": [
    "2. Write a Python program that uses lambda functions to sort a list of tuples based on the second element."
   ]
  },
  {
   "cell_type": "code",
   "execution_count": null,
   "metadata": {},
   "outputs": [],
   "source": [
    "# List of tuples\n",
    "tuples_list = [(1, 'z'), (2, 'y'), (3, 'x'), (4, 'w'), (5, 'v')]\n",
    "\n",
    "# Sort the list of tuples based on the second element\n",
    "sorted_list = sorted(tuples_list, key=lambda x: x[1])\n",
    "\n",
    "print(sorted_list)  # Output: [(5, 'v'), (4, 'w'), (3, 'x'), (2, 'y'), (1, 'z')]\n"
   ]
  },
  {
   "cell_type": "markdown",
   "metadata": {},
   "source": [
    "3. Explain the concept of higher-order functions in Python, and provide an example."
   ]
  },
  {
   "cell_type": "code",
   "execution_count": null,
   "metadata": {},
   "outputs": [],
   "source": [
    "# Higher-order functions in Python are functions that can accept other functions as arguments and/or return functions as results. They are a key feature of functional programming and are used extensively in Python, particularly with built-in functions like map(), filter(), and reduce().\n",
    "\n",
    "# Here’s an example of a higher-order function:\n",
    "\n",
    "def apply_func(func, x):\n",
    "    return func(x)\n",
    "\n",
    "# Define a simple function to be used as an argument\n",
    "def square(n):\n",
    "    return n ** 2\n",
    "\n",
    "# Use the higher-order function\n",
    "result = apply_func(square, 5)\n",
    "print(result)  # Output: 25"
   ]
  },
  {
   "cell_type": "markdown",
   "metadata": {},
   "source": [
    "4. Create a Python function that takes a list of numbers and a function as arguments, applying the function to each element in the list."
   ]
  },
  {
   "cell_type": "code",
   "execution_count": null,
   "metadata": {},
   "outputs": [],
   "source": [
    "def apply_func_to_list(func, numbers):\n",
    "    return [func(x) for x in numbers]\n",
    "\n",
    "# Example usage:\n",
    "numbers = [1, 2, 3, 4, 5]\n",
    "squares = apply_func_to_list(lambda x: x**2, numbers)\n",
    "print(squares)  # Output: [1, 4, 9, 16, 25]"
   ]
  },
  {
   "cell_type": "markdown",
   "metadata": {},
   "source": [
    "Built-in Functions:"
   ]
  },
  {
   "cell_type": "markdown",
   "metadata": {},
   "source": [
    "\n",
    "1. Describe the role of built-in functions like `len()`, `max()`, and `min()` in Python.\n",
    "\n",
    "sol:-\n",
    "\n",
    "These functions are very handy for performing common tasks on data types like lists, tuples, and strings. They are part of Python’s built-in functions, which means you can use them without having to import any modules. They are designed to be simple and easy to use, while also being flexible enough to handle different types of data.\n",
    "\n",
    "len(): This function returns the number of items in an object. When the object is a string, the len() function returns the number of characters in the string.\n",
    "\n",
    "max(): This function returns the largest item in an iterable or the largest of two or more arguments.\n",
    "\n",
    "min(): This function returns the smallest item in an iterable or the smallest of two or more arguments."
   ]
  },
  {
   "cell_type": "markdown",
   "metadata": {},
   "source": [
    "2. Write a Python program that uses the `map()` function to apply a function to each element of a list."
   ]
  },
  {
   "cell_type": "code",
   "execution_count": null,
   "metadata": {},
   "outputs": [],
   "source": [
    "def square(n):\n",
    "    return n ** 2\n",
    "\n",
    "numbers = [1, 2, 3, 4, 5]\n",
    "squares = map(square, numbers)\n",
    "\n",
    "# Convert the result to a list and print it\n",
    "print(list(squares))  # Output: [1, 4, 9, 16, 25]"
   ]
  },
  {
   "cell_type": "markdown",
   "metadata": {},
   "source": [
    "3. How does the `filter()` function work in Python, and when would you use it?\n",
    "\n",
    "sol:- \n",
    "\n",
    "The filter() function in Python is a built-in function that you can use to filter elements from an iterable (like a list or a tuple) based on a function. The filter() function takes two arguments: a function and an iterable. It applies the function to each element in the iterable and returns a new iterable with only the elements for which the function returned True.\n",
    "\n",
    "We would typically use the filter() function when you want to filter elements from an iterable based on some condition. The condition is defined by the function you pass to filter()"
   ]
  },
  {
   "cell_type": "markdown",
   "metadata": {},
   "source": [
    "4. Create a Python program that uses the `reduce()` function to find the product of all elements in a list."
   ]
  },
  {
   "cell_type": "code",
   "execution_count": null,
   "metadata": {},
   "outputs": [],
   "source": [
    "from functools import reduce\n",
    "\n",
    "def multiply(x, y):\n",
    "    return x * y\n",
    "\n",
    "numbers = [1, 2, 3, 4, 5]\n",
    "product = reduce(multiply, numbers)\n",
    "\n",
    "print(product)  # Output: 120"
   ]
  },
  {
   "cell_type": "markdown",
   "metadata": {},
   "source": [
    "Function Documentation and Best Practices:\n"
   ]
  },
  {
   "cell_type": "markdown",
   "metadata": {},
   "source": [
    "1. Explain the purpose of docstrings in Python functions and how to write them.\n",
    "\n",
    "sol:- \n",
    "\n",
    "Docstrings, short for documentation strings, are descriptive text strings enclosed in triple quotes that you can include in your Python functions, modules, classes, or methods. They serve as the built-in documentation for your code\n",
    "\n",
    "Docstrings are a good practice because they make your code easier to understand and use. They’re especially useful if other people will be using or maintaining your code, or if you’ll be revisiting your own code after a long time. Python’s help() function uses docstrings to provide helpful information about how to use different functions, classes, and methods, so including docstrings in"
   ]
  },
  {
   "cell_type": "markdown",
   "metadata": {},
   "source": [
    "2. Describe some best practices for naming functions and variables in Python, including naming conventions and guidelines.\n",
    "\n",
    "sol:-\n",
    "\n",
    "1) Use Descriptive Names: Function and variable names should be descriptive of their purpose or the value they hold. For example, get_average_score() is a good function name because it describes what the function does.\n",
    "\n",
    "2) Use Lowercase Letters and Underscores: In Python, it’s a common convention to name functions and variables in lowercase with words separated by underscores. This style is known as snake_case. For example, my_variable.\n",
    "\n",
    "3) Avoid Using Reserved Words: Python has a set of keywords that are reserved for use in the language. You should avoid using these words as function or variable names to prevent conflicts and confusion. For example, don’t use for, while, if, etc. as variable names.\n",
    "\n",
    "4) Start Function Names with Verbs: When naming functions, it’s often helpful to start the name with a verb since functions typically perform actions. For example, calculate_sum() or print_message().\n",
    "\n",
    "5) Use is_ or has_ Prefix for Boolean Variables: For variables that hold a boolean value, it can be helpful to start the name with is_ or has_ to make it clear that the variable is a condition. For example, is_valid or has_errors.\n",
    "\n",
    "6) Avoid Single Character Names: Except for very short blocks of code, avoid using single character variable names like i, j, k. Names like index or counter are much more readable.\n",
    "\n",
    "7) Constants Should Be Uppercase: If you have a variable that’s intended to be a constant (i.e., its value shouldn’t be changed), it’s a common convention to use all uppercase letters with words separated by underscores. For example, MAX_SIZE."
   ]
  }
 ],
 "metadata": {
  "kernelspec": {
   "display_name": "Python 3",
   "language": "python",
   "name": "python3"
  },
  "language_info": {
   "codemirror_mode": {
    "name": "ipython",
    "version": 3
   },
   "file_extension": ".py",
   "mimetype": "text/x-python",
   "name": "python",
   "nbconvert_exporter": "python",
   "pygments_lexer": "ipython3",
   "version": "3.11.4"
  }
 },
 "nbformat": 4,
 "nbformat_minor": 2
}
