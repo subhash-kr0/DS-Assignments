{
 "cells": [
  {
   "cell_type": "markdown",
   "metadata": {},
   "source": [
    "1. Given an array, check if it contains any duplicates or not.\n",
    "arr = [1, 2, 4, 2, 5, 9]\n",
    "Output = True"
   ]
  },
  {
   "cell_type": "code",
   "execution_count": null,
   "metadata": {},
   "outputs": [],
   "source": [
    "# Define the array\n",
    "arr = [1, 2, 4, 2, 5, 9]\n",
    "\n",
    "# Use a set to remove duplicates, and compare its length to the array's length\n",
    "if len(arr) != len(set(arr)):\n",
    "    print(\"The array contains duplicates.\")\n",
    "else:\n",
    "    print(\"The array does not contain duplicates.\")"
   ]
  },
  {
   "cell_type": "markdown",
   "metadata": {},
   "source": [
    "2. Given an array and an integer k, rotate the array to the right by k steps.\n",
    "arr = [1, 2, 3, 4, 5, 6, 7] k = 3\n",
    "Output = [5, 6, 7, 1, 2, 3, 4]"
   ]
  },
  {
   "cell_type": "code",
   "execution_count": null,
   "metadata": {},
   "outputs": [],
   "source": [
    "# Define the array and k\n",
    "arr = [1, 2, 3, 4, 5, 6, 7]\n",
    "k = 3\n",
    "\n",
    "# Rotate the array\n",
    "rotated_arr = arr[-k:] + arr[:-k]\n",
    "\n",
    "# Print the rotated array\n",
    "print(\"The rotated array is:\", rotated_arr)"
   ]
  },
  {
   "cell_type": "markdown",
   "metadata": {},
   "source": [
    "3. Reverse the given array in-place, means without using any extra data structure.\n",
    "arr = [2, 4, 5, 7, 9, 12]\n",
    "Output = [12, 9, 7, 5, 4, 2]"
   ]
  },
  {
   "cell_type": "code",
   "execution_count": null,
   "metadata": {},
   "outputs": [],
   "source": [
    "# Define the array\n",
    "arr = [2, 4, 5, 7, 9, 12]\n",
    "\n",
    "# Reverse the array in-place\n",
    "for i in range(len(arr)//2):\n",
    "    arr[i], arr[-i-1] = arr[-i-1], arr[i]\n",
    "\n",
    "# Print the reversed array\n",
    "print(\"The reversed array is:\", arr)"
   ]
  },
  {
   "cell_type": "markdown",
   "metadata": {},
   "source": [
    "4. Given an array of integers, find the maximum element in an array\n",
    "arr = [10, 5, 20, 8, 15]\n",
    "Output = 20"
   ]
  },
  {
   "cell_type": "code",
   "execution_count": null,
   "metadata": {},
   "outputs": [],
   "source": [
    "# Define the array\n",
    "arr = [10, 5, 20, 8, 15]\n",
    "\n",
    "# Find the maximum element\n",
    "max_element = max(arr)\n",
    "\n",
    "# Print the maximum element\n",
    "print(\"The maximum element in the array is:\", max_element)"
   ]
  },
  {
   "cell_type": "markdown",
   "metadata": {},
   "source": [
    "5. Given a sorted array, remove the duplicate element without using any extra data structure.\n",
    "arr = [1, 1, 2, 2, 2, 3, 3, 4, 4, 4, 5, 5]\n",
    "Output = [1, 2, 3, 4, 5]"
   ]
  },
  {
   "cell_type": "code",
   "execution_count": null,
   "metadata": {},
   "outputs": [],
   "source": [
    "# Define the sorted array\n",
    "arr = [1, 1, 2, 2, 2, 3, 3, 4, 4, 4, 5, 5]\n",
    "\n",
    "# Initialize a variable to keep track of the current unique element\n",
    "current = None\n",
    "\n",
    "# Iterate over the array in reverse order\n",
    "for i in range(len(arr) - 1, -1, -1):\n",
    "    # If the current element is the same as the previous unique element\n",
    "    if arr[i] == current:\n",
    "        # Remove the element\n",
    "        del arr[i]\n",
    "    else:\n",
    "        # Update the current unique element\n",
    "        current = arr[i]\n",
    "\n",
    "# Print the modified array\n",
    "print(\"The array without duplicates is:\", arr)"
   ]
  }
 ],
 "metadata": {
  "language_info": {
   "name": "python"
  }
 },
 "nbformat": 4,
 "nbformat_minor": 2
}
