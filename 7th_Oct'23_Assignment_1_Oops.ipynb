{
 "cells": [
  {
   "cell_type": "markdown",
   "metadata": {},
   "source": [
    "Problem 1: Bank Account Create a class representing a bank account with attributes like account number, account holder name, and balance. Implement methods to deposit and withdraw money from the account."
   ]
  },
  {
   "cell_type": "code",
   "execution_count": 1,
   "metadata": {},
   "outputs": [],
   "source": [
    "class BankAccount:\n",
    "    def __init__(self, account_number, account_holder_name, balance):\n",
    "        self.account_number = account_number\n",
    "        self.account_holder_name = account_holder_name\n",
    "        self.balance = balance\n",
    "    \n",
    "    def deposit(self, amount):\n",
    "        self.balance += amount\n",
    "    \n",
    "    def withdraw(self, amount):\n",
    "        if amount <= self.balance:\n",
    "            self.balance -= amount\n",
    "        else:\n",
    "            print(\"Insufficient funds.\")\n",
    "\n",
    "# Usage:\n",
    "account = BankAccount(\"12345\", \"John Doe\", 1000)\n",
    "account.deposit(500)\n",
    "account.withdraw(200)\n"
   ]
  },
  {
   "cell_type": "markdown",
   "metadata": {},
   "source": [
    "Problem 2: Employee Management Create a class representing an employee with attributes like employee ID, name, and salary. Implement methods to calculate the yearly bonus and display employee details."
   ]
  },
  {
   "cell_type": "code",
   "execution_count": null,
   "metadata": {},
   "outputs": [],
   "source": [
    "class Employee:\n",
    "    def __init__(self, employee_id, name, salary):\n",
    "        self.employee_id = employee_id\n",
    "        self.name = name\n",
    "        self.salary = salary\n",
    "    \n",
    "    def calculate_yearly_bonus(self):\n",
    "        return self.salary * 0.1  # 10% of salary as bonus\n",
    "    \n",
    "    def display_details(self):\n",
    "        print(f\"Employee ID: {self.employee_id}\")\n",
    "        print(f\"Name: {self.name}\")\n",
    "        print(f\"Salary: ${self.salary}\")\n",
    "\n",
    "# Usage:\n",
    "emp = Employee(\"E001\", \"Alice\", 50000)\n",
    "bonus = emp.calculate_yearly_bonus()\n",
    "emp.display_details()"
   ]
  },
  {
   "cell_type": "markdown",
   "metadata": {},
   "source": [
    "Problem 3: Vehicle Rental Create a class representing a vehicle rental system. Implement methods to rent a vehicle, return a vehicle, and display available vehicles."
   ]
  },
  {
   "cell_type": "code",
   "execution_count": null,
   "metadata": {},
   "outputs": [],
   "source": [
    "class Vehicle:\n",
    "    def __init__(self, vehicle_id, vehicle_type, available=True):\n",
    "        self.vehicle_id = vehicle_id\n",
    "        self.vehicle_type = vehicle_type\n",
    "        self.available = available\n",
    "\n",
    "class VehicleRentalSystem:\n",
    "    def __init__(self):\n",
    "        self.vehicles = []\n",
    "\n",
    "    def rent_vehicle(self, vehicle_id):\n",
    "        for vehicle in self.vehicles:\n",
    "            if vehicle.vehicle_id == vehicle_id and vehicle.available:\n",
    "                vehicle.available = False\n",
    "                print(f\"Vehicle {vehicle_id} rented successfully.\")\n",
    "                return\n",
    "        print(\"Vehicle not available for rent.\")\n",
    "    \n",
    "    def return_vehicle(self, vehicle_id):\n",
    "        for vehicle in self.vehicles:\n",
    "            if vehicle.vehicle_id == vehicle_id and not vehicle.available:\n",
    "                vehicle.available = True\n",
    "                print(f\"Vehicle {vehicle_id} returned successfully.\")\n",
    "                return\n",
    "        print(\"Invalid vehicle ID or vehicle already available.\")\n",
    "\n",
    "    def display_available_vehicles(self):\n",
    "        available = [vehicle for vehicle in self.vehicles if vehicle.available]\n",
    "        if available:\n",
    "            print(\"Available Vehicles:\")\n",
    "            for vehicle in available:\n",
    "                print(f\"{vehicle.vehicle_id} - {vehicle.vehicle_type}\")\n",
    "        else:\n",
    "            print(\"No vehicles available.\")\n",
    "\n",
    "# Usage:\n",
    "vehicle1 = Vehicle(\"V001\", \"Sedan\")\n",
    "vehicle2 = Vehicle(\"V002\", \"SUV\")\n",
    "rental_system = VehicleRentalSystem()\n",
    "rental_system.vehicles.extend([vehicle1, vehicle2])\n",
    "rental_system.rent_vehicle(\"V001\")\n",
    "rental_system.display_available_vehicles()\n",
    "rental_system.return_vehicle(\"V001\")\n",
    "rental_system.display_available_vehicles()\n"
   ]
  },
  {
   "cell_type": "markdown",
   "metadata": {},
   "source": [
    "Problem 4: Library Catalog Create classes representing a library and a book. Implement methods to add books to the library, borrow books, and display available books"
   ]
  },
  {
   "cell_type": "code",
   "execution_count": null,
   "metadata": {},
   "outputs": [],
   "source": [
    "class Book:\n",
    "    def __init__(self, book_id, title, author, available=True):\n",
    "        self.book_id = book_id\n",
    "        self.title = title\n",
    "        self.author = author\n",
    "        self.available = available\n",
    "\n",
    "class Library:\n",
    "    def __init__(self):\n",
    "        self.books = []\n",
    "\n",
    "    def add_book(self, book_id, title, author):\n",
    "        book = Book(book_id, title, author)\n",
    "        self.books.append(book)\n",
    "        print(f\"Book '{title}' added to the library.\")\n",
    "\n",
    "    def borrow_book(self, book_id):\n",
    "        for book in self.books:\n",
    "            if book.book_id == book_id and book.available:\n",
    "                book.available = False\n",
    "                print(f\"Book '{book.title}' borrowed successfully.\")\n",
    "                return\n",
    "        print(\"Book not available for borrowing.\")\n",
    "    \n",
    "    def display_available_books(self):\n",
    "        available = [book for book in self.books if book.available]\n",
    "        if available:\n",
    "            print(\"Available Books:\")\n",
    "            for book in available:\n",
    "                print(f\"{book.book_id} - '{book.title}' by {book.author}\")\n",
    "        else:\n",
    "            print(\"No books available.\")\n",
    "\n",
    "# Usage:\n",
    "library = Library()\n",
    "library.add_book(\"B001\", \"Python Programming\", \"John Doe\")\n",
    "library.add_book(\"B002\", \"Data Science Handbook\", \"Jane Smith\")\n",
    "library.borrow_book(\"B001\")\n",
    "library.display_available_books()"
   ]
  },
  {
   "cell_type": "markdown",
   "metadata": {},
   "source": [
    "Problem 5: Product Inventory Create classes representing a product and an inventory system. Implement methods to add products to the inventory, update product quantity, and display available products."
   ]
  },
  {
   "cell_type": "code",
   "execution_count": null,
   "metadata": {},
   "outputs": [],
   "source": [
    "class Product:\n",
    "    def __init__(self, product_id, name, quantity):\n",
    "        self.product_id = product_id\n",
    "        self.name = name\n",
    "        self.quantity = quantity\n",
    "\n",
    "class Inventory:\n",
    "    def __init__(self):\n",
    "        self.products = []\n",
    "\n",
    "    def add_product(self, product_id, name, quantity):\n",
    "        product = Product(product_id, name, quantity)\n",
    "        self.products.append(product)\n",
    "        print(f\"Product '{name}' added to inventory.\")\n",
    "\n",
    "    def update_quantity(self, product_id, new_quantity):\n",
    "        for product in self.products:\n",
    "            if product.product_id == product_id:\n",
    "                product.quantity = new_quantity\n",
    "                print(f\"Quantity updated for Product '{product.name}'.\")\n",
    "\n",
    "    def display_available_products(self):\n",
    "        print(\"Available Products:\")\n",
    "        for product in self.products:\n",
    "            print(f\"{product.product_id} - '{product.name}' - Quantity: {product.quantity}\")\n",
    "\n",
    "# Usage:\n",
    "inventory = Inventory()\n",
    "inventory.add_product(\"P001\", \"Laptop\", 10)\n",
    "inventory.add_product(\"P002\", \"Smartphone\", 20)\n",
    "inventory.update_quantity(\"P001\", 8)\n",
    "inventory.display_available_products()"
   ]
  },
  {
   "cell_type": "markdown",
   "metadata": {},
   "source": [
    "Problem 6: Shape Calculation Create a class representing a shape with attributes like length, width, and height. Implement methods to calculate the area and perimeter of the shape."
   ]
  },
  {
   "cell_type": "code",
   "execution_count": null,
   "metadata": {},
   "outputs": [],
   "source": [
    "class Shape:\n",
    "    def __init__(self, length, width, height):\n",
    "        self.length = length\n",
    "        self.width = width\n",
    "        self.height = height\n",
    "\n",
    "class Rectangle(Shape):\n",
    "    def calculate_area(self):\n",
    "        return self.length * self.width\n",
    "\n",
    "    def calculate_perimeter(self):\n",
    "        return 2 * (self.length + self.width)\n",
    "\n",
    "class Cube(Shape):\n",
    "    def calculate_surface_area(self):\n",
    "        return 6 * (self.length ** 2)\n",
    "\n",
    "    def calculate_volume(self):\n",
    "        return self.length ** 3\n",
    "\n",
    "# Usage:\n",
    "rectangle = Rectangle(5, 10, None)\n",
    "print(\"Rectangle Area:\", rectangle.calculate_area())\n",
    "print(\"Rectangle Perimeter:\", rectangle.calculate_perimeter())\n",
    "cube = Cube(3, None, None)\n",
    "print(\"Cube Surface Area:\", cube.calculate_surface_area())\n",
    "print(\"Cube Volume:\", cube.calculate_volume())"
   ]
  },
  {
   "cell_type": "markdown",
   "metadata": {},
   "source": [
    "Problem 7: Student Management Create a class representing a student with attributes like student ID, name, and grades. Implement methods to calculate the average grade and display student details."
   ]
  },
  {
   "cell_type": "code",
   "execution_count": null,
   "metadata": {},
   "outputs": [],
   "source": [
    "class Student:\n",
    "    def __init__(self, student_id, name, grades):\n",
    "        self.student_id = student_id\n",
    "        self.name = name\n",
    "        self.grades = grades\n",
    "\n",
    "    def calculate_average_grade(self):\n",
    "        return sum(self.grades) / len(self.grades)\n",
    "\n",
    "    def display_details(self):\n",
    "        print(f\"Student ID: {self.student_id}\")\n",
    "        print(f\"Name: {self.name}\")\n",
    "        print(f\"Average Grade: {self.calculate_average_grade()}\")\n",
    "\n",
    "# Usage:\n",
    "student = Student(\"S001\", \"Alice\", [85, 90, 78, 92])\n",
    "student.display_details()"
   ]
  },
  {
   "cell_type": "markdown",
   "metadata": {},
   "source": [
    "Problem 8: Email Management Create a class representing an email with attributes like sender, recipient, and subject. Implement methods to send an email and display email details."
   ]
  },
  {
   "cell_type": "code",
   "execution_count": null,
   "metadata": {},
   "outputs": [],
   "source": [
    "class Email:\n",
    "    def __init__(self, sender, recipient, subject, message):\n",
    "        self.sender = sender\n",
    "        self.recipient = recipient\n",
    "        self.subject = subject\n",
    "        self.message = message\n",
    "\n",
    "    def send_email(self):\n",
    "        print(f\"Email sent from {self.sender} to {self.recipient} with subject '{self.subject}'.\")\n",
    "\n",
    "    def display_email_details(self):\n",
    "        print(f\"From: {self.sender}\")\n",
    "        print(f\"To: {self.recipient}\")\n",
    "        print(f\"Subject: {self.subject}\")\n",
    "        print(f\"Message: {self.message}\")\n",
    "\n",
    "# Usage:\n",
    "email = Email(\"sender@example.com\", \"recipient@example.com\", \"Hello\", \"This is a test email.\")\n",
    "email.send_email()\n",
    "email.display_email_details()"
   ]
  },
  {
   "cell_type": "markdown",
   "metadata": {},
   "source": [
    "Problem 9: Social Media Profile Create a class representing a social media profile with attributes like username and posts. Implement methods to add posts, display posts, and search for posts by keyword."
   ]
  },
  {
   "cell_type": "code",
   "execution_count": null,
   "metadata": {},
   "outputs": [],
   "source": [
    "class SocialMediaProfile:\n",
    "    def __init__(self, username):\n",
    "        self.username = username\n",
    "        self.posts = []\n",
    "\n",
    "    def add_post(self, post_content):\n",
    "        self.posts.append(post_content)\n",
    "        print(f\"Post added to {self.username}'s profile.\")\n",
    "\n",
    "    def display_posts(self):\n",
    "        print(f\"Posts by {self.username}:\")\n",
    "        for post in self.posts:\n",
    "            print(post)\n",
    "\n",
    "    def search_posts(self, keyword):\n",
    "        print(f\"Posts containing '{keyword}':\")\n",
    "        matching_posts = [post for post in self.posts if keyword.lower() in post.lower()]\n",
    "        if matching_posts:\n",
    "            for post in matching_posts:\n",
    "                print(post)\n",
    "        else:\n",
    "            print(\"No matching posts found.\")\n",
    "\n",
    "# Usage:\n",
    "profile = SocialMediaProfile(\"user123\")\n",
    "profile.add_post(\"Hello everyone!\")\n",
    "profile.add_post(\"This is a test post.\")\n",
    "profile.display_posts()\n",
    "profile.search_posts(\"test\")"
   ]
  },
  {
   "cell_type": "markdown",
   "metadata": {},
   "source": [
    "Problem 10: ToDo List Create a class representing a ToDo list with attributes like tasks and due dates. Implement methods to add tasks, mark tasks as completed, and display pending tasks."
   ]
  },
  {
   "cell_type": "code",
   "execution_count": null,
   "metadata": {},
   "outputs": [],
   "source": [
    "class ToDoList:\n",
    "    def __init__(self):\n",
    "        self.tasks = []\n",
    "\n",
    "    def add_task(self, task, due_date):\n",
    "        self.tasks.append({\"task\": task, \"due_date\": due_date})\n",
    "        print(\"Task added to ToDo list.\")\n",
    "\n",
    "    def mark_task_completed(self, task_index):\n",
    "        if 0 <= task_index < len(self.tasks):\n",
    "            del self.tasks[task_index]\n",
    "            print(\"Task marked as completed.\")\n",
    "        else:\n",
    "            print(\"Invalid task index.\")\n",
    "\n",
    "    def display_pending_tasks(self):\n",
    "        pending_tasks = [task for task in self.tasks]\n",
    "        if pending_tasks:\n",
    "            print(\"Pending Tasks:\")\n",
    "            for index, task in enumerate(pending_tasks):\n",
    "                print(f\"{index}: {task['task']} - Due: {task['due_date']}\")\n",
    "        else:\n",
    "            print(\"No pending tasks.\")\n",
    "\n",
    "# Usage:\n",
    "todo_list = ToDoList()\n",
    "todo_list.add_task(\"Complete project\", \"2023-12-31\")\n",
    "todo_list.add_task(\"Buy groceries\", \"2023-11-20\")\n",
    "todo_list.mark_task_completed(1)\n",
    "todo_list.display_pending_tasks()"
   ]
  }
 ],
 "metadata": {
  "kernelspec": {
   "display_name": "Python 3",
   "language": "python",
   "name": "python3"
  },
  "language_info": {
   "codemirror_mode": {
    "name": "ipython",
    "version": 3
   },
   "file_extension": ".py",
   "mimetype": "text/x-python",
   "name": "python",
   "nbconvert_exporter": "python",
   "pygments_lexer": "ipython3",
   "version": "3.11.4"
  }
 },
 "nbformat": 4,
 "nbformat_minor": 2
}
